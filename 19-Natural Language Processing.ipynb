{
 "cells": [
  {
   "cell_type": "markdown",
   "metadata": {},
   "source": [
    "# Natural Language Processing\n",
    "\n",
    "**Referenznotebook zum Thema Natural Language Processing. Für die vollständige Erklärungen bitte auch das Video nutzen.**\n"
   ]
  },
  {
   "cell_type": "markdown",
   "metadata": {},
   "source": [
    "In dieser Vorlesung werden wir anhand eines Beispiels veranschaulichen wie man R für Natural Language Processing verwenden kann. Es sind keine Aufgaben und auch kein Projekt beigefügt da dieses Thema zu umfangreich ist. Du wirst vermutlich auch bemerken, dass R nicht unbedingt die beste Wahl für NLP ist. Python eignet sich hier wegen dem Library Support meist besser.\n",
    "Falls du dennoch mehr Informationen möchtest, kannst du diese [hier](http://www.mjdenny.com/Text_Processing_In_R.html) finden\n"
   ]
  },
  {
   "cell_type": "markdown",
   "metadata": {},
   "source": [
    "## Installation der benötigten Libraries \n",
    "\n",
    "Wir benötigen die folgenden Libraries:\n",
    "* tm\n",
    "* twitteR\n",
    "* wordcloud\n",
    "* RColorBrewer\n",
    "* e1017\n",
    "* class"
   ]
  },
  {
   "cell_type": "markdown",
   "metadata": {},
   "source": [
    "Du kannst sie mit diesem Code installieren (erst auskommentieren):"
   ]
  },
  {
   "cell_type": "code",
   "execution_count": 54,
   "metadata": {},
   "outputs": [],
   "source": [
    "#install.packages('tm',repos='http://cran.us.r-project.org')\n",
    "#install.packages('twitteR',repos='http://cran.us.r-project.org')\n",
    "#install.packages('wordcloud',repos='http://cran.us.r-project.org')\n",
    "#install.packages('RColorBrewer',repos='http://cran.us.r-project.org')\n",
    "#install.packages('e1017',repos='http://cran.us.r-project.org')\n",
    "#install.packages('class',repos='http://cran.us.r-project.org')"
   ]
  },
  {
   "cell_type": "markdown",
   "metadata": {},
   "source": [
    "_____\n",
    "# Eine Twitter App erstellen\n",
    "\n",
    "\n",
    "Für dieses Projekt benötigst du einen Twitter Account und eine Twitter Applikation. Hier die benötigten Schritte: \n",
    "\n",
    "1. Einen Account auf Twitter erstellen\n",
    "2. Eine neue App erstellen auf: https://apps.twitter.com/\n",
    "3. Eventuell musst du es auf eine persönliche URL verweisen. Hierfür kannst du z.B. eine Wordpress Seite oder etwas Ähnliches erstellen. \n",
    "4. Erhalte deine Keys bei dem **Keys and Access Tokens** tab\n",
    "5. Verwende diese Keys mit der TwitteR Library: \n",
    "\n",
    "        getTwitterOAuth(consumer_key, consumer_secret)\n",
    "\n",
    "____\n",
    "## Übersicht der Regular Expression "
   ]
  },
  {
   "cell_type": "markdown",
   "metadata": {},
   "source": [
    "Jetzt werden wir einige wichtige Regualr Expression Funktionen anschauen die wir schon behandelt haben:\n",
    "\n",
    "____\n",
    "### grep()\n",
    "\n",
    "Gebe den Index der Musterübereinstimmung zurück "
   ]
  },
  {
   "cell_type": "code",
   "execution_count": 9,
   "metadata": {},
   "outputs": [
    {
     "data": {
      "text/html": [
       "<pre class=language-r><code>function (pattern, x, ignore.case = FALSE, perl = FALSE, value = FALSE, \n",
       "    fixed = FALSE, useBytes = FALSE, invert = FALSE) \n",
       "NULL</code></pre>"
      ],
      "text/latex": [
       "\\begin{minted}{r}\n",
       "function (pattern, x, ignore.case = FALSE, perl = FALSE, value = FALSE, \n",
       "    fixed = FALSE, useBytes = FALSE, invert = FALSE) \n",
       "NULL\n",
       "\\end{minted}"
      ],
      "text/markdown": [
       "```r\n",
       "function (pattern, x, ignore.case = FALSE, perl = FALSE, value = FALSE, \n",
       "    fixed = FALSE, useBytes = FALSE, invert = FALSE) \n",
       "NULL\n",
       "```"
      ],
      "text/plain": [
       "function (pattern, x, ignore.case = FALSE, perl = FALSE, value = FALSE, \n",
       "    fixed = FALSE, useBytes = FALSE, invert = FALSE) \n",
       "NULL"
      ]
     },
     "execution_count": 9,
     "metadata": {},
     "output_type": "execute_result"
    }
   ],
   "source": [
    "args(grep)"
   ]
  },
  {
   "cell_type": "code",
   "execution_count": 13,
   "metadata": {},
   "outputs": [
    {
     "data": {
      "text/html": [
       "<ol class=list-inline>\n",
       "\t<li>1</li>\n",
       "\t<li>5</li>\n",
       "</ol>\n"
      ],
      "text/latex": [
       "\\begin{enumerate*}\n",
       "\\item 1\n",
       "\\item 5\n",
       "\\end{enumerate*}\n"
      ],
      "text/markdown": [
       "1. 1\n",
       "2. 5\n",
       "\n",
       "\n"
      ],
      "text/plain": [
       "[1] 1 5"
      ]
     },
     "execution_count": 13,
     "metadata": {},
     "output_type": "execute_result"
    }
   ],
   "source": [
    "grep('A', c('A','B','C','D','A'))"
   ]
  },
  {
   "cell_type": "markdown",
   "metadata": {},
   "source": [
    "### nchar()\n",
    "Länge des Strings"
   ]
  },
  {
   "cell_type": "code",
   "execution_count": 14,
   "metadata": {},
   "outputs": [
    {
     "data": {
      "text/html": [
       "<pre class=language-r><code>function (x, type = \"chars\", allowNA = FALSE, keepNA = FALSE) \n",
       "NULL</code></pre>"
      ],
      "text/latex": [
       "\\begin{minted}{r}\n",
       "function (x, type = \"chars\", allowNA = FALSE, keepNA = FALSE) \n",
       "NULL\n",
       "\\end{minted}"
      ],
      "text/markdown": [
       "```r\n",
       "function (x, type = \"chars\", allowNA = FALSE, keepNA = FALSE) \n",
       "NULL\n",
       "```"
      ],
      "text/plain": [
       "function (x, type = \"chars\", allowNA = FALSE, keepNA = FALSE) \n",
       "NULL"
      ]
     },
     "execution_count": 14,
     "metadata": {},
     "output_type": "execute_result"
    }
   ],
   "source": [
    "args(nchar)"
   ]
  },
  {
   "cell_type": "code",
   "execution_count": 17,
   "metadata": {},
   "outputs": [
    {
     "data": {
      "text/html": [
       "10"
      ],
      "text/latex": [
       "10"
      ],
      "text/markdown": [
       "10"
      ],
      "text/plain": [
       "[1] 10"
      ]
     },
     "execution_count": 17,
     "metadata": {},
     "output_type": "execute_result"
    }
   ],
   "source": [
    "nchar('helloworld')"
   ]
  },
  {
   "cell_type": "code",
   "execution_count": 18,
   "metadata": {},
   "outputs": [
    {
     "data": {
      "text/html": [
       "11"
      ],
      "text/latex": [
       "11"
      ],
      "text/markdown": [
       "11"
      ],
      "text/plain": [
       "[1] 11"
      ]
     },
     "execution_count": 18,
     "metadata": {},
     "output_type": "execute_result"
    }
   ],
   "source": [
    "nchar('hello world')"
   ]
  },
  {
   "cell_type": "markdown",
   "metadata": {},
   "source": [
    "### gsub()\n",
    "\n",
    "Führe jetzt den Austausch des passenden Musters durch\n"
   ]
  },
  {
   "cell_type": "code",
   "execution_count": 19,
   "metadata": {},
   "outputs": [
    {
     "data": {
      "text/html": [
       "<pre class=language-r><code>function (pattern, replacement, x, ignore.case = FALSE, perl = FALSE, \n",
       "    fixed = FALSE, useBytes = FALSE) \n",
       "NULL</code></pre>"
      ],
      "text/latex": [
       "\\begin{minted}{r}\n",
       "function (pattern, replacement, x, ignore.case = FALSE, perl = FALSE, \n",
       "    fixed = FALSE, useBytes = FALSE) \n",
       "NULL\n",
       "\\end{minted}"
      ],
      "text/markdown": [
       "```r\n",
       "function (pattern, replacement, x, ignore.case = FALSE, perl = FALSE, \n",
       "    fixed = FALSE, useBytes = FALSE) \n",
       "NULL\n",
       "```"
      ],
      "text/plain": [
       "function (pattern, replacement, x, ignore.case = FALSE, perl = FALSE, \n",
       "    fixed = FALSE, useBytes = FALSE) \n",
       "NULL"
      ]
     },
     "execution_count": 19,
     "metadata": {},
     "output_type": "execute_result"
    }
   ],
   "source": [
    "args(gsub)"
   ]
  },
  {
   "cell_type": "code",
   "execution_count": 20,
   "metadata": {},
   "outputs": [
    {
     "data": {
      "text/html": [
       "'hello have you seen the replacement here?'"
      ],
      "text/latex": [
       "'hello have you seen the replacement here?'"
      ],
      "text/markdown": [
       "'hello have you seen the replacement here?'"
      ],
      "text/plain": [
       "[1] \"hello have you seen the replacement here?\""
      ]
     },
     "execution_count": 20,
     "metadata": {},
     "output_type": "execute_result"
    }
   ],
   "source": [
    "gsub('pattern','replacement','hello have you seen the pattern here?')"
   ]
  },
  {
   "cell_type": "markdown",
   "metadata": {},
   "source": [
    "## Text Manipulation\n",
    "\n",
    "### paste()\n",
    "\n",
    "mehrere Strings verbinden"
   ]
  },
  {
   "cell_type": "code",
   "execution_count": 32,
   "metadata": {},
   "outputs": [
    {
     "name": "stdout",
     "output_type": "stream",
     "text": [
      "[1] \"A...B...C\"\n"
     ]
    }
   ],
   "source": [
    "print(paste('A','B','C',sep='...'))"
   ]
  },
  {
   "cell_type": "code",
   "execution_count": 30,
   "metadata": {},
   "outputs": [],
   "source": [
    "#help(paste)"
   ]
  },
  {
   "cell_type": "markdown",
   "metadata": {},
   "source": [
    "### substr()\n",
    "\n",
    "Gebe den Substring zurück der im gegebenen Abschnitt start:stop liegt"
   ]
  },
  {
   "cell_type": "code",
   "execution_count": 33,
   "metadata": {},
   "outputs": [
    {
     "data": {
      "text/html": [
       "'bcde'"
      ],
      "text/latex": [
       "'bcde'"
      ],
      "text/markdown": [
       "'bcde'"
      ],
      "text/plain": [
       "[1] \"bcde\""
      ]
     },
     "execution_count": 33,
     "metadata": {},
     "output_type": "execute_result"
    }
   ],
   "source": [
    "substr('abcdefg',start=2,stop = 5)"
   ]
  },
  {
   "cell_type": "markdown",
   "metadata": {},
   "source": [
    "### strsplit()\n",
    "\n",
    "Teile den String in eine Liste von Substrings basierend auf einem anderen String x, der angibt wo der ursprüngliche String geteilt werden soll. "
   ]
  },
  {
   "cell_type": "code",
   "execution_count": 49,
   "metadata": {},
   "outputs": [
    {
     "data": {
      "text/html": [
       "<ol>\n",
       "\t<li><ol class=list-inline>\n",
       "\t<li>'2016'</li>\n",
       "\t<li>'01'</li>\n",
       "\t<li>'23'</li>\n",
       "</ol>\n",
       "</li>\n",
       "</ol>\n"
      ],
      "text/latex": [
       "\\begin{enumerate}\n",
       "\\item \\begin{enumerate*}\n",
       "\\item '2016'\n",
       "\\item '01'\n",
       "\\item '23'\n",
       "\\end{enumerate*}\n",
       "\n",
       "\\end{enumerate}\n"
      ],
      "text/markdown": [
       "1. 1. '2016'\n",
       "2. '01'\n",
       "3. '23'\n",
       "\n",
       "\n",
       "\n",
       "\n",
       "\n"
      ],
      "text/plain": [
       "[[1]]\n",
       "[1] \"2016\" \"01\"   \"23\"  \n"
      ]
     },
     "execution_count": 49,
     "metadata": {},
     "output_type": "execute_result"
    }
   ],
   "source": [
    "strsplit('2016-01-23',split='-')"
   ]
  },
  {
   "attachments": {},
   "cell_type": "markdown",
   "metadata": {},
   "source": [
    "_____\n",
    "# NLP Wichtige Begriffe und Konzepte xxxxxxxxxxxxxxxxxxxxxxxxxxxxxxxxxxxx\n",
    "\n",
    "Important Terms and Concepts\n",
    "\n",
    "* Document - Das individuelle Textdokument \n",
    "* Corpus - Die Sammlung an Textdokumenten\n",
    "* Bag-of-Words - Ungeordnete Sammlung an Wörtern\n",
    "* n-grams - Zusammenhängende Sequenz von n Gegenständen von einer gegebenen Textsequenz \n",
    "\n",
    "xxxxxxxxxxxxxxxxxxxxxxxxxxxxxxxxxxxxxxxxxxxxxxxxxxxxxxxxxxxxxxxxxxxxxxxxxxxxxxxxxxxxxxxxxxxxxxxxxxxxxxxxxxxxxxxxxxxxx contiguous sequence of n items from a given sequence of text (e.g. ['A','G','C',T']\n",
    "\n",
    "* Stopwords - Stoppwörter sind sehr häufig auftauchenden Wörter einer Sprache, die gleichzeitig nicht wichtig für den wesentlichen Gehalt eines Texts sind. \n",
    "* Tokens - Kombination aus Zeichen (Wörter)\n",
    "* Stemming - Prozess bei den wir Silben von Wörtern entfernen (z.b. run,runner,running auf das Basiswort \"run\" reduzieren)\n",
    "* TF-IDF : \"Term Frequency-Inver Document Frequency\" ist ein statistisches Maß, dass dazu dient auszuwerten, wie wichtig ein Wort in einem Dokument in einem Corpus ist.\n",
    "* Term Document Matrix - Representation einer Dokumentensammlung als Vektoren "
   ]
  },
  {
   "cell_type": "markdown",
   "metadata": {},
   "source": [
    "# Twitter Mining\n",
    "\n",
    "Lass uns Twitter generellen Daten untersuchen:\n",
    "\n",
    "## Schritt 1:  Libraries importieren"
   ]
  },
  {
   "cell_type": "code",
   "execution_count": null,
   "metadata": {},
   "outputs": [],
   "source": [
    "library(twitteR)\n",
    "library(tm)\n",
    "library(wordcloud)\n",
    "library(RColorBrewer)"
   ]
  },
  {
   "attachments": {},
   "cell_type": "markdown",
   "metadata": {},
   "source": [
    "## Schritt 2: Nach einem Thema auf Twitter suchen\n",
    "\n",
    "Wir werden die twitteR Library verwenden um twitter zu untersuchen. Zu Beginn musst du dich verbinden, indem du die Autorizations Keys und die Tokens einstellst."
   ]
  },
  {
   "cell_type": "code",
   "execution_count": null,
   "metadata": {
    "collapsed": true
   },
   "outputs": [],
   "source": [
    "setup_twitter_oauth(consumer_key, consumer_secret, access_token=NULL, access_secret=NULL)"
   ]
  },
  {
   "cell_type": "markdown",
   "metadata": {},
   "source": [
    "Wir werden Twitter nach dem Wort 'soccer' untersuchen: "
   ]
  },
  {
   "cell_type": "code",
   "execution_count": null,
   "metadata": {
    "collapsed": true
   },
   "outputs": [],
   "source": [
    "soccer.tweets <- searchTwitter(\"soccer\", n=2000, lang=\"en\")\n",
    "soccer.text <- sapply(soccer.tweets, function(x) x$getText())"
   ]
  },
  {
   "cell_type": "markdown",
   "metadata": {},
   "source": [
    "## Schritt 3: Daten Bereinigen\n",
    "\n",
    "Wir entfernen die Emoticons und erstellen einen Corpus"
   ]
  },
  {
   "cell_type": "code",
   "execution_count": null,
   "metadata": {
    "collapsed": true
   },
   "outputs": [],
   "source": [
    "soccer.text <- iconv(soccer.text, 'UTF-8', 'ASCII') # Emoticons enfernen\n",
    "soccer.corpus <- Corpus(VectorSource(soccer.text)) # Corpus erstellen"
   ]
  },
  {
   "cell_type": "markdown",
   "metadata": {},
   "source": [
    "## Schritt 4: Erstelle die Document Term Matrix \n",
    "\n",
    "Wir werden ein paar Transformationen anwenden mithilfe der `TermDocumentMatrix` Funktion"
   ]
  },
  {
   "cell_type": "code",
   "execution_count": null,
   "metadata": {
    "collapsed": true
   },
   "outputs": [],
   "source": [
    "term.doc.matrix <- TermDocumentMatrix(soccer.corpus,\n",
    "                                      control = list(removePunctuation = TRUE,\n",
    "                                                     stopwords = c(\"soccer\",\"http\", stopwords(\"english\")),\n",
    "                                                     removeNumbers = TRUE,tolower = TRUE))"
   ]
  },
  {
   "cell_type": "markdown",
   "metadata": {},
   "source": [
    "## Schritt 5: Überprüfung der Matrix"
   ]
  },
  {
   "cell_type": "code",
   "execution_count": null,
   "metadata": {
    "collapsed": true
   },
   "outputs": [],
   "source": [
    "head(term.doc.matrix)"
   ]
  },
  {
   "cell_type": "code",
   "execution_count": null,
   "metadata": {
    "collapsed": true
   },
   "outputs": [],
   "source": [
    "term.doc.matrix <- as.matrix(term.doc.matrix)"
   ]
  },
  {
   "cell_type": "markdown",
   "metadata": {},
   "source": [
    "## Schritt 6: Anzahl der Wörter bekommen"
   ]
  },
  {
   "cell_type": "code",
   "execution_count": null,
   "metadata": {
    "collapsed": true
   },
   "outputs": [],
   "source": [
    "word.freqs <- sort(rowSums(term.doc.matrix), decreasing=TRUE) \n",
    "dm <- data.frame(word=names(word.freqs), freq=word.freqs)"
   ]
  },
  {
   "cell_type": "markdown",
   "metadata": {},
   "source": [
    "## Schritt 7: Eine Word Cloud erstellen"
   ]
  },
  {
   "cell_type": "code",
   "execution_count": null,
   "metadata": {
    "collapsed": true
   },
   "outputs": [],
   "source": [
    "wordcloud(dm$word, dm$freq, random.order=FALSE, colors=brewer.pal(8, \"Dark2\"))"
   ]
  },
  {
   "cell_type": "markdown",
   "metadata": {},
   "source": [
    "# Gut gemacht!"
   ]
  }
 ],
 "metadata": {
  "kernelspec": {
   "display_name": "R",
   "language": "R",
   "name": "ir"
  },
  "language_info": {
   "codemirror_mode": "r",
   "file_extension": ".r",
   "mimetype": "text/x-r-source",
   "name": "R",
   "pygments_lexer": "r",
   "version": "3.2.2"
  }
 },
 "nbformat": 4,
 "nbformat_minor": 1
}
