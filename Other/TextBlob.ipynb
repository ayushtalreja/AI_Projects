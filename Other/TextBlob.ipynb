{
 "cells": [
  {
   "cell_type": "code",
   "execution_count": 13,
   "metadata": {},
   "outputs": [
    {
     "name": "stdout",
     "output_type": "stream",
     "text": [
      "Requirement already up-to-date: textblob in d:\\machine_learning_project_folder\\env\\lib\\site-packages (0.17.1)\n",
      "Requirement already satisfied, skipping upgrade: nltk>=3.1; python_version >= \"3\" in d:\\machine_learning_project_folder\\env\\lib\\site-packages (from textblob) (3.7)\n",
      "Requirement already satisfied, skipping upgrade: tqdm in d:\\machine_learning_project_folder\\env\\lib\\site-packages (from nltk>=3.1; python_version >= \"3\"->textblob) (4.64.1)\n",
      "Requirement already satisfied, skipping upgrade: regex>=2021.8.3 in d:\\machine_learning_project_folder\\env\\lib\\site-packages (from nltk>=3.1; python_version >= \"3\"->textblob) (2022.3.2)\n",
      "Requirement already satisfied, skipping upgrade: click in d:\\machine_learning_project_folder\\env\\lib\\site-packages (from nltk>=3.1; python_version >= \"3\"->textblob) (8.1.3)\n",
      "Requirement already satisfied, skipping upgrade: joblib in d:\\machine_learning_project_folder\\env\\lib\\site-packages (from nltk>=3.1; python_version >= \"3\"->textblob) (1.1.0)\n",
      "Requirement already satisfied, skipping upgrade: colorama; platform_system == \"Windows\" in d:\\machine_learning_project_folder\\env\\lib\\site-packages (from tqdm->nltk>=3.1; python_version >= \"3\"->textblob) (0.4.3)\n",
      "Finished.\n"
     ]
    },
    {
     "name": "stderr",
     "output_type": "stream",
     "text": [
      "[nltk_data] Downloading package brown to\n",
      "[nltk_data]     C:\\Users\\ayush\\AppData\\Roaming\\nltk_data...\n",
      "[nltk_data]   Unzipping corpora\\brown.zip.\n",
      "[nltk_data] Downloading package punkt to\n",
      "[nltk_data]     C:\\Users\\ayush\\AppData\\Roaming\\nltk_data...\n",
      "[nltk_data]   Package punkt is already up-to-date!\n",
      "[nltk_data] Downloading package wordnet to\n",
      "[nltk_data]     C:\\Users\\ayush\\AppData\\Roaming\\nltk_data...\n",
      "[nltk_data]   Package wordnet is already up-to-date!\n",
      "[nltk_data] Downloading package averaged_perceptron_tagger to\n",
      "[nltk_data]     C:\\Users\\ayush\\AppData\\Roaming\\nltk_data...\n",
      "[nltk_data]   Package averaged_perceptron_tagger is already up-to-\n",
      "[nltk_data]       date!\n",
      "[nltk_data] Downloading package conll2000 to\n",
      "[nltk_data]     C:\\Users\\ayush\\AppData\\Roaming\\nltk_data...\n",
      "[nltk_data]   Unzipping corpora\\conll2000.zip.\n",
      "[nltk_data] Downloading package movie_reviews to\n",
      "[nltk_data]     C:\\Users\\ayush\\AppData\\Roaming\\nltk_data...\n",
      "[nltk_data]   Unzipping corpora\\movie_reviews.zip.\n"
     ]
    }
   ],
   "source": [
    "# install textblob and corpora using pip\n",
    "!pip install -U textblob\n",
    "!python -m textblob.download_corpora\n",
    "\n",
    "# Library import\n",
    "from textblob import TextBlob\n",
    "\n",
    "# Example sentence\n",
    "my_sentence = TextBlob(\"I am reading a demo article from IMSP. I am loving it!. I hope I will learn Textblob after the demo\")\n",
    "\n",
    "# parts of speech tags\n",
    "my_sentence.tags\n",
    "\n",
    "# specific part of speech taging\n",
    "my_sentence.noun_phrases\n",
    "\n",
    "# Built in sentiment analysis with polarity and subjectivity scores\n",
    "my_sentence.sentiment\n",
    "\n",
    "# Tokenization\n",
    "my_sentence.words  # word tokenizer\n",
    "my_sentence.sentences # sentence tokenizer\n",
    "\n",
    "# Lemmatization\n",
    "from textblob import Word\n",
    "words = my_sentence.words \n",
    "words.lemmatize()\n",
    "\n",
    "# As spelling checker\n",
    "my_sentence2 = TextBlob(\"I am not in denger. I am the dyangr.\")\n",
    "my_sentence2.correct()\n",
    "\n",
    "# word frequency \n",
    "betty = TextBlob(\"Betty Botter bought some butter. But she said the Butter’s bitter. If I put it in my batter,\n",
    "                 it will make my batter bitter. But a bit of better butter will make my batter better.\")\n",
    "betty.word_counts['butter']\n",
    "\n",
    "# word frequency with case sensitivity\n",
    "betty.words.count('butter', case_sensitive=True)\n",
    "\n",
    "my_sentence\n",
    "\n",
    "# N-grams using Textblob\n",
    "my_sentence.ngrams(n=3)\n",
    "\n",
    "\n",
    "\n"
   ]
  },
  {
   "cell_type": "code",
   "execution_count": null,
   "metadata": {},
   "outputs": [],
   "source": []
  },
  {
   "cell_type": "code",
   "execution_count": null,
   "metadata": {},
   "outputs": [],
   "source": []
  },
  {
   "cell_type": "code",
   "execution_count": null,
   "metadata": {},
   "outputs": [],
   "source": []
  },
  {
   "cell_type": "code",
   "execution_count": null,
   "metadata": {},
   "outputs": [],
   "source": []
  }
 ],
 "metadata": {
  "kernelspec": {
   "display_name": "Python 3",
   "language": "python",
   "name": "python3"
  },
  "language_info": {
   "codemirror_mode": {
    "name": "ipython",
    "version": 3
   },
   "file_extension": ".py",
   "mimetype": "text/x-python",
   "name": "python",
   "nbconvert_exporter": "python",
   "pygments_lexer": "ipython3",
   "version": "3.8.3"
  }
 },
 "nbformat": 4,
 "nbformat_minor": 4
}
