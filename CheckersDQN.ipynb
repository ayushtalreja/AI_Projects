{
 "cells": [
  {
   "cell_type": "code",
   "execution_count": 1,
   "id": "b1a9ff0d",
   "metadata": {},
   "outputs": [],
   "source": [
    "# IMporting all the necessary libraries\n",
    "import numpy as np\n",
    "import tensorflow as tf\n",
    "from tensorflow.keras import layers\n",
    "from collections import deque\n",
    "import random\n",
    "import tqdm as tqdm"
   ]
  },
  {
   "cell_type": "code",
   "execution_count": 4,
   "id": "7720514d",
   "metadata": {},
   "outputs": [
    {
     "name": "stdout",
     "output_type": "stream",
     "text": [
      "\u001b[31mERROR: Could not find a version that satisfies the requirement mlcompute (from versions: none)\u001b[0m\u001b[31m\r\n",
      "\u001b[0m\u001b[31mERROR: No matching distribution found for mlcompute\u001b[0m\u001b[31m\r\n",
      "\u001b[0m"
     ]
    }
   ],
   "source": [
    "!pip install mlcompute\n"
   ]
  },
  {
   "cell_type": "code",
   "execution_count": 3,
   "id": "8e6b3349",
   "metadata": {},
   "outputs": [
    {
     "ename": "ModuleNotFoundError",
     "evalue": "No module named 'tensorflow.python.compiler.mlcompute'",
     "output_type": "error",
     "traceback": [
      "\u001b[0;31m---------------------------------------------------------------------------\u001b[0m",
      "\u001b[0;31mModuleNotFoundError\u001b[0m                       Traceback (most recent call last)",
      "Cell \u001b[0;32mIn[3], line 2\u001b[0m\n\u001b[1;32m      1\u001b[0m \u001b[38;5;66;03m# enabling m1 gpus\u001b[39;00m\n\u001b[0;32m----> 2\u001b[0m \u001b[38;5;28;01mfrom\u001b[39;00m \u001b[38;5;21;01mtensorflow\u001b[39;00m\u001b[38;5;21;01m.\u001b[39;00m\u001b[38;5;21;01mpython\u001b[39;00m\u001b[38;5;21;01m.\u001b[39;00m\u001b[38;5;21;01mcompiler\u001b[39;00m\u001b[38;5;21;01m.\u001b[39;00m\u001b[38;5;21;01mmlcompute\u001b[39;00m \u001b[38;5;28;01mimport\u001b[39;00m mlcompute; \n\u001b[1;32m      3\u001b[0m mlcompute\u001b[38;5;241m.\u001b[39mset_mlc_device(device_name\u001b[38;5;241m=\u001b[39m\u001b[38;5;124m'\u001b[39m\u001b[38;5;124mgpu\u001b[39m\u001b[38;5;124m'\u001b[39m)\n",
      "\u001b[0;31mModuleNotFoundError\u001b[0m: No module named 'tensorflow.python.compiler.mlcompute'"
     ]
    }
   ],
   "source": [
    "# enabling m1 gpus\n",
    "from tensorflow.python.compiler.mlcompute import mlcompute; \n",
    "mlcompute.set_mlc_device(device_name='gpu')"
   ]
  },
  {
   "cell_type": "code",
   "execution_count": 2,
   "id": "ec4a8da5",
   "metadata": {},
   "outputs": [],
   "source": [
    "# Define the DQN agent\n",
    "class DQNAgent:\n",
    "    def __init__(self, state_size, action_size):\n",
    "        self.state_size = state_size\n",
    "        self.action_size = action_size\n",
    "        self.memory = deque(maxlen=2000)  # Replay memory\n",
    "        self.gamma = 0.95  # Discount factor\n",
    "        self.epsilon = 1.0  # Exploration rate\n",
    "        self.epsilon_min = 0.01\n",
    "        self.epsilon_decay = 0.995\n",
    "        self.learning_rate = 0.001\n",
    "        self.model = self.build_model()\n",
    "\n",
    "    # Build the deep Q-network\n",
    "    def build_model(self):\n",
    "        model = tf.keras.Sequential()\n",
    "        model.add(layers.Dense(24, input_dim=self.state_size, activation='relu'))\n",
    "        model.add(layers.Dense(24, activation='relu'))\n",
    "        model.add(layers.Dense(self.action_size, activation='linear'))\n",
    "        model.compile(loss='mse', optimizer=tf.keras.optimizers.Adam(lr=self.learning_rate))\n",
    "        return model\n",
    "\n",
    "    # Store experience in replay memory\n",
    "    def remember(self, state, action, reward, next_state, done):\n",
    "        self.memory.append((state, action, reward, next_state, done))\n",
    "\n",
    "    # Choose action using epsilon-greedy policy\n",
    "    def act(self, state):\n",
    "        if np.random.rand() <= self.epsilon:\n",
    "            return random.randrange(self.action_size)\n",
    "        q_values = self.model.predict(state)\n",
    "        return np.argmax(q_values[0])\n",
    "\n",
    "    # Update the Q-network using experience replay\n",
    "    def replay(self, batch_size):\n",
    "        minibatch = random.sample(self.memory, batch_size)\n",
    "        for state, action, reward, next_state, done in minibatch:\n",
    "            target = reward\n",
    "            if not done:\n",
    "                target = reward + self.gamma * np.amax(self.model.predict(next_state)[0])\n",
    "            target_f = self.model.predict(state)\n",
    "            target_f[0][action] = target\n",
    "            self.model.fit(state, target_f, epochs=1, verbose=0)\n",
    "        if self.epsilon > self.epsilon_min:\n",
    "            self.epsilon *= self.epsilon_decay"
   ]
  },
  {
   "cell_type": "code",
   "execution_count": null,
   "id": "f53479cb",
   "metadata": {},
   "outputs": [],
   "source": [
    "# Define the checkers environment\n",
    "class CheckersEnvironment:\n",
    "    def __init__(self):\n",
    "        self.state_size = 8  # Size of the checkers board\n",
    "        self.action_size = 4  # Number of possible actions\n",
    "        # Define other environment-specific variables and methods here\n",
    "\n",
    "    def reset(self):\n",
    "        # Reset the environment to the initial state\n",
    "        pass\n",
    "\n",
    "    def step(self, action):\n",
    "        # Execute the given action in the environment and return the next state, reward, and done flag\n",
    "        pass"
   ]
  },
  {
   "cell_type": "code",
   "execution_count": null,
   "id": "af6672e4",
   "metadata": {},
   "outputs": [],
   "source": [
    "# Training the DQN agent\n",
    "def train_dqn_agent():\n",
    "    # Initialize the checkers environment and DQN agent\n",
    "    env = CheckersEnvironment()\n",
    "    agent = DQNAgent(env.state_size, env.action_size)\n",
    "\n",
    "    num_episodes = 1000  # Number of training episodes\n",
    "    batch_size = 32  # Size of the minibatch for experience replay\n",
    "\n",
    "    for episode in range(num_episodes):\n",
    "        state = env.reset()\n",
    "        state = np.reshape(state, [1, env.state_size])\n",
    "        done = False\n",
    "        total_reward = 0\n",
    "\n",
    "        while not done:\n",
    "            # Agent takes an action\n",
    "            action = agent.act(state)\n",
    "\n",
    "            # Environment processes the action\n",
    "            next_state, reward, done = env.step(action)\n",
    "            next_state = np.reshape(next_state, [1, env.state_size])\n",
    "\n",
    "            # Store the experience in agent's memory\n",
    "            agent.remember(state, action, reward, next_state, done)\n",
    "\n",
    "            # Update the current state\n",
    "            state = next_state\n",
    "            total_reward += reward\n",
    "\n",
    "            if done:\n",
    "                print(\"Episode:\", episode, \"Total Reward:\", total_reward)\n",
    "\n",
    "            if len(agent.memory) > batch_size:\n",
    "                # Train the agent by replaying experiences from the memory\n",
    "                agent.replay(batch_size)"
   ]
  },
  {
   "cell_type": "code",
   "execution_count": null,
   "id": "d8c2753f",
   "metadata": {},
   "outputs": [],
   "source": [
    "# Play a game using a trained DQN agent\n",
    "def play_game_with_dqn_agent():\n",
    "    # Initialize the checkers environment and DQN agent\n",
    "    env = CheckersEnvironment()\n",
    "    agent = DQNAgent(env.state_size, env.action_size)\n",
    "\n",
    "    # Load the trained weights into the DQN model\n",
    "    agent.model.load_weights('dqn_weights.h5')\n",
    "\n",
    "    state = env.reset()\n",
    "    state = np.reshape(state, [1, env.state_size])\n",
    "    done = False\n",
    "\n",
    "    while not done:\n",
    "        # Agent selects the best action\n",
    "        action = agent.act(state)\n",
    "\n",
    "        # Environment processes the action\n",
    "        next_state, reward, done = env.step(action)\n",
    "        next_state = np.reshape(next_state, [1, env.state_size])\n",
    "\n",
    "        # Update the current state\n",
    "        state = next_state\n",
    "\n",
    "        # Render the checkers board and perform other necessary steps for visualization"
   ]
  },
  {
   "cell_type": "code",
   "execution_count": null,
   "id": "40b5ed05",
   "metadata": {},
   "outputs": [],
   "source": [
    "# Train the DQN agent\n",
    "train_dqn_agent()\n",
    "\n",
    "# Save the trained weights\n",
    "agent.model.save_weights('dqn_weights.h5')\n",
    "\n",
    "# Play a game using the trained DQN agent\n",
    "play_game_with_dqn_agent()"
   ]
  },
  {
   "cell_type": "code",
   "execution_count": null,
   "id": "b4049df8",
   "metadata": {},
   "outputs": [],
   "source": [
    "def render_board(board):\n",
    "    # Print the board with ASCII characters\n",
    "    print(\"   A B C D E F G H\")\n",
    "    print(\"   ----------------\")\n",
    "    for row in range(len(board)):\n",
    "        print(row + 1, \"|\", end=\" \")\n",
    "        for col in range(len(board[row])):\n",
    "            if board[row][col] == 0:\n",
    "                print(\"-\", end=\" \")\n",
    "            elif board[row][col] == 1:\n",
    "                print(\"O\", end=\" \")  # Player 1's piece\n",
    "            elif board[row][col] == 2:\n",
    "                print(\"X\", end=\" \")  # Player 2's piece\n",
    "        print()\n",
    "    print()\n",
    "\n",
    "# Example usage:\n",
    "board = [\n",
    "    [0, 1, 0, 1, 0, 1, 0, 1],\n",
    "    [1, 0, 1, 0, 1, 0, 1, 0],\n",
    "    [0, 1, 0, 1, 0, 1, 0, 1],\n",
    "    [0, 0, 0, 0, 0, 0, 0, 0],\n",
    "    [0, 0, 0, 0, 0, 0, 0, 0],\n",
    "    [2, 0, 2, 0, 2, 0, 2, 0],\n",
    "    [0, 2, 0, 2, 0, 2, 0, 2],\n",
    "    [2, 0, 2, 0, 2, 0, 2, 0]\n",
    "]\n",
    "\n",
    "render_board(board)\n"
   ]
  }
 ],
 "metadata": {
  "kernelspec": {
   "display_name": "Python 3 (ipykernel)",
   "language": "python",
   "name": "python3"
  },
  "language_info": {
   "codemirror_mode": {
    "name": "ipython",
    "version": 3
   },
   "file_extension": ".py",
   "mimetype": "text/x-python",
   "name": "python",
   "nbconvert_exporter": "python",
   "pygments_lexer": "ipython3",
   "version": "3.9.16"
  }
 },
 "nbformat": 4,
 "nbformat_minor": 5
}
