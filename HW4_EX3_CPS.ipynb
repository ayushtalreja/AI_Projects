{
 "cells": [
  {
   "cell_type": "markdown",
   "id": "f18b129f",
   "metadata": {},
   "source": [
    "### Importing all the required libraries and dataset "
   ]
  },
  {
   "cell_type": "code",
   "execution_count": 12,
   "id": "b2f0502e",
   "metadata": {},
   "outputs": [],
   "source": [
    "import tensorflow as tf\n",
    "from keras.models import Sequential\n",
    "from keras.layers import Dense, Conv2D, Flatten, MaxPool2D\n",
    "from keras.datasets import mnist\n",
    "from keras.utils import to_categorical\n",
    "import numpy as np\n",
    "import matplotlib.pyplot as plt"
   ]
  },
  {
   "cell_type": "code",
   "execution_count": 13,
   "id": "79295772",
   "metadata": {},
   "outputs": [],
   "source": [
    "# Setting random seed for tf and numpy\n",
    "tf.random.set_seed(10)\n",
    "np.random.seed(10)"
   ]
  },
  {
   "cell_type": "markdown",
   "id": "a7029b10",
   "metadata": {},
   "source": [
    "### Dataset "
   ]
  },
  {
   "cell_type": "code",
   "execution_count": 2,
   "id": "7c90ef18",
   "metadata": {},
   "outputs": [
    {
     "name": "stdout",
     "output_type": "stream",
     "text": [
      "Downloading data from https://storage.googleapis.com/tensorflow/tf-keras-datasets/mnist.npz\n",
      "11490434/11490434 [==============================] - 2s 0us/step\n"
     ]
    }
   ],
   "source": [
    "#Load the data and split it into train and test \n",
    "(X_train, y_train), (X_test, y_test) = mnist.load_data()"
   ]
  },
  {
   "cell_type": "markdown",
   "id": "6010dc01",
   "metadata": {},
   "source": [
    "### Exploring Dataset"
   ]
  },
  {
   "cell_type": "code",
   "execution_count": 3,
   "id": "0ca246d0",
   "metadata": {},
   "outputs": [
    {
     "name": "stdout",
     "output_type": "stream",
     "text": [
      "(60000, 28, 28)\n",
      "(10000, 28, 28)\n"
     ]
    }
   ],
   "source": [
    "#Get the image shape\n",
    "print(X_train.shape)\n",
    "print(X_test.shape)"
   ]
  },
  {
   "cell_type": "markdown",
   "id": "7a05e5e3",
   "metadata": {},
   "source": [
    "> we have 60000 and 10000, 28x28 images in our training and test dataset respectively.  "
   ]
  },
  {
   "cell_type": "code",
   "execution_count": 14,
   "id": "c0dd5133",
   "metadata": {},
   "outputs": [
    {
     "data": {
      "image/png": "[encoded data removed]",
      "text/plain": [
       "<Figure size 640x480 with 1 Axes>"
      ]
     },
     "metadata": {},
     "output_type": "display_data"
    }
   ],
   "source": [
    "# Showing some images\n",
    "plt.imshow(X_train[2])\n",
    "plt.show()"
   ]
  },
  {
   "cell_type": "code",
   "execution_count": 15,
   "id": "d84a8708",
   "metadata": {},
   "outputs": [
    {
     "data": {
      "image/png": "[encoded data removed]",
      "text/plain": [
       "<Figure size 640x480 with 1 Axes>"
      ]
     },
     "metadata": {},
     "output_type": "display_data"
    }
   ],
   "source": [
    "# Showing some images\n",
    "plt.imshow(X_train[10])\n",
    "plt.show()"
   ]
  },
  {
   "cell_type": "markdown",
   "id": "ee0e1b8e",
   "metadata": {},
   "source": [
    "### Tranformations\n",
    "Converting data into the format which is required to train the model"
   ]
  },
  {
   "cell_type": "code",
   "execution_count": 16,
   "id": "4452f3e9",
   "metadata": {},
   "outputs": [],
   "source": [
    "# Reshaping the data to fit the model\n",
    "X_train = X_train.reshape(60000, 28, 28, 1)\n",
    "X_test = X_test.reshape(10000, 28, 28, 1)"
   ]
  },
  {
   "cell_type": "code",
   "execution_count": 20,
   "id": "a3d169f4",
   "metadata": {},
   "outputs": [
    {
     "name": "stdout",
     "output_type": "stream",
     "text": [
      "[0. 0. 0. 0. 0. 1. 0. 0. 0. 0.]\n"
     ]
    }
   ],
   "source": [
    "# One-Hot Encoding: to convert labels into one hot encoded vector\n",
    "y_train_one_hot = to_categorical(y_train)\n",
    "y_test_one_hot = to_categorical(y_test)\n",
    "\n",
    "# Print the new label\n",
    "print(y_train_one_hot[0])"
   ]
  },
  {
   "cell_type": "markdown",
   "id": "63915be8",
   "metadata": {},
   "source": [
    "### Model\n",
    "model open sourced from \"https://github.com/chandan450/MNIST-Handwritten-Digit-Classification\""
   ]
  },
  {
   "cell_type": "code",
   "execution_count": 21,
   "id": "ea44bf8b",
   "metadata": {},
   "outputs": [],
   "source": [
    "# Build the CNN model\n",
    "model = Sequential()\n",
    "# Add model layers\n",
    "model.add(Conv2D(64, kernel_size=3, activation = 'relu', input_shape=(28,28,1)))\n",
    "model.add(Conv2D(32, kernel_size=3, activation='relu'))\n",
    "model.add(MaxPool2D(pool_size=(2, 2), strides=None, padding='valid', data_format=None))\n",
    "model.add(Flatten())\n",
    "model.add(Dense(10,activation='softmax'))"
   ]
  },
  {
   "cell_type": "code",
   "execution_count": 22,
   "id": "ce31c8a4",
   "metadata": {},
   "outputs": [],
   "source": [
    "model.compile(optimizer='adam', loss='categorical_crossentropy', metrics=['accuracy'])"
   ]
  },
  {
   "cell_type": "code",
   "execution_count": 23,
   "id": "e1af879f",
   "metadata": {},
   "outputs": [
    {
     "name": "stdout",
     "output_type": "stream",
     "text": [
      "Epoch 1/16\n",
      "1875/1875 [==============================] - 21s 11ms/step - loss: 0.2265 - accuracy: 0.9516 - val_loss: 0.0684 - val_accuracy: 0.9785\n",
      "Epoch 2/16\n",
      "1875/1875 [==============================] - 21s 11ms/step - loss: 0.0678 - accuracy: 0.9796 - val_loss: 0.0643 - val_accuracy: 0.9819\n",
      "Epoch 3/16\n",
      "1875/1875 [==============================] - 21s 11ms/step - loss: 0.0536 - accuracy: 0.9832 - val_loss: 0.0598 - val_accuracy: 0.9828\n",
      "Epoch 4/16\n",
      "1875/1875 [==============================] - 21s 11ms/step - loss: 0.0456 - accuracy: 0.9861 - val_loss: 0.0727 - val_accuracy: 0.9810\n",
      "Epoch 5/16\n",
      "1875/1875 [==============================] - 21s 11ms/step - loss: 0.0357 - accuracy: 0.9887 - val_loss: 0.0732 - val_accuracy: 0.9809\n",
      "Epoch 6/16\n",
      "1875/1875 [==============================] - 21s 11ms/step - loss: 0.0320 - accuracy: 0.9906 - val_loss: 0.0887 - val_accuracy: 0.9799\n",
      "Epoch 7/16\n",
      "1875/1875 [==============================] - 21s 11ms/step - loss: 0.0274 - accuracy: 0.9918 - val_loss: 0.0922 - val_accuracy: 0.9818\n",
      "Epoch 8/16\n",
      "1875/1875 [==============================] - 21s 11ms/step - loss: 0.0216 - accuracy: 0.9934 - val_loss: 0.1045 - val_accuracy: 0.9810\n",
      "Epoch 9/16\n",
      "1875/1875 [==============================] - 21s 11ms/step - loss: 0.0221 - accuracy: 0.9936 - val_loss: 0.0768 - val_accuracy: 0.9825\n",
      "Epoch 10/16\n",
      "1875/1875 [==============================] - 21s 11ms/step - loss: 0.0163 - accuracy: 0.9952 - val_loss: 0.1313 - val_accuracy: 0.9782\n",
      "Epoch 11/16\n",
      "1875/1875 [==============================] - 21s 11ms/step - loss: 0.0183 - accuracy: 0.9949 - val_loss: 0.1131 - val_accuracy: 0.9818\n",
      "Epoch 12/16\n",
      "1875/1875 [==============================] - 21s 11ms/step - loss: 0.0169 - accuracy: 0.9956 - val_loss: 0.1415 - val_accuracy: 0.9788\n",
      "Epoch 13/16\n",
      "1875/1875 [==============================] - 21s 11ms/step - loss: 0.0186 - accuracy: 0.9949 - val_loss: 0.1156 - val_accuracy: 0.9853\n",
      "Epoch 14/16\n",
      "1875/1875 [==============================] - 21s 11ms/step - loss: 0.0165 - accuracy: 0.9955 - val_loss: 0.1567 - val_accuracy: 0.9817\n",
      "Epoch 15/16\n",
      "1875/1875 [==============================] - 21s 11ms/step - loss: 0.0127 - accuracy: 0.9966 - val_loss: 0.1600 - val_accuracy: 0.9822\n",
      "Epoch 16/16\n",
      "1875/1875 [==============================] - 21s 11ms/step - loss: 0.0161 - accuracy: 0.9960 - val_loss: 0.1561 - val_accuracy: 0.9854\n"
     ]
    }
   ],
   "source": [
    "#Train the model\n",
    "hist = model.fit(X_train,y_train_one_hot, validation_data=(X_test,y_test_one_hot), epochs=16)\n",
    " "
   ]
  },
  {
   "cell_type": "code",
   "execution_count": 89,
   "id": "4c5287ed",
   "metadata": {},
   "outputs": [
    {
     "name": "stdout",
     "output_type": "stream",
     "text": [
      "Model: \"sequential_1\"\n",
      "_________________________________________________________________\n",
      " Layer (type)                Output Shape              Param #   \n",
      "=================================================================\n",
      " conv2d_2 (Conv2D)           (None, 26, 26, 64)        640       \n",
      "                                                                 \n",
      " conv2d_3 (Conv2D)           (None, 24, 24, 32)        18464     \n",
      "                                                                 \n",
      " max_pooling2d_1 (MaxPoolin  (None, 12, 12, 32)        0         \n",
      " g2D)                                                            \n",
      "                                                                 \n",
      " flatten_1 (Flatten)         (None, 4608)              0         \n",
      "                                                                 \n",
      " dense_1 (Dense)             (None, 10)                46090     \n",
      "                                                                 \n",
      "=================================================================\n",
      "Total params: 65194 (254.66 KB)\n",
      "Trainable params: 65194 (254.66 KB)\n",
      "Non-trainable params: 0 (0.00 Byte)\n",
      "_________________________________________________________________\n"
     ]
    }
   ],
   "source": [
    "model.summary()"
   ]
  },
  {
   "cell_type": "markdown",
   "id": "c2b74b60",
   "metadata": {},
   "source": [
    "> The model's validation `accuracy` and `loss` are 0.9854 and 0.01561 respectively, which is quite good!"
   ]
  },
  {
   "cell_type": "code",
   "execution_count": 25,
   "id": "7e0095ca",
   "metadata": {},
   "outputs": [
    {
     "name": "stdout",
     "output_type": "stream",
     "text": [
      "INFO:tensorflow:Assets written to: trained_model_v1/assets\n"
     ]
    },
    {
     "name": "stderr",
     "output_type": "stream",
     "text": [
      "INFO:tensorflow:Assets written to: trained_model_v1/assets\n"
     ]
    }
   ],
   "source": [
    "# Saving the model for later use\n",
    "model.save(\"trained_model_v1\")"
   ]
  },
  {
   "cell_type": "code",
   "execution_count": 26,
   "id": "9fb91d11",
   "metadata": {},
   "outputs": [],
   "source": [
    "# loading the model\n",
    "# loaded_model = tf.keras.models.load_model(\"trained_model_v1\")"
   ]
  },
  {
   "cell_type": "markdown",
   "id": "7ea911fa",
   "metadata": {},
   "source": [
    "I have saved the original model but for the time being, I am still gonna use the model that I have trained during this notebook."
   ]
  },
  {
   "cell_type": "markdown",
   "id": "2e51e840",
   "metadata": {},
   "source": [
    "### Custom Images\n",
    "These images are handwritten by me."
   ]
  },
  {
   "cell_type": "code",
   "execution_count": null,
   "id": "dc310c7b",
   "metadata": {},
   "outputs": [],
   "source": [
    "# from IPython.display import Image, display\n",
    "# display(Image(filename=\"3.jpeg\",width=128,height=128))"
   ]
  },
  {
   "cell_type": "code",
   "execution_count": null,
   "id": "a65f1d38",
   "metadata": {},
   "outputs": [],
   "source": [
    "# display(Image(filename=\"7.jpeg\",width=128,height=128))"
   ]
  },
  {
   "cell_type": "markdown",
   "id": "c1551a5f",
   "metadata": {},
   "source": [
    "Lets set the image resolution to 28*28, which is what our model was trained on."
   ]
  },
  {
   "cell_type": "code",
   "execution_count": null,
   "id": "57b2e996",
   "metadata": {},
   "outputs": [],
   "source": [
    "# from PIL import Image\n",
    "# image_3 = Image.open(\"3.jpeg\")\n",
    "# image_3 = image_3.resize((28,28))\n",
    "# image_3.show()"
   ]
  },
  {
   "cell_type": "code",
   "execution_count": null,
   "id": "d230225d",
   "metadata": {},
   "outputs": [],
   "source": [
    "# image_7 = Image.open(\"7.jpeg\")\n",
    "# image_7 = image_7.resize((28,28))\n",
    "# image_7.show()"
   ]
  },
  {
   "cell_type": "code",
   "execution_count": null,
   "id": "a639ec65",
   "metadata": {},
   "outputs": [],
   "source": [
    "# # Converting image to numpy array \n",
    "# converted_3 = np.array(image_3.convert(\"L\"))\n",
    "# # converted_3 = converted_3/255.0\n",
    "# converted_3 = converted_3.reshape((1,28,28,1))"
   ]
  },
  {
   "cell_type": "code",
   "execution_count": null,
   "id": "f282ccfd",
   "metadata": {},
   "outputs": [],
   "source": [
    "# # Converting image to numpy array \n",
    "# converted_7 = np.array(image_7.convert(\"L\"))\n",
    "# # converted_7 = converted_7/255.0\n",
    "# converted_7 = converted_7.reshape((1,28,28,1))"
   ]
  },
  {
   "cell_type": "markdown",
   "id": "6e1a8c3e",
   "metadata": {},
   "source": [
    "Now that the images have been converted into the format which is required by our model, we can make predictions."
   ]
  },
  {
   "cell_type": "code",
   "execution_count": null,
   "id": "260ba50d",
   "metadata": {},
   "outputs": [],
   "source": [
    "# prediction_3 = model.predict(converted_3)\n",
    "# prediction_7 = model.predict(converted_7)"
   ]
  },
  {
   "cell_type": "code",
   "execution_count": null,
   "id": "3e33f5f0",
   "metadata": {},
   "outputs": [],
   "source": [
    "# prediction_3"
   ]
  },
  {
   "cell_type": "code",
   "execution_count": null,
   "id": "f900ef99",
   "metadata": {},
   "outputs": [],
   "source": [
    "# prediction_7"
   ]
  },
  {
   "cell_type": "code",
   "execution_count": null,
   "id": "cadd6c48",
   "metadata": {},
   "outputs": [],
   "source": [
    "# predicted_class_3 = prediction_3.argmax()\n",
    "# predicted_class_7 = prediction_7.argmax()"
   ]
  },
  {
   "cell_type": "code",
   "execution_count": null,
   "id": "9f7ef38b",
   "metadata": {},
   "outputs": [],
   "source": [
    "# predicted_class_3"
   ]
  },
  {
   "cell_type": "code",
   "execution_count": null,
   "id": "62a5262a",
   "metadata": {},
   "outputs": [],
   "source": [
    "# predicted_class_7"
   ]
  },
  {
   "cell_type": "markdown",
   "id": "4119b080",
   "metadata": {},
   "source": [
    "### Taking an image and showing its prediction probability "
   ]
  },
  {
   "cell_type": "code",
   "execution_count": 183,
   "id": "b2dcd793",
   "metadata": {},
   "outputs": [
    {
     "data": {
      "image/png": "[encoded data removed]",
      "text/plain": [
       "<Figure size 640x480 with 1 Axes>"
      ]
     },
     "metadata": {},
     "output_type": "display_data"
    }
   ],
   "source": [
    "plt.imshow(X_test[29])\n",
    "plt.show()"
   ]
  },
  {
   "cell_type": "code",
   "execution_count": 184,
   "id": "e052ea8c",
   "metadata": {},
   "outputs": [
    {
     "name": "stdout",
     "output_type": "stream",
     "text": [
      "1/1 [==============================] - 0s 15ms/step\n"
     ]
    }
   ],
   "source": [
    "prob = model.predict(X_test[29].reshape((1,28,28,1)))"
   ]
  },
  {
   "cell_type": "code",
   "execution_count": 185,
   "id": "537a91d3",
   "metadata": {},
   "outputs": [
    {
     "data": {
      "text/plain": [
       "array([[2.9859021e-27, 1.0000000e+00, 1.2650618e-18, 3.6064206e-14,\n",
       "        1.2409839e-17, 1.2697803e-18, 1.1538115e-28, 1.1279280e-21,\n",
       "        3.6590100e-16, 4.0604185e-17]], dtype=float32)"
      ]
     },
     "execution_count": 185,
     "metadata": {},
     "output_type": "execute_result"
    }
   ],
   "source": [
    "# Showing all the probabilities\n",
    "prob"
   ]
  },
  {
   "cell_type": "code",
   "execution_count": 186,
   "id": "ac2e778f",
   "metadata": {},
   "outputs": [
    {
     "data": {
      "text/plain": [
       "1"
      ]
     },
     "execution_count": 186,
     "metadata": {},
     "output_type": "execute_result"
    }
   ],
   "source": [
    "# Prediction\n",
    "prob.argmax()"
   ]
  },
  {
   "cell_type": "code",
   "execution_count": 187,
   "id": "05f9b742",
   "metadata": {},
   "outputs": [
    {
     "name": "stdout",
     "output_type": "stream",
     "text": [
      "Probability of 1 is: 1.0\n"
     ]
    }
   ],
   "source": [
    "# probability of 1 is:\n",
    "print(f\"Probability of 1 is: {prob[0,1]}\")"
   ]
  },
  {
   "cell_type": "markdown",
   "id": "d1dd12c2",
   "metadata": {},
   "source": [
    "### Optimization based testing"
   ]
  },
  {
   "cell_type": "code",
   "execution_count": 188,
   "id": "b3a74cf5",
   "metadata": {},
   "outputs": [],
   "source": [
    "# Taking the above image as its prediction was correct\n",
    "test_image = X_test[29]\n",
    "# Changing the shape such that it is in the same format as required by our model\n",
    "test_image = test_image.reshape((1,28,28,1))"
   ]
  },
  {
   "cell_type": "code",
   "execution_count": 189,
   "id": "f981096e",
   "metadata": {},
   "outputs": [],
   "source": [
    "# The original prediction made on our test image\n",
    "original_prediction = prob"
   ]
  },
  {
   "cell_type": "code",
   "execution_count": 190,
   "id": "cd163c89",
   "metadata": {},
   "outputs": [
    {
     "name": "stdout",
     "output_type": "stream",
     "text": [
      "1/1 [==============================] - 0s 18ms/step\n",
      "1/1 [==============================] - 0s 12ms/step\n",
      "1/1 [==============================] - 0s 10ms/step\n",
      "1/1 [==============================] - 0s 10ms/step\n",
      "1/1 [==============================] - 0s 10ms/step\n",
      "1/1 [==============================] - 0s 10ms/step\n",
      "1/1 [==============================] - 0s 10ms/step\n",
      "1/1 [==============================] - 0s 10ms/step\n",
      "1/1 [==============================] - 0s 10ms/step\n",
      "1/1 [==============================] - 0s 10ms/step\n",
      "1/1 [==============================] - 0s 11ms/step\n",
      "1/1 [==============================] - 0s 9ms/step\n",
      "1/1 [==============================] - 0s 10ms/step\n",
      "1/1 [==============================] - 0s 10ms/step\n",
      "1/1 [==============================] - 0s 10ms/step\n",
      "1/1 [==============================] - 0s 9ms/step\n",
      "1/1 [==============================] - 0s 11ms/step\n",
      "1/1 [==============================] - 0s 9ms/step\n",
      "1/1 [==============================] - 0s 10ms/step\n",
      "1/1 [==============================] - 0s 9ms/step\n",
      "1/1 [==============================] - 0s 10ms/step\n",
      "1/1 [==============================] - 0s 10ms/step\n",
      "1/1 [==============================] - 0s 10ms/step\n",
      "1/1 [==============================] - 0s 10ms/step\n",
      "1/1 [==============================] - 0s 10ms/step\n",
      "1/1 [==============================] - 0s 9ms/step\n",
      "1/1 [==============================] - 0s 11ms/step\n",
      "1/1 [==============================] - 0s 10ms/step\n",
      "1/1 [==============================] - 0s 11ms/step\n",
      "1/1 [==============================] - 0s 9ms/step\n",
      "1/1 [==============================] - 0s 12ms/step\n",
      "1/1 [==============================] - 0s 12ms/step\n",
      "1/1 [==============================] - 0s 9ms/step\n",
      "1/1 [==============================] - 0s 11ms/step\n",
      "1/1 [==============================] - 0s 10ms/step\n",
      "1/1 [==============================] - 0s 11ms/step\n",
      "1/1 [==============================] - 0s 13ms/step\n",
      "1/1 [==============================] - 0s 10ms/step\n",
      "1/1 [==============================] - 0s 11ms/step\n",
      "1/1 [==============================] - 0s 9ms/step\n",
      "1/1 [==============================] - 0s 11ms/step\n",
      "1/1 [==============================] - 0s 12ms/step\n",
      "1/1 [==============================] - 0s 11ms/step\n",
      "1/1 [==============================] - 0s 9ms/step\n",
      "1/1 [==============================] - 0s 9ms/step\n",
      "1/1 [==============================] - 0s 12ms/step\n",
      "1/1 [==============================] - 0s 10ms/step\n",
      "1/1 [==============================] - 0s 10ms/step\n",
      "1/1 [==============================] - 0s 12ms/step\n",
      "1/1 [==============================] - 0s 10ms/step\n",
      "1/1 [==============================] - 0s 11ms/step\n",
      "1/1 [==============================] - 0s 10ms/step\n",
      "1/1 [==============================] - 0s 11ms/step\n",
      "1/1 [==============================] - 0s 10ms/step\n",
      "1/1 [==============================] - 0s 11ms/step\n",
      "1/1 [==============================] - 0s 11ms/step\n",
      "1/1 [==============================] - 0s 10ms/step\n",
      "1/1 [==============================] - 0s 11ms/step\n",
      "1/1 [==============================] - 0s 12ms/step\n",
      "1/1 [==============================] - 0s 11ms/step\n",
      "1/1 [==============================] - 0s 11ms/step\n",
      "1/1 [==============================] - 0s 10ms/step\n",
      "1/1 [==============================] - 0s 11ms/step\n",
      "1/1 [==============================] - 0s 11ms/step\n",
      "1/1 [==============================] - 0s 10ms/step\n",
      "1/1 [==============================] - 0s 14ms/step\n",
      "1/1 [==============================] - 0s 11ms/step\n",
      "1/1 [==============================] - 0s 12ms/step\n",
      "1/1 [==============================] - 0s 12ms/step\n",
      "1/1 [==============================] - 0s 13ms/step\n",
      "1/1 [==============================] - 0s 9ms/step\n",
      "1/1 [==============================] - 0s 11ms/step\n",
      "1/1 [==============================] - 0s 11ms/step\n",
      "1/1 [==============================] - 0s 12ms/step\n",
      "1/1 [==============================] - 0s 12ms/step\n",
      "1/1 [==============================] - 0s 9ms/step\n",
      "1/1 [==============================] - 0s 11ms/step\n",
      "1/1 [==============================] - 0s 11ms/step\n",
      "1/1 [==============================] - 0s 10ms/step\n",
      "1/1 [==============================] - 0s 11ms/step\n",
      "1/1 [==============================] - 0s 11ms/step\n",
      "1/1 [==============================] - 0s 12ms/step\n",
      "1/1 [==============================] - 0s 11ms/step\n",
      "1/1 [==============================] - 0s 11ms/step\n",
      "1/1 [==============================] - 0s 11ms/step\n",
      "1/1 [==============================] - 0s 11ms/step\n",
      "1/1 [==============================] - 0s 9ms/step\n",
      "1/1 [==============================] - 0s 12ms/step\n",
      "1/1 [==============================] - 0s 11ms/step\n",
      "1/1 [==============================] - 0s 11ms/step\n",
      "1/1 [==============================] - 0s 10ms/step\n",
      "1/1 [==============================] - 0s 10ms/step\n",
      "1/1 [==============================] - 0s 10ms/step\n",
      "1/1 [==============================] - 0s 11ms/step\n",
      "1/1 [==============================] - 0s 11ms/step\n",
      "1/1 [==============================] - 0s 11ms/step\n",
      "1/1 [==============================] - 0s 10ms/step\n",
      "1/1 [==============================] - 0s 13ms/step\n",
      "1/1 [==============================] - 0s 12ms/step\n",
      "1/1 [==============================] - 0s 11ms/step\n"
     ]
    }
   ],
   "source": [
    "import random\n",
    "from PIL import Image\n",
    "\n",
    "# Parameters for noise generation\n",
    "num_images = 100\n",
    "max_pixel_difference = 3\n",
    "\n",
    "# Create a list to store the prediction probability drops and noisy_image arrays\n",
    "probability_drops = []\n",
    "noisy_images = []\n",
    "noisy_predictions = []\n",
    "\n",
    "# Generate 100 noisy images\n",
    "for _ in range(num_images):\n",
    "    \n",
    "    # Generate random noise with values between -3 and 3 \n",
    "    noise = np.random.randint(-max_pixel_difference, max_pixel_difference + 1, size=test_image.shape)\n",
    "    \n",
    "    # Add noise to the test image array\n",
    "    noisy_image_array = np.clip(test_image + noise, 0, 255).astype(np.uint8)\n",
    "    \n",
    "    # Make prediction and add it to noisy_prediction list\n",
    "    noisy_prediction = model.predict(noisy_image_array)\n",
    "    noisy_predictions.append(noisy_prediction)\n",
    "    \n",
    "    # Calculate the probability drop\n",
    "    probability_drop = np.max(original_prediction) - np.max(noisy_prediction)\n",
    "    probability_drops.append(probability_drop)\n",
    "    noisy_images.append(noisy_image_array)\n"
   ]
  },
  {
   "cell_type": "markdown",
   "id": "d2356704",
   "metadata": {},
   "source": [
    "### Performing step 3, 4 and 5"
   ]
  },
  {
   "cell_type": "code",
   "execution_count": 191,
   "id": "f32400ad",
   "metadata": {},
   "outputs": [],
   "source": [
    "# Top 10 images where the drop was max\n",
    "top_10_indices = np.argsort(probability_drops)[-10:][::-1]"
   ]
  },
  {
   "cell_type": "code",
   "execution_count": 192,
   "id": "09dee9ff",
   "metadata": {},
   "outputs": [
    {
     "data": {
      "text/plain": [
       "array([99, 36, 26, 27, 28, 29, 30, 31, 32, 33])"
      ]
     },
     "execution_count": 192,
     "metadata": {},
     "output_type": "execute_result"
    }
   ],
   "source": [
    "top_10_indices"
   ]
  },
  {
   "cell_type": "code",
   "execution_count": 193,
   "id": "279f093e",
   "metadata": {},
   "outputs": [
    {
     "data": {
      "text/plain": [
       "100"
      ]
     },
     "execution_count": 193,
     "metadata": {},
     "output_type": "execute_result"
    }
   ],
   "source": [
    "# Ensuring that 100 noisy images were generated\n",
    "len(noisy_images)"
   ]
  },
  {
   "cell_type": "code",
   "execution_count": 194,
   "id": "52bcedcd",
   "metadata": {},
   "outputs": [],
   "source": [
    "# Retrieve the top 10 noisy images and their probabilities using the indices\n",
    "top_10_noisy_images = [noisy_images[idx] for idx in top_10_indices]\n",
    "top_10_noisy_predictions = [noisy_predictions[idx] for idx in top_10_indices]"
   ]
  },
  {
   "cell_type": "code",
   "execution_count": 195,
   "id": "b4d5226a",
   "metadata": {},
   "outputs": [
    {
     "data": {
      "text/plain": [
       "array([[3.6320029e-28, 1.0000000e+00, 2.1271500e-18, 6.5764501e-16,\n",
       "        5.8496969e-17, 1.6654341e-18, 2.2463599e-28, 7.6666496e-22,\n",
       "        2.8016406e-16, 1.0023819e-17]], dtype=float32)"
      ]
     },
     "execution_count": 195,
     "metadata": {},
     "output_type": "execute_result"
    }
   ],
   "source": [
    "top_10_noisy_predictions[0]"
   ]
  },
  {
   "cell_type": "code",
   "execution_count": 196,
   "id": "83f72bcc",
   "metadata": {},
   "outputs": [
    {
     "name": "stdout",
     "output_type": "stream",
     "text": [
      "1/1 [==============================] - 0s 15ms/step\n",
      "1/1 [==============================] - 0s 13ms/step\n",
      "1/1 [==============================] - 0s 9ms/step\n",
      "1/1 [==============================] - 0s 10ms/step\n",
      "1/1 [==============================] - 0s 10ms/step\n",
      "1/1 [==============================] - 0s 10ms/step\n",
      "1/1 [==============================] - 0s 10ms/step\n",
      "1/1 [==============================] - 0s 10ms/step\n",
      "1/1 [==============================] - 0s 10ms/step\n",
      "1/1 [==============================] - 0s 10ms/step\n",
      "1/1 [==============================] - 0s 9ms/step\n",
      "1/1 [==============================] - 0s 9ms/step\n",
      "1/1 [==============================] - 0s 11ms/step\n",
      "1/1 [==============================] - 0s 9ms/step\n",
      "1/1 [==============================] - 0s 11ms/step\n",
      "1/1 [==============================] - 0s 9ms/step\n",
      "1/1 [==============================] - 0s 10ms/step\n",
      "1/1 [==============================] - 0s 9ms/step\n",
      "1/1 [==============================] - 0s 11ms/step\n",
      "1/1 [==============================] - 0s 9ms/step\n",
      "1/1 [==============================] - 0s 10ms/step\n",
      "1/1 [==============================] - 0s 9ms/step\n",
      "1/1 [==============================] - 0s 10ms/step\n",
      "1/1 [==============================] - 0s 10ms/step\n",
      "1/1 [==============================] - 0s 10ms/step\n",
      "1/1 [==============================] - 0s 9ms/step\n",
      "1/1 [==============================] - 0s 10ms/step\n",
      "1/1 [==============================] - 0s 10ms/step\n",
      "1/1 [==============================] - 0s 11ms/step\n",
      "1/1 [==============================] - 0s 12ms/step\n",
      "1/1 [==============================] - 0s 9ms/step\n",
      "1/1 [==============================] - 0s 10ms/step\n",
      "1/1 [==============================] - 0s 10ms/step\n",
      "1/1 [==============================] - 0s 10ms/step\n",
      "1/1 [==============================] - 0s 9ms/step\n",
      "1/1 [==============================] - 0s 10ms/step\n",
      "1/1 [==============================] - 0s 9ms/step\n",
      "1/1 [==============================] - 0s 11ms/step\n",
      "1/1 [==============================] - 0s 12ms/step\n",
      "1/1 [==============================] - 0s 10ms/step\n",
      "1/1 [==============================] - 0s 11ms/step\n",
      "1/1 [==============================] - 0s 11ms/step\n",
      "1/1 [==============================] - 0s 11ms/step\n",
      "1/1 [==============================] - 0s 11ms/step\n",
      "1/1 [==============================] - 0s 9ms/step\n",
      "1/1 [==============================] - 0s 11ms/step\n",
      "1/1 [==============================] - 0s 11ms/step\n",
      "1/1 [==============================] - 0s 10ms/step\n",
      "1/1 [==============================] - 0s 10ms/step\n",
      "1/1 [==============================] - 0s 9ms/step\n",
      "1/1 [==============================] - 0s 11ms/step\n",
      "1/1 [==============================] - 0s 10ms/step\n",
      "1/1 [==============================] - 0s 10ms/step\n",
      "1/1 [==============================] - 0s 10ms/step\n",
      "1/1 [==============================] - 0s 12ms/step\n",
      "1/1 [==============================] - 0s 10ms/step\n",
      "1/1 [==============================] - 0s 11ms/step\n",
      "1/1 [==============================] - 0s 11ms/step\n",
      "1/1 [==============================] - 0s 10ms/step\n",
      "1/1 [==============================] - 0s 11ms/step\n",
      "1/1 [==============================] - 0s 9ms/step\n",
      "1/1 [==============================] - 0s 11ms/step\n",
      "1/1 [==============================] - 0s 10ms/step\n",
      "1/1 [==============================] - 0s 10ms/step\n",
      "1/1 [==============================] - 0s 11ms/step\n",
      "1/1 [==============================] - 0s 9ms/step\n",
      "1/1 [==============================] - 0s 11ms/step\n",
      "1/1 [==============================] - 0s 10ms/step\n",
      "1/1 [==============================] - 0s 12ms/step\n",
      "1/1 [==============================] - 0s 11ms/step\n",
      "1/1 [==============================] - 0s 10ms/step\n",
      "1/1 [==============================] - 0s 11ms/step\n",
      "1/1 [==============================] - 0s 11ms/step\n",
      "1/1 [==============================] - 0s 11ms/step\n",
      "1/1 [==============================] - 0s 11ms/step\n",
      "1/1 [==============================] - 0s 9ms/step\n",
      "1/1 [==============================] - 0s 11ms/step\n",
      "1/1 [==============================] - 0s 13ms/step\n",
      "1/1 [==============================] - 0s 10ms/step\n",
      "1/1 [==============================] - 0s 12ms/step\n",
      "1/1 [==============================] - 0s 11ms/step\n",
      "1/1 [==============================] - 0s 11ms/step\n",
      "1/1 [==============================] - 0s 10ms/step\n",
      "1/1 [==============================] - 0s 12ms/step\n",
      "1/1 [==============================] - 0s 11ms/step\n",
      "1/1 [==============================] - 0s 11ms/step\n",
      "1/1 [==============================] - 0s 11ms/step\n",
      "1/1 [==============================] - 0s 9ms/step\n",
      "1/1 [==============================] - 0s 12ms/step\n",
      "1/1 [==============================] - 0s 12ms/step\n",
      "1/1 [==============================] - 0s 9ms/step\n",
      "1/1 [==============================] - 0s 11ms/step\n",
      "1/1 [==============================] - 0s 11ms/step\n",
      "1/1 [==============================] - 0s 10ms/step\n",
      "1/1 [==============================] - 0s 10ms/step\n",
      "1/1 [==============================] - 0s 9ms/step\n",
      "1/1 [==============================] - 0s 10ms/step\n",
      "1/1 [==============================] - 0s 10ms/step\n",
      "1/1 [==============================] - 0s 10ms/step\n",
      "1/1 [==============================] - 0s 10ms/step\n"
     ]
    }
   ],
   "source": [
    "# Parameters for noise generation\n",
    "num_images = 10\n",
    "max_pixel_difference = 1\n",
    "\n",
    "# Create a list to store the prediction probability drops, noisy_image arrays and noisy predictions\n",
    "probability_drops = []\n",
    "noisy_images = []\n",
    "noisy_predictions = []\n",
    "\n",
    "# Generate 100 noisier images\n",
    "for i in range(num_images):\n",
    "    for _ in range(num_images):\n",
    "        \n",
    "    # Generate random noise with values between -1 and 1 \n",
    "        noise = np.random.randint(-max_pixel_difference, max_pixel_difference + 1, size=test_image.shape)\n",
    "    \n",
    "    # Add noise to the noisy image array\n",
    "        noisy_image_array = np.clip(top_10_noisy_images[i] + noise, 0, 255).astype(np.uint8)\n",
    "    \n",
    "    # Make prediction \n",
    "        noisy_prediction = model.predict(noisy_image_array)\n",
    "        noisy_predictions.append(noisy_prediction)\n",
    "    \n",
    "    # Calculate the probability drop\n",
    "        probability_drop = np.max(top_10_noisy_predictions[i]) - np.max(noisy_prediction)\n",
    "        probability_drops.append(probability_drop)\n",
    "        \n",
    "        noisy_images.append(noisy_image_array)"
   ]
  },
  {
   "cell_type": "code",
   "execution_count": 197,
   "id": "ae5bc85c",
   "metadata": {},
   "outputs": [],
   "source": [
    "# Top 10 images where the drop was max\n",
    "top_10_indices = np.argsort(probability_drops)[-10:][::-1]"
   ]
  },
  {
   "cell_type": "markdown",
   "id": "61a48cf0",
   "metadata": {},
   "source": [
    "### Step 6: Displaying the 10 candidates and their predictions"
   ]
  },
  {
   "cell_type": "code",
   "execution_count": 198,
   "id": "4a2c4104",
   "metadata": {},
   "outputs": [
    {
     "data": {
      "text/plain": [
       "array([99, 36, 26, 27, 28, 29, 30, 31, 32, 33])"
      ]
     },
     "execution_count": 198,
     "metadata": {},
     "output_type": "execute_result"
    }
   ],
   "source": [
    "# Candidates\n",
    "top_10_indices"
   ]
  },
  {
   "cell_type": "code",
   "execution_count": 200,
   "id": "c4242f3e",
   "metadata": {},
   "outputs": [],
   "source": [
    "# Retrieve the top 10 noisy images and their probabilities using the indices\n",
    "top_10_noisy_images = [noisy_images[idx] for idx in top_10_indices]\n",
    "top_10_noisy_predictions = [noisy_predictions[idx] for idx in top_10_indices]"
   ]
  },
  {
   "cell_type": "code",
   "execution_count": 201,
   "id": "c6032191",
   "metadata": {},
   "outputs": [
    {
     "data": {
      "text/plain": [
       "[array([[1.2136577e-27, 1.0000000e+00, 3.2608047e-18, 1.4600556e-15,\n",
       "         2.4460826e-17, 1.5912910e-18, 8.2967786e-29, 3.4874193e-22,\n",
       "         2.6535816e-16, 1.2562899e-17]], dtype=float32),\n",
       " array([[1.4096029e-27, 1.0000000e+00, 3.5941887e-18, 4.3237604e-16,\n",
       "         2.1525628e-17, 5.9271880e-19, 1.0065537e-28, 3.2213841e-22,\n",
       "         1.9300319e-16, 5.6017709e-18]], dtype=float32),\n",
       " array([[4.9911100e-28, 1.0000000e+00, 3.8278747e-18, 4.6867789e-16,\n",
       "         1.1409671e-17, 1.8779043e-18, 8.2914275e-29, 5.0808622e-23,\n",
       "         1.3126409e-16, 3.9244476e-18]], dtype=float32),\n",
       " array([[4.0310511e-28, 1.0000000e+00, 4.0661399e-18, 3.2767856e-16,\n",
       "         8.6910982e-18, 1.7888877e-18, 6.7189587e-29, 1.4060754e-22,\n",
       "         1.3546147e-16, 4.2507240e-18]], dtype=float32),\n",
       " array([[2.9249312e-28, 1.0000000e+00, 2.4689784e-18, 3.5274449e-16,\n",
       "         7.6632030e-18, 2.0623780e-18, 3.8298459e-29, 6.8271784e-23,\n",
       "         7.8706851e-17, 4.0609291e-18]], dtype=float32),\n",
       " array([[7.6981887e-29, 1.0000000e+00, 2.4748545e-18, 2.6547325e-16,\n",
       "         5.4533284e-18, 6.2248288e-19, 2.5100314e-29, 7.8269391e-23,\n",
       "         3.1167954e-17, 2.7444506e-18]], dtype=float32),\n",
       " array([[1.31843155e-27, 1.00000000e+00, 3.01721408e-18, 4.30842223e-16,\n",
       "         2.57580569e-17, 1.23462631e-18, 1.63938178e-28, 4.43030242e-22,\n",
       "         4.51963334e-16, 6.37646734e-18]], dtype=float32),\n",
       " array([[1.4992171e-27, 1.0000000e+00, 3.2782158e-18, 9.7658621e-16,\n",
       "         2.7756674e-17, 1.1222027e-18, 2.6635159e-28, 4.2413282e-22,\n",
       "         2.8410065e-16, 7.7182296e-18]], dtype=float32),\n",
       " array([[5.1067164e-28, 1.0000000e+00, 3.6870389e-18, 5.6268732e-16,\n",
       "         1.6264000e-17, 9.8766327e-19, 1.3563501e-28, 2.5479553e-22,\n",
       "         7.1240520e-17, 1.5327782e-17]], dtype=float32),\n",
       " array([[5.6447288e-28, 1.0000000e+00, 2.2607491e-18, 4.7191477e-16,\n",
       "         8.6967991e-18, 7.4643667e-19, 8.5218319e-29, 2.5624815e-22,\n",
       "         1.9679703e-16, 7.2367989e-18]], dtype=float32)]"
      ]
     },
     "execution_count": 201,
     "metadata": {},
     "output_type": "execute_result"
    }
   ],
   "source": [
    "# Candidate's Predictions\n",
    "top_10_noisy_predictions"
   ]
  },
  {
   "cell_type": "code",
   "execution_count": null,
   "id": "cf3f07fe",
   "metadata": {},
   "outputs": [],
   "source": []
  }
 ],
 "metadata": {
  "kernelspec": {
   "display_name": "Python 3 (ipykernel)",
   "language": "python",
   "name": "python3"
  },
  "language_info": {
   "codemirror_mode": {
    "name": "ipython",
    "version": 3
   },
   "file_extension": ".py",
   "mimetype": "text/x-python",
   "name": "python",
   "nbconvert_exporter": "python",
   "pygments_lexer": "ipython3",
   "version": "3.9.16"
  }
 },
 "nbformat": 4,
 "nbformat_minor": 5
}
