{
 "cells": [
  {
   "cell_type": "code",
   "execution_count": 1,
   "metadata": {},
   "outputs": [],
   "source": [
    "import pandas as pd\n",
    "import numpy as np\n",
    "%matplotlib inline\n",
    "import matplotlib.pyplot as plt"
   ]
  },
  {
   "cell_type": "markdown",
   "metadata": {},
   "source": [
    "## Getting Data ready"
   ]
  },
  {
   "cell_type": "code",
   "execution_count": 2,
   "metadata": {},
   "outputs": [
    {
     "data": {
      "text/html": [
       "<div>\n",
       "<style scoped>\n",
       "    .dataframe tbody tr th:only-of-type {\n",
       "        vertical-align: middle;\n",
       "    }\n",
       "\n",
       "    .dataframe tbody tr th {\n",
       "        vertical-align: top;\n",
       "    }\n",
       "\n",
       "    .dataframe thead th {\n",
       "        text-align: right;\n",
       "    }\n",
       "</style>\n",
       "<table border=\"1\" class=\"dataframe\">\n",
       "  <thead>\n",
       "    <tr style=\"text-align: right;\">\n",
       "      <th></th>\n",
       "      <th>age</th>\n",
       "      <th>sex</th>\n",
       "      <th>cp</th>\n",
       "      <th>trestbps</th>\n",
       "      <th>chol</th>\n",
       "      <th>fbs</th>\n",
       "      <th>restecg</th>\n",
       "      <th>thalach</th>\n",
       "      <th>exang</th>\n",
       "      <th>oldpeak</th>\n",
       "      <th>slope</th>\n",
       "      <th>ca</th>\n",
       "      <th>thal</th>\n",
       "      <th>target</th>\n",
       "    </tr>\n",
       "  </thead>\n",
       "  <tbody>\n",
       "    <tr>\n",
       "      <th>0</th>\n",
       "      <td>63</td>\n",
       "      <td>1</td>\n",
       "      <td>3</td>\n",
       "      <td>145</td>\n",
       "      <td>233</td>\n",
       "      <td>1</td>\n",
       "      <td>0</td>\n",
       "      <td>150</td>\n",
       "      <td>0</td>\n",
       "      <td>2.3</td>\n",
       "      <td>0</td>\n",
       "      <td>0</td>\n",
       "      <td>1</td>\n",
       "      <td>1</td>\n",
       "    </tr>\n",
       "    <tr>\n",
       "      <th>1</th>\n",
       "      <td>37</td>\n",
       "      <td>1</td>\n",
       "      <td>2</td>\n",
       "      <td>130</td>\n",
       "      <td>250</td>\n",
       "      <td>0</td>\n",
       "      <td>1</td>\n",
       "      <td>187</td>\n",
       "      <td>0</td>\n",
       "      <td>3.5</td>\n",
       "      <td>0</td>\n",
       "      <td>0</td>\n",
       "      <td>2</td>\n",
       "      <td>1</td>\n",
       "    </tr>\n",
       "    <tr>\n",
       "      <th>2</th>\n",
       "      <td>41</td>\n",
       "      <td>0</td>\n",
       "      <td>1</td>\n",
       "      <td>130</td>\n",
       "      <td>204</td>\n",
       "      <td>0</td>\n",
       "      <td>0</td>\n",
       "      <td>172</td>\n",
       "      <td>0</td>\n",
       "      <td>1.4</td>\n",
       "      <td>2</td>\n",
       "      <td>0</td>\n",
       "      <td>2</td>\n",
       "      <td>1</td>\n",
       "    </tr>\n",
       "    <tr>\n",
       "      <th>3</th>\n",
       "      <td>56</td>\n",
       "      <td>1</td>\n",
       "      <td>1</td>\n",
       "      <td>120</td>\n",
       "      <td>236</td>\n",
       "      <td>0</td>\n",
       "      <td>1</td>\n",
       "      <td>178</td>\n",
       "      <td>0</td>\n",
       "      <td>0.8</td>\n",
       "      <td>2</td>\n",
       "      <td>0</td>\n",
       "      <td>2</td>\n",
       "      <td>1</td>\n",
       "    </tr>\n",
       "    <tr>\n",
       "      <th>4</th>\n",
       "      <td>57</td>\n",
       "      <td>0</td>\n",
       "      <td>0</td>\n",
       "      <td>120</td>\n",
       "      <td>354</td>\n",
       "      <td>0</td>\n",
       "      <td>1</td>\n",
       "      <td>163</td>\n",
       "      <td>1</td>\n",
       "      <td>0.6</td>\n",
       "      <td>2</td>\n",
       "      <td>0</td>\n",
       "      <td>2</td>\n",
       "      <td>1</td>\n",
       "    </tr>\n",
       "  </tbody>\n",
       "</table>\n",
       "</div>"
      ],
      "text/plain": [
       "   age  sex  cp  trestbps  chol  fbs  restecg  thalach  exang  oldpeak  slope  \\\n",
       "0   63    1   3       145   233    1        0      150      0      2.3      0   \n",
       "1   37    1   2       130   250    0        1      187      0      3.5      0   \n",
       "2   41    0   1       130   204    0        0      172      0      1.4      2   \n",
       "3   56    1   1       120   236    0        1      178      0      0.8      2   \n",
       "4   57    0   0       120   354    0        1      163      1      0.6      2   \n",
       "\n",
       "   ca  thal  target  \n",
       "0   0     1       1  \n",
       "1   0     2       1  \n",
       "2   0     2       1  \n",
       "3   0     2       1  \n",
       "4   0     2       1  "
      ]
     },
     "execution_count": 2,
     "metadata": {},
     "output_type": "execute_result"
    }
   ],
   "source": [
    "heart_disease = pd.read_csv(\"heart-disease.csv\")\n",
    "heart_disease.head()"
   ]
  },
  {
   "cell_type": "code",
   "execution_count": 3,
   "metadata": {},
   "outputs": [
    {
     "data": {
      "text/html": [
       "<div>\n",
       "<style scoped>\n",
       "    .dataframe tbody tr th:only-of-type {\n",
       "        vertical-align: middle;\n",
       "    }\n",
       "\n",
       "    .dataframe tbody tr th {\n",
       "        vertical-align: top;\n",
       "    }\n",
       "\n",
       "    .dataframe thead th {\n",
       "        text-align: right;\n",
       "    }\n",
       "</style>\n",
       "<table border=\"1\" class=\"dataframe\">\n",
       "  <thead>\n",
       "    <tr style=\"text-align: right;\">\n",
       "      <th></th>\n",
       "      <th>age</th>\n",
       "      <th>sex</th>\n",
       "      <th>cp</th>\n",
       "      <th>trestbps</th>\n",
       "      <th>chol</th>\n",
       "      <th>fbs</th>\n",
       "      <th>restecg</th>\n",
       "      <th>thalach</th>\n",
       "      <th>exang</th>\n",
       "      <th>oldpeak</th>\n",
       "      <th>slope</th>\n",
       "      <th>ca</th>\n",
       "      <th>thal</th>\n",
       "    </tr>\n",
       "  </thead>\n",
       "  <tbody>\n",
       "    <tr>\n",
       "      <th>0</th>\n",
       "      <td>63</td>\n",
       "      <td>1</td>\n",
       "      <td>3</td>\n",
       "      <td>145</td>\n",
       "      <td>233</td>\n",
       "      <td>1</td>\n",
       "      <td>0</td>\n",
       "      <td>150</td>\n",
       "      <td>0</td>\n",
       "      <td>2.3</td>\n",
       "      <td>0</td>\n",
       "      <td>0</td>\n",
       "      <td>1</td>\n",
       "    </tr>\n",
       "    <tr>\n",
       "      <th>1</th>\n",
       "      <td>37</td>\n",
       "      <td>1</td>\n",
       "      <td>2</td>\n",
       "      <td>130</td>\n",
       "      <td>250</td>\n",
       "      <td>0</td>\n",
       "      <td>1</td>\n",
       "      <td>187</td>\n",
       "      <td>0</td>\n",
       "      <td>3.5</td>\n",
       "      <td>0</td>\n",
       "      <td>0</td>\n",
       "      <td>2</td>\n",
       "    </tr>\n",
       "    <tr>\n",
       "      <th>2</th>\n",
       "      <td>41</td>\n",
       "      <td>0</td>\n",
       "      <td>1</td>\n",
       "      <td>130</td>\n",
       "      <td>204</td>\n",
       "      <td>0</td>\n",
       "      <td>0</td>\n",
       "      <td>172</td>\n",
       "      <td>0</td>\n",
       "      <td>1.4</td>\n",
       "      <td>2</td>\n",
       "      <td>0</td>\n",
       "      <td>2</td>\n",
       "    </tr>\n",
       "    <tr>\n",
       "      <th>3</th>\n",
       "      <td>56</td>\n",
       "      <td>1</td>\n",
       "      <td>1</td>\n",
       "      <td>120</td>\n",
       "      <td>236</td>\n",
       "      <td>0</td>\n",
       "      <td>1</td>\n",
       "      <td>178</td>\n",
       "      <td>0</td>\n",
       "      <td>0.8</td>\n",
       "      <td>2</td>\n",
       "      <td>0</td>\n",
       "      <td>2</td>\n",
       "    </tr>\n",
       "    <tr>\n",
       "      <th>4</th>\n",
       "      <td>57</td>\n",
       "      <td>0</td>\n",
       "      <td>0</td>\n",
       "      <td>120</td>\n",
       "      <td>354</td>\n",
       "      <td>0</td>\n",
       "      <td>1</td>\n",
       "      <td>163</td>\n",
       "      <td>1</td>\n",
       "      <td>0.6</td>\n",
       "      <td>2</td>\n",
       "      <td>0</td>\n",
       "      <td>2</td>\n",
       "    </tr>\n",
       "  </tbody>\n",
       "</table>\n",
       "</div>"
      ],
      "text/plain": [
       "   age  sex  cp  trestbps  chol  fbs  restecg  thalach  exang  oldpeak  slope  \\\n",
       "0   63    1   3       145   233    1        0      150      0      2.3      0   \n",
       "1   37    1   2       130   250    0        1      187      0      3.5      0   \n",
       "2   41    0   1       130   204    0        0      172      0      1.4      2   \n",
       "3   56    1   1       120   236    0        1      178      0      0.8      2   \n",
       "4   57    0   0       120   354    0        1      163      1      0.6      2   \n",
       "\n",
       "   ca  thal  \n",
       "0   0     1  \n",
       "1   0     2  \n",
       "2   0     2  \n",
       "3   0     2  \n",
       "4   0     2  "
      ]
     },
     "execution_count": 3,
     "metadata": {},
     "output_type": "execute_result"
    }
   ],
   "source": [
    "# Features are usually called x while label is called y\n",
    "X = heart_disease.drop(\"target\",axis=1)\n",
    "X.head()"
   ]
  },
  {
   "cell_type": "code",
   "execution_count": 4,
   "metadata": {},
   "outputs": [
    {
     "data": {
      "text/plain": [
       "298    0\n",
       "299    0\n",
       "300    0\n",
       "301    0\n",
       "302    0\n",
       "Name: target, dtype: int64"
      ]
     },
     "execution_count": 4,
     "metadata": {},
     "output_type": "execute_result"
    }
   ],
   "source": [
    "Y = heart_disease[\"target\"]\n",
    "Y.tail()"
   ]
  },
  {
   "cell_type": "code",
   "execution_count": 5,
   "metadata": {},
   "outputs": [],
   "source": [
    "# Lets split the data into training and testing \n",
    "from sklearn.model_selection import train_test_split\n",
    "# train_test_split returns 4 values ones is x train second is x test and vice versa\n",
    "X_train,X_test,Y_train,Y_test = train_test_split(X,Y,train_size=0.8)"
   ]
  },
  {
   "cell_type": "code",
   "execution_count": 6,
   "metadata": {},
   "outputs": [
    {
     "data": {
      "text/plain": [
       "((242, 13), (61, 13))"
      ]
     },
     "execution_count": 6,
     "metadata": {},
     "output_type": "execute_result"
    }
   ],
   "source": [
    "X_train.shape,X_test.shape"
   ]
  },
  {
   "cell_type": "markdown",
   "metadata": {},
   "source": [
    "## Choosing a model to fit the problem"
   ]
  },
  {
   "cell_type": "code",
   "execution_count": 7,
   "metadata": {},
   "outputs": [],
   "source": [
    "from sklearn.ensemble import RandomForestRegressor"
   ]
  },
  {
   "cell_type": "code",
   "execution_count": 8,
   "metadata": {},
   "outputs": [
    {
     "data": {
      "text/plain": [
       "0.4106630630630631"
      ]
     },
     "execution_count": 8,
     "metadata": {},
     "output_type": "execute_result"
    }
   ],
   "source": [
    "model = RandomForestRegressor()\n",
    "model.fit(X_train,Y_train)\n",
    "model.score(X_test,Y_test)"
   ]
  },
  {
   "cell_type": "code",
   "execution_count": 9,
   "metadata": {},
   "outputs": [],
   "source": [
    "# Doing the same thing on Car sales extended"
   ]
  },
  {
   "cell_type": "code",
   "execution_count": 10,
   "metadata": {},
   "outputs": [],
   "source": [
    "car_sales_extended = pd.read_csv(\"scikit-learn-data/car-sales-extended.csv\")"
   ]
  },
  {
   "cell_type": "code",
   "execution_count": 11,
   "metadata": {},
   "outputs": [
    {
     "data": {
      "text/html": [
       "<div>\n",
       "<style scoped>\n",
       "    .dataframe tbody tr th:only-of-type {\n",
       "        vertical-align: middle;\n",
       "    }\n",
       "\n",
       "    .dataframe tbody tr th {\n",
       "        vertical-align: top;\n",
       "    }\n",
       "\n",
       "    .dataframe thead th {\n",
       "        text-align: right;\n",
       "    }\n",
       "</style>\n",
       "<table border=\"1\" class=\"dataframe\">\n",
       "  <thead>\n",
       "    <tr style=\"text-align: right;\">\n",
       "      <th></th>\n",
       "      <th>Make</th>\n",
       "      <th>Colour</th>\n",
       "      <th>Odometer (KM)</th>\n",
       "      <th>Doors</th>\n",
       "      <th>Price</th>\n",
       "    </tr>\n",
       "  </thead>\n",
       "  <tbody>\n",
       "    <tr>\n",
       "      <th>0</th>\n",
       "      <td>Honda</td>\n",
       "      <td>White</td>\n",
       "      <td>35431</td>\n",
       "      <td>4</td>\n",
       "      <td>15323</td>\n",
       "    </tr>\n",
       "    <tr>\n",
       "      <th>1</th>\n",
       "      <td>BMW</td>\n",
       "      <td>Blue</td>\n",
       "      <td>192714</td>\n",
       "      <td>5</td>\n",
       "      <td>19943</td>\n",
       "    </tr>\n",
       "    <tr>\n",
       "      <th>2</th>\n",
       "      <td>Honda</td>\n",
       "      <td>White</td>\n",
       "      <td>84714</td>\n",
       "      <td>4</td>\n",
       "      <td>28343</td>\n",
       "    </tr>\n",
       "    <tr>\n",
       "      <th>3</th>\n",
       "      <td>Toyota</td>\n",
       "      <td>White</td>\n",
       "      <td>154365</td>\n",
       "      <td>4</td>\n",
       "      <td>13434</td>\n",
       "    </tr>\n",
       "    <tr>\n",
       "      <th>4</th>\n",
       "      <td>Nissan</td>\n",
       "      <td>Blue</td>\n",
       "      <td>181577</td>\n",
       "      <td>3</td>\n",
       "      <td>14043</td>\n",
       "    </tr>\n",
       "  </tbody>\n",
       "</table>\n",
       "</div>"
      ],
      "text/plain": [
       "     Make Colour  Odometer (KM)  Doors  Price\n",
       "0   Honda  White          35431      4  15323\n",
       "1     BMW   Blue         192714      5  19943\n",
       "2   Honda  White          84714      4  28343\n",
       "3  Toyota  White         154365      4  13434\n",
       "4  Nissan   Blue         181577      3  14043"
      ]
     },
     "execution_count": 11,
     "metadata": {},
     "output_type": "execute_result"
    }
   ],
   "source": [
    "car_sales_extended.head()"
   ]
  },
  {
   "cell_type": "code",
   "execution_count": 12,
   "metadata": {},
   "outputs": [
    {
     "data": {
      "text/html": [
       "<div>\n",
       "<style scoped>\n",
       "    .dataframe tbody tr th:only-of-type {\n",
       "        vertical-align: middle;\n",
       "    }\n",
       "\n",
       "    .dataframe tbody tr th {\n",
       "        vertical-align: top;\n",
       "    }\n",
       "\n",
       "    .dataframe thead th {\n",
       "        text-align: right;\n",
       "    }\n",
       "</style>\n",
       "<table border=\"1\" class=\"dataframe\">\n",
       "  <thead>\n",
       "    <tr style=\"text-align: right;\">\n",
       "      <th></th>\n",
       "      <th>Make</th>\n",
       "      <th>Colour</th>\n",
       "      <th>Odometer (KM)</th>\n",
       "      <th>Doors</th>\n",
       "    </tr>\n",
       "  </thead>\n",
       "  <tbody>\n",
       "    <tr>\n",
       "      <th>0</th>\n",
       "      <td>Honda</td>\n",
       "      <td>White</td>\n",
       "      <td>35431</td>\n",
       "      <td>4</td>\n",
       "    </tr>\n",
       "    <tr>\n",
       "      <th>1</th>\n",
       "      <td>BMW</td>\n",
       "      <td>Blue</td>\n",
       "      <td>192714</td>\n",
       "      <td>5</td>\n",
       "    </tr>\n",
       "    <tr>\n",
       "      <th>2</th>\n",
       "      <td>Honda</td>\n",
       "      <td>White</td>\n",
       "      <td>84714</td>\n",
       "      <td>4</td>\n",
       "    </tr>\n",
       "    <tr>\n",
       "      <th>3</th>\n",
       "      <td>Toyota</td>\n",
       "      <td>White</td>\n",
       "      <td>154365</td>\n",
       "      <td>4</td>\n",
       "    </tr>\n",
       "    <tr>\n",
       "      <th>4</th>\n",
       "      <td>Nissan</td>\n",
       "      <td>Blue</td>\n",
       "      <td>181577</td>\n",
       "      <td>3</td>\n",
       "    </tr>\n",
       "    <tr>\n",
       "      <th>...</th>\n",
       "      <td>...</td>\n",
       "      <td>...</td>\n",
       "      <td>...</td>\n",
       "      <td>...</td>\n",
       "    </tr>\n",
       "    <tr>\n",
       "      <th>995</th>\n",
       "      <td>Toyota</td>\n",
       "      <td>Black</td>\n",
       "      <td>35820</td>\n",
       "      <td>4</td>\n",
       "    </tr>\n",
       "    <tr>\n",
       "      <th>996</th>\n",
       "      <td>Nissan</td>\n",
       "      <td>White</td>\n",
       "      <td>155144</td>\n",
       "      <td>3</td>\n",
       "    </tr>\n",
       "    <tr>\n",
       "      <th>997</th>\n",
       "      <td>Nissan</td>\n",
       "      <td>Blue</td>\n",
       "      <td>66604</td>\n",
       "      <td>4</td>\n",
       "    </tr>\n",
       "    <tr>\n",
       "      <th>998</th>\n",
       "      <td>Honda</td>\n",
       "      <td>White</td>\n",
       "      <td>215883</td>\n",
       "      <td>4</td>\n",
       "    </tr>\n",
       "    <tr>\n",
       "      <th>999</th>\n",
       "      <td>Toyota</td>\n",
       "      <td>Blue</td>\n",
       "      <td>248360</td>\n",
       "      <td>4</td>\n",
       "    </tr>\n",
       "  </tbody>\n",
       "</table>\n",
       "<p>1000 rows × 4 columns</p>\n",
       "</div>"
      ],
      "text/plain": [
       "       Make Colour  Odometer (KM)  Doors\n",
       "0     Honda  White          35431      4\n",
       "1       BMW   Blue         192714      5\n",
       "2     Honda  White          84714      4\n",
       "3    Toyota  White         154365      4\n",
       "4    Nissan   Blue         181577      3\n",
       "..      ...    ...            ...    ...\n",
       "995  Toyota  Black          35820      4\n",
       "996  Nissan  White         155144      3\n",
       "997  Nissan   Blue          66604      4\n",
       "998   Honda  White         215883      4\n",
       "999  Toyota   Blue         248360      4\n",
       "\n",
       "[1000 rows x 4 columns]"
      ]
     },
     "execution_count": 12,
     "metadata": {},
     "output_type": "execute_result"
    }
   ],
   "source": [
    "X = car_sales_extended.drop(\"Price\",axis=1)\n",
    "X"
   ]
  },
  {
   "cell_type": "code",
   "execution_count": 13,
   "metadata": {},
   "outputs": [],
   "source": [
    "Y = car_sales_extended[\"Price\"]"
   ]
  },
  {
   "cell_type": "code",
   "execution_count": 14,
   "metadata": {},
   "outputs": [
    {
     "data": {
      "text/plain": [
       "0      15323\n",
       "1      19943\n",
       "2      28343\n",
       "3      13434\n",
       "4      14043\n",
       "       ...  \n",
       "995    32042\n",
       "996     5716\n",
       "997    31570\n",
       "998     4001\n",
       "999    12732\n",
       "Name: Price, Length: 1000, dtype: int64"
      ]
     },
     "execution_count": 14,
     "metadata": {},
     "output_type": "execute_result"
    }
   ],
   "source": [
    "Y"
   ]
  },
  {
   "cell_type": "code",
   "execution_count": 15,
   "metadata": {},
   "outputs": [],
   "source": [
    "X_train,X_test,Y_train,Y_test=train_test_split(X,Y,test_size = 0.2)"
   ]
  },
  {
   "cell_type": "code",
   "execution_count": 16,
   "metadata": {},
   "outputs": [
    {
     "ename": "ValueError",
     "evalue": "could not convert string to float: 'Toyota'",
     "output_type": "error",
     "traceback": [
      "\u001b[1;31m---------------------------------------------------------------------------\u001b[0m",
      "\u001b[1;31mValueError\u001b[0m                                Traceback (most recent call last)",
      "\u001b[1;32m<ipython-input-16-b637aadcdd81>\u001b[0m in \u001b[0;36m<module>\u001b[1;34m\u001b[0m\n\u001b[0;32m      1\u001b[0m \u001b[0mmodel\u001b[0m \u001b[1;33m=\u001b[0m \u001b[0mRandomForestRegressor\u001b[0m\u001b[1;33m(\u001b[0m\u001b[1;33m)\u001b[0m\u001b[1;33m\u001b[0m\u001b[1;33m\u001b[0m\u001b[0m\n\u001b[1;32m----> 2\u001b[1;33m \u001b[0mmodel\u001b[0m\u001b[1;33m.\u001b[0m\u001b[0mfit\u001b[0m\u001b[1;33m(\u001b[0m\u001b[0mX_train\u001b[0m\u001b[1;33m,\u001b[0m\u001b[0mY_train\u001b[0m\u001b[1;33m)\u001b[0m\u001b[1;33m\u001b[0m\u001b[1;33m\u001b[0m\u001b[0m\n\u001b[0m\u001b[0;32m      3\u001b[0m \u001b[0mmodel\u001b[0m\u001b[1;33m.\u001b[0m\u001b[0mscore\u001b[0m\u001b[1;33m(\u001b[0m\u001b[0mX_test\u001b[0m\u001b[1;33m,\u001b[0m\u001b[0mY_test\u001b[0m\u001b[1;33m)\u001b[0m\u001b[1;33m\u001b[0m\u001b[1;33m\u001b[0m\u001b[0m\n",
      "\u001b[1;32mD:\\machine_learning_project_folder\\env\\lib\\site-packages\\sklearn\\ensemble\\_forest.py\u001b[0m in \u001b[0;36mfit\u001b[1;34m(self, X, y, sample_weight)\u001b[0m\n\u001b[0;32m    293\u001b[0m         \"\"\"\n\u001b[0;32m    294\u001b[0m         \u001b[1;31m# Validate or convert input data\u001b[0m\u001b[1;33m\u001b[0m\u001b[1;33m\u001b[0m\u001b[1;33m\u001b[0m\u001b[0m\n\u001b[1;32m--> 295\u001b[1;33m         \u001b[0mX\u001b[0m \u001b[1;33m=\u001b[0m \u001b[0mcheck_array\u001b[0m\u001b[1;33m(\u001b[0m\u001b[0mX\u001b[0m\u001b[1;33m,\u001b[0m \u001b[0maccept_sparse\u001b[0m\u001b[1;33m=\u001b[0m\u001b[1;34m\"csc\"\u001b[0m\u001b[1;33m,\u001b[0m \u001b[0mdtype\u001b[0m\u001b[1;33m=\u001b[0m\u001b[0mDTYPE\u001b[0m\u001b[1;33m)\u001b[0m\u001b[1;33m\u001b[0m\u001b[1;33m\u001b[0m\u001b[0m\n\u001b[0m\u001b[0;32m    296\u001b[0m         \u001b[0my\u001b[0m \u001b[1;33m=\u001b[0m \u001b[0mcheck_array\u001b[0m\u001b[1;33m(\u001b[0m\u001b[0my\u001b[0m\u001b[1;33m,\u001b[0m \u001b[0maccept_sparse\u001b[0m\u001b[1;33m=\u001b[0m\u001b[1;34m'csc'\u001b[0m\u001b[1;33m,\u001b[0m \u001b[0mensure_2d\u001b[0m\u001b[1;33m=\u001b[0m\u001b[1;32mFalse\u001b[0m\u001b[1;33m,\u001b[0m \u001b[0mdtype\u001b[0m\u001b[1;33m=\u001b[0m\u001b[1;32mNone\u001b[0m\u001b[1;33m)\u001b[0m\u001b[1;33m\u001b[0m\u001b[1;33m\u001b[0m\u001b[0m\n\u001b[0;32m    297\u001b[0m         \u001b[1;32mif\u001b[0m \u001b[0msample_weight\u001b[0m \u001b[1;32mis\u001b[0m \u001b[1;32mnot\u001b[0m \u001b[1;32mNone\u001b[0m\u001b[1;33m:\u001b[0m\u001b[1;33m\u001b[0m\u001b[1;33m\u001b[0m\u001b[0m\n",
      "\u001b[1;32mD:\\machine_learning_project_folder\\env\\lib\\site-packages\\sklearn\\utils\\validation.py\u001b[0m in \u001b[0;36mcheck_array\u001b[1;34m(array, accept_sparse, accept_large_sparse, dtype, order, copy, force_all_finite, ensure_2d, allow_nd, ensure_min_samples, ensure_min_features, warn_on_dtype, estimator)\u001b[0m\n\u001b[0;32m    529\u001b[0m                     \u001b[0marray\u001b[0m \u001b[1;33m=\u001b[0m \u001b[0marray\u001b[0m\u001b[1;33m.\u001b[0m\u001b[0mastype\u001b[0m\u001b[1;33m(\u001b[0m\u001b[0mdtype\u001b[0m\u001b[1;33m,\u001b[0m \u001b[0mcasting\u001b[0m\u001b[1;33m=\u001b[0m\u001b[1;34m\"unsafe\"\u001b[0m\u001b[1;33m,\u001b[0m \u001b[0mcopy\u001b[0m\u001b[1;33m=\u001b[0m\u001b[1;32mFalse\u001b[0m\u001b[1;33m)\u001b[0m\u001b[1;33m\u001b[0m\u001b[1;33m\u001b[0m\u001b[0m\n\u001b[0;32m    530\u001b[0m                 \u001b[1;32melse\u001b[0m\u001b[1;33m:\u001b[0m\u001b[1;33m\u001b[0m\u001b[1;33m\u001b[0m\u001b[0m\n\u001b[1;32m--> 531\u001b[1;33m                     \u001b[0marray\u001b[0m \u001b[1;33m=\u001b[0m \u001b[0mnp\u001b[0m\u001b[1;33m.\u001b[0m\u001b[0masarray\u001b[0m\u001b[1;33m(\u001b[0m\u001b[0marray\u001b[0m\u001b[1;33m,\u001b[0m \u001b[0morder\u001b[0m\u001b[1;33m=\u001b[0m\u001b[0morder\u001b[0m\u001b[1;33m,\u001b[0m \u001b[0mdtype\u001b[0m\u001b[1;33m=\u001b[0m\u001b[0mdtype\u001b[0m\u001b[1;33m)\u001b[0m\u001b[1;33m\u001b[0m\u001b[1;33m\u001b[0m\u001b[0m\n\u001b[0m\u001b[0;32m    532\u001b[0m             \u001b[1;32mexcept\u001b[0m \u001b[0mComplexWarning\u001b[0m\u001b[1;33m:\u001b[0m\u001b[1;33m\u001b[0m\u001b[1;33m\u001b[0m\u001b[0m\n\u001b[0;32m    533\u001b[0m                 raise ValueError(\"Complex data not supported\\n\"\n",
      "\u001b[1;32mD:\\machine_learning_project_folder\\env\\lib\\site-packages\\numpy\\core\\_asarray.py\u001b[0m in \u001b[0;36masarray\u001b[1;34m(a, dtype, order)\u001b[0m\n\u001b[0;32m     83\u001b[0m \u001b[1;33m\u001b[0m\u001b[0m\n\u001b[0;32m     84\u001b[0m     \"\"\"\n\u001b[1;32m---> 85\u001b[1;33m     \u001b[1;32mreturn\u001b[0m \u001b[0marray\u001b[0m\u001b[1;33m(\u001b[0m\u001b[0ma\u001b[0m\u001b[1;33m,\u001b[0m \u001b[0mdtype\u001b[0m\u001b[1;33m,\u001b[0m \u001b[0mcopy\u001b[0m\u001b[1;33m=\u001b[0m\u001b[1;32mFalse\u001b[0m\u001b[1;33m,\u001b[0m \u001b[0morder\u001b[0m\u001b[1;33m=\u001b[0m\u001b[0morder\u001b[0m\u001b[1;33m)\u001b[0m\u001b[1;33m\u001b[0m\u001b[1;33m\u001b[0m\u001b[0m\n\u001b[0m\u001b[0;32m     86\u001b[0m \u001b[1;33m\u001b[0m\u001b[0m\n\u001b[0;32m     87\u001b[0m \u001b[1;33m\u001b[0m\u001b[0m\n",
      "\u001b[1;31mValueError\u001b[0m: could not convert string to float: 'Toyota'"
     ]
    }
   ],
   "source": [
    "model = RandomForestRegressor()\n",
    "model.fit(X_train,Y_train)\n",
    "model.score(X_test,Y_test)"
   ]
  },
  {
   "cell_type": "markdown",
   "metadata": {},
   "source": [
    "## Converting categorical features into numbers using OneHotEncoder and ColumnTransformer\n"
   ]
  },
  {
   "cell_type": "code",
   "execution_count": 17,
   "metadata": {},
   "outputs": [],
   "source": [
    "from sklearn.preprocessing import OneHotEncoder\n",
    "from sklearn.compose import ColumnTransformer"
   ]
  },
  {
   "cell_type": "code",
   "execution_count": 18,
   "metadata": {},
   "outputs": [
    {
     "data": {
      "text/html": [
       "<div>\n",
       "<style scoped>\n",
       "    .dataframe tbody tr th:only-of-type {\n",
       "        vertical-align: middle;\n",
       "    }\n",
       "\n",
       "    .dataframe tbody tr th {\n",
       "        vertical-align: top;\n",
       "    }\n",
       "\n",
       "    .dataframe thead th {\n",
       "        text-align: right;\n",
       "    }\n",
       "</style>\n",
       "<table border=\"1\" class=\"dataframe\">\n",
       "  <thead>\n",
       "    <tr style=\"text-align: right;\">\n",
       "      <th></th>\n",
       "      <th>Make</th>\n",
       "      <th>Colour</th>\n",
       "      <th>Odometer (KM)</th>\n",
       "      <th>Doors</th>\n",
       "      <th>Price</th>\n",
       "    </tr>\n",
       "  </thead>\n",
       "  <tbody>\n",
       "    <tr>\n",
       "      <th>995</th>\n",
       "      <td>Toyota</td>\n",
       "      <td>Black</td>\n",
       "      <td>35820</td>\n",
       "      <td>4</td>\n",
       "      <td>32042</td>\n",
       "    </tr>\n",
       "    <tr>\n",
       "      <th>996</th>\n",
       "      <td>Nissan</td>\n",
       "      <td>White</td>\n",
       "      <td>155144</td>\n",
       "      <td>3</td>\n",
       "      <td>5716</td>\n",
       "    </tr>\n",
       "    <tr>\n",
       "      <th>997</th>\n",
       "      <td>Nissan</td>\n",
       "      <td>Blue</td>\n",
       "      <td>66604</td>\n",
       "      <td>4</td>\n",
       "      <td>31570</td>\n",
       "    </tr>\n",
       "    <tr>\n",
       "      <th>998</th>\n",
       "      <td>Honda</td>\n",
       "      <td>White</td>\n",
       "      <td>215883</td>\n",
       "      <td>4</td>\n",
       "      <td>4001</td>\n",
       "    </tr>\n",
       "    <tr>\n",
       "      <th>999</th>\n",
       "      <td>Toyota</td>\n",
       "      <td>Blue</td>\n",
       "      <td>248360</td>\n",
       "      <td>4</td>\n",
       "      <td>12732</td>\n",
       "    </tr>\n",
       "  </tbody>\n",
       "</table>\n",
       "</div>"
      ],
      "text/plain": [
       "       Make Colour  Odometer (KM)  Doors  Price\n",
       "995  Toyota  Black          35820      4  32042\n",
       "996  Nissan  White         155144      3   5716\n",
       "997  Nissan   Blue          66604      4  31570\n",
       "998   Honda  White         215883      4   4001\n",
       "999  Toyota   Blue         248360      4  12732"
      ]
     },
     "execution_count": 18,
     "metadata": {},
     "output_type": "execute_result"
    }
   ],
   "source": [
    "car_sales_extended.tail()"
   ]
  },
  {
   "cell_type": "code",
   "execution_count": 24,
   "metadata": {},
   "outputs": [
    {
     "data": {
      "text/plain": [
       "4    856\n",
       "5     79\n",
       "3     65\n",
       "Name: Doors, dtype: int64"
      ]
     },
     "execution_count": 24,
     "metadata": {},
     "output_type": "execute_result"
    }
   ],
   "source": [
    "car_sales_extended[\"Doors\"].value_counts()"
   ]
  },
  {
   "cell_type": "code",
   "execution_count": 25,
   "metadata": {},
   "outputs": [
    {
     "data": {
      "text/plain": [
       "array([[0.00000e+00, 1.00000e+00, 0.00000e+00, ..., 1.00000e+00,\n",
       "        0.00000e+00, 3.54310e+04],\n",
       "       [1.00000e+00, 0.00000e+00, 0.00000e+00, ..., 0.00000e+00,\n",
       "        1.00000e+00, 1.92714e+05],\n",
       "       [0.00000e+00, 1.00000e+00, 0.00000e+00, ..., 1.00000e+00,\n",
       "        0.00000e+00, 8.47140e+04],\n",
       "       ...,\n",
       "       [0.00000e+00, 0.00000e+00, 1.00000e+00, ..., 1.00000e+00,\n",
       "        0.00000e+00, 6.66040e+04],\n",
       "       [0.00000e+00, 1.00000e+00, 0.00000e+00, ..., 1.00000e+00,\n",
       "        0.00000e+00, 2.15883e+05],\n",
       "       [0.00000e+00, 0.00000e+00, 0.00000e+00, ..., 1.00000e+00,\n",
       "        0.00000e+00, 2.48360e+05]])"
      ]
     },
     "execution_count": 25,
     "metadata": {},
     "output_type": "execute_result"
    }
   ],
   "source": [
    "# Instantiating class OneHotEncoder\n",
    "Onehot = OneHotEncoder()\n",
    "categorical_features = [\"Make\",\"Colour\",\"Doors\"]\n",
    "# Doors is a category because there are 856 doors that are of category 4 and so on.\n",
    "transformer = ColumnTransformer([(\n",
    "        \"one_hot\",Onehot,\n",
    "        categorical_features)],remainder=\"passthrough\")\n",
    "# Columntransformer requires the encoder that we want to use and the categorical features that we are converting into numbers\n",
    "# Remainder passthrough means passthrough all other features that are not defined in categorical features\n",
    "# \"one_hot is just a name that we have given to Onehot\"\n",
    "\n",
    "transformed_X = transformer.fit_transform(X)\n",
    "transformed_X"
   ]
  },
  {
   "cell_type": "code",
   "execution_count": 26,
   "metadata": {
    "scrolled": true
   },
   "outputs": [
    {
     "data": {
      "text/html": [
       "<div>\n",
       "<style scoped>\n",
       "    .dataframe tbody tr th:only-of-type {\n",
       "        vertical-align: middle;\n",
       "    }\n",
       "\n",
       "    .dataframe tbody tr th {\n",
       "        vertical-align: top;\n",
       "    }\n",
       "\n",
       "    .dataframe thead th {\n",
       "        text-align: right;\n",
       "    }\n",
       "</style>\n",
       "<table border=\"1\" class=\"dataframe\">\n",
       "  <thead>\n",
       "    <tr style=\"text-align: right;\">\n",
       "      <th></th>\n",
       "      <th>0</th>\n",
       "      <th>1</th>\n",
       "      <th>2</th>\n",
       "      <th>3</th>\n",
       "      <th>4</th>\n",
       "      <th>5</th>\n",
       "      <th>6</th>\n",
       "      <th>7</th>\n",
       "      <th>8</th>\n",
       "      <th>9</th>\n",
       "      <th>10</th>\n",
       "      <th>11</th>\n",
       "      <th>12</th>\n",
       "    </tr>\n",
       "  </thead>\n",
       "  <tbody>\n",
       "    <tr>\n",
       "      <th>0</th>\n",
       "      <td>0.0</td>\n",
       "      <td>1.0</td>\n",
       "      <td>0.0</td>\n",
       "      <td>0.0</td>\n",
       "      <td>0.0</td>\n",
       "      <td>0.0</td>\n",
       "      <td>0.0</td>\n",
       "      <td>0.0</td>\n",
       "      <td>1.0</td>\n",
       "      <td>0.0</td>\n",
       "      <td>1.0</td>\n",
       "      <td>0.0</td>\n",
       "      <td>35431.0</td>\n",
       "    </tr>\n",
       "    <tr>\n",
       "      <th>1</th>\n",
       "      <td>1.0</td>\n",
       "      <td>0.0</td>\n",
       "      <td>0.0</td>\n",
       "      <td>0.0</td>\n",
       "      <td>0.0</td>\n",
       "      <td>1.0</td>\n",
       "      <td>0.0</td>\n",
       "      <td>0.0</td>\n",
       "      <td>0.0</td>\n",
       "      <td>0.0</td>\n",
       "      <td>0.0</td>\n",
       "      <td>1.0</td>\n",
       "      <td>192714.0</td>\n",
       "    </tr>\n",
       "    <tr>\n",
       "      <th>2</th>\n",
       "      <td>0.0</td>\n",
       "      <td>1.0</td>\n",
       "      <td>0.0</td>\n",
       "      <td>0.0</td>\n",
       "      <td>0.0</td>\n",
       "      <td>0.0</td>\n",
       "      <td>0.0</td>\n",
       "      <td>0.0</td>\n",
       "      <td>1.0</td>\n",
       "      <td>0.0</td>\n",
       "      <td>1.0</td>\n",
       "      <td>0.0</td>\n",
       "      <td>84714.0</td>\n",
       "    </tr>\n",
       "    <tr>\n",
       "      <th>3</th>\n",
       "      <td>0.0</td>\n",
       "      <td>0.0</td>\n",
       "      <td>0.0</td>\n",
       "      <td>1.0</td>\n",
       "      <td>0.0</td>\n",
       "      <td>0.0</td>\n",
       "      <td>0.0</td>\n",
       "      <td>0.0</td>\n",
       "      <td>1.0</td>\n",
       "      <td>0.0</td>\n",
       "      <td>1.0</td>\n",
       "      <td>0.0</td>\n",
       "      <td>154365.0</td>\n",
       "    </tr>\n",
       "    <tr>\n",
       "      <th>4</th>\n",
       "      <td>0.0</td>\n",
       "      <td>0.0</td>\n",
       "      <td>1.0</td>\n",
       "      <td>0.0</td>\n",
       "      <td>0.0</td>\n",
       "      <td>1.0</td>\n",
       "      <td>0.0</td>\n",
       "      <td>0.0</td>\n",
       "      <td>0.0</td>\n",
       "      <td>1.0</td>\n",
       "      <td>0.0</td>\n",
       "      <td>0.0</td>\n",
       "      <td>181577.0</td>\n",
       "    </tr>\n",
       "  </tbody>\n",
       "</table>\n",
       "</div>"
      ],
      "text/plain": [
       "     0    1    2    3    4    5    6    7    8    9   10   11        12\n",
       "0  0.0  1.0  0.0  0.0  0.0  0.0  0.0  0.0  1.0  0.0  1.0  0.0   35431.0\n",
       "1  1.0  0.0  0.0  0.0  0.0  1.0  0.0  0.0  0.0  0.0  0.0  1.0  192714.0\n",
       "2  0.0  1.0  0.0  0.0  0.0  0.0  0.0  0.0  1.0  0.0  1.0  0.0   84714.0\n",
       "3  0.0  0.0  0.0  1.0  0.0  0.0  0.0  0.0  1.0  0.0  1.0  0.0  154365.0\n",
       "4  0.0  0.0  1.0  0.0  0.0  1.0  0.0  0.0  0.0  1.0  0.0  0.0  181577.0"
      ]
     },
     "execution_count": 26,
     "metadata": {},
     "output_type": "execute_result"
    }
   ],
   "source": [
    "pd.DataFrame(transformed_X).head()"
   ]
  },
  {
   "cell_type": "markdown",
   "metadata": {},
   "source": [
    "## What is OneHotEncoder"
   ]
  },
  {
   "cell_type": "markdown",
   "metadata": {},
   "source": [
    "<img src=\"Screenshot/Screenshot (2).png\" >"
   ]
  },
  {
   "cell_type": "markdown",
   "metadata": {},
   "source": [
    "### One hot encoder takes all the values in a category and assigns one only to the attribute that is true and the rest are zeros"
   ]
  },
  {
   "cell_type": "code",
   "execution_count": 27,
   "metadata": {},
   "outputs": [],
   "source": [
    "# Another way to encode but this one cant convert numbers into zeros and ones like doors column wont get encoded\n",
    "dummies = pd.get_dummies(car_sales_extended[[\"Make\",\"Colour\",\"Doors\"]])"
   ]
  },
  {
   "cell_type": "code",
   "execution_count": 28,
   "metadata": {},
   "outputs": [
    {
     "data": {
      "text/html": [
       "<div>\n",
       "<style scoped>\n",
       "    .dataframe tbody tr th:only-of-type {\n",
       "        vertical-align: middle;\n",
       "    }\n",
       "\n",
       "    .dataframe tbody tr th {\n",
       "        vertical-align: top;\n",
       "    }\n",
       "\n",
       "    .dataframe thead th {\n",
       "        text-align: right;\n",
       "    }\n",
       "</style>\n",
       "<table border=\"1\" class=\"dataframe\">\n",
       "  <thead>\n",
       "    <tr style=\"text-align: right;\">\n",
       "      <th></th>\n",
       "      <th>Doors</th>\n",
       "      <th>Make_BMW</th>\n",
       "      <th>Make_Honda</th>\n",
       "      <th>Make_Nissan</th>\n",
       "      <th>Make_Toyota</th>\n",
       "      <th>Colour_Black</th>\n",
       "      <th>Colour_Blue</th>\n",
       "      <th>Colour_Green</th>\n",
       "      <th>Colour_Red</th>\n",
       "      <th>Colour_White</th>\n",
       "    </tr>\n",
       "  </thead>\n",
       "  <tbody>\n",
       "    <tr>\n",
       "      <th>0</th>\n",
       "      <td>4</td>\n",
       "      <td>0</td>\n",
       "      <td>1</td>\n",
       "      <td>0</td>\n",
       "      <td>0</td>\n",
       "      <td>0</td>\n",
       "      <td>0</td>\n",
       "      <td>0</td>\n",
       "      <td>0</td>\n",
       "      <td>1</td>\n",
       "    </tr>\n",
       "    <tr>\n",
       "      <th>1</th>\n",
       "      <td>5</td>\n",
       "      <td>1</td>\n",
       "      <td>0</td>\n",
       "      <td>0</td>\n",
       "      <td>0</td>\n",
       "      <td>0</td>\n",
       "      <td>1</td>\n",
       "      <td>0</td>\n",
       "      <td>0</td>\n",
       "      <td>0</td>\n",
       "    </tr>\n",
       "    <tr>\n",
       "      <th>2</th>\n",
       "      <td>4</td>\n",
       "      <td>0</td>\n",
       "      <td>1</td>\n",
       "      <td>0</td>\n",
       "      <td>0</td>\n",
       "      <td>0</td>\n",
       "      <td>0</td>\n",
       "      <td>0</td>\n",
       "      <td>0</td>\n",
       "      <td>1</td>\n",
       "    </tr>\n",
       "    <tr>\n",
       "      <th>3</th>\n",
       "      <td>4</td>\n",
       "      <td>0</td>\n",
       "      <td>0</td>\n",
       "      <td>0</td>\n",
       "      <td>1</td>\n",
       "      <td>0</td>\n",
       "      <td>0</td>\n",
       "      <td>0</td>\n",
       "      <td>0</td>\n",
       "      <td>1</td>\n",
       "    </tr>\n",
       "    <tr>\n",
       "      <th>4</th>\n",
       "      <td>3</td>\n",
       "      <td>0</td>\n",
       "      <td>0</td>\n",
       "      <td>1</td>\n",
       "      <td>0</td>\n",
       "      <td>0</td>\n",
       "      <td>1</td>\n",
       "      <td>0</td>\n",
       "      <td>0</td>\n",
       "      <td>0</td>\n",
       "    </tr>\n",
       "    <tr>\n",
       "      <th>...</th>\n",
       "      <td>...</td>\n",
       "      <td>...</td>\n",
       "      <td>...</td>\n",
       "      <td>...</td>\n",
       "      <td>...</td>\n",
       "      <td>...</td>\n",
       "      <td>...</td>\n",
       "      <td>...</td>\n",
       "      <td>...</td>\n",
       "      <td>...</td>\n",
       "    </tr>\n",
       "    <tr>\n",
       "      <th>995</th>\n",
       "      <td>4</td>\n",
       "      <td>0</td>\n",
       "      <td>0</td>\n",
       "      <td>0</td>\n",
       "      <td>1</td>\n",
       "      <td>1</td>\n",
       "      <td>0</td>\n",
       "      <td>0</td>\n",
       "      <td>0</td>\n",
       "      <td>0</td>\n",
       "    </tr>\n",
       "    <tr>\n",
       "      <th>996</th>\n",
       "      <td>3</td>\n",
       "      <td>0</td>\n",
       "      <td>0</td>\n",
       "      <td>1</td>\n",
       "      <td>0</td>\n",
       "      <td>0</td>\n",
       "      <td>0</td>\n",
       "      <td>0</td>\n",
       "      <td>0</td>\n",
       "      <td>1</td>\n",
       "    </tr>\n",
       "    <tr>\n",
       "      <th>997</th>\n",
       "      <td>4</td>\n",
       "      <td>0</td>\n",
       "      <td>0</td>\n",
       "      <td>1</td>\n",
       "      <td>0</td>\n",
       "      <td>0</td>\n",
       "      <td>1</td>\n",
       "      <td>0</td>\n",
       "      <td>0</td>\n",
       "      <td>0</td>\n",
       "    </tr>\n",
       "    <tr>\n",
       "      <th>998</th>\n",
       "      <td>4</td>\n",
       "      <td>0</td>\n",
       "      <td>1</td>\n",
       "      <td>0</td>\n",
       "      <td>0</td>\n",
       "      <td>0</td>\n",
       "      <td>0</td>\n",
       "      <td>0</td>\n",
       "      <td>0</td>\n",
       "      <td>1</td>\n",
       "    </tr>\n",
       "    <tr>\n",
       "      <th>999</th>\n",
       "      <td>4</td>\n",
       "      <td>0</td>\n",
       "      <td>0</td>\n",
       "      <td>0</td>\n",
       "      <td>1</td>\n",
       "      <td>0</td>\n",
       "      <td>1</td>\n",
       "      <td>0</td>\n",
       "      <td>0</td>\n",
       "      <td>0</td>\n",
       "    </tr>\n",
       "  </tbody>\n",
       "</table>\n",
       "<p>1000 rows × 10 columns</p>\n",
       "</div>"
      ],
      "text/plain": [
       "     Doors  Make_BMW  Make_Honda  Make_Nissan  Make_Toyota  Colour_Black  \\\n",
       "0        4         0           1            0            0             0   \n",
       "1        5         1           0            0            0             0   \n",
       "2        4         0           1            0            0             0   \n",
       "3        4         0           0            0            1             0   \n",
       "4        3         0           0            1            0             0   \n",
       "..     ...       ...         ...          ...          ...           ...   \n",
       "995      4         0           0            0            1             1   \n",
       "996      3         0           0            1            0             0   \n",
       "997      4         0           0            1            0             0   \n",
       "998      4         0           1            0            0             0   \n",
       "999      4         0           0            0            1             0   \n",
       "\n",
       "     Colour_Blue  Colour_Green  Colour_Red  Colour_White  \n",
       "0              0             0           0             1  \n",
       "1              1             0           0             0  \n",
       "2              0             0           0             1  \n",
       "3              0             0           0             1  \n",
       "4              1             0           0             0  \n",
       "..           ...           ...         ...           ...  \n",
       "995            0             0           0             0  \n",
       "996            0             0           0             1  \n",
       "997            1             0           0             0  \n",
       "998            0             0           0             1  \n",
       "999            1             0           0             0  \n",
       "\n",
       "[1000 rows x 10 columns]"
      ]
     },
     "execution_count": 28,
     "metadata": {},
     "output_type": "execute_result"
    }
   ],
   "source": [
    "dummies"
   ]
  },
  {
   "cell_type": "code",
   "execution_count": 29,
   "metadata": {},
   "outputs": [],
   "source": [
    "# To produce same test results\n",
    "np.random.seed(7)\n",
    "X_train,X_test,Y_train,Y_test = train_test_split(transformed_X,Y,test_size=.2)"
   ]
  },
  {
   "cell_type": "code",
   "execution_count": 30,
   "metadata": {},
   "outputs": [
    {
     "data": {
      "text/plain": [
       "0.3362899219458084"
      ]
     },
     "execution_count": 30,
     "metadata": {},
     "output_type": "execute_result"
    }
   ],
   "source": [
    "model.fit(X_train,Y_train)\n",
    "model.score(X_test,Y_test)"
   ]
  },
  {
   "cell_type": "markdown",
   "metadata": {},
   "source": [
    "## Option 1: Fill the missing values with pandas"
   ]
  },
  {
   "cell_type": "code",
   "execution_count": 31,
   "metadata": {},
   "outputs": [],
   "source": [
    "# imputing data"
   ]
  },
  {
   "cell_type": "code",
   "execution_count": 32,
   "metadata": {},
   "outputs": [
    {
     "data": {
      "text/html": [
       "<div>\n",
       "<style scoped>\n",
       "    .dataframe tbody tr th:only-of-type {\n",
       "        vertical-align: middle;\n",
       "    }\n",
       "\n",
       "    .dataframe tbody tr th {\n",
       "        vertical-align: top;\n",
       "    }\n",
       "\n",
       "    .dataframe thead th {\n",
       "        text-align: right;\n",
       "    }\n",
       "</style>\n",
       "<table border=\"1\" class=\"dataframe\">\n",
       "  <thead>\n",
       "    <tr style=\"text-align: right;\">\n",
       "      <th></th>\n",
       "      <th>Make</th>\n",
       "      <th>Colour</th>\n",
       "      <th>Odometer (KM)</th>\n",
       "      <th>Doors</th>\n",
       "      <th>Price</th>\n",
       "    </tr>\n",
       "  </thead>\n",
       "  <tbody>\n",
       "    <tr>\n",
       "      <th>995</th>\n",
       "      <td>Toyota</td>\n",
       "      <td>Black</td>\n",
       "      <td>35820.0</td>\n",
       "      <td>4.0</td>\n",
       "      <td>32042.0</td>\n",
       "    </tr>\n",
       "    <tr>\n",
       "      <th>996</th>\n",
       "      <td>NaN</td>\n",
       "      <td>White</td>\n",
       "      <td>155144.0</td>\n",
       "      <td>3.0</td>\n",
       "      <td>5716.0</td>\n",
       "    </tr>\n",
       "    <tr>\n",
       "      <th>997</th>\n",
       "      <td>Nissan</td>\n",
       "      <td>Blue</td>\n",
       "      <td>66604.0</td>\n",
       "      <td>4.0</td>\n",
       "      <td>31570.0</td>\n",
       "    </tr>\n",
       "    <tr>\n",
       "      <th>998</th>\n",
       "      <td>Honda</td>\n",
       "      <td>White</td>\n",
       "      <td>215883.0</td>\n",
       "      <td>4.0</td>\n",
       "      <td>4001.0</td>\n",
       "    </tr>\n",
       "    <tr>\n",
       "      <th>999</th>\n",
       "      <td>Toyota</td>\n",
       "      <td>Blue</td>\n",
       "      <td>248360.0</td>\n",
       "      <td>4.0</td>\n",
       "      <td>12732.0</td>\n",
       "    </tr>\n",
       "  </tbody>\n",
       "</table>\n",
       "</div>"
      ],
      "text/plain": [
       "       Make Colour  Odometer (KM)  Doors    Price\n",
       "995  Toyota  Black        35820.0    4.0  32042.0\n",
       "996     NaN  White       155144.0    3.0   5716.0\n",
       "997  Nissan   Blue        66604.0    4.0  31570.0\n",
       "998   Honda  White       215883.0    4.0   4001.0\n",
       "999  Toyota   Blue       248360.0    4.0  12732.0"
      ]
     },
     "execution_count": 32,
     "metadata": {},
     "output_type": "execute_result"
    }
   ],
   "source": [
    "car_sales_missing = pd.read_csv(\"scikit-learn-data/car-sales-extended-missing-data.csv\")\n",
    "car_sales_missing.tail()"
   ]
  },
  {
   "cell_type": "code",
   "execution_count": 33,
   "metadata": {},
   "outputs": [
    {
     "data": {
      "text/plain": [
       "Make             49\n",
       "Colour           50\n",
       "Odometer (KM)    50\n",
       "Doors            50\n",
       "Price            50\n",
       "dtype: int64"
      ]
     },
     "execution_count": 33,
     "metadata": {},
     "output_type": "execute_result"
    }
   ],
   "source": [
    "# total missing values\n",
    "car_sales_missing.isna().sum()"
   ]
  },
  {
   "cell_type": "code",
   "execution_count": 34,
   "metadata": {},
   "outputs": [],
   "source": [
    "# You can not convert a dataset that has missing values into numbers since it does not know what to do with them\n",
    "car_sales_missing[\"Make\"].fillna(\"Missing\",inplace=True)\n",
    "car_sales_missing[\"Colour\"].fillna(\"Missing\",inplace=True)\n",
    "car_sales_missing[\"Odometer (KM)\"].fillna(car_sales_missing[\"Odometer (KM)\"].mean(),inplace=True)\n",
    "car_sales_missing[\"Doors\"].fillna(4,inplace=True)"
   ]
  },
  {
   "cell_type": "code",
   "execution_count": 35,
   "metadata": {},
   "outputs": [
    {
     "data": {
      "text/plain": [
       "Make              0\n",
       "Colour            0\n",
       "Odometer (KM)     0\n",
       "Doors             0\n",
       "Price            50\n",
       "dtype: int64"
      ]
     },
     "execution_count": 35,
     "metadata": {},
     "output_type": "execute_result"
    }
   ],
   "source": [
    "# Lets chech again how many values are missing\n",
    "car_sales_missing.isna().sum()"
   ]
  },
  {
   "cell_type": "code",
   "execution_count": 36,
   "metadata": {},
   "outputs": [
    {
     "data": {
      "text/plain": [
       "1000"
      ]
     },
     "execution_count": 36,
     "metadata": {},
     "output_type": "execute_result"
    }
   ],
   "source": [
    "len(car_sales_missing)"
   ]
  },
  {
   "cell_type": "code",
   "execution_count": 37,
   "metadata": {},
   "outputs": [
    {
     "data": {
      "text/html": [
       "<div>\n",
       "<style scoped>\n",
       "    .dataframe tbody tr th:only-of-type {\n",
       "        vertical-align: middle;\n",
       "    }\n",
       "\n",
       "    .dataframe tbody tr th {\n",
       "        vertical-align: top;\n",
       "    }\n",
       "\n",
       "    .dataframe thead th {\n",
       "        text-align: right;\n",
       "    }\n",
       "</style>\n",
       "<table border=\"1\" class=\"dataframe\">\n",
       "  <thead>\n",
       "    <tr style=\"text-align: right;\">\n",
       "      <th></th>\n",
       "      <th>Make</th>\n",
       "      <th>Colour</th>\n",
       "      <th>Odometer (KM)</th>\n",
       "      <th>Doors</th>\n",
       "      <th>Price</th>\n",
       "    </tr>\n",
       "  </thead>\n",
       "  <tbody>\n",
       "    <tr>\n",
       "      <th>0</th>\n",
       "      <td>Honda</td>\n",
       "      <td>White</td>\n",
       "      <td>35431.0</td>\n",
       "      <td>4.0</td>\n",
       "      <td>15323.0</td>\n",
       "    </tr>\n",
       "    <tr>\n",
       "      <th>1</th>\n",
       "      <td>BMW</td>\n",
       "      <td>Blue</td>\n",
       "      <td>192714.0</td>\n",
       "      <td>5.0</td>\n",
       "      <td>19943.0</td>\n",
       "    </tr>\n",
       "    <tr>\n",
       "      <th>2</th>\n",
       "      <td>Honda</td>\n",
       "      <td>White</td>\n",
       "      <td>84714.0</td>\n",
       "      <td>4.0</td>\n",
       "      <td>28343.0</td>\n",
       "    </tr>\n",
       "    <tr>\n",
       "      <th>3</th>\n",
       "      <td>Toyota</td>\n",
       "      <td>White</td>\n",
       "      <td>154365.0</td>\n",
       "      <td>4.0</td>\n",
       "      <td>13434.0</td>\n",
       "    </tr>\n",
       "    <tr>\n",
       "      <th>4</th>\n",
       "      <td>Nissan</td>\n",
       "      <td>Blue</td>\n",
       "      <td>181577.0</td>\n",
       "      <td>3.0</td>\n",
       "      <td>14043.0</td>\n",
       "    </tr>\n",
       "    <tr>\n",
       "      <th>...</th>\n",
       "      <td>...</td>\n",
       "      <td>...</td>\n",
       "      <td>...</td>\n",
       "      <td>...</td>\n",
       "      <td>...</td>\n",
       "    </tr>\n",
       "    <tr>\n",
       "      <th>995</th>\n",
       "      <td>Toyota</td>\n",
       "      <td>Black</td>\n",
       "      <td>35820.0</td>\n",
       "      <td>4.0</td>\n",
       "      <td>32042.0</td>\n",
       "    </tr>\n",
       "    <tr>\n",
       "      <th>996</th>\n",
       "      <td>Missing</td>\n",
       "      <td>White</td>\n",
       "      <td>155144.0</td>\n",
       "      <td>3.0</td>\n",
       "      <td>5716.0</td>\n",
       "    </tr>\n",
       "    <tr>\n",
       "      <th>997</th>\n",
       "      <td>Nissan</td>\n",
       "      <td>Blue</td>\n",
       "      <td>66604.0</td>\n",
       "      <td>4.0</td>\n",
       "      <td>31570.0</td>\n",
       "    </tr>\n",
       "    <tr>\n",
       "      <th>998</th>\n",
       "      <td>Honda</td>\n",
       "      <td>White</td>\n",
       "      <td>215883.0</td>\n",
       "      <td>4.0</td>\n",
       "      <td>4001.0</td>\n",
       "    </tr>\n",
       "    <tr>\n",
       "      <th>999</th>\n",
       "      <td>Toyota</td>\n",
       "      <td>Blue</td>\n",
       "      <td>248360.0</td>\n",
       "      <td>4.0</td>\n",
       "      <td>12732.0</td>\n",
       "    </tr>\n",
       "  </tbody>\n",
       "</table>\n",
       "<p>950 rows × 5 columns</p>\n",
       "</div>"
      ],
      "text/plain": [
       "        Make Colour  Odometer (KM)  Doors    Price\n",
       "0      Honda  White        35431.0    4.0  15323.0\n",
       "1        BMW   Blue       192714.0    5.0  19943.0\n",
       "2      Honda  White        84714.0    4.0  28343.0\n",
       "3     Toyota  White       154365.0    4.0  13434.0\n",
       "4     Nissan   Blue       181577.0    3.0  14043.0\n",
       "..       ...    ...            ...    ...      ...\n",
       "995   Toyota  Black        35820.0    4.0  32042.0\n",
       "996  Missing  White       155144.0    3.0   5716.0\n",
       "997   Nissan   Blue        66604.0    4.0  31570.0\n",
       "998    Honda  White       215883.0    4.0   4001.0\n",
       "999   Toyota   Blue       248360.0    4.0  12732.0\n",
       "\n",
       "[950 rows x 5 columns]"
      ]
     },
     "execution_count": 37,
     "metadata": {},
     "output_type": "execute_result"
    }
   ],
   "source": [
    "# we will drop those rows that does not have a price since its difficult to predict or cant take mean value\n",
    "car_sales_missing.dropna(inplace=True)\n",
    "\n",
    "len(car_sales_missing)\n",
    "car_sales_missing"
   ]
  },
  {
   "cell_type": "code",
   "execution_count": 38,
   "metadata": {},
   "outputs": [],
   "source": [
    "# spliting data to train and test arrays before enconding them\n",
    "X = car_sales_missing.drop(\"Price\",axis=1)\n",
    "Y=car_sales_missing[\"Price\"]\n",
    "X_train,X_test,Y_train,Y_test = train_test_split(X,Y,test_size=0.2)"
   ]
  },
  {
   "cell_type": "code",
   "execution_count": 39,
   "metadata": {},
   "outputs": [],
   "source": [
    "One_hot = OneHotEncoder()\n",
    "categorical_data = [\"Make\",\"Colour\",\"Doors\"]\n",
    "transformer = ColumnTransformer([(\"Onehot\",One_hot,categorical_data)],remainder=\"passthrough\")\n",
    "transformed_car_sales_trained_data_set = transformer.fit_transform(X_train)\n",
    "transformed_car_sales_test_data_set = transformer.transform(X_test)"
   ]
  },
  {
   "cell_type": "code",
   "execution_count": 40,
   "metadata": {},
   "outputs": [
    {
     "data": {
      "text/plain": [
       "0.1845551794259691"
      ]
     },
     "execution_count": 40,
     "metadata": {},
     "output_type": "execute_result"
    }
   ],
   "source": [
    "model.fit(transformed_car_sales_trained_data_set,Y_train)\n",
    "\n",
    "model.score(transformed_car_sales_test_data_set,Y_test)"
   ]
  },
  {
   "cell_type": "markdown",
   "metadata": {},
   "source": [
    "## Imputing with scikitlearn"
   ]
  },
  {
   "cell_type": "code",
   "execution_count": 41,
   "metadata": {},
   "outputs": [
    {
     "data": {
      "text/plain": [
       "Make             49\n",
       "Colour           50\n",
       "Odometer (KM)    50\n",
       "Doors            50\n",
       "Price            50\n",
       "dtype: int64"
      ]
     },
     "execution_count": 41,
     "metadata": {},
     "output_type": "execute_result"
    }
   ],
   "source": [
    "# reading car sales extended again \n",
    "car_sales_missing = pd.read_csv(\"scikit-learn-data/car-sales-extended-missing-data.csv\")\n",
    "\n",
    "# viewing the missing values\n",
    "car_sales_missing.isna().sum()"
   ]
  },
  {
   "cell_type": "code",
   "execution_count": 42,
   "metadata": {},
   "outputs": [
    {
     "data": {
      "text/plain": [
       "Make             47\n",
       "Colour           46\n",
       "Odometer (KM)    48\n",
       "Doors            47\n",
       "Price             0\n",
       "dtype: int64"
      ]
     },
     "execution_count": 42,
     "metadata": {},
     "output_type": "execute_result"
    }
   ],
   "source": [
    "# Droping rows with missing label namely price\n",
    "car_sales_missing.dropna(subset=[\"Price\"],inplace=True)\n",
    "car_sales_missing.isna().sum()"
   ]
  },
  {
   "cell_type": "code",
   "execution_count": 43,
   "metadata": {},
   "outputs": [],
   "source": [
    "X = car_sales_missing.drop(\"Price\",axis=1)\n",
    "Y = car_sales_missing[\"Price\"]\n",
    "# Spliting data\n",
    "from sklearn.model_selection import train_test_split\n",
    "X_train,X_test,Y_train,Y_test = train_test_split(X,Y,test_size=0.2)"
   ]
  },
  {
   "cell_type": "code",
   "execution_count": 44,
   "metadata": {},
   "outputs": [],
   "source": [
    "from sklearn.compose import ColumnTransformer\n",
    "from sklearn.impute import SimpleImputer\n",
    "\n",
    "# Defining the columns\n",
    "cat_data = [\"Make\",\"Colour\"]\n",
    "num_data = [\"Odometer (KM)\"]\n",
    "doors_data = [\"Doors\"]\n",
    "\n",
    "# Defining what to fill with\n",
    "cat_imputer = SimpleImputer(strategy=\"constant\",fill_value=\"Missing\") \n",
    "num_imputer = SimpleImputer(strategy=\"mean\")\n",
    "doors_imputer = SimpleImputer(strategy=\"constant\",fill_value=4)\n",
    "\n",
    "# making an imputer that can fill columns with the defined values\n",
    "imputer = ColumnTransformer([(\"cat_imputer\",cat_imputer,cat_data),\n",
    "                             (\"num_imputer\",num_imputer,num_data),\n",
    "                             (\"Doors_imputer\",doors_imputer,doors_data)])\n"
   ]
  },
  {
   "cell_type": "code",
   "execution_count": 45,
   "metadata": {},
   "outputs": [
    {
     "data": {
      "text/plain": [
       "array([['Toyota', 'White', 202435.0, 4.0],\n",
       "       ['Honda', 'Red', 61504.0, 4.0],\n",
       "       ['BMW', 'Black', 178164.0, 3.0],\n",
       "       ...,\n",
       "       ['Toyota', 'White', 230943.0, 4.0],\n",
       "       ['Honda', 'Red', 47933.0, 4.0],\n",
       "       ['Nissan', 'White', 67991.0, 3.0]], dtype=object)"
      ]
     },
     "execution_count": 45,
     "metadata": {},
     "output_type": "execute_result"
    }
   ],
   "source": [
    "# fitting and transforming my train data on the imputer\n",
    "imputed_trained_X = imputer.fit_transform(X_train)\n",
    "\n",
    "# transforming the test data\n",
    "imputed_tested_x = imputer.transform(X_test)\n",
    "\n",
    "# checking imputed_trained_X\n",
    "imputed_trained_X"
   ]
  },
  {
   "cell_type": "code",
   "execution_count": 46,
   "metadata": {},
   "outputs": [
    {
     "data": {
      "text/html": [
       "<div>\n",
       "<style scoped>\n",
       "    .dataframe tbody tr th:only-of-type {\n",
       "        vertical-align: middle;\n",
       "    }\n",
       "\n",
       "    .dataframe tbody tr th {\n",
       "        vertical-align: top;\n",
       "    }\n",
       "\n",
       "    .dataframe thead th {\n",
       "        text-align: right;\n",
       "    }\n",
       "</style>\n",
       "<table border=\"1\" class=\"dataframe\">\n",
       "  <thead>\n",
       "    <tr style=\"text-align: right;\">\n",
       "      <th></th>\n",
       "      <th>Make</th>\n",
       "      <th>Colour</th>\n",
       "      <th>Odometer (KM)</th>\n",
       "      <th>Doors</th>\n",
       "    </tr>\n",
       "  </thead>\n",
       "  <tbody>\n",
       "    <tr>\n",
       "      <th>0</th>\n",
       "      <td>Toyota</td>\n",
       "      <td>White</td>\n",
       "      <td>202435</td>\n",
       "      <td>4</td>\n",
       "    </tr>\n",
       "    <tr>\n",
       "      <th>1</th>\n",
       "      <td>Honda</td>\n",
       "      <td>Red</td>\n",
       "      <td>61504</td>\n",
       "      <td>4</td>\n",
       "    </tr>\n",
       "    <tr>\n",
       "      <th>2</th>\n",
       "      <td>BMW</td>\n",
       "      <td>Black</td>\n",
       "      <td>178164</td>\n",
       "      <td>3</td>\n",
       "    </tr>\n",
       "    <tr>\n",
       "      <th>3</th>\n",
       "      <td>Honda</td>\n",
       "      <td>Green</td>\n",
       "      <td>46085</td>\n",
       "      <td>4</td>\n",
       "    </tr>\n",
       "    <tr>\n",
       "      <th>4</th>\n",
       "      <td>Toyota</td>\n",
       "      <td>Red</td>\n",
       "      <td>162665</td>\n",
       "      <td>4</td>\n",
       "    </tr>\n",
       "    <tr>\n",
       "      <th>...</th>\n",
       "      <td>...</td>\n",
       "      <td>...</td>\n",
       "      <td>...</td>\n",
       "      <td>...</td>\n",
       "    </tr>\n",
       "    <tr>\n",
       "      <th>755</th>\n",
       "      <td>Toyota</td>\n",
       "      <td>White</td>\n",
       "      <td>216257</td>\n",
       "      <td>4</td>\n",
       "    </tr>\n",
       "    <tr>\n",
       "      <th>756</th>\n",
       "      <td>Toyota</td>\n",
       "      <td>Blue</td>\n",
       "      <td>51155</td>\n",
       "      <td>4</td>\n",
       "    </tr>\n",
       "    <tr>\n",
       "      <th>757</th>\n",
       "      <td>Toyota</td>\n",
       "      <td>White</td>\n",
       "      <td>230943</td>\n",
       "      <td>4</td>\n",
       "    </tr>\n",
       "    <tr>\n",
       "      <th>758</th>\n",
       "      <td>Honda</td>\n",
       "      <td>Red</td>\n",
       "      <td>47933</td>\n",
       "      <td>4</td>\n",
       "    </tr>\n",
       "    <tr>\n",
       "      <th>759</th>\n",
       "      <td>Nissan</td>\n",
       "      <td>White</td>\n",
       "      <td>67991</td>\n",
       "      <td>3</td>\n",
       "    </tr>\n",
       "  </tbody>\n",
       "</table>\n",
       "<p>760 rows × 4 columns</p>\n",
       "</div>"
      ],
      "text/plain": [
       "       Make Colour Odometer (KM) Doors\n",
       "0    Toyota  White        202435     4\n",
       "1     Honda    Red         61504     4\n",
       "2       BMW  Black        178164     3\n",
       "3     Honda  Green         46085     4\n",
       "4    Toyota    Red        162665     4\n",
       "..      ...    ...           ...   ...\n",
       "755  Toyota  White        216257     4\n",
       "756  Toyota   Blue         51155     4\n",
       "757  Toyota  White        230943     4\n",
       "758   Honda    Red         47933     4\n",
       "759  Nissan  White         67991     3\n",
       "\n",
       "[760 rows x 4 columns]"
      ]
     },
     "execution_count": 46,
     "metadata": {},
     "output_type": "execute_result"
    }
   ],
   "source": [
    "trained_X_dataframe = pd.DataFrame(imputed_trained_X,columns=[\"Make\",\"Colour\",\"Odometer (KM)\",\"Doors\"])\n",
    "trained_X_dataframe"
   ]
  },
  {
   "cell_type": "code",
   "execution_count": 47,
   "metadata": {},
   "outputs": [
    {
     "data": {
      "text/html": [
       "<div>\n",
       "<style scoped>\n",
       "    .dataframe tbody tr th:only-of-type {\n",
       "        vertical-align: middle;\n",
       "    }\n",
       "\n",
       "    .dataframe tbody tr th {\n",
       "        vertical-align: top;\n",
       "    }\n",
       "\n",
       "    .dataframe thead th {\n",
       "        text-align: right;\n",
       "    }\n",
       "</style>\n",
       "<table border=\"1\" class=\"dataframe\">\n",
       "  <thead>\n",
       "    <tr style=\"text-align: right;\">\n",
       "      <th></th>\n",
       "      <th>Make</th>\n",
       "      <th>Colour</th>\n",
       "      <th>Odometer (KM)</th>\n",
       "      <th>Doors</th>\n",
       "    </tr>\n",
       "  </thead>\n",
       "  <tbody>\n",
       "    <tr>\n",
       "      <th>0</th>\n",
       "      <td>Toyota</td>\n",
       "      <td>Blue</td>\n",
       "      <td>39311</td>\n",
       "      <td>4</td>\n",
       "    </tr>\n",
       "    <tr>\n",
       "      <th>1</th>\n",
       "      <td>Toyota</td>\n",
       "      <td>Blue</td>\n",
       "      <td>207048</td>\n",
       "      <td>4</td>\n",
       "    </tr>\n",
       "    <tr>\n",
       "      <th>2</th>\n",
       "      <td>Honda</td>\n",
       "      <td>Blue</td>\n",
       "      <td>40635</td>\n",
       "      <td>4</td>\n",
       "    </tr>\n",
       "    <tr>\n",
       "      <th>3</th>\n",
       "      <td>Toyota</td>\n",
       "      <td>White</td>\n",
       "      <td>119439</td>\n",
       "      <td>4</td>\n",
       "    </tr>\n",
       "    <tr>\n",
       "      <th>4</th>\n",
       "      <td>Nissan</td>\n",
       "      <td>White</td>\n",
       "      <td>215130</td>\n",
       "      <td>4</td>\n",
       "    </tr>\n",
       "    <tr>\n",
       "      <th>...</th>\n",
       "      <td>...</td>\n",
       "      <td>...</td>\n",
       "      <td>...</td>\n",
       "      <td>...</td>\n",
       "    </tr>\n",
       "    <tr>\n",
       "      <th>185</th>\n",
       "      <td>Nissan</td>\n",
       "      <td>Black</td>\n",
       "      <td>162523</td>\n",
       "      <td>4</td>\n",
       "    </tr>\n",
       "    <tr>\n",
       "      <th>186</th>\n",
       "      <td>Toyota</td>\n",
       "      <td>Missing</td>\n",
       "      <td>204213</td>\n",
       "      <td>4</td>\n",
       "    </tr>\n",
       "    <tr>\n",
       "      <th>187</th>\n",
       "      <td>Honda</td>\n",
       "      <td>White</td>\n",
       "      <td>74192</td>\n",
       "      <td>4</td>\n",
       "    </tr>\n",
       "    <tr>\n",
       "      <th>188</th>\n",
       "      <td>Toyota</td>\n",
       "      <td>Blue</td>\n",
       "      <td>215955</td>\n",
       "      <td>4</td>\n",
       "    </tr>\n",
       "    <tr>\n",
       "      <th>189</th>\n",
       "      <td>Honda</td>\n",
       "      <td>Blue</td>\n",
       "      <td>50475</td>\n",
       "      <td>4</td>\n",
       "    </tr>\n",
       "  </tbody>\n",
       "</table>\n",
       "<p>190 rows × 4 columns</p>\n",
       "</div>"
      ],
      "text/plain": [
       "       Make   Colour Odometer (KM) Doors\n",
       "0    Toyota     Blue         39311     4\n",
       "1    Toyota     Blue        207048     4\n",
       "2     Honda     Blue         40635     4\n",
       "3    Toyota    White        119439     4\n",
       "4    Nissan    White        215130     4\n",
       "..      ...      ...           ...   ...\n",
       "185  Nissan    Black        162523     4\n",
       "186  Toyota  Missing        204213     4\n",
       "187   Honda    White         74192     4\n",
       "188  Toyota     Blue        215955     4\n",
       "189   Honda     Blue         50475     4\n",
       "\n",
       "[190 rows x 4 columns]"
      ]
     },
     "execution_count": 47,
     "metadata": {},
     "output_type": "execute_result"
    }
   ],
   "source": [
    "tested_X_dataframe = pd.DataFrame(imputed_tested_x,columns=[\"Make\",\"Colour\",\"Odometer (KM)\",\"Doors\"])\n",
    "tested_X_dataframe"
   ]
  },
  {
   "cell_type": "code",
   "execution_count": 48,
   "metadata": {},
   "outputs": [
    {
     "data": {
      "text/plain": [
       "Make             0\n",
       "Colour           0\n",
       "Odometer (KM)    0\n",
       "Doors            0\n",
       "dtype: int64"
      ]
     },
     "execution_count": 48,
     "metadata": {},
     "output_type": "execute_result"
    }
   ],
   "source": [
    "trained_X_dataframe.isna().sum()"
   ]
  },
  {
   "cell_type": "code",
   "execution_count": 49,
   "metadata": {},
   "outputs": [],
   "source": [
    "from sklearn.preprocessing import OneHotEncoder\n",
    "\n",
    "Onehot = OneHotEncoder()\n",
    "categorical_features = [\"Make\",\"Colour\",\"Doors\"]\n",
    "# Doors is a category because there are 856 doors that are of category 4 and so on.\n",
    "transformer = ColumnTransformer([(\n",
    "        \"one_hot\",Onehot,\n",
    "        categorical_features)],remainder=\"passthrough\")\n",
    "# Columntransformer requires the encoder that we want to use and the categorical features that we are converting into numbers\n",
    "# Remainder passthrough means passthrough all other features that are not defined in categorical features\n",
    "# \"one_hot is just a name that we have given to Onehot\"\n",
    "\n",
    "transformed_X_trained = transformer.fit_transform(trained_X_dataframe)\n",
    "transformed_X_tested = transformer.transform(tested_X_dataframe)"
   ]
  },
  {
   "cell_type": "code",
   "execution_count": 50,
   "metadata": {},
   "outputs": [
    {
     "data": {
      "text/plain": [
       "<760x15 sparse matrix of type '<class 'numpy.float64'>'\n",
       "\twith 3040 stored elements in Compressed Sparse Row format>"
      ]
     },
     "execution_count": 50,
     "metadata": {},
     "output_type": "execute_result"
    }
   ],
   "source": [
    "transformed_X_trained"
   ]
  },
  {
   "cell_type": "code",
   "execution_count": 51,
   "metadata": {},
   "outputs": [
    {
     "data": {
      "text/plain": [
       "0.2201043226487468"
      ]
     },
     "execution_count": 51,
     "metadata": {},
     "output_type": "execute_result"
    }
   ],
   "source": [
    "# Choosing a model\n",
    "np.random.seed(9)\n",
    "from sklearn.ensemble import RandomForestRegressor\n",
    "model = RandomForestRegressor()\n",
    "model.fit(transformed_X_trained,Y_train)\n",
    "model.score(transformed_X_tested,Y_test)"
   ]
  },
  {
   "cell_type": "markdown",
   "metadata": {},
   "source": [
    "## Boston data set"
   ]
  },
  {
   "cell_type": "code",
   "execution_count": 52,
   "metadata": {},
   "outputs": [
    {
     "data": {
      "text/plain": [
       "{'data': array([[6.3200e-03, 1.8000e+01, 2.3100e+00, ..., 1.5300e+01, 3.9690e+02,\n",
       "         4.9800e+00],\n",
       "        [2.7310e-02, 0.0000e+00, 7.0700e+00, ..., 1.7800e+01, 3.9690e+02,\n",
       "         9.1400e+00],\n",
       "        [2.7290e-02, 0.0000e+00, 7.0700e+00, ..., 1.7800e+01, 3.9283e+02,\n",
       "         4.0300e+00],\n",
       "        ...,\n",
       "        [6.0760e-02, 0.0000e+00, 1.1930e+01, ..., 2.1000e+01, 3.9690e+02,\n",
       "         5.6400e+00],\n",
       "        [1.0959e-01, 0.0000e+00, 1.1930e+01, ..., 2.1000e+01, 3.9345e+02,\n",
       "         6.4800e+00],\n",
       "        [4.7410e-02, 0.0000e+00, 1.1930e+01, ..., 2.1000e+01, 3.9690e+02,\n",
       "         7.8800e+00]]),\n",
       " 'target': array([24. , 21.6, 34.7, 33.4, 36.2, 28.7, 22.9, 27.1, 16.5, 18.9, 15. ,\n",
       "        18.9, 21.7, 20.4, 18.2, 19.9, 23.1, 17.5, 20.2, 18.2, 13.6, 19.6,\n",
       "        15.2, 14.5, 15.6, 13.9, 16.6, 14.8, 18.4, 21. , 12.7, 14.5, 13.2,\n",
       "        13.1, 13.5, 18.9, 20. , 21. , 24.7, 30.8, 34.9, 26.6, 25.3, 24.7,\n",
       "        21.2, 19.3, 20. , 16.6, 14.4, 19.4, 19.7, 20.5, 25. , 23.4, 18.9,\n",
       "        35.4, 24.7, 31.6, 23.3, 19.6, 18.7, 16. , 22.2, 25. , 33. , 23.5,\n",
       "        19.4, 22. , 17.4, 20.9, 24.2, 21.7, 22.8, 23.4, 24.1, 21.4, 20. ,\n",
       "        20.8, 21.2, 20.3, 28. , 23.9, 24.8, 22.9, 23.9, 26.6, 22.5, 22.2,\n",
       "        23.6, 28.7, 22.6, 22. , 22.9, 25. , 20.6, 28.4, 21.4, 38.7, 43.8,\n",
       "        33.2, 27.5, 26.5, 18.6, 19.3, 20.1, 19.5, 19.5, 20.4, 19.8, 19.4,\n",
       "        21.7, 22.8, 18.8, 18.7, 18.5, 18.3, 21.2, 19.2, 20.4, 19.3, 22. ,\n",
       "        20.3, 20.5, 17.3, 18.8, 21.4, 15.7, 16.2, 18. , 14.3, 19.2, 19.6,\n",
       "        23. , 18.4, 15.6, 18.1, 17.4, 17.1, 13.3, 17.8, 14. , 14.4, 13.4,\n",
       "        15.6, 11.8, 13.8, 15.6, 14.6, 17.8, 15.4, 21.5, 19.6, 15.3, 19.4,\n",
       "        17. , 15.6, 13.1, 41.3, 24.3, 23.3, 27. , 50. , 50. , 50. , 22.7,\n",
       "        25. , 50. , 23.8, 23.8, 22.3, 17.4, 19.1, 23.1, 23.6, 22.6, 29.4,\n",
       "        23.2, 24.6, 29.9, 37.2, 39.8, 36.2, 37.9, 32.5, 26.4, 29.6, 50. ,\n",
       "        32. , 29.8, 34.9, 37. , 30.5, 36.4, 31.1, 29.1, 50. , 33.3, 30.3,\n",
       "        34.6, 34.9, 32.9, 24.1, 42.3, 48.5, 50. , 22.6, 24.4, 22.5, 24.4,\n",
       "        20. , 21.7, 19.3, 22.4, 28.1, 23.7, 25. , 23.3, 28.7, 21.5, 23. ,\n",
       "        26.7, 21.7, 27.5, 30.1, 44.8, 50. , 37.6, 31.6, 46.7, 31.5, 24.3,\n",
       "        31.7, 41.7, 48.3, 29. , 24. , 25.1, 31.5, 23.7, 23.3, 22. , 20.1,\n",
       "        22.2, 23.7, 17.6, 18.5, 24.3, 20.5, 24.5, 26.2, 24.4, 24.8, 29.6,\n",
       "        42.8, 21.9, 20.9, 44. , 50. , 36. , 30.1, 33.8, 43.1, 48.8, 31. ,\n",
       "        36.5, 22.8, 30.7, 50. , 43.5, 20.7, 21.1, 25.2, 24.4, 35.2, 32.4,\n",
       "        32. , 33.2, 33.1, 29.1, 35.1, 45.4, 35.4, 46. , 50. , 32.2, 22. ,\n",
       "        20.1, 23.2, 22.3, 24.8, 28.5, 37.3, 27.9, 23.9, 21.7, 28.6, 27.1,\n",
       "        20.3, 22.5, 29. , 24.8, 22. , 26.4, 33.1, 36.1, 28.4, 33.4, 28.2,\n",
       "        22.8, 20.3, 16.1, 22.1, 19.4, 21.6, 23.8, 16.2, 17.8, 19.8, 23.1,\n",
       "        21. , 23.8, 23.1, 20.4, 18.5, 25. , 24.6, 23. , 22.2, 19.3, 22.6,\n",
       "        19.8, 17.1, 19.4, 22.2, 20.7, 21.1, 19.5, 18.5, 20.6, 19. , 18.7,\n",
       "        32.7, 16.5, 23.9, 31.2, 17.5, 17.2, 23.1, 24.5, 26.6, 22.9, 24.1,\n",
       "        18.6, 30.1, 18.2, 20.6, 17.8, 21.7, 22.7, 22.6, 25. , 19.9, 20.8,\n",
       "        16.8, 21.9, 27.5, 21.9, 23.1, 50. , 50. , 50. , 50. , 50. , 13.8,\n",
       "        13.8, 15. , 13.9, 13.3, 13.1, 10.2, 10.4, 10.9, 11.3, 12.3,  8.8,\n",
       "         7.2, 10.5,  7.4, 10.2, 11.5, 15.1, 23.2,  9.7, 13.8, 12.7, 13.1,\n",
       "        12.5,  8.5,  5. ,  6.3,  5.6,  7.2, 12.1,  8.3,  8.5,  5. , 11.9,\n",
       "        27.9, 17.2, 27.5, 15. , 17.2, 17.9, 16.3,  7. ,  7.2,  7.5, 10.4,\n",
       "         8.8,  8.4, 16.7, 14.2, 20.8, 13.4, 11.7,  8.3, 10.2, 10.9, 11. ,\n",
       "         9.5, 14.5, 14.1, 16.1, 14.3, 11.7, 13.4,  9.6,  8.7,  8.4, 12.8,\n",
       "        10.5, 17.1, 18.4, 15.4, 10.8, 11.8, 14.9, 12.6, 14.1, 13. , 13.4,\n",
       "        15.2, 16.1, 17.8, 14.9, 14.1, 12.7, 13.5, 14.9, 20. , 16.4, 17.7,\n",
       "        19.5, 20.2, 21.4, 19.9, 19. , 19.1, 19.1, 20.1, 19.9, 19.6, 23.2,\n",
       "        29.8, 13.8, 13.3, 16.7, 12. , 14.6, 21.4, 23. , 23.7, 25. , 21.8,\n",
       "        20.6, 21.2, 19.1, 20.6, 15.2,  7. ,  8.1, 13.6, 20.1, 21.8, 24.5,\n",
       "        23.1, 19.7, 18.3, 21.2, 17.5, 16.8, 22.4, 20.6, 23.9, 22. , 11.9]),\n",
       " 'feature_names': array(['CRIM', 'ZN', 'INDUS', 'CHAS', 'NOX', 'RM', 'AGE', 'DIS', 'RAD',\n",
       "        'TAX', 'PTRATIO', 'B', 'LSTAT'], dtype='<U7'),\n",
       " 'DESCR': \".. _boston_dataset:\\n\\nBoston house prices dataset\\n---------------------------\\n\\n**Data Set Characteristics:**  \\n\\n    :Number of Instances: 506 \\n\\n    :Number of Attributes: 13 numeric/categorical predictive. Median Value (attribute 14) is usually the target.\\n\\n    :Attribute Information (in order):\\n        - CRIM     per capita crime rate by town\\n        - ZN       proportion of residential land zoned for lots over 25,000 sq.ft.\\n        - INDUS    proportion of non-retail business acres per town\\n        - CHAS     Charles River dummy variable (= 1 if tract bounds river; 0 otherwise)\\n        - NOX      nitric oxides concentration (parts per 10 million)\\n        - RM       average number of rooms per dwelling\\n        - AGE      proportion of owner-occupied units built prior to 1940\\n        - DIS      weighted distances to five Boston employment centres\\n        - RAD      index of accessibility to radial highways\\n        - TAX      full-value property-tax rate per $10,000\\n        - PTRATIO  pupil-teacher ratio by town\\n        - B        1000(Bk - 0.63)^2 where Bk is the proportion of blacks by town\\n        - LSTAT    % lower status of the population\\n        - MEDV     Median value of owner-occupied homes in $1000's\\n\\n    :Missing Attribute Values: None\\n\\n    :Creator: Harrison, D. and Rubinfeld, D.L.\\n\\nThis is a copy of UCI ML housing dataset.\\nhttps://archive.ics.uci.edu/ml/machine-learning-databases/housing/\\n\\n\\nThis dataset was taken from the StatLib library which is maintained at Carnegie Mellon University.\\n\\nThe Boston house-price data of Harrison, D. and Rubinfeld, D.L. 'Hedonic\\nprices and the demand for clean air', J. Environ. Economics & Management,\\nvol.5, 81-102, 1978.   Used in Belsley, Kuh & Welsch, 'Regression diagnostics\\n...', Wiley, 1980.   N.B. Various transformations are used in the table on\\npages 244-261 of the latter.\\n\\nThe Boston house-price data has been used in many machine learning papers that address regression\\nproblems.   \\n     \\n.. topic:: References\\n\\n   - Belsley, Kuh & Welsch, 'Regression diagnostics: Identifying Influential Data and Sources of Collinearity', Wiley, 1980. 244-261.\\n   - Quinlan,R. (1993). Combining Instance-Based and Model-Based Learning. In Proceedings on the Tenth International Conference of Machine Learning, 236-243, University of Massachusetts, Amherst. Morgan Kaufmann.\\n\",\n",
       " 'filename': 'D:\\\\machine_learning_project_folder\\\\env\\\\lib\\\\site-packages\\\\sklearn\\\\datasets\\\\data\\\\boston_house_prices.csv'}"
      ]
     },
     "execution_count": 52,
     "metadata": {},
     "output_type": "execute_result"
    }
   ],
   "source": [
    "from sklearn.datasets import load_boston\n",
    "# initiating boston dataset\n",
    "boston = load_boston()\n",
    "boston"
   ]
  },
  {
   "cell_type": "code",
   "execution_count": 53,
   "metadata": {},
   "outputs": [
    {
     "data": {
      "text/html": [
       "<div>\n",
       "<style scoped>\n",
       "    .dataframe tbody tr th:only-of-type {\n",
       "        vertical-align: middle;\n",
       "    }\n",
       "\n",
       "    .dataframe tbody tr th {\n",
       "        vertical-align: top;\n",
       "    }\n",
       "\n",
       "    .dataframe thead th {\n",
       "        text-align: right;\n",
       "    }\n",
       "</style>\n",
       "<table border=\"1\" class=\"dataframe\">\n",
       "  <thead>\n",
       "    <tr style=\"text-align: right;\">\n",
       "      <th></th>\n",
       "      <th>CRIM</th>\n",
       "      <th>ZN</th>\n",
       "      <th>INDUS</th>\n",
       "      <th>CHAS</th>\n",
       "      <th>NOX</th>\n",
       "      <th>RM</th>\n",
       "      <th>AGE</th>\n",
       "      <th>DIS</th>\n",
       "      <th>RAD</th>\n",
       "      <th>TAX</th>\n",
       "      <th>PTRATIO</th>\n",
       "      <th>B</th>\n",
       "      <th>LSTAT</th>\n",
       "      <th>target</th>\n",
       "    </tr>\n",
       "  </thead>\n",
       "  <tbody>\n",
       "    <tr>\n",
       "      <th>0</th>\n",
       "      <td>0.00632</td>\n",
       "      <td>18.0</td>\n",
       "      <td>2.31</td>\n",
       "      <td>0.0</td>\n",
       "      <td>0.538</td>\n",
       "      <td>6.575</td>\n",
       "      <td>65.2</td>\n",
       "      <td>4.0900</td>\n",
       "      <td>1.0</td>\n",
       "      <td>296.0</td>\n",
       "      <td>15.3</td>\n",
       "      <td>396.90</td>\n",
       "      <td>4.98</td>\n",
       "      <td>24.0</td>\n",
       "    </tr>\n",
       "    <tr>\n",
       "      <th>1</th>\n",
       "      <td>0.02731</td>\n",
       "      <td>0.0</td>\n",
       "      <td>7.07</td>\n",
       "      <td>0.0</td>\n",
       "      <td>0.469</td>\n",
       "      <td>6.421</td>\n",
       "      <td>78.9</td>\n",
       "      <td>4.9671</td>\n",
       "      <td>2.0</td>\n",
       "      <td>242.0</td>\n",
       "      <td>17.8</td>\n",
       "      <td>396.90</td>\n",
       "      <td>9.14</td>\n",
       "      <td>21.6</td>\n",
       "    </tr>\n",
       "    <tr>\n",
       "      <th>2</th>\n",
       "      <td>0.02729</td>\n",
       "      <td>0.0</td>\n",
       "      <td>7.07</td>\n",
       "      <td>0.0</td>\n",
       "      <td>0.469</td>\n",
       "      <td>7.185</td>\n",
       "      <td>61.1</td>\n",
       "      <td>4.9671</td>\n",
       "      <td>2.0</td>\n",
       "      <td>242.0</td>\n",
       "      <td>17.8</td>\n",
       "      <td>392.83</td>\n",
       "      <td>4.03</td>\n",
       "      <td>34.7</td>\n",
       "    </tr>\n",
       "    <tr>\n",
       "      <th>3</th>\n",
       "      <td>0.03237</td>\n",
       "      <td>0.0</td>\n",
       "      <td>2.18</td>\n",
       "      <td>0.0</td>\n",
       "      <td>0.458</td>\n",
       "      <td>6.998</td>\n",
       "      <td>45.8</td>\n",
       "      <td>6.0622</td>\n",
       "      <td>3.0</td>\n",
       "      <td>222.0</td>\n",
       "      <td>18.7</td>\n",
       "      <td>394.63</td>\n",
       "      <td>2.94</td>\n",
       "      <td>33.4</td>\n",
       "    </tr>\n",
       "    <tr>\n",
       "      <th>4</th>\n",
       "      <td>0.06905</td>\n",
       "      <td>0.0</td>\n",
       "      <td>2.18</td>\n",
       "      <td>0.0</td>\n",
       "      <td>0.458</td>\n",
       "      <td>7.147</td>\n",
       "      <td>54.2</td>\n",
       "      <td>6.0622</td>\n",
       "      <td>3.0</td>\n",
       "      <td>222.0</td>\n",
       "      <td>18.7</td>\n",
       "      <td>396.90</td>\n",
       "      <td>5.33</td>\n",
       "      <td>36.2</td>\n",
       "    </tr>\n",
       "  </tbody>\n",
       "</table>\n",
       "</div>"
      ],
      "text/plain": [
       "      CRIM    ZN  INDUS  CHAS    NOX     RM   AGE     DIS  RAD    TAX  \\\n",
       "0  0.00632  18.0   2.31   0.0  0.538  6.575  65.2  4.0900  1.0  296.0   \n",
       "1  0.02731   0.0   7.07   0.0  0.469  6.421  78.9  4.9671  2.0  242.0   \n",
       "2  0.02729   0.0   7.07   0.0  0.469  7.185  61.1  4.9671  2.0  242.0   \n",
       "3  0.03237   0.0   2.18   0.0  0.458  6.998  45.8  6.0622  3.0  222.0   \n",
       "4  0.06905   0.0   2.18   0.0  0.458  7.147  54.2  6.0622  3.0  222.0   \n",
       "\n",
       "   PTRATIO       B  LSTAT  target  \n",
       "0     15.3  396.90   4.98    24.0  \n",
       "1     17.8  396.90   9.14    21.6  \n",
       "2     17.8  392.83   4.03    34.7  \n",
       "3     18.7  394.63   2.94    33.4  \n",
       "4     18.7  396.90   5.33    36.2  "
      ]
     },
     "execution_count": 53,
     "metadata": {},
     "output_type": "execute_result"
    }
   ],
   "source": [
    "# returns dataset in dictionary form where data,target,feature_names are the keys\n",
    "# making a datframe of boston\n",
    "boston_df = pd.DataFrame(boston[\"data\"],columns=boston[\"feature_names\"])\n",
    "# Lets add target key into the datframe as well\n",
    "boston_df[\"target\"] = pd.Series(boston[\"target\"])\n",
    "boston_df.head()"
   ]
  },
  {
   "cell_type": "code",
   "execution_count": 54,
   "metadata": {},
   "outputs": [],
   "source": [
    "# To make our results reproducable\n",
    "np.random.seed(42)\n",
    "# lets split the test data\n",
    "X = boston_df.drop(\"target\",axis=1)\n",
    "Y=boston_df[\"target\"]\n",
    "X_train_boston,X_test_boston,Y_train_boston,Y_test_boston = train_test_split(X,Y,test_size=0.2)"
   ]
  },
  {
   "cell_type": "code",
   "execution_count": 55,
   "metadata": {},
   "outputs": [
    {
     "data": {
      "text/plain": [
       "506"
      ]
     },
     "execution_count": 55,
     "metadata": {},
     "output_type": "execute_result"
    }
   ],
   "source": [
    "len(boston_df)"
   ]
  },
  {
   "cell_type": "code",
   "execution_count": 56,
   "metadata": {},
   "outputs": [
    {
     "data": {
      "text/plain": [
       "((404, 13), (102, 13))"
      ]
     },
     "execution_count": 56,
     "metadata": {},
     "output_type": "execute_result"
    }
   ],
   "source": [
    "X_train_boston.shape,X_test_boston.shape"
   ]
  },
  {
   "cell_type": "code",
   "execution_count": 57,
   "metadata": {},
   "outputs": [
    {
     "data": {
      "text/plain": [
       "0.6662221670168522"
      ]
     },
     "execution_count": 57,
     "metadata": {},
     "output_type": "execute_result"
    }
   ],
   "source": [
    "# importing ridge model and then fitting the dataset\n",
    "from sklearn.linear_model import Ridge\n",
    "ridge_regression_model = Ridge()\n",
    "ridge_regression_model.fit(X_train_boston,Y_train_boston)\n",
    "ridge_regression_model.score(X_test_boston,Y_test_boston)"
   ]
  },
  {
   "cell_type": "markdown",
   "metadata": {},
   "source": [
    "## Using another estimator/Algorithm to improve the score"
   ]
  },
  {
   "cell_type": "code",
   "execution_count": 58,
   "metadata": {},
   "outputs": [
    {
     "data": {
      "text/plain": [
       "0.8896648705127477"
      ]
     },
     "execution_count": 58,
     "metadata": {},
     "output_type": "execute_result"
    }
   ],
   "source": [
    "np.random.seed(42)\n",
    "# Data has alreday been split\n",
    "from sklearn.ensemble import RandomForestRegressor\n",
    "# works on the basis of decision tree\n",
    "rf = RandomForestRegressor()\n",
    "# Instantiating the model\n",
    "rf.fit(X_train_boston,Y_train_boston)\n",
    "rf.score(X_test_boston,Y_test_boston)"
   ]
  },
  {
   "cell_type": "code",
   "execution_count": 59,
   "metadata": {},
   "outputs": [],
   "source": [
    "# Decision trees are the if else programs like what we have studied in pseudocode but what the model does it creates its own\n",
    "# if else program by finding patterns in the data."
   ]
  },
  {
   "cell_type": "markdown",
   "metadata": {},
   "source": [
    "## Chossing a model for classification problem\n"
   ]
  },
  {
   "cell_type": "code",
   "execution_count": 60,
   "metadata": {},
   "outputs": [
    {
     "name": "stderr",
     "output_type": "stream",
     "text": [
      "D:\\machine_learning_project_folder\\env\\lib\\site-packages\\sklearn\\svm\\_base.py:946: ConvergenceWarning: Liblinear failed to converge, increase the number of iterations.\n",
      "  warnings.warn(\"Liblinear failed to converge, increase \"\n"
     ]
    },
    {
     "data": {
      "text/plain": [
       "0.4918032786885246"
      ]
     },
     "execution_count": 60,
     "metadata": {},
     "output_type": "execute_result"
    }
   ],
   "source": [
    "# To reproduce our results\n",
    "np.random.seed(42)\n",
    "# lets import our heart disease dataset\n",
    "heart_disease = pd.read_csv(\"scikit-learn-data/heart-disease.csv\")\n",
    "X = heart_disease.drop(\"target\",axis=1)\n",
    "Y = heart_disease[\"target\"]\n",
    "# split the data\n",
    "X_train_heart_disease,X_test_heart_disease,Y_train_heart_disease,Y_test_heart_disease = train_test_split(X,Y,train_size=0.8)\n",
    "\n",
    "from sklearn.svm import LinearSVC\n",
    "clf = LinearSVC(max_iter=1000)\n",
    "clf.fit(X_train_heart_disease,Y_train_heart_disease)\n",
    "clf.score(X_test_heart_disease,Y_test_heart_disease)"
   ]
  },
  {
   "cell_type": "markdown",
   "metadata": {},
   "source": [
    "## Lets use another Classification Estimator - RandomForestClassifier"
   ]
  },
  {
   "cell_type": "code",
   "execution_count": 61,
   "metadata": {},
   "outputs": [
    {
     "data": {
      "text/plain": [
       "0.8524590163934426"
      ]
     },
     "execution_count": 61,
     "metadata": {},
     "output_type": "execute_result"
    }
   ],
   "source": [
    "from sklearn.ensemble import RandomForestClassifier\n",
    "rfclf = RandomForestClassifier()\n",
    "rfclf.fit(X_train_heart_disease,Y_train_heart_disease)\n",
    "rfclf.score(X_test_heart_disease,Y_test_heart_disease)"
   ]
  },
  {
   "cell_type": "markdown",
   "metadata": {},
   "source": [
    "## Let's predict with our model\n"
   ]
  },
  {
   "cell_type": "code",
   "execution_count": 62,
   "metadata": {},
   "outputs": [
    {
     "data": {
      "text/plain": [
       "array([0, 1, 1, 0, 1, 1, 1, 0, 0, 1, 1, 0, 1, 0, 1, 1, 1, 0, 0, 0, 0, 0,\n",
       "       1, 1, 1, 1, 1, 1, 0, 1, 0, 0, 0, 0, 1, 0, 1, 1, 1, 1, 1, 1, 1, 1,\n",
       "       1, 0, 1, 1, 0, 0, 0, 0, 1, 1, 0, 0, 0, 1, 0, 0, 0], dtype=int64)"
      ]
     },
     "execution_count": 62,
     "metadata": {},
     "output_type": "execute_result"
    }
   ],
   "source": [
    "y_preds = rfclf.predict(X_test_heart_disease)\n",
    "y_preds"
   ]
  },
  {
   "cell_type": "code",
   "execution_count": 63,
   "metadata": {},
   "outputs": [
    {
     "data": {
      "text/plain": [
       "0.8524590163934426"
      ]
     },
     "execution_count": 63,
     "metadata": {},
     "output_type": "execute_result"
    }
   ],
   "source": [
    "# lets compare the predicted sets with the correct labels(truth)\n",
    "np.mean(Y_test_heart_disease==y_preds)"
   ]
  },
  {
   "cell_type": "code",
   "execution_count": 64,
   "metadata": {},
   "outputs": [],
   "source": [
    "# 'score()' Does the samae thing"
   ]
  },
  {
   "cell_type": "code",
   "execution_count": 65,
   "metadata": {},
   "outputs": [
    {
     "data": {
      "text/plain": [
       "0.8524590163934426"
      ]
     },
     "execution_count": 65,
     "metadata": {},
     "output_type": "execute_result"
    }
   ],
   "source": [
    "rfclf.score(X_test_heart_disease,Y_test_heart_disease)"
   ]
  },
  {
   "cell_type": "code",
   "execution_count": 66,
   "metadata": {},
   "outputs": [
    {
     "data": {
      "text/plain": [
       "0.8524590163934426"
      ]
     },
     "execution_count": 66,
     "metadata": {},
     "output_type": "execute_result"
    }
   ],
   "source": [
    "from sklearn.metrics import accuracy_score\n",
    "accuracy_score(Y_test_heart_disease,y_preds)\n",
    "# 'accuracy_score ()' also evaluates our model on the basis of predictions"
   ]
  },
  {
   "cell_type": "markdown",
   "metadata": {},
   "source": [
    "Make predictions with 'predict_proba()'"
   ]
  },
  {
   "cell_type": "code",
   "execution_count": 67,
   "metadata": {},
   "outputs": [
    {
     "data": {
      "text/plain": [
       "array([[0.89, 0.11],\n",
       "       [0.49, 0.51],\n",
       "       [0.44, 0.56],\n",
       "       [0.84, 0.16],\n",
       "       [0.18, 0.82]])"
      ]
     },
     "execution_count": 67,
     "metadata": {},
     "output_type": "execute_result"
    }
   ],
   "source": [
    "# predict() vs predict proba\n",
    "# predict proba returns the probabilities of the classes(labels/whether 1 or 0/has heart_disease or not)\n",
    "rfclf.predict_proba(X_test_heart_disease[:5])"
   ]
  },
  {
   "cell_type": "code",
   "execution_count": 68,
   "metadata": {},
   "outputs": [
    {
     "data": {
      "text/plain": [
       "array([0, 1, 1, 0, 1], dtype=int64)"
      ]
     },
     "execution_count": 68,
     "metadata": {},
     "output_type": "execute_result"
    }
   ],
   "source": [
    "rfclf.predict(X_test_heart_disease[:5])"
   ]
  },
  {
   "cell_type": "code",
   "execution_count": 69,
   "metadata": {},
   "outputs": [],
   "source": [
    "# in the predict proba it is saying that the probability of \"target\"/label being 0 is .89 thats why predict returns 0.predict just\n",
    "# returns label based on the probability but predict proba tells the probability which also shows where our model is more confident"
   ]
  },
  {
   "cell_type": "markdown",
   "metadata": {},
   "source": [
    "## Lets have some practice with boston dataset and regression model and then predict"
   ]
  },
  {
   "cell_type": "code",
   "execution_count": 70,
   "metadata": {},
   "outputs": [
    {
     "data": {
      "text/plain": [
       "{'data': array([[6.3200e-03, 1.8000e+01, 2.3100e+00, ..., 1.5300e+01, 3.9690e+02,\n",
       "         4.9800e+00],\n",
       "        [2.7310e-02, 0.0000e+00, 7.0700e+00, ..., 1.7800e+01, 3.9690e+02,\n",
       "         9.1400e+00],\n",
       "        [2.7290e-02, 0.0000e+00, 7.0700e+00, ..., 1.7800e+01, 3.9283e+02,\n",
       "         4.0300e+00],\n",
       "        ...,\n",
       "        [6.0760e-02, 0.0000e+00, 1.1930e+01, ..., 2.1000e+01, 3.9690e+02,\n",
       "         5.6400e+00],\n",
       "        [1.0959e-01, 0.0000e+00, 1.1930e+01, ..., 2.1000e+01, 3.9345e+02,\n",
       "         6.4800e+00],\n",
       "        [4.7410e-02, 0.0000e+00, 1.1930e+01, ..., 2.1000e+01, 3.9690e+02,\n",
       "         7.8800e+00]]),\n",
       " 'target': array([24. , 21.6, 34.7, 33.4, 36.2, 28.7, 22.9, 27.1, 16.5, 18.9, 15. ,\n",
       "        18.9, 21.7, 20.4, 18.2, 19.9, 23.1, 17.5, 20.2, 18.2, 13.6, 19.6,\n",
       "        15.2, 14.5, 15.6, 13.9, 16.6, 14.8, 18.4, 21. , 12.7, 14.5, 13.2,\n",
       "        13.1, 13.5, 18.9, 20. , 21. , 24.7, 30.8, 34.9, 26.6, 25.3, 24.7,\n",
       "        21.2, 19.3, 20. , 16.6, 14.4, 19.4, 19.7, 20.5, 25. , 23.4, 18.9,\n",
       "        35.4, 24.7, 31.6, 23.3, 19.6, 18.7, 16. , 22.2, 25. , 33. , 23.5,\n",
       "        19.4, 22. , 17.4, 20.9, 24.2, 21.7, 22.8, 23.4, 24.1, 21.4, 20. ,\n",
       "        20.8, 21.2, 20.3, 28. , 23.9, 24.8, 22.9, 23.9, 26.6, 22.5, 22.2,\n",
       "        23.6, 28.7, 22.6, 22. , 22.9, 25. , 20.6, 28.4, 21.4, 38.7, 43.8,\n",
       "        33.2, 27.5, 26.5, 18.6, 19.3, 20.1, 19.5, 19.5, 20.4, 19.8, 19.4,\n",
       "        21.7, 22.8, 18.8, 18.7, 18.5, 18.3, 21.2, 19.2, 20.4, 19.3, 22. ,\n",
       "        20.3, 20.5, 17.3, 18.8, 21.4, 15.7, 16.2, 18. , 14.3, 19.2, 19.6,\n",
       "        23. , 18.4, 15.6, 18.1, 17.4, 17.1, 13.3, 17.8, 14. , 14.4, 13.4,\n",
       "        15.6, 11.8, 13.8, 15.6, 14.6, 17.8, 15.4, 21.5, 19.6, 15.3, 19.4,\n",
       "        17. , 15.6, 13.1, 41.3, 24.3, 23.3, 27. , 50. , 50. , 50. , 22.7,\n",
       "        25. , 50. , 23.8, 23.8, 22.3, 17.4, 19.1, 23.1, 23.6, 22.6, 29.4,\n",
       "        23.2, 24.6, 29.9, 37.2, 39.8, 36.2, 37.9, 32.5, 26.4, 29.6, 50. ,\n",
       "        32. , 29.8, 34.9, 37. , 30.5, 36.4, 31.1, 29.1, 50. , 33.3, 30.3,\n",
       "        34.6, 34.9, 32.9, 24.1, 42.3, 48.5, 50. , 22.6, 24.4, 22.5, 24.4,\n",
       "        20. , 21.7, 19.3, 22.4, 28.1, 23.7, 25. , 23.3, 28.7, 21.5, 23. ,\n",
       "        26.7, 21.7, 27.5, 30.1, 44.8, 50. , 37.6, 31.6, 46.7, 31.5, 24.3,\n",
       "        31.7, 41.7, 48.3, 29. , 24. , 25.1, 31.5, 23.7, 23.3, 22. , 20.1,\n",
       "        22.2, 23.7, 17.6, 18.5, 24.3, 20.5, 24.5, 26.2, 24.4, 24.8, 29.6,\n",
       "        42.8, 21.9, 20.9, 44. , 50. , 36. , 30.1, 33.8, 43.1, 48.8, 31. ,\n",
       "        36.5, 22.8, 30.7, 50. , 43.5, 20.7, 21.1, 25.2, 24.4, 35.2, 32.4,\n",
       "        32. , 33.2, 33.1, 29.1, 35.1, 45.4, 35.4, 46. , 50. , 32.2, 22. ,\n",
       "        20.1, 23.2, 22.3, 24.8, 28.5, 37.3, 27.9, 23.9, 21.7, 28.6, 27.1,\n",
       "        20.3, 22.5, 29. , 24.8, 22. , 26.4, 33.1, 36.1, 28.4, 33.4, 28.2,\n",
       "        22.8, 20.3, 16.1, 22.1, 19.4, 21.6, 23.8, 16.2, 17.8, 19.8, 23.1,\n",
       "        21. , 23.8, 23.1, 20.4, 18.5, 25. , 24.6, 23. , 22.2, 19.3, 22.6,\n",
       "        19.8, 17.1, 19.4, 22.2, 20.7, 21.1, 19.5, 18.5, 20.6, 19. , 18.7,\n",
       "        32.7, 16.5, 23.9, 31.2, 17.5, 17.2, 23.1, 24.5, 26.6, 22.9, 24.1,\n",
       "        18.6, 30.1, 18.2, 20.6, 17.8, 21.7, 22.7, 22.6, 25. , 19.9, 20.8,\n",
       "        16.8, 21.9, 27.5, 21.9, 23.1, 50. , 50. , 50. , 50. , 50. , 13.8,\n",
       "        13.8, 15. , 13.9, 13.3, 13.1, 10.2, 10.4, 10.9, 11.3, 12.3,  8.8,\n",
       "         7.2, 10.5,  7.4, 10.2, 11.5, 15.1, 23.2,  9.7, 13.8, 12.7, 13.1,\n",
       "        12.5,  8.5,  5. ,  6.3,  5.6,  7.2, 12.1,  8.3,  8.5,  5. , 11.9,\n",
       "        27.9, 17.2, 27.5, 15. , 17.2, 17.9, 16.3,  7. ,  7.2,  7.5, 10.4,\n",
       "         8.8,  8.4, 16.7, 14.2, 20.8, 13.4, 11.7,  8.3, 10.2, 10.9, 11. ,\n",
       "         9.5, 14.5, 14.1, 16.1, 14.3, 11.7, 13.4,  9.6,  8.7,  8.4, 12.8,\n",
       "        10.5, 17.1, 18.4, 15.4, 10.8, 11.8, 14.9, 12.6, 14.1, 13. , 13.4,\n",
       "        15.2, 16.1, 17.8, 14.9, 14.1, 12.7, 13.5, 14.9, 20. , 16.4, 17.7,\n",
       "        19.5, 20.2, 21.4, 19.9, 19. , 19.1, 19.1, 20.1, 19.9, 19.6, 23.2,\n",
       "        29.8, 13.8, 13.3, 16.7, 12. , 14.6, 21.4, 23. , 23.7, 25. , 21.8,\n",
       "        20.6, 21.2, 19.1, 20.6, 15.2,  7. ,  8.1, 13.6, 20.1, 21.8, 24.5,\n",
       "        23.1, 19.7, 18.3, 21.2, 17.5, 16.8, 22.4, 20.6, 23.9, 22. , 11.9]),\n",
       " 'feature_names': array(['CRIM', 'ZN', 'INDUS', 'CHAS', 'NOX', 'RM', 'AGE', 'DIS', 'RAD',\n",
       "        'TAX', 'PTRATIO', 'B', 'LSTAT'], dtype='<U7'),\n",
       " 'DESCR': \".. _boston_dataset:\\n\\nBoston house prices dataset\\n---------------------------\\n\\n**Data Set Characteristics:**  \\n\\n    :Number of Instances: 506 \\n\\n    :Number of Attributes: 13 numeric/categorical predictive. Median Value (attribute 14) is usually the target.\\n\\n    :Attribute Information (in order):\\n        - CRIM     per capita crime rate by town\\n        - ZN       proportion of residential land zoned for lots over 25,000 sq.ft.\\n        - INDUS    proportion of non-retail business acres per town\\n        - CHAS     Charles River dummy variable (= 1 if tract bounds river; 0 otherwise)\\n        - NOX      nitric oxides concentration (parts per 10 million)\\n        - RM       average number of rooms per dwelling\\n        - AGE      proportion of owner-occupied units built prior to 1940\\n        - DIS      weighted distances to five Boston employment centres\\n        - RAD      index of accessibility to radial highways\\n        - TAX      full-value property-tax rate per $10,000\\n        - PTRATIO  pupil-teacher ratio by town\\n        - B        1000(Bk - 0.63)^2 where Bk is the proportion of blacks by town\\n        - LSTAT    % lower status of the population\\n        - MEDV     Median value of owner-occupied homes in $1000's\\n\\n    :Missing Attribute Values: None\\n\\n    :Creator: Harrison, D. and Rubinfeld, D.L.\\n\\nThis is a copy of UCI ML housing dataset.\\nhttps://archive.ics.uci.edu/ml/machine-learning-databases/housing/\\n\\n\\nThis dataset was taken from the StatLib library which is maintained at Carnegie Mellon University.\\n\\nThe Boston house-price data of Harrison, D. and Rubinfeld, D.L. 'Hedonic\\nprices and the demand for clean air', J. Environ. Economics & Management,\\nvol.5, 81-102, 1978.   Used in Belsley, Kuh & Welsch, 'Regression diagnostics\\n...', Wiley, 1980.   N.B. Various transformations are used in the table on\\npages 244-261 of the latter.\\n\\nThe Boston house-price data has been used in many machine learning papers that address regression\\nproblems.   \\n     \\n.. topic:: References\\n\\n   - Belsley, Kuh & Welsch, 'Regression diagnostics: Identifying Influential Data and Sources of Collinearity', Wiley, 1980. 244-261.\\n   - Quinlan,R. (1993). Combining Instance-Based and Model-Based Learning. In Proceedings on the Tenth International Conference of Machine Learning, 236-243, University of Massachusetts, Amherst. Morgan Kaufmann.\\n\",\n",
       " 'filename': 'D:\\\\machine_learning_project_folder\\\\env\\\\lib\\\\site-packages\\\\sklearn\\\\datasets\\\\data\\\\boston_house_prices.csv'}"
      ]
     },
     "execution_count": 70,
     "metadata": {},
     "output_type": "execute_result"
    }
   ],
   "source": [
    "boston"
   ]
  },
  {
   "cell_type": "code",
   "execution_count": 71,
   "metadata": {},
   "outputs": [
    {
     "data": {
      "text/html": [
       "<div>\n",
       "<style scoped>\n",
       "    .dataframe tbody tr th:only-of-type {\n",
       "        vertical-align: middle;\n",
       "    }\n",
       "\n",
       "    .dataframe tbody tr th {\n",
       "        vertical-align: top;\n",
       "    }\n",
       "\n",
       "    .dataframe thead th {\n",
       "        text-align: right;\n",
       "    }\n",
       "</style>\n",
       "<table border=\"1\" class=\"dataframe\">\n",
       "  <thead>\n",
       "    <tr style=\"text-align: right;\">\n",
       "      <th></th>\n",
       "      <th>CRIM</th>\n",
       "      <th>ZN</th>\n",
       "      <th>INDUS</th>\n",
       "      <th>CHAS</th>\n",
       "      <th>NOX</th>\n",
       "      <th>RM</th>\n",
       "      <th>AGE</th>\n",
       "      <th>DIS</th>\n",
       "      <th>RAD</th>\n",
       "      <th>TAX</th>\n",
       "      <th>PTRATIO</th>\n",
       "      <th>B</th>\n",
       "      <th>LSTAT</th>\n",
       "      <th>target</th>\n",
       "    </tr>\n",
       "  </thead>\n",
       "  <tbody>\n",
       "    <tr>\n",
       "      <th>0</th>\n",
       "      <td>0.00632</td>\n",
       "      <td>18.0</td>\n",
       "      <td>2.31</td>\n",
       "      <td>0.0</td>\n",
       "      <td>0.538</td>\n",
       "      <td>6.575</td>\n",
       "      <td>65.2</td>\n",
       "      <td>4.0900</td>\n",
       "      <td>1.0</td>\n",
       "      <td>296.0</td>\n",
       "      <td>15.3</td>\n",
       "      <td>396.90</td>\n",
       "      <td>4.98</td>\n",
       "      <td>24.0</td>\n",
       "    </tr>\n",
       "    <tr>\n",
       "      <th>1</th>\n",
       "      <td>0.02731</td>\n",
       "      <td>0.0</td>\n",
       "      <td>7.07</td>\n",
       "      <td>0.0</td>\n",
       "      <td>0.469</td>\n",
       "      <td>6.421</td>\n",
       "      <td>78.9</td>\n",
       "      <td>4.9671</td>\n",
       "      <td>2.0</td>\n",
       "      <td>242.0</td>\n",
       "      <td>17.8</td>\n",
       "      <td>396.90</td>\n",
       "      <td>9.14</td>\n",
       "      <td>21.6</td>\n",
       "    </tr>\n",
       "    <tr>\n",
       "      <th>2</th>\n",
       "      <td>0.02729</td>\n",
       "      <td>0.0</td>\n",
       "      <td>7.07</td>\n",
       "      <td>0.0</td>\n",
       "      <td>0.469</td>\n",
       "      <td>7.185</td>\n",
       "      <td>61.1</td>\n",
       "      <td>4.9671</td>\n",
       "      <td>2.0</td>\n",
       "      <td>242.0</td>\n",
       "      <td>17.8</td>\n",
       "      <td>392.83</td>\n",
       "      <td>4.03</td>\n",
       "      <td>34.7</td>\n",
       "    </tr>\n",
       "    <tr>\n",
       "      <th>3</th>\n",
       "      <td>0.03237</td>\n",
       "      <td>0.0</td>\n",
       "      <td>2.18</td>\n",
       "      <td>0.0</td>\n",
       "      <td>0.458</td>\n",
       "      <td>6.998</td>\n",
       "      <td>45.8</td>\n",
       "      <td>6.0622</td>\n",
       "      <td>3.0</td>\n",
       "      <td>222.0</td>\n",
       "      <td>18.7</td>\n",
       "      <td>394.63</td>\n",
       "      <td>2.94</td>\n",
       "      <td>33.4</td>\n",
       "    </tr>\n",
       "    <tr>\n",
       "      <th>4</th>\n",
       "      <td>0.06905</td>\n",
       "      <td>0.0</td>\n",
       "      <td>2.18</td>\n",
       "      <td>0.0</td>\n",
       "      <td>0.458</td>\n",
       "      <td>7.147</td>\n",
       "      <td>54.2</td>\n",
       "      <td>6.0622</td>\n",
       "      <td>3.0</td>\n",
       "      <td>222.0</td>\n",
       "      <td>18.7</td>\n",
       "      <td>396.90</td>\n",
       "      <td>5.33</td>\n",
       "      <td>36.2</td>\n",
       "    </tr>\n",
       "  </tbody>\n",
       "</table>\n",
       "</div>"
      ],
      "text/plain": [
       "      CRIM    ZN  INDUS  CHAS    NOX     RM   AGE     DIS  RAD    TAX  \\\n",
       "0  0.00632  18.0   2.31   0.0  0.538  6.575  65.2  4.0900  1.0  296.0   \n",
       "1  0.02731   0.0   7.07   0.0  0.469  6.421  78.9  4.9671  2.0  242.0   \n",
       "2  0.02729   0.0   7.07   0.0  0.469  7.185  61.1  4.9671  2.0  242.0   \n",
       "3  0.03237   0.0   2.18   0.0  0.458  6.998  45.8  6.0622  3.0  222.0   \n",
       "4  0.06905   0.0   2.18   0.0  0.458  7.147  54.2  6.0622  3.0  222.0   \n",
       "\n",
       "   PTRATIO       B  LSTAT  target  \n",
       "0     15.3  396.90   4.98    24.0  \n",
       "1     17.8  396.90   9.14    21.6  \n",
       "2     17.8  392.83   4.03    34.7  \n",
       "3     18.7  394.63   2.94    33.4  \n",
       "4     18.7  396.90   5.33    36.2  "
      ]
     },
     "execution_count": 71,
     "metadata": {},
     "output_type": "execute_result"
    }
   ],
   "source": [
    "boston_df.head()"
   ]
  },
  {
   "cell_type": "code",
   "execution_count": 72,
   "metadata": {},
   "outputs": [
    {
     "data": {
      "text/plain": [
       "0.8895937542377453"
      ]
     },
     "execution_count": 72,
     "metadata": {},
     "output_type": "execute_result"
    }
   ],
   "source": [
    "from sklearn.ensemble import RandomForestRegressor\n",
    "rfregressor = RandomForestRegressor().fit(X_train_boston,Y_train_boston)\n",
    "rfregressor.score(X_test_boston,Y_test_boston) # Different methods of evaluation for different models.Here it is showing accuracy"
   ]
  },
  {
   "cell_type": "code",
   "execution_count": 73,
   "metadata": {},
   "outputs": [],
   "source": [
    "y_preds_regressor = rfregressor.predict(X_test_boston)"
   ]
  },
  {
   "cell_type": "code",
   "execution_count": 74,
   "metadata": {},
   "outputs": [
    {
     "data": {
      "text/plain": [
       "array([23.194, 30.175, 17.587, 23.697, 16.61 , 21.206, 19.264, 15.431,\n",
       "       21.319, 21.035])"
      ]
     },
     "execution_count": 74,
     "metadata": {},
     "output_type": "execute_result"
    }
   ],
   "source": [
    "y_preds_regressor[:10]"
   ]
  },
  {
   "cell_type": "code",
   "execution_count": 75,
   "metadata": {},
   "outputs": [
    {
     "data": {
      "text/plain": [
       "array([23.6, 32.4, 13.6, 22.8, 16.1, 20. , 17.8, 14. , 19.6, 16.8])"
      ]
     },
     "execution_count": 75,
     "metadata": {},
     "output_type": "execute_result"
    }
   ],
   "source": [
    "np.array(Y_test_boston[:10])"
   ]
  },
  {
   "cell_type": "code",
   "execution_count": 76,
   "metadata": {},
   "outputs": [
    {
     "data": {
      "text/plain": [
       "2.0828039215686274"
      ]
     },
     "execution_count": 76,
     "metadata": {},
     "output_type": "execute_result"
    }
   ],
   "source": [
    "# Another evaluation metric is to see how far on average each predicted number is\n",
    "from sklearn.metrics import mean_absolute_error\n",
    "mean_absolute_error(Y_test_boston,y_preds_regressor)"
   ]
  },
  {
   "cell_type": "markdown",
   "metadata": {},
   "source": [
    "<img src=\"https://www.statisticshowto.com/wp-content/uploads/2016/10/MAE.png\" >\n",
    "<figcaption>\"Formula of Mean Absolute Error \"<figcaption/>"
   ]
  },
  {
   "cell_type": "markdown",
   "metadata": {},
   "source": [
    "## Evaluating our machine learning model\n",
    "* using the score method that we have been using.\n",
    "* The scoring parameter.\n",
    "* problem specific metrics"
   ]
  },
  {
   "cell_type": "markdown",
   "metadata": {},
   "source": [
    "### Using the score method"
   ]
  },
  {
   "cell_type": "code",
   "execution_count": 77,
   "metadata": {},
   "outputs": [
    {
     "data": {
      "text/plain": [
       "0.8524590163934426"
      ]
     },
     "execution_count": 77,
     "metadata": {},
     "output_type": "execute_result"
    }
   ],
   "source": [
    "# Using score method on a classifier problem.Heart_Disease data and randomForestClassifier\n",
    "rfclf.score(X_test_heart_disease,Y_test_heart_disease)"
   ]
  },
  {
   "cell_type": "code",
   "execution_count": 78,
   "metadata": {},
   "outputs": [],
   "source": [
    "# what it is doing is predicting the y label of the X_test and then coparing those predicted labels qith the truth i.e Y_test"
   ]
  },
  {
   "cell_type": "code",
   "execution_count": 79,
   "metadata": {},
   "outputs": [
    {
     "data": {
      "text/plain": [
       "0.8895937542377453"
      ]
     },
     "execution_count": 79,
     "metadata": {},
     "output_type": "execute_result"
    }
   ],
   "source": [
    "# Using score method on a regressor.Boston data and RandomForestRegressor\n",
    "rfregressor.score(X_test_boston,Y_test_boston)"
   ]
  },
  {
   "cell_type": "code",
   "execution_count": 80,
   "metadata": {},
   "outputs": [],
   "source": [
    "# The score method uses different stats for different models.In clf case it is using mean_accuracy while in regresssion model\n",
    "# it is using coefficient of determination"
   ]
  },
  {
   "cell_type": "markdown",
   "metadata": {},
   "source": [
    "### Using the scoring parameter"
   ]
  },
  {
   "cell_type": "markdown",
   "metadata": {},
   "source": [
    "#### We will be using Cross Validation Score\n",
    "<img src=\"Screenshot/Cross_Validation.png\" >\n",
    "<figcaption>5 Fold cross validation <figcaption/    "
   ]
  },
  {
   "cell_type": "code",
   "execution_count": 81,
   "metadata": {},
   "outputs": [
    {
     "data": {
      "text/plain": [
       "(0.8524590163934426,\n",
       " array([0.90322581, 0.80645161, 0.90322581, 0.93333333, 0.9       ,\n",
       "        0.8       , 0.8       , 0.86666667, 0.73333333, 0.83333333]))"
      ]
     },
     "execution_count": 81,
     "metadata": {},
     "output_type": "execute_result"
    }
   ],
   "source": [
    "from sklearn.model_selection import cross_val_score\n",
    "rfclf.score(X_test_heart_disease,Y_test_heart_disease),cross_val_score(rfclf,X,Y,scoring=None,cv=10)#10 fold cross_val"
   ]
  },
  {
   "cell_type": "code",
   "execution_count": 82,
   "metadata": {},
   "outputs": [],
   "source": [
    "#By using Cross validation we are ensuring that the test data wasn't too easy when we split it through 'train_test_split' \n",
    "# Scoring parameter if not defined uses the parameter that score() uses.In case of classification it is using mean accuracy"
   ]
  },
  {
   "cell_type": "markdown",
   "metadata": {},
   "source": [
    "## Metrics of Evaluation For Classification Model\n",
    "* Accuracy\n",
    "* Area under the ROC curve\n",
    "* Confusion Metrics\n",
    "* Classification Report\n",
    "\n",
    "**Accuracy**"
   ]
  },
  {
   "cell_type": "code",
   "execution_count": 83,
   "metadata": {},
   "outputs": [],
   "source": [
    "from sklearn.model_selection import cross_val_score\n",
    "from sklearn.ensemble import RandomForestClassifier\n",
    "np.random.seed(42)\n",
    "X = heart_disease.drop(\"target\",axis=1)\n",
    "Y = heart_disease[\"target\"]\n",
    "\n",
    "rfclf = RandomForestClassifier()\n",
    "cross_val_score = cross_val_score(rfclf,X,Y,cv=10) #By default scoring is mean_accuracy"
   ]
  },
  {
   "cell_type": "code",
   "execution_count": 84,
   "metadata": {},
   "outputs": [
    {
     "data": {
      "text/plain": [
       "0.8183870967741935"
      ]
     },
     "execution_count": 84,
     "metadata": {},
     "output_type": "execute_result"
    }
   ],
   "source": [
    "np.mean(cross_val_score)"
   ]
  },
  {
   "cell_type": "code",
   "execution_count": 85,
   "metadata": {},
   "outputs": [
    {
     "name": "stdout",
     "output_type": "stream",
     "text": [
      "The mean accuracy of heart disease classifier is: 81.84%\n"
     ]
    }
   ],
   "source": [
    "print(f\"The mean accuracy of heart disease classifier is: {np.mean(cross_val_score) * 100 :.2f}%\") \n",
    "# print(f\"\") is the formated string in which you can define your variables in curly braces that saves you from closing and opening \n",
    "# the quotes to insert variables. \":.2f\" is being used to curb the result to two decimal places."
   ]
  },
  {
   "cell_type": "markdown",
   "metadata": {},
   "source": [
    "**Area Under the Curve(AUC)/ROC(Receiver operating characteristics)**\n",
    "\n",
    "* True positive = model predicts 1 when truth is 1\n",
    "* False positive = model predicts 1 when truth is 0\n",
    "* True negative = model predicts 0 when truth is 0\n",
    "* False negative = model predicts 0 when truth is 1"
   ]
  },
  {
   "cell_type": "code",
   "execution_count": 86,
   "metadata": {},
   "outputs": [],
   "source": [
    "from sklearn.metrics import roc_curve\n",
    "rfclf = RandomForestClassifier().fit(X_train_heart_disease,Y_train_heart_disease) \n",
    "Y_probs = rfclf.predict_proba(X_test_heart_disease)"
   ]
  },
  {
   "cell_type": "code",
   "execution_count": 87,
   "metadata": {},
   "outputs": [
    {
     "data": {
      "text/plain": [
       "array([[0.93, 0.07],\n",
       "       [0.47, 0.53],\n",
       "       [0.45, 0.55],\n",
       "       [0.81, 0.19],\n",
       "       [0.24, 0.76]])"
      ]
     },
     "execution_count": 87,
     "metadata": {},
     "output_type": "execute_result"
    }
   ],
   "source": [
    "Y_probs[:5]"
   ]
  },
  {
   "cell_type": "code",
   "execution_count": 88,
   "metadata": {},
   "outputs": [],
   "source": [
    "Y_positive_probs = Y_probs[:,1] #Column one that is class = 1's all records \n",
    "fpr,tpr,threshold = roc_curve(Y_test_heart_disease,Y_positive_probs)"
   ]
  },
  {
   "cell_type": "code",
   "execution_count": 89,
   "metadata": {},
   "outputs": [
    {
     "data": {
      "text/plain": [
       "array([0.        , 0.        , 0.        , 0.        , 0.        ,\n",
       "       0.        , 0.        , 0.        , 0.        , 0.03448276,\n",
       "       0.03448276, 0.13793103, 0.13793103, 0.13793103, 0.24137931,\n",
       "       0.24137931, 0.27586207, 0.34482759, 0.4137931 , 0.48275862,\n",
       "       0.55172414, 0.65517241, 0.65517241, 0.86206897, 1.        ])"
      ]
     },
     "execution_count": 89,
     "metadata": {},
     "output_type": "execute_result"
    }
   ],
   "source": [
    "fpr"
   ]
  },
  {
   "cell_type": "code",
   "execution_count": 90,
   "metadata": {},
   "outputs": [
    {
     "data": {
      "image/png": "[encoded data removed]",
      "text/plain": [
       "<Figure size 432x288 with 1 Axes>"
      ]
     },
     "metadata": {
      "needs_background": "light"
     },
     "output_type": "display_data"
    }
   ],
   "source": [
    "# The values are making no sense lets plot them\n",
    "import matplotlib.pyplot as plt\n",
    "def ROC_curve_plotter(fpr,tpr):\n",
    "    \n",
    "#     Plots a ROC curve with arguments as fpr and tpr\n",
    "    plt.plot(fpr,tpr,color=\"r\",label=\"ROC Curve\")\n",
    "    plt.plot([0,1],[0,1],ls=\"--\",color='Orange',label=\"Guessing\") # Guessing line\n",
    "#     customizing the plot\n",
    "    plt.xlabel = \"False Positive Rate\"\n",
    "    plt.ylabel = \"True Positive Rate\"\n",
    "    plt.title = \"Receiver Operating Curve\"\n",
    "    plt.legend()\n",
    "    plt.show()\n",
    "ROC_curve_plotter(fpr,tpr)    "
   ]
  },
  {
   "cell_type": "code",
   "execution_count": 91,
   "metadata": {},
   "outputs": [
    {
     "data": {
      "text/plain": [
       "0.9407327586206896"
      ]
     },
     "execution_count": 91,
     "metadata": {},
     "output_type": "execute_result"
    }
   ],
   "source": [
    "from sklearn.metrics import roc_auc_score # importing Area under curve method\n",
    "roc_auc_score(Y_test_heart_disease,Y_positive_probs)"
   ]
  },
  {
   "cell_type": "markdown",
   "metadata": {},
   "source": [
    "**Confusion matrix**\n"
   ]
  },
  {
   "cell_type": "code",
   "execution_count": 92,
   "metadata": {},
   "outputs": [],
   "source": [
    "# Lets import Confusion matrix\n",
    "from sklearn.metrics import confusion_matrix\n",
    "Y_preds = rfclf.predict(X_test_heart_disease)\n",
    "con_matrix= confusion_matrix(Y_test_heart_disease,Y_preds)"
   ]
  },
  {
   "cell_type": "code",
   "execution_count": 93,
   "metadata": {},
   "outputs": [
    {
     "data": {
      "text/plain": [
       "array([[24,  5],\n",
       "       [ 3, 29]], dtype=int64)"
      ]
     },
     "execution_count": 93,
     "metadata": {},
     "output_type": "execute_result"
    }
   ],
   "source": [
    "con_matrix"
   ]
  },
  {
   "cell_type": "code",
   "execution_count": 94,
   "metadata": {},
   "outputs": [
    {
     "data": {
      "text/html": [
       "<div>\n",
       "<style scoped>\n",
       "    .dataframe tbody tr th:only-of-type {\n",
       "        vertical-align: middle;\n",
       "    }\n",
       "\n",
       "    .dataframe tbody tr th {\n",
       "        vertical-align: top;\n",
       "    }\n",
       "\n",
       "    .dataframe thead th {\n",
       "        text-align: right;\n",
       "    }\n",
       "</style>\n",
       "<table border=\"1\" class=\"dataframe\">\n",
       "  <thead>\n",
       "    <tr style=\"text-align: right;\">\n",
       "      <th>Predicted labels</th>\n",
       "      <th>0</th>\n",
       "      <th>1</th>\n",
       "    </tr>\n",
       "    <tr>\n",
       "      <th>Actual labels</th>\n",
       "      <th></th>\n",
       "      <th></th>\n",
       "    </tr>\n",
       "  </thead>\n",
       "  <tbody>\n",
       "    <tr>\n",
       "      <th>0</th>\n",
       "      <td>24</td>\n",
       "      <td>5</td>\n",
       "    </tr>\n",
       "    <tr>\n",
       "      <th>1</th>\n",
       "      <td>3</td>\n",
       "      <td>29</td>\n",
       "    </tr>\n",
       "  </tbody>\n",
       "</table>\n",
       "</div>"
      ],
      "text/plain": [
       "Predicted labels   0   1\n",
       "Actual labels           \n",
       "0                 24   5\n",
       "1                  3  29"
      ]
     },
     "execution_count": 94,
     "metadata": {},
     "output_type": "execute_result"
    }
   ],
   "source": [
    "# Lets visualize the matrix with pd.crosstab()\n",
    "pd.crosstab(Y_test_heart_disease,\n",
    "           Y_preds,\n",
    "           rownames=[\"Actual labels\"],\n",
    "           colnames=[\"Predicted labels\"])"
   ]
  },
  {
   "cell_type": "markdown",
   "metadata": {},
   "source": [
    "### This is showing that there are 5 false positives and 3 false negatives.\n",
    "<img src=\"Screenshot/Confusion_matrix.png\" >"
   ]
  },
  {
   "cell_type": "markdown",
   "metadata": {},
   "source": [
    "### Installing other packages within jupyter notebook"
   ]
  },
  {
   "cell_type": "code",
   "execution_count": 95,
   "metadata": {},
   "outputs": [
    {
     "name": "stdout",
     "output_type": "stream",
     "text": [
      "Collecting package metadata (current_repodata.json): ...working... done\n",
      "Solving environment: ...working... done\n",
      "\n",
      "# All requested packages already installed.\n",
      "\n"
     ]
    },
    {
     "name": "stderr",
     "output_type": "stream",
     "text": [
      "\n",
      "\n",
      "==> WARNING: A newer version of conda exists. <==\n",
      "  current version: 4.8.2\n",
      "  latest version: 4.8.3\n",
      "\n",
      "Please update conda by running\n",
      "\n",
      "    $ conda update -n base -c defaults conda\n",
      "\n",
      "\n"
     ]
    }
   ],
   "source": [
    "# lets visualize it on another module called seaborn heatmap()\n",
    "# we have not installed seaborn library.Lets install it\n",
    "import sys  # It will give jupyter notebook access to the system \n",
    "!conda install --yes --prefix {sys.prefix} seaborn   \n",
    "#\"!\" tells that it is a command prompt command.\n",
    "# Prefix tells the path"
   ]
  },
  {
   "cell_type": "code",
   "execution_count": 96,
   "metadata": {},
   "outputs": [
    {
     "data": {
      "image/png": "[encoded data removed]",
      "text/plain": [
       "<Figure size 432x288 with 2 Axes>"
      ]
     },
     "metadata": {},
     "output_type": "display_data"
    }
   ],
   "source": [
    "import seaborn as sns\n",
    "# create a confusion matrix\n",
    "con_matrix\n",
    "# increasing font size\n",
    "sns.set(font_scale=1.5) \n",
    "# Plotting the con matrix on heatmap\n",
    "sns.heatmap(con_matrix);"
   ]
  },
  {
   "cell_type": "code",
   "execution_count": 97,
   "metadata": {},
   "outputs": [
    {
     "data": {
      "image/png": "[encoded data removed]",
      "text/plain": [
       "<Figure size 216x216 with 2 Axes>"
      ]
     },
     "metadata": {},
     "output_type": "display_data"
    }
   ],
   "source": [
    "# Lets create a function that can fill the data in the boxes\n",
    "def conf_matrix_plotter(conf_matrix):\n",
    "    fig,ax = plt.subplots(figsize=(3,3))\n",
    "    ax = sns.heatmap(conf_matrix,\n",
    "               annot=True,\n",
    "               cmap=\"Blues\")\n",
    "#     Cmap stands for color map\n",
    "# Annot is annotation so boxes are filled with annotation from the conf matrix \n",
    "    ax.set_xlabel(\"Predicted Labels\")\n",
    "    ax.set_ylabel(\"Actual Labels\")\n",
    "conf_matrix_plotter(con_matrix)    "
   ]
  },
  {
   "cell_type": "code",
   "execution_count": 98,
   "metadata": {},
   "outputs": [
    {
     "data": {
      "image/png": "[encoded data removed]",
      "text/plain": [
       "<Figure size 432x288 with 2 Axes>"
      ]
     },
     "metadata": {},
     "output_type": "display_data"
    }
   ],
   "source": [
    "# Another way of plotting confusion matrix\n",
    "from sklearn.metrics import plot_confusion_matrix\n",
    "plot_confusion_matrix(rfclf,X_test_heart_disease,Y_test_heart_disease,cmap=\"Blues\",normalize=None);\n",
    "#                       Normalise is showing the probabilities of the confusion matrix instead of the values when true\n",
    "plt.grid(False) # To get rid of white lines"
   ]
  },
  {
   "cell_type": "markdown",
   "metadata": {},
   "source": [
    "\n",
    "\n",
    "\n",
    "\n",
    "\n",
    "**Classification Report**"
   ]
  },
  {
   "cell_type": "code",
   "execution_count": 99,
   "metadata": {},
   "outputs": [
    {
     "name": "stdout",
     "output_type": "stream",
     "text": [
      "              precision    recall  f1-score   support\n",
      "\n",
      "           0       0.89      0.83      0.86        29\n",
      "           1       0.85      0.91      0.88        32\n",
      "\n",
      "    accuracy                           0.87        61\n",
      "   macro avg       0.87      0.87      0.87        61\n",
      "weighted avg       0.87      0.87      0.87        61\n",
      "\n"
     ]
    }
   ],
   "source": [
    "from sklearn.metrics import classification_report\n",
    "print(classification_report(Y_test_heart_disease,Y_preds))"
   ]
  },
  {
   "cell_type": "markdown",
   "metadata": {},
   "source": [
    "### what is a classification report?\n",
    "<img src=\"Screenshot/Classification_Report.png\">"
   ]
  },
  {
   "cell_type": "markdown",
   "metadata": {},
   "source": [
    "<div class = \"row\">\n",
    "    <div class=\"column\" > \n",
    "        <img src=\"Screenshot/Precision.png\" padding=\"5px\" margin=\"\"10px>\n",
    "    </div>\n",
    "    <div class=\"column\" > \n",
    "        <img src=\"Screenshot/Recall.png\" padding=\"5px\" margin = \"10px\">\n",
    "    </div>\n",
    "</div>        "
   ]
  },
  {
   "cell_type": "markdown",
   "metadata": {},
   "source": [
    "## Regression metrics.\n",
    "* R^2 (pronounced r-squared) or coefficient of determination - Compares your models predictions to the mean of the targets. Values can range from negative infinity (a very poor model) to 1. For example, if all your model does is predict the mean of the targets, its R^2 value would be 0. And if your model perfectly predicts a range of numbers it's R^2 value would be 1.\n",
    "* Mean absolute error (MAE) - The average of the absolute differences between predictions and actual values. It gives you an idea of how wrong your predictions were.\n",
    "* Mean squared error (MSE) - The average squared differences between predictions and actual values. Squaring the errors removes negative errors. It also amplifies outliers (samples which have larger errors).\n",
    "\n",
    "**R^2 / coefficient of determination**"
   ]
  },
  {
   "cell_type": "code",
   "execution_count": 100,
   "metadata": {},
   "outputs": [],
   "source": [
    "from sklearn.metrics import r2_score\n",
    "from sklearn.ensemble import RandomForestRegressor"
   ]
  },
  {
   "cell_type": "code",
   "execution_count": 101,
   "metadata": {},
   "outputs": [
    {
     "data": {
      "text/plain": [
       "0.873969014117403"
      ]
     },
     "execution_count": 101,
     "metadata": {},
     "output_type": "execute_result"
    }
   ],
   "source": [
    "np.random.seed(42)\n",
    "X = boston_df.drop(\"target\",axis=1)\n",
    "Y = boston_df[\"target\"]\n",
    "\n",
    "from sklearn.model_selection import train_test_split\n",
    "X_train_boston,X_test_boston,Y_train_boston,Y_test_boston= train_test_split(X,Y,test_size=0.2)\n",
    "rfregressor = RandomForestRegressor().fit(X_train_boston,Y_train_boston)\n",
    "rfregressor.score(X_test_boston,Y_test_boston) # By default score uses r2_score for regression models"
   ]
  },
  {
   "cell_type": "code",
   "execution_count": 102,
   "metadata": {},
   "outputs": [
    {
     "data": {
      "text/plain": [
       "array([21.48823529, 21.48823529, 21.48823529, 21.48823529, 21.48823529,\n",
       "       21.48823529])"
      ]
     },
     "execution_count": 102,
     "metadata": {},
     "output_type": "execute_result"
    }
   ],
   "source": [
    "# Creating a predicted label array that has mean as the value for all the elements.Since r2 compa\n",
    "Y_preds = np.full(len(Y_test_boston),np.mean(Y_test_boston)) # filling an arrray with value of mean of the true labels and shape of \n",
    "# of the true labels\n",
    "Y_preds[:6]"
   ]
  },
  {
   "cell_type": "code",
   "execution_count": 103,
   "metadata": {},
   "outputs": [
    {
     "data": {
      "text/plain": [
       "0.0"
      ]
     },
     "execution_count": 103,
     "metadata": {},
     "output_type": "execute_result"
    }
   ],
   "source": [
    "r2_score(Y_test_boston,Y_preds)  # score should be zero since all the predicted labels are the mean value of the actual labels"
   ]
  },
  {
   "cell_type": "code",
   "execution_count": 104,
   "metadata": {},
   "outputs": [
    {
     "data": {
      "text/plain": [
       "1.0"
      ]
     },
     "execution_count": 104,
     "metadata": {},
     "output_type": "execute_result"
    }
   ],
   "source": [
    "r2_score(Y_test_boston,Y_test_boston) # score should be 1 as all the predicted labels are the true labels"
   ]
  },
  {
   "cell_type": "markdown",
   "metadata": {},
   "source": [
    "**Mean Abosulte Error**"
   ]
  },
  {
   "cell_type": "code",
   "execution_count": 105,
   "metadata": {},
   "outputs": [
    {
     "data": {
      "text/plain": [
       "2.1226372549019623"
      ]
     },
     "execution_count": 105,
     "metadata": {},
     "output_type": "execute_result"
    }
   ],
   "source": [
    "from sklearn.metrics import mean_absolute_error\n",
    "y_preds_regressor = rfregressor.predict(X_test_boston)\n",
    "MAE = mean_absolute_error(Y_test_boston,y_preds_regressor)\n",
    "MAE"
   ]
  },
  {
   "cell_type": "code",
   "execution_count": 106,
   "metadata": {},
   "outputs": [
    {
     "data": {
      "text/html": [
       "<div>\n",
       "<style scoped>\n",
       "    .dataframe tbody tr th:only-of-type {\n",
       "        vertical-align: middle;\n",
       "    }\n",
       "\n",
       "    .dataframe tbody tr th {\n",
       "        vertical-align: top;\n",
       "    }\n",
       "\n",
       "    .dataframe thead th {\n",
       "        text-align: right;\n",
       "    }\n",
       "</style>\n",
       "<table border=\"1\" class=\"dataframe\">\n",
       "  <thead>\n",
       "    <tr style=\"text-align: right;\">\n",
       "      <th></th>\n",
       "      <th>Actual_labels</th>\n",
       "      <th>Predicted_labels</th>\n",
       "    </tr>\n",
       "  </thead>\n",
       "  <tbody>\n",
       "    <tr>\n",
       "      <th>173</th>\n",
       "      <td>23.6</td>\n",
       "      <td>23.002</td>\n",
       "    </tr>\n",
       "    <tr>\n",
       "      <th>274</th>\n",
       "      <td>32.4</td>\n",
       "      <td>30.826</td>\n",
       "    </tr>\n",
       "    <tr>\n",
       "      <th>491</th>\n",
       "      <td>13.6</td>\n",
       "      <td>16.734</td>\n",
       "    </tr>\n",
       "    <tr>\n",
       "      <th>72</th>\n",
       "      <td>22.8</td>\n",
       "      <td>23.467</td>\n",
       "    </tr>\n",
       "    <tr>\n",
       "      <th>452</th>\n",
       "      <td>16.1</td>\n",
       "      <td>16.853</td>\n",
       "    </tr>\n",
       "    <tr>\n",
       "      <th>...</th>\n",
       "      <td>...</td>\n",
       "      <td>...</td>\n",
       "    </tr>\n",
       "    <tr>\n",
       "      <th>412</th>\n",
       "      <td>17.9</td>\n",
       "      <td>13.030</td>\n",
       "    </tr>\n",
       "    <tr>\n",
       "      <th>436</th>\n",
       "      <td>9.6</td>\n",
       "      <td>12.490</td>\n",
       "    </tr>\n",
       "    <tr>\n",
       "      <th>411</th>\n",
       "      <td>17.2</td>\n",
       "      <td>13.406</td>\n",
       "    </tr>\n",
       "    <tr>\n",
       "      <th>86</th>\n",
       "      <td>22.5</td>\n",
       "      <td>20.219</td>\n",
       "    </tr>\n",
       "    <tr>\n",
       "      <th>75</th>\n",
       "      <td>21.4</td>\n",
       "      <td>23.898</td>\n",
       "    </tr>\n",
       "  </tbody>\n",
       "</table>\n",
       "<p>102 rows × 2 columns</p>\n",
       "</div>"
      ],
      "text/plain": [
       "     Actual_labels  Predicted_labels\n",
       "173           23.6            23.002\n",
       "274           32.4            30.826\n",
       "491           13.6            16.734\n",
       "72            22.8            23.467\n",
       "452           16.1            16.853\n",
       "..             ...               ...\n",
       "412           17.9            13.030\n",
       "436            9.6            12.490\n",
       "411           17.2            13.406\n",
       "86            22.5            20.219\n",
       "75            21.4            23.898\n",
       "\n",
       "[102 rows x 2 columns]"
      ]
     },
     "execution_count": 106,
     "metadata": {},
     "output_type": "execute_result"
    }
   ],
   "source": [
    "# lets see the predicted and actual labels in a dataframe\n",
    "MAE_df = pd.DataFrame({\"Actual_labels\" : Y_test_boston,\"Predicted_labels\": y_preds_regressor})\n",
    "MAE_df"
   ]
  },
  {
   "cell_type": "code",
   "execution_count": 107,
   "metadata": {},
   "outputs": [
    {
     "data": {
      "text/html": [
       "<div>\n",
       "<style scoped>\n",
       "    .dataframe tbody tr th:only-of-type {\n",
       "        vertical-align: middle;\n",
       "    }\n",
       "\n",
       "    .dataframe tbody tr th {\n",
       "        vertical-align: top;\n",
       "    }\n",
       "\n",
       "    .dataframe thead th {\n",
       "        text-align: right;\n",
       "    }\n",
       "</style>\n",
       "<table border=\"1\" class=\"dataframe\">\n",
       "  <thead>\n",
       "    <tr style=\"text-align: right;\">\n",
       "      <th></th>\n",
       "      <th>Actual_labels</th>\n",
       "      <th>Predicted_labels</th>\n",
       "      <th>Difference</th>\n",
       "    </tr>\n",
       "  </thead>\n",
       "  <tbody>\n",
       "    <tr>\n",
       "      <th>173</th>\n",
       "      <td>23.6</td>\n",
       "      <td>23.002</td>\n",
       "      <td>0.598</td>\n",
       "    </tr>\n",
       "    <tr>\n",
       "      <th>274</th>\n",
       "      <td>32.4</td>\n",
       "      <td>30.826</td>\n",
       "      <td>1.574</td>\n",
       "    </tr>\n",
       "    <tr>\n",
       "      <th>491</th>\n",
       "      <td>13.6</td>\n",
       "      <td>16.734</td>\n",
       "      <td>-3.134</td>\n",
       "    </tr>\n",
       "    <tr>\n",
       "      <th>72</th>\n",
       "      <td>22.8</td>\n",
       "      <td>23.467</td>\n",
       "      <td>-0.667</td>\n",
       "    </tr>\n",
       "    <tr>\n",
       "      <th>452</th>\n",
       "      <td>16.1</td>\n",
       "      <td>16.853</td>\n",
       "      <td>-0.753</td>\n",
       "    </tr>\n",
       "    <tr>\n",
       "      <th>...</th>\n",
       "      <td>...</td>\n",
       "      <td>...</td>\n",
       "      <td>...</td>\n",
       "    </tr>\n",
       "    <tr>\n",
       "      <th>412</th>\n",
       "      <td>17.9</td>\n",
       "      <td>13.030</td>\n",
       "      <td>4.870</td>\n",
       "    </tr>\n",
       "    <tr>\n",
       "      <th>436</th>\n",
       "      <td>9.6</td>\n",
       "      <td>12.490</td>\n",
       "      <td>-2.890</td>\n",
       "    </tr>\n",
       "    <tr>\n",
       "      <th>411</th>\n",
       "      <td>17.2</td>\n",
       "      <td>13.406</td>\n",
       "      <td>3.794</td>\n",
       "    </tr>\n",
       "    <tr>\n",
       "      <th>86</th>\n",
       "      <td>22.5</td>\n",
       "      <td>20.219</td>\n",
       "      <td>2.281</td>\n",
       "    </tr>\n",
       "    <tr>\n",
       "      <th>75</th>\n",
       "      <td>21.4</td>\n",
       "      <td>23.898</td>\n",
       "      <td>-2.498</td>\n",
       "    </tr>\n",
       "  </tbody>\n",
       "</table>\n",
       "<p>102 rows × 3 columns</p>\n",
       "</div>"
      ],
      "text/plain": [
       "     Actual_labels  Predicted_labels  Difference\n",
       "173           23.6            23.002       0.598\n",
       "274           32.4            30.826       1.574\n",
       "491           13.6            16.734      -3.134\n",
       "72            22.8            23.467      -0.667\n",
       "452           16.1            16.853      -0.753\n",
       "..             ...               ...         ...\n",
       "412           17.9            13.030       4.870\n",
       "436            9.6            12.490      -2.890\n",
       "411           17.2            13.406       3.794\n",
       "86            22.5            20.219       2.281\n",
       "75            21.4            23.898      -2.498\n",
       "\n",
       "[102 rows x 3 columns]"
      ]
     },
     "execution_count": 107,
     "metadata": {},
     "output_type": "execute_result"
    }
   ],
   "source": [
    "# Lets another column called the differences\n",
    "MAE_df[\"Difference\"] = MAE_df[\"Actual_labels\"] - MAE_df[\"Predicted_labels\"]\n",
    "\n",
    "MAE_df"
   ]
  },
  {
   "cell_type": "code",
   "execution_count": 108,
   "metadata": {},
   "outputs": [],
   "source": [
    "# What does absolute means is turning the negative numbers into positive and adding up.Then taking the mean"
   ]
  },
  {
   "cell_type": "markdown",
   "metadata": {},
   "source": [
    "**Mean Square Error**\n",
    "The average squared differences between predictions and actual values. Squaring the errors removes negative errors. It also amplifies outliers (samples which have larger errors).\n"
   ]
  },
  {
   "cell_type": "code",
   "execution_count": 109,
   "metadata": {},
   "outputs": [
    {
     "data": {
      "text/plain": [
       "9.242328990196082"
      ]
     },
     "execution_count": 109,
     "metadata": {},
     "output_type": "execute_result"
    }
   ],
   "source": [
    "from sklearn.metrics import mean_squared_error\n",
    "mse = mean_squared_error(Y_test_boston,y_preds_regressor)\n",
    "mse"
   ]
  },
  {
   "cell_type": "code",
   "execution_count": 110,
   "metadata": {},
   "outputs": [
    {
     "data": {
      "text/plain": [
       "9.242328990196082"
      ]
     },
     "execution_count": 110,
     "metadata": {},
     "output_type": "execute_result"
    }
   ],
   "source": [
    "# Calculating manually\n",
    "squared_differences=np.square(MAE_df[\"Difference\"])\n",
    "np.mean(squared_differences)"
   ]
  },
  {
   "cell_type": "markdown",
   "metadata": {},
   "source": [
    "### what and when to use different metrics\n",
    "<img src=\"Screenshot/Summary_of_regression_metrics.png\">"
   ]
  },
  {
   "cell_type": "markdown",
   "metadata": {},
   "source": [
    "### The scoring() parameter ."
   ]
  },
  {
   "cell_type": "code",
   "execution_count": 111,
   "metadata": {},
   "outputs": [
    {
     "data": {
      "text/plain": [
       "0.811639344262295"
      ]
     },
     "execution_count": 111,
     "metadata": {},
     "output_type": "execute_result"
    }
   ],
   "source": [
    "# Lets practice building a classifier model again\n",
    "from sklearn.ensemble import RandomForestClassifier\n",
    "from sklearn.model_selection import train_test_split\n",
    "from sklearn.model_selection import cross_val_score\n",
    "\n",
    "np.random.seed(42)\n",
    "X=heart_disease.drop(\"target\",axis=1)\n",
    "Y=heart_disease[\"target\"]\n",
    "\n",
    "X_train_heart_disease,X_test_heart_disease,Y_train_heart_disease,Y_test_heart_disease=train_test_split(X,Y,test_size=.2)\n",
    "rfclf = RandomForestClassifier().fit(X_train_heart_disease,Y_train_heart_disease)\n",
    "\n",
    "# Lets Cross validate\n",
    "cv_accuracy = cross_val_score(rfclf,X,Y,cv=5,scoring=None)\n",
    "cv_accuracy.mean()"
   ]
  },
  {
   "cell_type": "code",
   "execution_count": 112,
   "metadata": {},
   "outputs": [
    {
     "data": {
      "text/plain": [
       "0.8248087431693989"
      ]
     },
     "execution_count": 112,
     "metadata": {},
     "output_type": "execute_result"
    }
   ],
   "source": [
    "np.random.seed(42)\n",
    "cv_accuracy = cross_val_score(rfclf,X,Y,cv=5,scoring=\"accuracy\")\n",
    "np.mean(cv_accuracy)"
   ]
  },
  {
   "cell_type": "code",
   "execution_count": 113,
   "metadata": {},
   "outputs": [
    {
     "data": {
      "text/plain": [
       "0.8085601538512754"
      ]
     },
     "execution_count": 113,
     "metadata": {},
     "output_type": "execute_result"
    }
   ],
   "source": [
    "# lets try precision - when identifying false positives are more important than false negatives\n",
    "cv_precision = cross_val_score(rfclf,X,Y,cv=5,scoring=\"precision\")\n",
    "np.mean(cv_precision)"
   ]
  },
  {
   "cell_type": "code",
   "execution_count": 114,
   "metadata": {},
   "outputs": [
    {
     "data": {
      "text/plain": [
       "0.8654411764705883"
      ]
     },
     "execution_count": 114,
     "metadata": {},
     "output_type": "execute_result"
    }
   ],
   "source": [
    "# lets try recall\n",
    "cv_recall = cross_val_score(rfclf,X,Y,cv=10,scoring=\"recall\")\n",
    "np.mean(cv_recall)"
   ]
  },
  {
   "cell_type": "code",
   "execution_count": 115,
   "metadata": {},
   "outputs": [
    {
     "data": {
      "text/plain": [
       "0.8471486027266961"
      ]
     },
     "execution_count": 115,
     "metadata": {},
     "output_type": "execute_result"
    }
   ],
   "source": [
    "# lets try f1 sscore\n",
    "cv_f1 = cross_val_score(rfclf,X,Y,cv=10,scoring=\"f1\")\n",
    "np.mean(cv_f1)"
   ]
  },
  {
   "cell_type": "markdown",
   "metadata": {},
   "source": [
    "### Lets use scoring() parameter with regression models\n"
   ]
  },
  {
   "cell_type": "code",
   "execution_count": 116,
   "metadata": {},
   "outputs": [
    {
     "data": {
      "text/plain": [
       "array([ 0.70629051,  0.79006455,  0.34340936,  0.78164833,  0.84264472,\n",
       "        0.72016241,  0.58925771,  0.37902997, -0.64146857,  0.2714861 ])"
      ]
     },
     "execution_count": 116,
     "metadata": {},
     "output_type": "execute_result"
    }
   ],
   "source": [
    "np.random.seed(42)\n",
    "X = boston_df.drop(\"target\",axis=1)\n",
    "Y = boston_df[\"target\"]\n",
    "\n",
    "rfregressor = RandomForestRegressor().fit(X_train_boston,Y_train_boston)\n",
    "cv_r2 = cross_val_score(rfregressor,X,Y,cv=10,scoring=\"r2\")\n",
    "cv_r2"
   ]
  },
  {
   "cell_type": "code",
   "execution_count": 117,
   "metadata": {},
   "outputs": [
    {
     "data": {
      "text/plain": [
       "-21.708031016055124"
      ]
     },
     "execution_count": 117,
     "metadata": {},
     "output_type": "execute_result"
    }
   ],
   "source": [
    "# Mean squared error\n",
    "cv_mse = cross_val_score(rfregressor,X,Y,scoring=\"neg_mean_squared_error\")\n",
    "np.mean(cv_mse)"
   ]
  },
  {
   "cell_type": "code",
   "execution_count": 118,
   "metadata": {},
   "outputs": [
    {
     "data": {
      "text/plain": [
       "array([-2.13696078, -2.65644554, -3.45683168, -3.66479208, -3.27979208])"
      ]
     },
     "execution_count": 118,
     "metadata": {},
     "output_type": "execute_result"
    }
   ],
   "source": [
    "# Mean Absolute Error\n",
    "cv_mae = cross_val_score(rfregressor,X,Y,scoring=\"neg_mean_absolute_error\")\n",
    "cv_mae"
   ]
  },
  {
   "cell_type": "markdown",
   "metadata": {},
   "source": [
    "### Evaluating using specific metrics method"
   ]
  },
  {
   "cell_type": "markdown",
   "metadata": {},
   "source": [
    "**Classification built in functions**\n"
   ]
  },
  {
   "cell_type": "code",
   "execution_count": 119,
   "metadata": {},
   "outputs": [
    {
     "name": "stdout",
     "output_type": "stream",
     "text": [
      "The classifier metrics of the model are:\n",
      "The accuracy of the model is :85.25%\n",
      "The precision of the model is:0.8484848484848485\n",
      "The recall of the model is :0.875\n",
      "The f1 score of the model is :0.8615384615384615\n"
     ]
    }
   ],
   "source": [
    "from sklearn.metrics import accuracy_score,precision_score,recall_score,f1_score\n",
    "from sklearn.ensemble import RandomForestClassifier\n",
    "from sklearn.model_selection import train_test_split\n",
    "\n",
    "np.random.seed(42)\n",
    "X=heart_disease.drop(\"target\",axis=1)\n",
    "Y = heart_disease[\"target\"]\n",
    "\n",
    "X_train,X_test,Y_train,Y_test = train_test_split(X,Y,test_size=.2)\n",
    "\n",
    "model = RandomForestClassifier().fit(X_train,Y_train)\n",
    "Y_preds = model.predict(X_test)\n",
    "\n",
    "print(\"The classifier metrics of the model are:\")\n",
    "print(f\"The accuracy of the model is :{accuracy_score(Y_test,Y_preds)*100:.2f}%\")\n",
    "print(f\"The precision of the model is:{precision_score(Y_test,Y_preds)}\")\n",
    "print(f\"The recall of the model is :{recall_score(Y_test,Y_preds)}\")\n",
    "print(f\"The f1 score of the model is :{f1_score(Y_test,Y_preds)}\")"
   ]
  },
  {
   "cell_type": "markdown",
   "metadata": {},
   "source": [
    "**Regression Evaluation using metrics functions**"
   ]
  },
  {
   "cell_type": "code",
   "execution_count": 120,
   "metadata": {},
   "outputs": [
    {
     "name": "stdout",
     "output_type": "stream",
     "text": [
      "The regression metrics of the model are:\n",
      "The coefficient of determination is:0.8739690141174031\n",
      "The Mean Absolute Error is:2.1226372549019623\n",
      "The Mean squared error is:9.242328990196082\n"
     ]
    }
   ],
   "source": [
    "from sklearn.metrics import r2_score,mean_squared_error,mean_absolute_error\n",
    "from sklearn.ensemble import RandomForestRegressor\n",
    "from sklearn.model_selection import train_test_split\n",
    "\n",
    "np.random.seed(42)\n",
    "\n",
    "X= boston_df.drop(\"target\",axis=1)\n",
    "Y = boston_df[\"target\"]\n",
    "\n",
    "X_train,X_test,Y_train,Y_test = train_test_split(X,Y,test_size = 0.2)\n",
    "\n",
    "model = RandomForestRegressor().fit(X_train,Y_train)\n",
    "Y_preds = model.predict(X_test)\n",
    "\n",
    "print(\"The regression metrics of the model are:\")\n",
    "print(f\"The coefficient of determination is:{r2_score(Y_test,Y_preds)}\")\n",
    "print(f\"The Mean Absolute Error is:{mean_absolute_error(Y_test,Y_preds)}\")\n",
    "print(f\"The Mean squared error is:{mean_squared_error(Y_test,Y_preds)}\")\n"
   ]
  },
  {
   "cell_type": "markdown",
   "metadata": {},
   "source": [
    "### Improving model\n",
    "\n",
    "The first predictions you make with a model are generally referred to as baseline predictions. The same goes with the first evaluation metrics you get. These are generally referred to as baseline metrics.\n",
    "\n",
    "Your next goal is to improve upon these baseline metrics.\n",
    "\n",
    "Two of the main methods to improve baseline metrics are from a data perspective and a model perspective.\n",
    "\n",
    "*From a data perspective asks:*\n",
    "\n",
    "* Could we collect more data? In machine learning, more data is generally better, as it gives a model more opportunities to learn patterns.\n",
    "* Could we improve our data? This could mean filling in misisng values or finding a better encoding (turning things into numbers) strategy.\n",
    "\n",
    "*From a model perspective asks:*\n",
    "\n",
    "* Is there a better model we could use? If you've started out with a simple model, could you use a more complex one? (we saw an example of this when looking at the Scikit-Learn machine learning map, ensemble methods are generally considered more complex models)\n",
    "* Could we improve the current model? If the model you're using performs well straight out of the box, can the hyperparameters be tuned to make it even better?\n",
    "\n",
    "*Note*: Patterns in data are also often referred to as data parameters. The difference between parameters and hyperparameters is a machine learning model seeks to find parameters in data on its own, where as, hyperparameters are settings on a model which a user (you) can adjust."
   ]
  },
  {
   "cell_type": "code",
   "execution_count": 121,
   "metadata": {},
   "outputs": [
    {
     "data": {
      "text/plain": [
       "<bound method BaseEstimator.get_params of RandomForestClassifier(bootstrap=True, ccp_alpha=0.0, class_weight=None,\n",
       "                       criterion='gini', max_depth=None, max_features='auto',\n",
       "                       max_leaf_nodes=None, max_samples=None,\n",
       "                       min_impurity_decrease=0.0, min_impurity_split=None,\n",
       "                       min_samples_leaf=1, min_samples_split=2,\n",
       "                       min_weight_fraction_leaf=0.0, n_estimators=100,\n",
       "                       n_jobs=None, oob_score=False, random_state=None,\n",
       "                       verbose=0, warm_start=False)>"
      ]
     },
     "execution_count": 121,
     "metadata": {},
     "output_type": "execute_result"
    }
   ],
   "source": [
    "# How to check all the parameters of a model\n",
    "\n",
    "from sklearn.ensemble import RandomForestClassifier\n",
    "model = RandomForestClassifier()\n",
    "model.get_params"
   ]
  },
  {
   "cell_type": "markdown",
   "metadata": {},
   "source": [
    "### Hyper tuning by hand/manually"
   ]
  },
  {
   "cell_type": "markdown",
   "metadata": {},
   "source": [
    "we're going to try :\n",
    "* 'max_depth'\n",
    "* 'min_samples_leaf'\n",
    "* 'min_samples_split'\n",
    "* 'max_features'\n",
    "* 'n_estimators'"
   ]
  },
  {
   "cell_type": "raw",
   "metadata": {},
   "source": []
  },
  {
   "cell_type": "code",
   "execution_count": 122,
   "metadata": {},
   "outputs": [],
   "source": [
    "# Since we want to print classification metrics quite a few times in our case 2 times we would like to construct a function\n",
    "\n",
    "def classification_evaluator(Y_true,Y_preds):\n",
    "    '''\n",
    "    The Function returns evalution metrics for a Classification model\n",
    "    '''\n",
    "    accuracy = accuracy_score(Y_true,Y_preds)\n",
    "    precision = precision_score(Y_true,Y_preds)\n",
    "    recall = recall_score(Y_true,Y_preds)\n",
    "    f1 = f1_score(Y_true,Y_preds)\n",
    "    \n",
    "#   want to return a dictionary with the key values\n",
    "    metrics_dict = {\"Accuracy\": round(accuracy,2),\n",
    "                    \"Precision\": round(precision,2),\n",
    "                    \"Recall\": round(recall,2),\n",
    "                    \"F1_score\":f1}\n",
    "    \n",
    "    print(f\"Acc:{accuracy*100:2f}%\")\n",
    "    print(f\"Precision:{precision}\")\n",
    "    print(f\"Recall:{recall}\")\n",
    "    print(f\"F1_score:{f1}\")\n",
    "    \n",
    "    return metrics_dict "
   ]
  },
  {
   "cell_type": "code",
   "execution_count": 123,
   "metadata": {},
   "outputs": [],
   "source": [
    "# We will be splitting data into train_set validate_set and test_set manually\n",
    "shuffled_heart_disease = heart_disease.sample(frac=1) # Shuffling the data to avoid a sequential split\n",
    "\n",
    "X = shuffled_heart_disease.drop(\"target\",axis = 1)\n",
    "Y = shuffled_heart_disease[\"target\"]\n",
    "\n",
    "train_set = round(.7 *len(shuffled_heart_disease)) # we need values to split(Slice)\n",
    "validate_set = round(train_set+0.15*len(shuffled_heart_disease))\n",
    "\n",
    "X_train,Y_train = X[:train_set] , Y[:train_set]\n",
    "X_validate , Y_validate = X[train_set:validate_set] , Y[train_set:validate_set]\n",
    "X_test , Y_test = X[validate_set:] , Y[validate_set:]"
   ]
  },
  {
   "cell_type": "code",
   "execution_count": 124,
   "metadata": {},
   "outputs": [
    {
     "data": {
      "text/plain": [
       "(46, 45, 212)"
      ]
     },
     "execution_count": 124,
     "metadata": {},
     "output_type": "execute_result"
    }
   ],
   "source": [
    "len(X_test),len(X_validate),len(X_train)"
   ]
  },
  {
   "cell_type": "code",
   "execution_count": 125,
   "metadata": {},
   "outputs": [],
   "source": [
    "rfclf = RandomForestClassifier().fit(X_train,Y_train)\n",
    "Y_preds = rfclf.predict(X_validate)"
   ]
  },
  {
   "cell_type": "code",
   "execution_count": 126,
   "metadata": {},
   "outputs": [
    {
     "name": "stdout",
     "output_type": "stream",
     "text": [
      "Acc:80.000000%\n",
      "Precision:0.7586206896551724\n",
      "Recall:0.9166666666666666\n",
      "F1_score:0.830188679245283\n"
     ]
    }
   ],
   "source": [
    "baseline_metrics = classification_evaluator(Y_validate,Y_preds)"
   ]
  },
  {
   "cell_type": "code",
   "execution_count": 127,
   "metadata": {},
   "outputs": [
    {
     "data": {
      "text/plain": [
       "RandomForestClassifier(bootstrap=True, ccp_alpha=0.0, class_weight=None,\n",
       "                       criterion='gini', max_depth=None, max_features='auto',\n",
       "                       max_leaf_nodes=None, max_samples=None,\n",
       "                       min_impurity_decrease=0.0, min_impurity_split=None,\n",
       "                       min_samples_leaf=1, min_samples_split=2,\n",
       "                       min_weight_fraction_leaf=0.0, n_estimators=1000,\n",
       "                       n_jobs=None, oob_score=False, random_state=None,\n",
       "                       verbose=0, warm_start=False)"
      ]
     },
     "execution_count": 127,
     "metadata": {},
     "output_type": "execute_result"
    }
   ],
   "source": [
    "# lets initiate another model with n_estimators = 1000\n",
    "rfclf2 = RandomForestClassifier(n_estimators = 1000)\n",
    "rfclf2.fit(X_train,Y_train)"
   ]
  },
  {
   "cell_type": "code",
   "execution_count": 128,
   "metadata": {},
   "outputs": [],
   "source": [
    "Y_preds_2 = rfclf2.predict(X_validate)"
   ]
  },
  {
   "cell_type": "code",
   "execution_count": 129,
   "metadata": {},
   "outputs": [
    {
     "name": "stdout",
     "output_type": "stream",
     "text": [
      "Acc:80.000000%\n",
      "Precision:0.7419354838709677\n",
      "Recall:0.9583333333333334\n",
      "F1_score:0.8363636363636364\n"
     ]
    }
   ],
   "source": [
    "base_metrics_2 = classification_evaluator(Y_validate,Y_preds_2) "
   ]
  },
  {
   "cell_type": "code",
   "execution_count": 130,
   "metadata": {},
   "outputs": [],
   "source": [
    "# n_estimators is not improving pur model "
   ]
  },
  {
   "cell_type": "code",
   "execution_count": 131,
   "metadata": {},
   "outputs": [
    {
     "name": "stdout",
     "output_type": "stream",
     "text": [
      "Acc:77.777778%\n",
      "Precision:0.7333333333333333\n",
      "Recall:0.9166666666666666\n",
      "F1_score:0.8148148148148148\n"
     ]
    }
   ],
   "source": [
    "# lets try max_depth\n",
    "rfclf_3 = RandomForestClassifier(max_depth=100)\n",
    "rfclf_3.fit(X_train,Y_train)\n",
    "Y_preds_3 = rfclf_3.predict(X_validate)\n",
    "basline_metrics_3 = classification_evaluator(Y_validate,Y_preds_3)"
   ]
  },
  {
   "cell_type": "code",
   "execution_count": 132,
   "metadata": {},
   "outputs": [],
   "source": [
    "# Hyper tuning by hand is taking lots of time lets use automatic ways"
   ]
  },
  {
   "cell_type": "markdown",
   "metadata": {},
   "source": [
    "### Hyperparameter tuning using RandomisedSearchCV"
   ]
  },
  {
   "cell_type": "code",
   "execution_count": 133,
   "metadata": {},
   "outputs": [
    {
     "name": "stdout",
     "output_type": "stream",
     "text": [
      "Fitting 5 folds for each of 10 candidates, totalling 50 fits\n",
      "[CV] n_estimators=1000, min_samples_split=4, min_samples_leaf=4, max_features=sqrt, max_depth=None \n"
     ]
    },
    {
     "name": "stderr",
     "output_type": "stream",
     "text": [
      "[Parallel(n_jobs=1)]: Using backend SequentialBackend with 1 concurrent workers.\n"
     ]
    },
    {
     "name": "stdout",
     "output_type": "stream",
     "text": [
      "[CV]  n_estimators=1000, min_samples_split=4, min_samples_leaf=4, max_features=sqrt, max_depth=None, total=   3.0s\n",
      "[CV] n_estimators=1000, min_samples_split=4, min_samples_leaf=4, max_features=sqrt, max_depth=None \n"
     ]
    },
    {
     "name": "stderr",
     "output_type": "stream",
     "text": [
      "[Parallel(n_jobs=1)]: Done   1 out of   1 | elapsed:    2.9s remaining:    0.0s\n"
     ]
    },
    {
     "name": "stdout",
     "output_type": "stream",
     "text": [
      "[CV]  n_estimators=1000, min_samples_split=4, min_samples_leaf=4, max_features=sqrt, max_depth=None, total=   2.9s\n",
      "[CV] n_estimators=1000, min_samples_split=4, min_samples_leaf=4, max_features=sqrt, max_depth=None \n",
      "[CV]  n_estimators=1000, min_samples_split=4, min_samples_leaf=4, max_features=sqrt, max_depth=None, total=   2.6s\n",
      "[CV] n_estimators=1000, min_samples_split=4, min_samples_leaf=4, max_features=sqrt, max_depth=None \n",
      "[CV]  n_estimators=1000, min_samples_split=4, min_samples_leaf=4, max_features=sqrt, max_depth=None, total=   2.6s\n",
      "[CV] n_estimators=1000, min_samples_split=4, min_samples_leaf=4, max_features=sqrt, max_depth=None \n",
      "[CV]  n_estimators=1000, min_samples_split=4, min_samples_leaf=4, max_features=sqrt, max_depth=None, total=   2.7s\n",
      "[CV] n_estimators=200, min_samples_split=2, min_samples_leaf=4, max_features=sqrt, max_depth=20 \n",
      "[CV]  n_estimators=200, min_samples_split=2, min_samples_leaf=4, max_features=sqrt, max_depth=20, total=   0.5s\n",
      "[CV] n_estimators=200, min_samples_split=2, min_samples_leaf=4, max_features=sqrt, max_depth=20 \n",
      "[CV]  n_estimators=200, min_samples_split=2, min_samples_leaf=4, max_features=sqrt, max_depth=20, total=   0.5s\n",
      "[CV] n_estimators=200, min_samples_split=2, min_samples_leaf=4, max_features=sqrt, max_depth=20 \n",
      "[CV]  n_estimators=200, min_samples_split=2, min_samples_leaf=4, max_features=sqrt, max_depth=20, total=   0.5s\n",
      "[CV] n_estimators=200, min_samples_split=2, min_samples_leaf=4, max_features=sqrt, max_depth=20 \n",
      "[CV]  n_estimators=200, min_samples_split=2, min_samples_leaf=4, max_features=sqrt, max_depth=20, total=   0.5s\n",
      "[CV] n_estimators=200, min_samples_split=2, min_samples_leaf=4, max_features=sqrt, max_depth=20 \n",
      "[CV]  n_estimators=200, min_samples_split=2, min_samples_leaf=4, max_features=sqrt, max_depth=20, total=   0.5s\n",
      "[CV] n_estimators=500, min_samples_split=2, min_samples_leaf=6, max_features=sqrt, max_depth=5 \n",
      "[CV]  n_estimators=500, min_samples_split=2, min_samples_leaf=6, max_features=sqrt, max_depth=5, total=   1.3s\n",
      "[CV] n_estimators=500, min_samples_split=2, min_samples_leaf=6, max_features=sqrt, max_depth=5 \n",
      "[CV]  n_estimators=500, min_samples_split=2, min_samples_leaf=6, max_features=sqrt, max_depth=5, total=   1.5s\n",
      "[CV] n_estimators=500, min_samples_split=2, min_samples_leaf=6, max_features=sqrt, max_depth=5 \n",
      "[CV]  n_estimators=500, min_samples_split=2, min_samples_leaf=6, max_features=sqrt, max_depth=5, total=   1.4s\n",
      "[CV] n_estimators=500, min_samples_split=2, min_samples_leaf=6, max_features=sqrt, max_depth=5 \n",
      "[CV]  n_estimators=500, min_samples_split=2, min_samples_leaf=6, max_features=sqrt, max_depth=5, total=   1.5s\n",
      "[CV] n_estimators=500, min_samples_split=2, min_samples_leaf=6, max_features=sqrt, max_depth=5 \n",
      "[CV]  n_estimators=500, min_samples_split=2, min_samples_leaf=6, max_features=sqrt, max_depth=5, total=   1.3s\n",
      "[CV] n_estimators=500, min_samples_split=4, min_samples_leaf=6, max_features=auto, max_depth=30 \n",
      "[CV]  n_estimators=500, min_samples_split=4, min_samples_leaf=6, max_features=auto, max_depth=30, total=   1.3s\n",
      "[CV] n_estimators=500, min_samples_split=4, min_samples_leaf=6, max_features=auto, max_depth=30 \n",
      "[CV]  n_estimators=500, min_samples_split=4, min_samples_leaf=6, max_features=auto, max_depth=30, total=   1.4s\n",
      "[CV] n_estimators=500, min_samples_split=4, min_samples_leaf=6, max_features=auto, max_depth=30 \n",
      "[CV]  n_estimators=500, min_samples_split=4, min_samples_leaf=6, max_features=auto, max_depth=30, total=   1.5s\n",
      "[CV] n_estimators=500, min_samples_split=4, min_samples_leaf=6, max_features=auto, max_depth=30 \n",
      "[CV]  n_estimators=500, min_samples_split=4, min_samples_leaf=6, max_features=auto, max_depth=30, total=   1.4s\n",
      "[CV] n_estimators=500, min_samples_split=4, min_samples_leaf=6, max_features=auto, max_depth=30 \n",
      "[CV]  n_estimators=500, min_samples_split=4, min_samples_leaf=6, max_features=auto, max_depth=30, total=   1.4s\n",
      "[CV] n_estimators=10, min_samples_split=4, min_samples_leaf=4, max_features=auto, max_depth=5 \n",
      "[CV]  n_estimators=10, min_samples_split=4, min_samples_leaf=4, max_features=auto, max_depth=5, total=   0.0s\n",
      "[CV] n_estimators=10, min_samples_split=4, min_samples_leaf=4, max_features=auto, max_depth=5 \n",
      "[CV]  n_estimators=10, min_samples_split=4, min_samples_leaf=4, max_features=auto, max_depth=5, total=   0.0s\n",
      "[CV] n_estimators=10, min_samples_split=4, min_samples_leaf=4, max_features=auto, max_depth=5 \n",
      "[CV]  n_estimators=10, min_samples_split=4, min_samples_leaf=4, max_features=auto, max_depth=5, total=   0.0s\n",
      "[CV] n_estimators=10, min_samples_split=4, min_samples_leaf=4, max_features=auto, max_depth=5 \n",
      "[CV]  n_estimators=10, min_samples_split=4, min_samples_leaf=4, max_features=auto, max_depth=5, total=   0.0s\n",
      "[CV] n_estimators=10, min_samples_split=4, min_samples_leaf=4, max_features=auto, max_depth=5 \n",
      "[CV]  n_estimators=10, min_samples_split=4, min_samples_leaf=4, max_features=auto, max_depth=5, total=   0.0s\n",
      "[CV] n_estimators=100, min_samples_split=2, min_samples_leaf=6, max_features=auto, max_depth=5 \n",
      "[CV]  n_estimators=100, min_samples_split=2, min_samples_leaf=6, max_features=auto, max_depth=5, total=   0.2s\n",
      "[CV] n_estimators=100, min_samples_split=2, min_samples_leaf=6, max_features=auto, max_depth=5 \n",
      "[CV]  n_estimators=100, min_samples_split=2, min_samples_leaf=6, max_features=auto, max_depth=5, total=   0.3s\n",
      "[CV] n_estimators=100, min_samples_split=2, min_samples_leaf=6, max_features=auto, max_depth=5 \n",
      "[CV]  n_estimators=100, min_samples_split=2, min_samples_leaf=6, max_features=auto, max_depth=5, total=   0.2s\n",
      "[CV] n_estimators=100, min_samples_split=2, min_samples_leaf=6, max_features=auto, max_depth=5 \n",
      "[CV]  n_estimators=100, min_samples_split=2, min_samples_leaf=6, max_features=auto, max_depth=5, total=   0.2s\n",
      "[CV] n_estimators=100, min_samples_split=2, min_samples_leaf=6, max_features=auto, max_depth=5 \n",
      "[CV]  n_estimators=100, min_samples_split=2, min_samples_leaf=6, max_features=auto, max_depth=5, total=   0.2s\n",
      "[CV] n_estimators=500, min_samples_split=2, min_samples_leaf=6, max_features=sqrt, max_depth=30 \n",
      "[CV]  n_estimators=500, min_samples_split=2, min_samples_leaf=6, max_features=sqrt, max_depth=30, total=   1.5s\n",
      "[CV] n_estimators=500, min_samples_split=2, min_samples_leaf=6, max_features=sqrt, max_depth=30 \n",
      "[CV]  n_estimators=500, min_samples_split=2, min_samples_leaf=6, max_features=sqrt, max_depth=30, total=   1.4s\n",
      "[CV] n_estimators=500, min_samples_split=2, min_samples_leaf=6, max_features=sqrt, max_depth=30 \n",
      "[CV]  n_estimators=500, min_samples_split=2, min_samples_leaf=6, max_features=sqrt, max_depth=30, total=   1.3s\n",
      "[CV] n_estimators=500, min_samples_split=2, min_samples_leaf=6, max_features=sqrt, max_depth=30 \n",
      "[CV]  n_estimators=500, min_samples_split=2, min_samples_leaf=6, max_features=sqrt, max_depth=30, total=   1.3s\n",
      "[CV] n_estimators=500, min_samples_split=2, min_samples_leaf=6, max_features=sqrt, max_depth=30 \n",
      "[CV]  n_estimators=500, min_samples_split=2, min_samples_leaf=6, max_features=sqrt, max_depth=30, total=   1.3s\n",
      "[CV] n_estimators=10, min_samples_split=4, min_samples_leaf=4, max_features=auto, max_depth=20 \n",
      "[CV]  n_estimators=10, min_samples_split=4, min_samples_leaf=4, max_features=auto, max_depth=20, total=   0.0s\n",
      "[CV] n_estimators=10, min_samples_split=4, min_samples_leaf=4, max_features=auto, max_depth=20 \n",
      "[CV]  n_estimators=10, min_samples_split=4, min_samples_leaf=4, max_features=auto, max_depth=20, total=   0.0s\n",
      "[CV] n_estimators=10, min_samples_split=4, min_samples_leaf=4, max_features=auto, max_depth=20 \n",
      "[CV]  n_estimators=10, min_samples_split=4, min_samples_leaf=4, max_features=auto, max_depth=20, total=   0.0s\n",
      "[CV] n_estimators=10, min_samples_split=4, min_samples_leaf=4, max_features=auto, max_depth=20 \n",
      "[CV]  n_estimators=10, min_samples_split=4, min_samples_leaf=4, max_features=auto, max_depth=20, total=   0.0s\n",
      "[CV] n_estimators=10, min_samples_split=4, min_samples_leaf=4, max_features=auto, max_depth=20 \n",
      "[CV]  n_estimators=10, min_samples_split=4, min_samples_leaf=4, max_features=auto, max_depth=20, total=   0.0s\n",
      "[CV] n_estimators=10, min_samples_split=2, min_samples_leaf=2, max_features=auto, max_depth=5 \n",
      "[CV]  n_estimators=10, min_samples_split=2, min_samples_leaf=2, max_features=auto, max_depth=5, total=   0.0s\n",
      "[CV] n_estimators=10, min_samples_split=2, min_samples_leaf=2, max_features=auto, max_depth=5 \n"
     ]
    },
    {
     "name": "stdout",
     "output_type": "stream",
     "text": [
      "[CV]  n_estimators=10, min_samples_split=2, min_samples_leaf=2, max_features=auto, max_depth=5, total=   0.0s\n",
      "[CV] n_estimators=10, min_samples_split=2, min_samples_leaf=2, max_features=auto, max_depth=5 \n",
      "[CV]  n_estimators=10, min_samples_split=2, min_samples_leaf=2, max_features=auto, max_depth=5, total=   0.0s\n",
      "[CV] n_estimators=10, min_samples_split=2, min_samples_leaf=2, max_features=auto, max_depth=5 \n",
      "[CV]  n_estimators=10, min_samples_split=2, min_samples_leaf=2, max_features=auto, max_depth=5, total=   0.0s\n",
      "[CV] n_estimators=10, min_samples_split=2, min_samples_leaf=2, max_features=auto, max_depth=5 \n",
      "[CV]  n_estimators=10, min_samples_split=2, min_samples_leaf=2, max_features=auto, max_depth=5, total=   0.0s\n",
      "[CV] n_estimators=100, min_samples_split=2, min_samples_leaf=6, max_features=auto, max_depth=20 \n",
      "[CV]  n_estimators=100, min_samples_split=2, min_samples_leaf=6, max_features=auto, max_depth=20, total=   0.2s\n",
      "[CV] n_estimators=100, min_samples_split=2, min_samples_leaf=6, max_features=auto, max_depth=20 \n",
      "[CV]  n_estimators=100, min_samples_split=2, min_samples_leaf=6, max_features=auto, max_depth=20, total=   0.3s\n",
      "[CV] n_estimators=100, min_samples_split=2, min_samples_leaf=6, max_features=auto, max_depth=20 \n",
      "[CV]  n_estimators=100, min_samples_split=2, min_samples_leaf=6, max_features=auto, max_depth=20, total=   0.2s\n",
      "[CV] n_estimators=100, min_samples_split=2, min_samples_leaf=6, max_features=auto, max_depth=20 \n",
      "[CV]  n_estimators=100, min_samples_split=2, min_samples_leaf=6, max_features=auto, max_depth=20, total=   0.2s\n",
      "[CV] n_estimators=100, min_samples_split=2, min_samples_leaf=6, max_features=auto, max_depth=20 \n",
      "[CV]  n_estimators=100, min_samples_split=2, min_samples_leaf=6, max_features=auto, max_depth=20, total=   0.3s\n"
     ]
    },
    {
     "name": "stderr",
     "output_type": "stream",
     "text": [
      "[Parallel(n_jobs=1)]: Done  50 out of  50 | elapsed:   39.9s finished\n"
     ]
    },
    {
     "data": {
      "text/plain": [
       "RandomizedSearchCV(cv=5, error_score=nan,\n",
       "                   estimator=RandomForestClassifier(bootstrap=True,\n",
       "                                                    ccp_alpha=0.0,\n",
       "                                                    class_weight=None,\n",
       "                                                    criterion='gini',\n",
       "                                                    max_depth=None,\n",
       "                                                    max_features='auto',\n",
       "                                                    max_leaf_nodes=None,\n",
       "                                                    max_samples=None,\n",
       "                                                    min_impurity_decrease=0.0,\n",
       "                                                    min_impurity_split=None,\n",
       "                                                    min_samples_leaf=1,\n",
       "                                                    min_samples_split=2,\n",
       "                                                    min_weight_fraction_leaf=0.0,\n",
       "                                                    n_estimators=100, n_jobs...\n",
       "                                                    random_state=None,\n",
       "                                                    verbose=0,\n",
       "                                                    warm_start=False),\n",
       "                   iid='deprecated', n_iter=10, n_jobs=None,\n",
       "                   param_distributions={'max_depth': [None, 5, 10, 20, 30],\n",
       "                                        'max_features': ['auto', 'sqrt'],\n",
       "                                        'min_samples_leaf': [2, 4, 6],\n",
       "                                        'min_samples_split': [2, 4],\n",
       "                                        'n_estimators': [10, 100, 200, 500,\n",
       "                                                         1000, 1200]},\n",
       "                   pre_dispatch='2*n_jobs', random_state=None, refit=True,\n",
       "                   return_train_score=False, scoring=None, verbose=2)"
      ]
     },
     "execution_count": 133,
     "metadata": {},
     "output_type": "execute_result"
    }
   ],
   "source": [
    "from sklearn.model_selection import RandomizedSearchCV,train_test_split\n",
    "\n",
    "np.random.seed(42)\n",
    "\n",
    "X = heart_disease.drop(\"target\",axis= 1)\n",
    "Y = heart_disease[\"target\"]\n",
    "\n",
    "Grid = {\"n_estimators\":[10,100,200,500,1000,1200],\n",
    "        \"min_samples_leaf\":[2,4,6],\n",
    "        \"max_depth\":[None,5,10,20,30],\n",
    "        \"min_samples_split\":[2,4],\n",
    "        \"max_features\":[\"auto\",\"sqrt\"]}\n",
    "X_train,X_test,Y_train,Y_test = train_test_split(X,Y,test_size=0.2)\n",
    "rfclf = RandomForestClassifier(n_jobs=1)\n",
    "\n",
    "rs_rfclf = RandomizedSearchCV(estimator=rfclf,\n",
    "                           n_iter=10,\n",
    "                           param_distributions=Grid,\n",
    "                           cv=5,\n",
    "                           verbose=2)\n",
    "\n",
    "# Fit the randomised cv model\n",
    "rs_rfclf.fit(X_train,Y_train)"
   ]
  },
  {
   "cell_type": "code",
   "execution_count": 134,
   "metadata": {},
   "outputs": [
    {
     "data": {
      "text/plain": [
       "{'n_estimators': 100,\n",
       " 'min_samples_split': 2,\n",
       " 'min_samples_leaf': 6,\n",
       " 'max_features': 'auto',\n",
       " 'max_depth': 20}"
      ]
     },
     "execution_count": 134,
     "metadata": {},
     "output_type": "execute_result"
    }
   ],
   "source": [
    "rs_rfclf.best_params_"
   ]
  },
  {
   "cell_type": "code",
   "execution_count": 135,
   "metadata": {},
   "outputs": [
    {
     "name": "stdout",
     "output_type": "stream",
     "text": [
      "Acc:86.885246%\n",
      "Precision:0.8529411764705882\n",
      "Recall:0.90625\n",
      "F1_score:0.8787878787878787\n"
     ]
    }
   ],
   "source": [
    "rs_Y_preds = rs_rfclf.predict(X_test)\n",
    "rs_metrics = classification_evaluator(Y_test,rs_Y_preds)"
   ]
  },
  {
   "cell_type": "markdown",
   "metadata": {},
   "source": [
    "### Hyperparamater tuning using GridSearchCV\n",
    "GridSearchCV is like bruteforce it tries all the combinations in the grid"
   ]
  },
  {
   "cell_type": "code",
   "execution_count": 136,
   "metadata": {},
   "outputs": [
    {
     "name": "stdout",
     "output_type": "stream",
     "text": [
      "Fitting 5 folds for each of 72 candidates, totalling 360 fits\n",
      "[CV] max_depth=5, max_features=auto, min_samples_leaf=4, min_samples_split=2, n_estimators=100 \n"
     ]
    },
    {
     "name": "stderr",
     "output_type": "stream",
     "text": [
      "[Parallel(n_jobs=1)]: Using backend SequentialBackend with 1 concurrent workers.\n"
     ]
    },
    {
     "name": "stdout",
     "output_type": "stream",
     "text": [
      "[CV]  max_depth=5, max_features=auto, min_samples_leaf=4, min_samples_split=2, n_estimators=100, total=   0.2s\n",
      "[CV] max_depth=5, max_features=auto, min_samples_leaf=4, min_samples_split=2, n_estimators=100 \n"
     ]
    },
    {
     "name": "stderr",
     "output_type": "stream",
     "text": [
      "[Parallel(n_jobs=1)]: Done   1 out of   1 | elapsed:    0.1s remaining:    0.0s\n"
     ]
    },
    {
     "name": "stdout",
     "output_type": "stream",
     "text": [
      "[CV]  max_depth=5, max_features=auto, min_samples_leaf=4, min_samples_split=2, n_estimators=100, total=   0.2s\n",
      "[CV] max_depth=5, max_features=auto, min_samples_leaf=4, min_samples_split=2, n_estimators=100 \n",
      "[CV]  max_depth=5, max_features=auto, min_samples_leaf=4, min_samples_split=2, n_estimators=100, total=   0.2s\n",
      "[CV] max_depth=5, max_features=auto, min_samples_leaf=4, min_samples_split=2, n_estimators=100 \n",
      "[CV]  max_depth=5, max_features=auto, min_samples_leaf=4, min_samples_split=2, n_estimators=100, total=   0.3s\n",
      "[CV] max_depth=5, max_features=auto, min_samples_leaf=4, min_samples_split=2, n_estimators=100 \n",
      "[CV]  max_depth=5, max_features=auto, min_samples_leaf=4, min_samples_split=2, n_estimators=100, total=   0.3s\n",
      "[CV] max_depth=5, max_features=auto, min_samples_leaf=4, min_samples_split=2, n_estimators=200 \n",
      "[CV]  max_depth=5, max_features=auto, min_samples_leaf=4, min_samples_split=2, n_estimators=200, total=   0.5s\n",
      "[CV] max_depth=5, max_features=auto, min_samples_leaf=4, min_samples_split=2, n_estimators=200 \n",
      "[CV]  max_depth=5, max_features=auto, min_samples_leaf=4, min_samples_split=2, n_estimators=200, total=   0.5s\n",
      "[CV] max_depth=5, max_features=auto, min_samples_leaf=4, min_samples_split=2, n_estimators=200 \n",
      "[CV]  max_depth=5, max_features=auto, min_samples_leaf=4, min_samples_split=2, n_estimators=200, total=   0.5s\n",
      "[CV] max_depth=5, max_features=auto, min_samples_leaf=4, min_samples_split=2, n_estimators=200 \n",
      "[CV]  max_depth=5, max_features=auto, min_samples_leaf=4, min_samples_split=2, n_estimators=200, total=   0.5s\n",
      "[CV] max_depth=5, max_features=auto, min_samples_leaf=4, min_samples_split=2, n_estimators=200 \n",
      "[CV]  max_depth=5, max_features=auto, min_samples_leaf=4, min_samples_split=2, n_estimators=200, total=   0.5s\n",
      "[CV] max_depth=5, max_features=auto, min_samples_leaf=4, min_samples_split=2, n_estimators=500 \n",
      "[CV]  max_depth=5, max_features=auto, min_samples_leaf=4, min_samples_split=2, n_estimators=500, total=   1.5s\n",
      "[CV] max_depth=5, max_features=auto, min_samples_leaf=4, min_samples_split=2, n_estimators=500 \n",
      "[CV]  max_depth=5, max_features=auto, min_samples_leaf=4, min_samples_split=2, n_estimators=500, total=   1.3s\n",
      "[CV] max_depth=5, max_features=auto, min_samples_leaf=4, min_samples_split=2, n_estimators=500 \n",
      "[CV]  max_depth=5, max_features=auto, min_samples_leaf=4, min_samples_split=2, n_estimators=500, total=   1.4s\n",
      "[CV] max_depth=5, max_features=auto, min_samples_leaf=4, min_samples_split=2, n_estimators=500 \n",
      "[CV]  max_depth=5, max_features=auto, min_samples_leaf=4, min_samples_split=2, n_estimators=500, total=   1.4s\n",
      "[CV] max_depth=5, max_features=auto, min_samples_leaf=4, min_samples_split=2, n_estimators=500 \n",
      "[CV]  max_depth=5, max_features=auto, min_samples_leaf=4, min_samples_split=2, n_estimators=500, total=   1.3s\n",
      "[CV] max_depth=5, max_features=auto, min_samples_leaf=4, min_samples_split=4, n_estimators=100 \n",
      "[CV]  max_depth=5, max_features=auto, min_samples_leaf=4, min_samples_split=4, n_estimators=100, total=   0.2s\n",
      "[CV] max_depth=5, max_features=auto, min_samples_leaf=4, min_samples_split=4, n_estimators=100 \n",
      "[CV]  max_depth=5, max_features=auto, min_samples_leaf=4, min_samples_split=4, n_estimators=100, total=   0.3s\n",
      "[CV] max_depth=5, max_features=auto, min_samples_leaf=4, min_samples_split=4, n_estimators=100 \n",
      "[CV]  max_depth=5, max_features=auto, min_samples_leaf=4, min_samples_split=4, n_estimators=100, total=   0.3s\n",
      "[CV] max_depth=5, max_features=auto, min_samples_leaf=4, min_samples_split=4, n_estimators=100 \n",
      "[CV]  max_depth=5, max_features=auto, min_samples_leaf=4, min_samples_split=4, n_estimators=100, total=   0.3s\n",
      "[CV] max_depth=5, max_features=auto, min_samples_leaf=4, min_samples_split=4, n_estimators=100 \n",
      "[CV]  max_depth=5, max_features=auto, min_samples_leaf=4, min_samples_split=4, n_estimators=100, total=   0.3s\n",
      "[CV] max_depth=5, max_features=auto, min_samples_leaf=4, min_samples_split=4, n_estimators=200 \n",
      "[CV]  max_depth=5, max_features=auto, min_samples_leaf=4, min_samples_split=4, n_estimators=200, total=   0.6s\n",
      "[CV] max_depth=5, max_features=auto, min_samples_leaf=4, min_samples_split=4, n_estimators=200 \n",
      "[CV]  max_depth=5, max_features=auto, min_samples_leaf=4, min_samples_split=4, n_estimators=200, total=   0.5s\n",
      "[CV] max_depth=5, max_features=auto, min_samples_leaf=4, min_samples_split=4, n_estimators=200 \n",
      "[CV]  max_depth=5, max_features=auto, min_samples_leaf=4, min_samples_split=4, n_estimators=200, total=   0.5s\n",
      "[CV] max_depth=5, max_features=auto, min_samples_leaf=4, min_samples_split=4, n_estimators=200 \n",
      "[CV]  max_depth=5, max_features=auto, min_samples_leaf=4, min_samples_split=4, n_estimators=200, total=   0.5s\n",
      "[CV] max_depth=5, max_features=auto, min_samples_leaf=4, min_samples_split=4, n_estimators=200 \n",
      "[CV]  max_depth=5, max_features=auto, min_samples_leaf=4, min_samples_split=4, n_estimators=200, total=   0.5s\n",
      "[CV] max_depth=5, max_features=auto, min_samples_leaf=4, min_samples_split=4, n_estimators=500 \n",
      "[CV]  max_depth=5, max_features=auto, min_samples_leaf=4, min_samples_split=4, n_estimators=500, total=   1.4s\n",
      "[CV] max_depth=5, max_features=auto, min_samples_leaf=4, min_samples_split=4, n_estimators=500 \n",
      "[CV]  max_depth=5, max_features=auto, min_samples_leaf=4, min_samples_split=4, n_estimators=500, total=   1.9s\n",
      "[CV] max_depth=5, max_features=auto, min_samples_leaf=4, min_samples_split=4, n_estimators=500 \n",
      "[CV]  max_depth=5, max_features=auto, min_samples_leaf=4, min_samples_split=4, n_estimators=500, total=   1.3s\n",
      "[CV] max_depth=5, max_features=auto, min_samples_leaf=4, min_samples_split=4, n_estimators=500 \n",
      "[CV]  max_depth=5, max_features=auto, min_samples_leaf=4, min_samples_split=4, n_estimators=500, total=   1.2s\n",
      "[CV] max_depth=5, max_features=auto, min_samples_leaf=4, min_samples_split=4, n_estimators=500 \n",
      "[CV]  max_depth=5, max_features=auto, min_samples_leaf=4, min_samples_split=4, n_estimators=500, total=   1.3s\n",
      "[CV] max_depth=5, max_features=auto, min_samples_leaf=6, min_samples_split=2, n_estimators=100 \n",
      "[CV]  max_depth=5, max_features=auto, min_samples_leaf=6, min_samples_split=2, n_estimators=100, total=   0.3s\n",
      "[CV] max_depth=5, max_features=auto, min_samples_leaf=6, min_samples_split=2, n_estimators=100 \n",
      "[CV]  max_depth=5, max_features=auto, min_samples_leaf=6, min_samples_split=2, n_estimators=100, total=   0.2s\n",
      "[CV] max_depth=5, max_features=auto, min_samples_leaf=6, min_samples_split=2, n_estimators=100 \n",
      "[CV]  max_depth=5, max_features=auto, min_samples_leaf=6, min_samples_split=2, n_estimators=100, total=   0.3s\n",
      "[CV] max_depth=5, max_features=auto, min_samples_leaf=6, min_samples_split=2, n_estimators=100 \n",
      "[CV]  max_depth=5, max_features=auto, min_samples_leaf=6, min_samples_split=2, n_estimators=100, total=   0.2s\n",
      "[CV] max_depth=5, max_features=auto, min_samples_leaf=6, min_samples_split=2, n_estimators=100 \n",
      "[CV]  max_depth=5, max_features=auto, min_samples_leaf=6, min_samples_split=2, n_estimators=100, total=   0.3s\n",
      "[CV] max_depth=5, max_features=auto, min_samples_leaf=6, min_samples_split=2, n_estimators=200 \n",
      "[CV]  max_depth=5, max_features=auto, min_samples_leaf=6, min_samples_split=2, n_estimators=200, total=   0.5s\n",
      "[CV] max_depth=5, max_features=auto, min_samples_leaf=6, min_samples_split=2, n_estimators=200 \n",
      "[CV]  max_depth=5, max_features=auto, min_samples_leaf=6, min_samples_split=2, n_estimators=200, total=   0.5s\n",
      "[CV] max_depth=5, max_features=auto, min_samples_leaf=6, min_samples_split=2, n_estimators=200 \n",
      "[CV]  max_depth=5, max_features=auto, min_samples_leaf=6, min_samples_split=2, n_estimators=200, total=   0.5s\n",
      "[CV] max_depth=5, max_features=auto, min_samples_leaf=6, min_samples_split=2, n_estimators=200 \n",
      "[CV]  max_depth=5, max_features=auto, min_samples_leaf=6, min_samples_split=2, n_estimators=200, total=   0.5s\n",
      "[CV] max_depth=5, max_features=auto, min_samples_leaf=6, min_samples_split=2, n_estimators=200 \n",
      "[CV]  max_depth=5, max_features=auto, min_samples_leaf=6, min_samples_split=2, n_estimators=200, total=   0.5s\n",
      "[CV] max_depth=5, max_features=auto, min_samples_leaf=6, min_samples_split=2, n_estimators=500 \n",
      "[CV]  max_depth=5, max_features=auto, min_samples_leaf=6, min_samples_split=2, n_estimators=500, total=   1.3s\n",
      "[CV] max_depth=5, max_features=auto, min_samples_leaf=6, min_samples_split=2, n_estimators=500 \n"
     ]
    },
    {
     "name": "stdout",
     "output_type": "stream",
     "text": [
      "[CV]  max_depth=5, max_features=auto, min_samples_leaf=6, min_samples_split=2, n_estimators=500, total=   1.3s\n",
      "[CV] max_depth=5, max_features=auto, min_samples_leaf=6, min_samples_split=2, n_estimators=500 \n",
      "[CV]  max_depth=5, max_features=auto, min_samples_leaf=6, min_samples_split=2, n_estimators=500, total=   1.3s\n",
      "[CV] max_depth=5, max_features=auto, min_samples_leaf=6, min_samples_split=2, n_estimators=500 \n",
      "[CV]  max_depth=5, max_features=auto, min_samples_leaf=6, min_samples_split=2, n_estimators=500, total=   1.3s\n",
      "[CV] max_depth=5, max_features=auto, min_samples_leaf=6, min_samples_split=2, n_estimators=500 \n",
      "[CV]  max_depth=5, max_features=auto, min_samples_leaf=6, min_samples_split=2, n_estimators=500, total=   1.3s\n",
      "[CV] max_depth=5, max_features=auto, min_samples_leaf=6, min_samples_split=4, n_estimators=100 \n",
      "[CV]  max_depth=5, max_features=auto, min_samples_leaf=6, min_samples_split=4, n_estimators=100, total=   0.3s\n",
      "[CV] max_depth=5, max_features=auto, min_samples_leaf=6, min_samples_split=4, n_estimators=100 \n",
      "[CV]  max_depth=5, max_features=auto, min_samples_leaf=6, min_samples_split=4, n_estimators=100, total=   0.3s\n",
      "[CV] max_depth=5, max_features=auto, min_samples_leaf=6, min_samples_split=4, n_estimators=100 \n",
      "[CV]  max_depth=5, max_features=auto, min_samples_leaf=6, min_samples_split=4, n_estimators=100, total=   0.2s\n",
      "[CV] max_depth=5, max_features=auto, min_samples_leaf=6, min_samples_split=4, n_estimators=100 \n",
      "[CV]  max_depth=5, max_features=auto, min_samples_leaf=6, min_samples_split=4, n_estimators=100, total=   0.2s\n",
      "[CV] max_depth=5, max_features=auto, min_samples_leaf=6, min_samples_split=4, n_estimators=100 \n",
      "[CV]  max_depth=5, max_features=auto, min_samples_leaf=6, min_samples_split=4, n_estimators=100, total=   0.2s\n",
      "[CV] max_depth=5, max_features=auto, min_samples_leaf=6, min_samples_split=4, n_estimators=200 \n",
      "[CV]  max_depth=5, max_features=auto, min_samples_leaf=6, min_samples_split=4, n_estimators=200, total=   0.5s\n",
      "[CV] max_depth=5, max_features=auto, min_samples_leaf=6, min_samples_split=4, n_estimators=200 \n",
      "[CV]  max_depth=5, max_features=auto, min_samples_leaf=6, min_samples_split=4, n_estimators=200, total=   0.5s\n",
      "[CV] max_depth=5, max_features=auto, min_samples_leaf=6, min_samples_split=4, n_estimators=200 \n",
      "[CV]  max_depth=5, max_features=auto, min_samples_leaf=6, min_samples_split=4, n_estimators=200, total=   0.5s\n",
      "[CV] max_depth=5, max_features=auto, min_samples_leaf=6, min_samples_split=4, n_estimators=200 \n",
      "[CV]  max_depth=5, max_features=auto, min_samples_leaf=6, min_samples_split=4, n_estimators=200, total=   0.5s\n",
      "[CV] max_depth=5, max_features=auto, min_samples_leaf=6, min_samples_split=4, n_estimators=200 \n",
      "[CV]  max_depth=5, max_features=auto, min_samples_leaf=6, min_samples_split=4, n_estimators=200, total=   0.5s\n",
      "[CV] max_depth=5, max_features=auto, min_samples_leaf=6, min_samples_split=4, n_estimators=500 \n",
      "[CV]  max_depth=5, max_features=auto, min_samples_leaf=6, min_samples_split=4, n_estimators=500, total=   1.3s\n",
      "[CV] max_depth=5, max_features=auto, min_samples_leaf=6, min_samples_split=4, n_estimators=500 \n",
      "[CV]  max_depth=5, max_features=auto, min_samples_leaf=6, min_samples_split=4, n_estimators=500, total=   1.3s\n",
      "[CV] max_depth=5, max_features=auto, min_samples_leaf=6, min_samples_split=4, n_estimators=500 \n",
      "[CV]  max_depth=5, max_features=auto, min_samples_leaf=6, min_samples_split=4, n_estimators=500, total=   1.3s\n",
      "[CV] max_depth=5, max_features=auto, min_samples_leaf=6, min_samples_split=4, n_estimators=500 \n",
      "[CV]  max_depth=5, max_features=auto, min_samples_leaf=6, min_samples_split=4, n_estimators=500, total=   1.3s\n",
      "[CV] max_depth=5, max_features=auto, min_samples_leaf=6, min_samples_split=4, n_estimators=500 \n",
      "[CV]  max_depth=5, max_features=auto, min_samples_leaf=6, min_samples_split=4, n_estimators=500, total=   1.4s\n",
      "[CV] max_depth=5, max_features=sqrt, min_samples_leaf=4, min_samples_split=2, n_estimators=100 \n",
      "[CV]  max_depth=5, max_features=sqrt, min_samples_leaf=4, min_samples_split=2, n_estimators=100, total=   0.3s\n",
      "[CV] max_depth=5, max_features=sqrt, min_samples_leaf=4, min_samples_split=2, n_estimators=100 \n",
      "[CV]  max_depth=5, max_features=sqrt, min_samples_leaf=4, min_samples_split=2, n_estimators=100, total=   0.3s\n",
      "[CV] max_depth=5, max_features=sqrt, min_samples_leaf=4, min_samples_split=2, n_estimators=100 \n",
      "[CV]  max_depth=5, max_features=sqrt, min_samples_leaf=4, min_samples_split=2, n_estimators=100, total=   0.3s\n",
      "[CV] max_depth=5, max_features=sqrt, min_samples_leaf=4, min_samples_split=2, n_estimators=100 \n",
      "[CV]  max_depth=5, max_features=sqrt, min_samples_leaf=4, min_samples_split=2, n_estimators=100, total=   0.3s\n",
      "[CV] max_depth=5, max_features=sqrt, min_samples_leaf=4, min_samples_split=2, n_estimators=100 \n",
      "[CV]  max_depth=5, max_features=sqrt, min_samples_leaf=4, min_samples_split=2, n_estimators=100, total=   0.3s\n",
      "[CV] max_depth=5, max_features=sqrt, min_samples_leaf=4, min_samples_split=2, n_estimators=200 \n",
      "[CV]  max_depth=5, max_features=sqrt, min_samples_leaf=4, min_samples_split=2, n_estimators=200, total=   0.5s\n",
      "[CV] max_depth=5, max_features=sqrt, min_samples_leaf=4, min_samples_split=2, n_estimators=200 \n",
      "[CV]  max_depth=5, max_features=sqrt, min_samples_leaf=4, min_samples_split=2, n_estimators=200, total=   0.5s\n",
      "[CV] max_depth=5, max_features=sqrt, min_samples_leaf=4, min_samples_split=2, n_estimators=200 \n",
      "[CV]  max_depth=5, max_features=sqrt, min_samples_leaf=4, min_samples_split=2, n_estimators=200, total=   0.5s\n",
      "[CV] max_depth=5, max_features=sqrt, min_samples_leaf=4, min_samples_split=2, n_estimators=200 \n",
      "[CV]  max_depth=5, max_features=sqrt, min_samples_leaf=4, min_samples_split=2, n_estimators=200, total=   0.5s\n",
      "[CV] max_depth=5, max_features=sqrt, min_samples_leaf=4, min_samples_split=2, n_estimators=200 \n",
      "[CV]  max_depth=5, max_features=sqrt, min_samples_leaf=4, min_samples_split=2, n_estimators=200, total=   0.6s\n",
      "[CV] max_depth=5, max_features=sqrt, min_samples_leaf=4, min_samples_split=2, n_estimators=500 \n",
      "[CV]  max_depth=5, max_features=sqrt, min_samples_leaf=4, min_samples_split=2, n_estimators=500, total=   1.4s\n",
      "[CV] max_depth=5, max_features=sqrt, min_samples_leaf=4, min_samples_split=2, n_estimators=500 \n",
      "[CV]  max_depth=5, max_features=sqrt, min_samples_leaf=4, min_samples_split=2, n_estimators=500, total=   1.5s\n",
      "[CV] max_depth=5, max_features=sqrt, min_samples_leaf=4, min_samples_split=2, n_estimators=500 \n",
      "[CV]  max_depth=5, max_features=sqrt, min_samples_leaf=4, min_samples_split=2, n_estimators=500, total=   1.3s\n",
      "[CV] max_depth=5, max_features=sqrt, min_samples_leaf=4, min_samples_split=2, n_estimators=500 \n",
      "[CV]  max_depth=5, max_features=sqrt, min_samples_leaf=4, min_samples_split=2, n_estimators=500, total=   1.7s\n",
      "[CV] max_depth=5, max_features=sqrt, min_samples_leaf=4, min_samples_split=2, n_estimators=500 \n",
      "[CV]  max_depth=5, max_features=sqrt, min_samples_leaf=4, min_samples_split=2, n_estimators=500, total=   1.6s\n",
      "[CV] max_depth=5, max_features=sqrt, min_samples_leaf=4, min_samples_split=4, n_estimators=100 \n",
      "[CV]  max_depth=5, max_features=sqrt, min_samples_leaf=4, min_samples_split=4, n_estimators=100, total=   0.3s\n",
      "[CV] max_depth=5, max_features=sqrt, min_samples_leaf=4, min_samples_split=4, n_estimators=100 \n",
      "[CV]  max_depth=5, max_features=sqrt, min_samples_leaf=4, min_samples_split=4, n_estimators=100, total=   0.3s\n",
      "[CV] max_depth=5, max_features=sqrt, min_samples_leaf=4, min_samples_split=4, n_estimators=100 \n",
      "[CV]  max_depth=5, max_features=sqrt, min_samples_leaf=4, min_samples_split=4, n_estimators=100, total=   0.3s\n",
      "[CV] max_depth=5, max_features=sqrt, min_samples_leaf=4, min_samples_split=4, n_estimators=100 \n",
      "[CV]  max_depth=5, max_features=sqrt, min_samples_leaf=4, min_samples_split=4, n_estimators=100, total=   0.3s\n",
      "[CV] max_depth=5, max_features=sqrt, min_samples_leaf=4, min_samples_split=4, n_estimators=100 \n",
      "[CV]  max_depth=5, max_features=sqrt, min_samples_leaf=4, min_samples_split=4, n_estimators=100, total=   0.2s\n",
      "[CV] max_depth=5, max_features=sqrt, min_samples_leaf=4, min_samples_split=4, n_estimators=200 \n",
      "[CV]  max_depth=5, max_features=sqrt, min_samples_leaf=4, min_samples_split=4, n_estimators=200, total=   0.5s\n",
      "[CV] max_depth=5, max_features=sqrt, min_samples_leaf=4, min_samples_split=4, n_estimators=200 \n"
     ]
    },
    {
     "name": "stdout",
     "output_type": "stream",
     "text": [
      "[CV]  max_depth=5, max_features=sqrt, min_samples_leaf=4, min_samples_split=4, n_estimators=200, total=   0.5s\n",
      "[CV] max_depth=5, max_features=sqrt, min_samples_leaf=4, min_samples_split=4, n_estimators=200 \n",
      "[CV]  max_depth=5, max_features=sqrt, min_samples_leaf=4, min_samples_split=4, n_estimators=200, total=   0.5s\n",
      "[CV] max_depth=5, max_features=sqrt, min_samples_leaf=4, min_samples_split=4, n_estimators=200 \n",
      "[CV]  max_depth=5, max_features=sqrt, min_samples_leaf=4, min_samples_split=4, n_estimators=200, total=   0.6s\n",
      "[CV] max_depth=5, max_features=sqrt, min_samples_leaf=4, min_samples_split=4, n_estimators=200 \n",
      "[CV]  max_depth=5, max_features=sqrt, min_samples_leaf=4, min_samples_split=4, n_estimators=200, total=   0.5s\n",
      "[CV] max_depth=5, max_features=sqrt, min_samples_leaf=4, min_samples_split=4, n_estimators=500 \n",
      "[CV]  max_depth=5, max_features=sqrt, min_samples_leaf=4, min_samples_split=4, n_estimators=500, total=   1.3s\n",
      "[CV] max_depth=5, max_features=sqrt, min_samples_leaf=4, min_samples_split=4, n_estimators=500 \n",
      "[CV]  max_depth=5, max_features=sqrt, min_samples_leaf=4, min_samples_split=4, n_estimators=500, total=   1.3s\n",
      "[CV] max_depth=5, max_features=sqrt, min_samples_leaf=4, min_samples_split=4, n_estimators=500 \n",
      "[CV]  max_depth=5, max_features=sqrt, min_samples_leaf=4, min_samples_split=4, n_estimators=500, total=   1.3s\n",
      "[CV] max_depth=5, max_features=sqrt, min_samples_leaf=4, min_samples_split=4, n_estimators=500 \n",
      "[CV]  max_depth=5, max_features=sqrt, min_samples_leaf=4, min_samples_split=4, n_estimators=500, total=   1.3s\n",
      "[CV] max_depth=5, max_features=sqrt, min_samples_leaf=4, min_samples_split=4, n_estimators=500 \n",
      "[CV]  max_depth=5, max_features=sqrt, min_samples_leaf=4, min_samples_split=4, n_estimators=500, total=   1.4s\n",
      "[CV] max_depth=5, max_features=sqrt, min_samples_leaf=6, min_samples_split=2, n_estimators=100 \n",
      "[CV]  max_depth=5, max_features=sqrt, min_samples_leaf=6, min_samples_split=2, n_estimators=100, total=   0.2s\n",
      "[CV] max_depth=5, max_features=sqrt, min_samples_leaf=6, min_samples_split=2, n_estimators=100 \n",
      "[CV]  max_depth=5, max_features=sqrt, min_samples_leaf=6, min_samples_split=2, n_estimators=100, total=   0.3s\n",
      "[CV] max_depth=5, max_features=sqrt, min_samples_leaf=6, min_samples_split=2, n_estimators=100 \n",
      "[CV]  max_depth=5, max_features=sqrt, min_samples_leaf=6, min_samples_split=2, n_estimators=100, total=   0.3s\n",
      "[CV] max_depth=5, max_features=sqrt, min_samples_leaf=6, min_samples_split=2, n_estimators=100 \n",
      "[CV]  max_depth=5, max_features=sqrt, min_samples_leaf=6, min_samples_split=2, n_estimators=100, total=   0.3s\n",
      "[CV] max_depth=5, max_features=sqrt, min_samples_leaf=6, min_samples_split=2, n_estimators=100 \n",
      "[CV]  max_depth=5, max_features=sqrt, min_samples_leaf=6, min_samples_split=2, n_estimators=100, total=   0.3s\n",
      "[CV] max_depth=5, max_features=sqrt, min_samples_leaf=6, min_samples_split=2, n_estimators=200 \n",
      "[CV]  max_depth=5, max_features=sqrt, min_samples_leaf=6, min_samples_split=2, n_estimators=200, total=   0.6s\n",
      "[CV] max_depth=5, max_features=sqrt, min_samples_leaf=6, min_samples_split=2, n_estimators=200 \n",
      "[CV]  max_depth=5, max_features=sqrt, min_samples_leaf=6, min_samples_split=2, n_estimators=200, total=   0.5s\n",
      "[CV] max_depth=5, max_features=sqrt, min_samples_leaf=6, min_samples_split=2, n_estimators=200 \n",
      "[CV]  max_depth=5, max_features=sqrt, min_samples_leaf=6, min_samples_split=2, n_estimators=200, total=   0.5s\n",
      "[CV] max_depth=5, max_features=sqrt, min_samples_leaf=6, min_samples_split=2, n_estimators=200 \n",
      "[CV]  max_depth=5, max_features=sqrt, min_samples_leaf=6, min_samples_split=2, n_estimators=200, total=   0.5s\n",
      "[CV] max_depth=5, max_features=sqrt, min_samples_leaf=6, min_samples_split=2, n_estimators=200 \n",
      "[CV]  max_depth=5, max_features=sqrt, min_samples_leaf=6, min_samples_split=2, n_estimators=200, total=   0.5s\n",
      "[CV] max_depth=5, max_features=sqrt, min_samples_leaf=6, min_samples_split=2, n_estimators=500 \n",
      "[CV]  max_depth=5, max_features=sqrt, min_samples_leaf=6, min_samples_split=2, n_estimators=500, total=   1.3s\n",
      "[CV] max_depth=5, max_features=sqrt, min_samples_leaf=6, min_samples_split=2, n_estimators=500 \n",
      "[CV]  max_depth=5, max_features=sqrt, min_samples_leaf=6, min_samples_split=2, n_estimators=500, total=   1.3s\n",
      "[CV] max_depth=5, max_features=sqrt, min_samples_leaf=6, min_samples_split=2, n_estimators=500 \n",
      "[CV]  max_depth=5, max_features=sqrt, min_samples_leaf=6, min_samples_split=2, n_estimators=500, total=   1.3s\n",
      "[CV] max_depth=5, max_features=sqrt, min_samples_leaf=6, min_samples_split=2, n_estimators=500 \n",
      "[CV]  max_depth=5, max_features=sqrt, min_samples_leaf=6, min_samples_split=2, n_estimators=500, total=   1.3s\n",
      "[CV] max_depth=5, max_features=sqrt, min_samples_leaf=6, min_samples_split=2, n_estimators=500 \n",
      "[CV]  max_depth=5, max_features=sqrt, min_samples_leaf=6, min_samples_split=2, n_estimators=500, total=   1.3s\n",
      "[CV] max_depth=5, max_features=sqrt, min_samples_leaf=6, min_samples_split=4, n_estimators=100 \n",
      "[CV]  max_depth=5, max_features=sqrt, min_samples_leaf=6, min_samples_split=4, n_estimators=100, total=   0.3s\n",
      "[CV] max_depth=5, max_features=sqrt, min_samples_leaf=6, min_samples_split=4, n_estimators=100 \n",
      "[CV]  max_depth=5, max_features=sqrt, min_samples_leaf=6, min_samples_split=4, n_estimators=100, total=   0.3s\n",
      "[CV] max_depth=5, max_features=sqrt, min_samples_leaf=6, min_samples_split=4, n_estimators=100 \n",
      "[CV]  max_depth=5, max_features=sqrt, min_samples_leaf=6, min_samples_split=4, n_estimators=100, total=   0.3s\n",
      "[CV] max_depth=5, max_features=sqrt, min_samples_leaf=6, min_samples_split=4, n_estimators=100 \n",
      "[CV]  max_depth=5, max_features=sqrt, min_samples_leaf=6, min_samples_split=4, n_estimators=100, total=   0.3s\n",
      "[CV] max_depth=5, max_features=sqrt, min_samples_leaf=6, min_samples_split=4, n_estimators=100 \n",
      "[CV]  max_depth=5, max_features=sqrt, min_samples_leaf=6, min_samples_split=4, n_estimators=100, total=   0.3s\n",
      "[CV] max_depth=5, max_features=sqrt, min_samples_leaf=6, min_samples_split=4, n_estimators=200 \n",
      "[CV]  max_depth=5, max_features=sqrt, min_samples_leaf=6, min_samples_split=4, n_estimators=200, total=   0.5s\n",
      "[CV] max_depth=5, max_features=sqrt, min_samples_leaf=6, min_samples_split=4, n_estimators=200 \n",
      "[CV]  max_depth=5, max_features=sqrt, min_samples_leaf=6, min_samples_split=4, n_estimators=200, total=   0.5s\n",
      "[CV] max_depth=5, max_features=sqrt, min_samples_leaf=6, min_samples_split=4, n_estimators=200 \n",
      "[CV]  max_depth=5, max_features=sqrt, min_samples_leaf=6, min_samples_split=4, n_estimators=200, total=   0.5s\n",
      "[CV] max_depth=5, max_features=sqrt, min_samples_leaf=6, min_samples_split=4, n_estimators=200 \n",
      "[CV]  max_depth=5, max_features=sqrt, min_samples_leaf=6, min_samples_split=4, n_estimators=200, total=   0.5s\n",
      "[CV] max_depth=5, max_features=sqrt, min_samples_leaf=6, min_samples_split=4, n_estimators=200 \n",
      "[CV]  max_depth=5, max_features=sqrt, min_samples_leaf=6, min_samples_split=4, n_estimators=200, total=   0.5s\n",
      "[CV] max_depth=5, max_features=sqrt, min_samples_leaf=6, min_samples_split=4, n_estimators=500 \n",
      "[CV]  max_depth=5, max_features=sqrt, min_samples_leaf=6, min_samples_split=4, n_estimators=500, total=   1.3s\n",
      "[CV] max_depth=5, max_features=sqrt, min_samples_leaf=6, min_samples_split=4, n_estimators=500 \n",
      "[CV]  max_depth=5, max_features=sqrt, min_samples_leaf=6, min_samples_split=4, n_estimators=500, total=   1.3s\n",
      "[CV] max_depth=5, max_features=sqrt, min_samples_leaf=6, min_samples_split=4, n_estimators=500 \n",
      "[CV]  max_depth=5, max_features=sqrt, min_samples_leaf=6, min_samples_split=4, n_estimators=500, total=   1.3s\n",
      "[CV] max_depth=5, max_features=sqrt, min_samples_leaf=6, min_samples_split=4, n_estimators=500 \n",
      "[CV]  max_depth=5, max_features=sqrt, min_samples_leaf=6, min_samples_split=4, n_estimators=500, total=   1.3s\n",
      "[CV] max_depth=5, max_features=sqrt, min_samples_leaf=6, min_samples_split=4, n_estimators=500 \n",
      "[CV]  max_depth=5, max_features=sqrt, min_samples_leaf=6, min_samples_split=4, n_estimators=500, total=   1.3s\n",
      "[CV] max_depth=10, max_features=auto, min_samples_leaf=4, min_samples_split=2, n_estimators=100 \n",
      "[CV]  max_depth=10, max_features=auto, min_samples_leaf=4, min_samples_split=2, n_estimators=100, total=   0.3s\n",
      "[CV] max_depth=10, max_features=auto, min_samples_leaf=4, min_samples_split=2, n_estimators=100 \n"
     ]
    },
    {
     "name": "stdout",
     "output_type": "stream",
     "text": [
      "[CV]  max_depth=10, max_features=auto, min_samples_leaf=4, min_samples_split=2, n_estimators=100, total=   0.3s\n",
      "[CV] max_depth=10, max_features=auto, min_samples_leaf=4, min_samples_split=2, n_estimators=100 \n",
      "[CV]  max_depth=10, max_features=auto, min_samples_leaf=4, min_samples_split=2, n_estimators=100, total=   0.3s\n",
      "[CV] max_depth=10, max_features=auto, min_samples_leaf=4, min_samples_split=2, n_estimators=100 \n",
      "[CV]  max_depth=10, max_features=auto, min_samples_leaf=4, min_samples_split=2, n_estimators=100, total=   0.3s\n",
      "[CV] max_depth=10, max_features=auto, min_samples_leaf=4, min_samples_split=2, n_estimators=100 \n",
      "[CV]  max_depth=10, max_features=auto, min_samples_leaf=4, min_samples_split=2, n_estimators=100, total=   0.3s\n",
      "[CV] max_depth=10, max_features=auto, min_samples_leaf=4, min_samples_split=2, n_estimators=200 \n",
      "[CV]  max_depth=10, max_features=auto, min_samples_leaf=4, min_samples_split=2, n_estimators=200, total=   0.5s\n",
      "[CV] max_depth=10, max_features=auto, min_samples_leaf=4, min_samples_split=2, n_estimators=200 \n",
      "[CV]  max_depth=10, max_features=auto, min_samples_leaf=4, min_samples_split=2, n_estimators=200, total=   0.5s\n",
      "[CV] max_depth=10, max_features=auto, min_samples_leaf=4, min_samples_split=2, n_estimators=200 \n",
      "[CV]  max_depth=10, max_features=auto, min_samples_leaf=4, min_samples_split=2, n_estimators=200, total=   0.6s\n",
      "[CV] max_depth=10, max_features=auto, min_samples_leaf=4, min_samples_split=2, n_estimators=200 \n",
      "[CV]  max_depth=10, max_features=auto, min_samples_leaf=4, min_samples_split=2, n_estimators=200, total=   0.5s\n",
      "[CV] max_depth=10, max_features=auto, min_samples_leaf=4, min_samples_split=2, n_estimators=200 \n",
      "[CV]  max_depth=10, max_features=auto, min_samples_leaf=4, min_samples_split=2, n_estimators=200, total=   0.5s\n",
      "[CV] max_depth=10, max_features=auto, min_samples_leaf=4, min_samples_split=2, n_estimators=500 \n",
      "[CV]  max_depth=10, max_features=auto, min_samples_leaf=4, min_samples_split=2, n_estimators=500, total=   1.3s\n",
      "[CV] max_depth=10, max_features=auto, min_samples_leaf=4, min_samples_split=2, n_estimators=500 \n",
      "[CV]  max_depth=10, max_features=auto, min_samples_leaf=4, min_samples_split=2, n_estimators=500, total=   1.3s\n",
      "[CV] max_depth=10, max_features=auto, min_samples_leaf=4, min_samples_split=2, n_estimators=500 \n",
      "[CV]  max_depth=10, max_features=auto, min_samples_leaf=4, min_samples_split=2, n_estimators=500, total=   1.3s\n",
      "[CV] max_depth=10, max_features=auto, min_samples_leaf=4, min_samples_split=2, n_estimators=500 \n",
      "[CV]  max_depth=10, max_features=auto, min_samples_leaf=4, min_samples_split=2, n_estimators=500, total=   1.3s\n",
      "[CV] max_depth=10, max_features=auto, min_samples_leaf=4, min_samples_split=2, n_estimators=500 \n",
      "[CV]  max_depth=10, max_features=auto, min_samples_leaf=4, min_samples_split=2, n_estimators=500, total=   1.3s\n",
      "[CV] max_depth=10, max_features=auto, min_samples_leaf=4, min_samples_split=4, n_estimators=100 \n",
      "[CV]  max_depth=10, max_features=auto, min_samples_leaf=4, min_samples_split=4, n_estimators=100, total=   0.3s\n",
      "[CV] max_depth=10, max_features=auto, min_samples_leaf=4, min_samples_split=4, n_estimators=100 \n",
      "[CV]  max_depth=10, max_features=auto, min_samples_leaf=4, min_samples_split=4, n_estimators=100, total=   0.3s\n",
      "[CV] max_depth=10, max_features=auto, min_samples_leaf=4, min_samples_split=4, n_estimators=100 \n",
      "[CV]  max_depth=10, max_features=auto, min_samples_leaf=4, min_samples_split=4, n_estimators=100, total=   0.2s\n",
      "[CV] max_depth=10, max_features=auto, min_samples_leaf=4, min_samples_split=4, n_estimators=100 \n",
      "[CV]  max_depth=10, max_features=auto, min_samples_leaf=4, min_samples_split=4, n_estimators=100, total=   0.3s\n",
      "[CV] max_depth=10, max_features=auto, min_samples_leaf=4, min_samples_split=4, n_estimators=100 \n",
      "[CV]  max_depth=10, max_features=auto, min_samples_leaf=4, min_samples_split=4, n_estimators=100, total=   0.3s\n",
      "[CV] max_depth=10, max_features=auto, min_samples_leaf=4, min_samples_split=4, n_estimators=200 \n",
      "[CV]  max_depth=10, max_features=auto, min_samples_leaf=4, min_samples_split=4, n_estimators=200, total=   0.5s\n",
      "[CV] max_depth=10, max_features=auto, min_samples_leaf=4, min_samples_split=4, n_estimators=200 \n",
      "[CV]  max_depth=10, max_features=auto, min_samples_leaf=4, min_samples_split=4, n_estimators=200, total=   0.5s\n",
      "[CV] max_depth=10, max_features=auto, min_samples_leaf=4, min_samples_split=4, n_estimators=200 \n",
      "[CV]  max_depth=10, max_features=auto, min_samples_leaf=4, min_samples_split=4, n_estimators=200, total=   0.5s\n",
      "[CV] max_depth=10, max_features=auto, min_samples_leaf=4, min_samples_split=4, n_estimators=200 \n",
      "[CV]  max_depth=10, max_features=auto, min_samples_leaf=4, min_samples_split=4, n_estimators=200, total=   0.5s\n",
      "[CV] max_depth=10, max_features=auto, min_samples_leaf=4, min_samples_split=4, n_estimators=200 \n",
      "[CV]  max_depth=10, max_features=auto, min_samples_leaf=4, min_samples_split=4, n_estimators=200, total=   0.5s\n",
      "[CV] max_depth=10, max_features=auto, min_samples_leaf=4, min_samples_split=4, n_estimators=500 \n",
      "[CV]  max_depth=10, max_features=auto, min_samples_leaf=4, min_samples_split=4, n_estimators=500, total=   1.4s\n",
      "[CV] max_depth=10, max_features=auto, min_samples_leaf=4, min_samples_split=4, n_estimators=500 \n",
      "[CV]  max_depth=10, max_features=auto, min_samples_leaf=4, min_samples_split=4, n_estimators=500, total=   1.8s\n",
      "[CV] max_depth=10, max_features=auto, min_samples_leaf=4, min_samples_split=4, n_estimators=500 \n",
      "[CV]  max_depth=10, max_features=auto, min_samples_leaf=4, min_samples_split=4, n_estimators=500, total=   1.4s\n",
      "[CV] max_depth=10, max_features=auto, min_samples_leaf=4, min_samples_split=4, n_estimators=500 \n",
      "[CV]  max_depth=10, max_features=auto, min_samples_leaf=4, min_samples_split=4, n_estimators=500, total=   1.5s\n",
      "[CV] max_depth=10, max_features=auto, min_samples_leaf=4, min_samples_split=4, n_estimators=500 \n",
      "[CV]  max_depth=10, max_features=auto, min_samples_leaf=4, min_samples_split=4, n_estimators=500, total=   1.3s\n",
      "[CV] max_depth=10, max_features=auto, min_samples_leaf=6, min_samples_split=2, n_estimators=100 \n",
      "[CV]  max_depth=10, max_features=auto, min_samples_leaf=6, min_samples_split=2, n_estimators=100, total=   0.3s\n",
      "[CV] max_depth=10, max_features=auto, min_samples_leaf=6, min_samples_split=2, n_estimators=100 \n",
      "[CV]  max_depth=10, max_features=auto, min_samples_leaf=6, min_samples_split=2, n_estimators=100, total=   0.3s\n",
      "[CV] max_depth=10, max_features=auto, min_samples_leaf=6, min_samples_split=2, n_estimators=100 \n",
      "[CV]  max_depth=10, max_features=auto, min_samples_leaf=6, min_samples_split=2, n_estimators=100, total=   0.3s\n",
      "[CV] max_depth=10, max_features=auto, min_samples_leaf=6, min_samples_split=2, n_estimators=100 \n",
      "[CV]  max_depth=10, max_features=auto, min_samples_leaf=6, min_samples_split=2, n_estimators=100, total=   0.3s\n",
      "[CV] max_depth=10, max_features=auto, min_samples_leaf=6, min_samples_split=2, n_estimators=100 \n",
      "[CV]  max_depth=10, max_features=auto, min_samples_leaf=6, min_samples_split=2, n_estimators=100, total=   0.3s\n",
      "[CV] max_depth=10, max_features=auto, min_samples_leaf=6, min_samples_split=2, n_estimators=200 \n",
      "[CV]  max_depth=10, max_features=auto, min_samples_leaf=6, min_samples_split=2, n_estimators=200, total=   0.5s\n",
      "[CV] max_depth=10, max_features=auto, min_samples_leaf=6, min_samples_split=2, n_estimators=200 \n",
      "[CV]  max_depth=10, max_features=auto, min_samples_leaf=6, min_samples_split=2, n_estimators=200, total=   0.5s\n",
      "[CV] max_depth=10, max_features=auto, min_samples_leaf=6, min_samples_split=2, n_estimators=200 \n",
      "[CV]  max_depth=10, max_features=auto, min_samples_leaf=6, min_samples_split=2, n_estimators=200, total=   0.5s\n",
      "[CV] max_depth=10, max_features=auto, min_samples_leaf=6, min_samples_split=2, n_estimators=200 \n",
      "[CV]  max_depth=10, max_features=auto, min_samples_leaf=6, min_samples_split=2, n_estimators=200, total=   0.5s\n",
      "[CV] max_depth=10, max_features=auto, min_samples_leaf=6, min_samples_split=2, n_estimators=200 \n",
      "[CV]  max_depth=10, max_features=auto, min_samples_leaf=6, min_samples_split=2, n_estimators=200, total=   0.6s\n",
      "[CV] max_depth=10, max_features=auto, min_samples_leaf=6, min_samples_split=2, n_estimators=500 \n",
      "[CV]  max_depth=10, max_features=auto, min_samples_leaf=6, min_samples_split=2, n_estimators=500, total=   1.4s\n",
      "[CV] max_depth=10, max_features=auto, min_samples_leaf=6, min_samples_split=2, n_estimators=500 \n"
     ]
    },
    {
     "name": "stdout",
     "output_type": "stream",
     "text": [
      "[CV]  max_depth=10, max_features=auto, min_samples_leaf=6, min_samples_split=2, n_estimators=500, total=   1.5s\n",
      "[CV] max_depth=10, max_features=auto, min_samples_leaf=6, min_samples_split=2, n_estimators=500 \n",
      "[CV]  max_depth=10, max_features=auto, min_samples_leaf=6, min_samples_split=2, n_estimators=500, total=   1.4s\n",
      "[CV] max_depth=10, max_features=auto, min_samples_leaf=6, min_samples_split=2, n_estimators=500 \n",
      "[CV]  max_depth=10, max_features=auto, min_samples_leaf=6, min_samples_split=2, n_estimators=500, total=   1.5s\n",
      "[CV] max_depth=10, max_features=auto, min_samples_leaf=6, min_samples_split=2, n_estimators=500 \n",
      "[CV]  max_depth=10, max_features=auto, min_samples_leaf=6, min_samples_split=2, n_estimators=500, total=   1.4s\n",
      "[CV] max_depth=10, max_features=auto, min_samples_leaf=6, min_samples_split=4, n_estimators=100 \n",
      "[CV]  max_depth=10, max_features=auto, min_samples_leaf=6, min_samples_split=4, n_estimators=100, total=   0.3s\n",
      "[CV] max_depth=10, max_features=auto, min_samples_leaf=6, min_samples_split=4, n_estimators=100 \n",
      "[CV]  max_depth=10, max_features=auto, min_samples_leaf=6, min_samples_split=4, n_estimators=100, total=   0.3s\n",
      "[CV] max_depth=10, max_features=auto, min_samples_leaf=6, min_samples_split=4, n_estimators=100 \n",
      "[CV]  max_depth=10, max_features=auto, min_samples_leaf=6, min_samples_split=4, n_estimators=100, total=   0.3s\n",
      "[CV] max_depth=10, max_features=auto, min_samples_leaf=6, min_samples_split=4, n_estimators=100 \n",
      "[CV]  max_depth=10, max_features=auto, min_samples_leaf=6, min_samples_split=4, n_estimators=100, total=   0.3s\n",
      "[CV] max_depth=10, max_features=auto, min_samples_leaf=6, min_samples_split=4, n_estimators=100 \n",
      "[CV]  max_depth=10, max_features=auto, min_samples_leaf=6, min_samples_split=4, n_estimators=100, total=   0.3s\n",
      "[CV] max_depth=10, max_features=auto, min_samples_leaf=6, min_samples_split=4, n_estimators=200 \n",
      "[CV]  max_depth=10, max_features=auto, min_samples_leaf=6, min_samples_split=4, n_estimators=200, total=   0.5s\n",
      "[CV] max_depth=10, max_features=auto, min_samples_leaf=6, min_samples_split=4, n_estimators=200 \n",
      "[CV]  max_depth=10, max_features=auto, min_samples_leaf=6, min_samples_split=4, n_estimators=200, total=   0.5s\n",
      "[CV] max_depth=10, max_features=auto, min_samples_leaf=6, min_samples_split=4, n_estimators=200 \n",
      "[CV]  max_depth=10, max_features=auto, min_samples_leaf=6, min_samples_split=4, n_estimators=200, total=   0.5s\n",
      "[CV] max_depth=10, max_features=auto, min_samples_leaf=6, min_samples_split=4, n_estimators=200 \n",
      "[CV]  max_depth=10, max_features=auto, min_samples_leaf=6, min_samples_split=4, n_estimators=200, total=   0.5s\n",
      "[CV] max_depth=10, max_features=auto, min_samples_leaf=6, min_samples_split=4, n_estimators=200 \n",
      "[CV]  max_depth=10, max_features=auto, min_samples_leaf=6, min_samples_split=4, n_estimators=200, total=   0.6s\n",
      "[CV] max_depth=10, max_features=auto, min_samples_leaf=6, min_samples_split=4, n_estimators=500 \n",
      "[CV]  max_depth=10, max_features=auto, min_samples_leaf=6, min_samples_split=4, n_estimators=500, total=   1.5s\n",
      "[CV] max_depth=10, max_features=auto, min_samples_leaf=6, min_samples_split=4, n_estimators=500 \n",
      "[CV]  max_depth=10, max_features=auto, min_samples_leaf=6, min_samples_split=4, n_estimators=500, total=   1.5s\n",
      "[CV] max_depth=10, max_features=auto, min_samples_leaf=6, min_samples_split=4, n_estimators=500 \n",
      "[CV]  max_depth=10, max_features=auto, min_samples_leaf=6, min_samples_split=4, n_estimators=500, total=   1.5s\n",
      "[CV] max_depth=10, max_features=auto, min_samples_leaf=6, min_samples_split=4, n_estimators=500 \n",
      "[CV]  max_depth=10, max_features=auto, min_samples_leaf=6, min_samples_split=4, n_estimators=500, total=   1.7s\n",
      "[CV] max_depth=10, max_features=auto, min_samples_leaf=6, min_samples_split=4, n_estimators=500 \n",
      "[CV]  max_depth=10, max_features=auto, min_samples_leaf=6, min_samples_split=4, n_estimators=500, total=   1.6s\n",
      "[CV] max_depth=10, max_features=sqrt, min_samples_leaf=4, min_samples_split=2, n_estimators=100 \n",
      "[CV]  max_depth=10, max_features=sqrt, min_samples_leaf=4, min_samples_split=2, n_estimators=100, total=   0.3s\n",
      "[CV] max_depth=10, max_features=sqrt, min_samples_leaf=4, min_samples_split=2, n_estimators=100 \n",
      "[CV]  max_depth=10, max_features=sqrt, min_samples_leaf=4, min_samples_split=2, n_estimators=100, total=   0.3s\n",
      "[CV] max_depth=10, max_features=sqrt, min_samples_leaf=4, min_samples_split=2, n_estimators=100 \n",
      "[CV]  max_depth=10, max_features=sqrt, min_samples_leaf=4, min_samples_split=2, n_estimators=100, total=   0.3s\n",
      "[CV] max_depth=10, max_features=sqrt, min_samples_leaf=4, min_samples_split=2, n_estimators=100 \n",
      "[CV]  max_depth=10, max_features=sqrt, min_samples_leaf=4, min_samples_split=2, n_estimators=100, total=   0.2s\n",
      "[CV] max_depth=10, max_features=sqrt, min_samples_leaf=4, min_samples_split=2, n_estimators=100 \n",
      "[CV]  max_depth=10, max_features=sqrt, min_samples_leaf=4, min_samples_split=2, n_estimators=100, total=   0.2s\n",
      "[CV] max_depth=10, max_features=sqrt, min_samples_leaf=4, min_samples_split=2, n_estimators=200 \n",
      "[CV]  max_depth=10, max_features=sqrt, min_samples_leaf=4, min_samples_split=2, n_estimators=200, total=   0.5s\n",
      "[CV] max_depth=10, max_features=sqrt, min_samples_leaf=4, min_samples_split=2, n_estimators=200 \n",
      "[CV]  max_depth=10, max_features=sqrt, min_samples_leaf=4, min_samples_split=2, n_estimators=200, total=   0.5s\n",
      "[CV] max_depth=10, max_features=sqrt, min_samples_leaf=4, min_samples_split=2, n_estimators=200 \n",
      "[CV]  max_depth=10, max_features=sqrt, min_samples_leaf=4, min_samples_split=2, n_estimators=200, total=   0.7s\n",
      "[CV] max_depth=10, max_features=sqrt, min_samples_leaf=4, min_samples_split=2, n_estimators=200 \n",
      "[CV]  max_depth=10, max_features=sqrt, min_samples_leaf=4, min_samples_split=2, n_estimators=200, total=   0.5s\n",
      "[CV] max_depth=10, max_features=sqrt, min_samples_leaf=4, min_samples_split=2, n_estimators=200 \n",
      "[CV]  max_depth=10, max_features=sqrt, min_samples_leaf=4, min_samples_split=2, n_estimators=200, total=   0.6s\n",
      "[CV] max_depth=10, max_features=sqrt, min_samples_leaf=4, min_samples_split=2, n_estimators=500 \n",
      "[CV]  max_depth=10, max_features=sqrt, min_samples_leaf=4, min_samples_split=2, n_estimators=500, total=   1.4s\n",
      "[CV] max_depth=10, max_features=sqrt, min_samples_leaf=4, min_samples_split=2, n_estimators=500 \n",
      "[CV]  max_depth=10, max_features=sqrt, min_samples_leaf=4, min_samples_split=2, n_estimators=500, total=   1.5s\n",
      "[CV] max_depth=10, max_features=sqrt, min_samples_leaf=4, min_samples_split=2, n_estimators=500 \n",
      "[CV]  max_depth=10, max_features=sqrt, min_samples_leaf=4, min_samples_split=2, n_estimators=500, total=   1.3s\n",
      "[CV] max_depth=10, max_features=sqrt, min_samples_leaf=4, min_samples_split=2, n_estimators=500 \n",
      "[CV]  max_depth=10, max_features=sqrt, min_samples_leaf=4, min_samples_split=2, n_estimators=500, total=   1.3s\n",
      "[CV] max_depth=10, max_features=sqrt, min_samples_leaf=4, min_samples_split=2, n_estimators=500 \n",
      "[CV]  max_depth=10, max_features=sqrt, min_samples_leaf=4, min_samples_split=2, n_estimators=500, total=   1.3s\n",
      "[CV] max_depth=10, max_features=sqrt, min_samples_leaf=4, min_samples_split=4, n_estimators=100 \n",
      "[CV]  max_depth=10, max_features=sqrt, min_samples_leaf=4, min_samples_split=4, n_estimators=100, total=   0.3s\n",
      "[CV] max_depth=10, max_features=sqrt, min_samples_leaf=4, min_samples_split=4, n_estimators=100 \n",
      "[CV]  max_depth=10, max_features=sqrt, min_samples_leaf=4, min_samples_split=4, n_estimators=100, total=   0.3s\n",
      "[CV] max_depth=10, max_features=sqrt, min_samples_leaf=4, min_samples_split=4, n_estimators=100 \n",
      "[CV]  max_depth=10, max_features=sqrt, min_samples_leaf=4, min_samples_split=4, n_estimators=100, total=   0.3s\n",
      "[CV] max_depth=10, max_features=sqrt, min_samples_leaf=4, min_samples_split=4, n_estimators=100 \n",
      "[CV]  max_depth=10, max_features=sqrt, min_samples_leaf=4, min_samples_split=4, n_estimators=100, total=   0.3s\n",
      "[CV] max_depth=10, max_features=sqrt, min_samples_leaf=4, min_samples_split=4, n_estimators=100 \n",
      "[CV]  max_depth=10, max_features=sqrt, min_samples_leaf=4, min_samples_split=4, n_estimators=100, total=   0.3s\n",
      "[CV] max_depth=10, max_features=sqrt, min_samples_leaf=4, min_samples_split=4, n_estimators=200 \n",
      "[CV]  max_depth=10, max_features=sqrt, min_samples_leaf=4, min_samples_split=4, n_estimators=200, total=   0.6s\n",
      "[CV] max_depth=10, max_features=sqrt, min_samples_leaf=4, min_samples_split=4, n_estimators=200 \n"
     ]
    },
    {
     "name": "stdout",
     "output_type": "stream",
     "text": [
      "[CV]  max_depth=10, max_features=sqrt, min_samples_leaf=4, min_samples_split=4, n_estimators=200, total=   0.7s\n",
      "[CV] max_depth=10, max_features=sqrt, min_samples_leaf=4, min_samples_split=4, n_estimators=200 \n",
      "[CV]  max_depth=10, max_features=sqrt, min_samples_leaf=4, min_samples_split=4, n_estimators=200, total=   0.6s\n",
      "[CV] max_depth=10, max_features=sqrt, min_samples_leaf=4, min_samples_split=4, n_estimators=200 \n",
      "[CV]  max_depth=10, max_features=sqrt, min_samples_leaf=4, min_samples_split=4, n_estimators=200, total=   0.7s\n",
      "[CV] max_depth=10, max_features=sqrt, min_samples_leaf=4, min_samples_split=4, n_estimators=200 \n",
      "[CV]  max_depth=10, max_features=sqrt, min_samples_leaf=4, min_samples_split=4, n_estimators=200, total=   0.6s\n",
      "[CV] max_depth=10, max_features=sqrt, min_samples_leaf=4, min_samples_split=4, n_estimators=500 \n",
      "[CV]  max_depth=10, max_features=sqrt, min_samples_leaf=4, min_samples_split=4, n_estimators=500, total=   1.3s\n",
      "[CV] max_depth=10, max_features=sqrt, min_samples_leaf=4, min_samples_split=4, n_estimators=500 \n",
      "[CV]  max_depth=10, max_features=sqrt, min_samples_leaf=4, min_samples_split=4, n_estimators=500, total=   1.3s\n",
      "[CV] max_depth=10, max_features=sqrt, min_samples_leaf=4, min_samples_split=4, n_estimators=500 \n",
      "[CV]  max_depth=10, max_features=sqrt, min_samples_leaf=4, min_samples_split=4, n_estimators=500, total=   1.3s\n",
      "[CV] max_depth=10, max_features=sqrt, min_samples_leaf=4, min_samples_split=4, n_estimators=500 \n",
      "[CV]  max_depth=10, max_features=sqrt, min_samples_leaf=4, min_samples_split=4, n_estimators=500, total=   1.3s\n",
      "[CV] max_depth=10, max_features=sqrt, min_samples_leaf=4, min_samples_split=4, n_estimators=500 \n",
      "[CV]  max_depth=10, max_features=sqrt, min_samples_leaf=4, min_samples_split=4, n_estimators=500, total=   1.3s\n",
      "[CV] max_depth=10, max_features=sqrt, min_samples_leaf=6, min_samples_split=2, n_estimators=100 \n",
      "[CV]  max_depth=10, max_features=sqrt, min_samples_leaf=6, min_samples_split=2, n_estimators=100, total=   0.3s\n",
      "[CV] max_depth=10, max_features=sqrt, min_samples_leaf=6, min_samples_split=2, n_estimators=100 \n",
      "[CV]  max_depth=10, max_features=sqrt, min_samples_leaf=6, min_samples_split=2, n_estimators=100, total=   0.3s\n",
      "[CV] max_depth=10, max_features=sqrt, min_samples_leaf=6, min_samples_split=2, n_estimators=100 \n",
      "[CV]  max_depth=10, max_features=sqrt, min_samples_leaf=6, min_samples_split=2, n_estimators=100, total=   0.3s\n",
      "[CV] max_depth=10, max_features=sqrt, min_samples_leaf=6, min_samples_split=2, n_estimators=100 \n",
      "[CV]  max_depth=10, max_features=sqrt, min_samples_leaf=6, min_samples_split=2, n_estimators=100, total=   0.3s\n",
      "[CV] max_depth=10, max_features=sqrt, min_samples_leaf=6, min_samples_split=2, n_estimators=100 \n",
      "[CV]  max_depth=10, max_features=sqrt, min_samples_leaf=6, min_samples_split=2, n_estimators=100, total=   0.3s\n",
      "[CV] max_depth=10, max_features=sqrt, min_samples_leaf=6, min_samples_split=2, n_estimators=200 \n",
      "[CV]  max_depth=10, max_features=sqrt, min_samples_leaf=6, min_samples_split=2, n_estimators=200, total=   0.5s\n",
      "[CV] max_depth=10, max_features=sqrt, min_samples_leaf=6, min_samples_split=2, n_estimators=200 \n",
      "[CV]  max_depth=10, max_features=sqrt, min_samples_leaf=6, min_samples_split=2, n_estimators=200, total=   0.6s\n",
      "[CV] max_depth=10, max_features=sqrt, min_samples_leaf=6, min_samples_split=2, n_estimators=200 \n",
      "[CV]  max_depth=10, max_features=sqrt, min_samples_leaf=6, min_samples_split=2, n_estimators=200, total=   0.5s\n",
      "[CV] max_depth=10, max_features=sqrt, min_samples_leaf=6, min_samples_split=2, n_estimators=200 \n",
      "[CV]  max_depth=10, max_features=sqrt, min_samples_leaf=6, min_samples_split=2, n_estimators=200, total=   0.5s\n",
      "[CV] max_depth=10, max_features=sqrt, min_samples_leaf=6, min_samples_split=2, n_estimators=200 \n",
      "[CV]  max_depth=10, max_features=sqrt, min_samples_leaf=6, min_samples_split=2, n_estimators=200, total=   0.5s\n",
      "[CV] max_depth=10, max_features=sqrt, min_samples_leaf=6, min_samples_split=2, n_estimators=500 \n",
      "[CV]  max_depth=10, max_features=sqrt, min_samples_leaf=6, min_samples_split=2, n_estimators=500, total=   1.3s\n",
      "[CV] max_depth=10, max_features=sqrt, min_samples_leaf=6, min_samples_split=2, n_estimators=500 \n",
      "[CV]  max_depth=10, max_features=sqrt, min_samples_leaf=6, min_samples_split=2, n_estimators=500, total=   1.3s\n",
      "[CV] max_depth=10, max_features=sqrt, min_samples_leaf=6, min_samples_split=2, n_estimators=500 \n",
      "[CV]  max_depth=10, max_features=sqrt, min_samples_leaf=6, min_samples_split=2, n_estimators=500, total=   1.3s\n",
      "[CV] max_depth=10, max_features=sqrt, min_samples_leaf=6, min_samples_split=2, n_estimators=500 \n",
      "[CV]  max_depth=10, max_features=sqrt, min_samples_leaf=6, min_samples_split=2, n_estimators=500, total=   1.4s\n",
      "[CV] max_depth=10, max_features=sqrt, min_samples_leaf=6, min_samples_split=2, n_estimators=500 \n",
      "[CV]  max_depth=10, max_features=sqrt, min_samples_leaf=6, min_samples_split=2, n_estimators=500, total=   1.3s\n",
      "[CV] max_depth=10, max_features=sqrt, min_samples_leaf=6, min_samples_split=4, n_estimators=100 \n",
      "[CV]  max_depth=10, max_features=sqrt, min_samples_leaf=6, min_samples_split=4, n_estimators=100, total=   0.3s\n",
      "[CV] max_depth=10, max_features=sqrt, min_samples_leaf=6, min_samples_split=4, n_estimators=100 \n",
      "[CV]  max_depth=10, max_features=sqrt, min_samples_leaf=6, min_samples_split=4, n_estimators=100, total=   0.3s\n",
      "[CV] max_depth=10, max_features=sqrt, min_samples_leaf=6, min_samples_split=4, n_estimators=100 \n",
      "[CV]  max_depth=10, max_features=sqrt, min_samples_leaf=6, min_samples_split=4, n_estimators=100, total=   0.3s\n",
      "[CV] max_depth=10, max_features=sqrt, min_samples_leaf=6, min_samples_split=4, n_estimators=100 \n",
      "[CV]  max_depth=10, max_features=sqrt, min_samples_leaf=6, min_samples_split=4, n_estimators=100, total=   0.2s\n",
      "[CV] max_depth=10, max_features=sqrt, min_samples_leaf=6, min_samples_split=4, n_estimators=100 \n",
      "[CV]  max_depth=10, max_features=sqrt, min_samples_leaf=6, min_samples_split=4, n_estimators=100, total=   0.3s\n",
      "[CV] max_depth=10, max_features=sqrt, min_samples_leaf=6, min_samples_split=4, n_estimators=200 \n",
      "[CV]  max_depth=10, max_features=sqrt, min_samples_leaf=6, min_samples_split=4, n_estimators=200, total=   0.5s\n",
      "[CV] max_depth=10, max_features=sqrt, min_samples_leaf=6, min_samples_split=4, n_estimators=200 \n",
      "[CV]  max_depth=10, max_features=sqrt, min_samples_leaf=6, min_samples_split=4, n_estimators=200, total=   0.5s\n",
      "[CV] max_depth=10, max_features=sqrt, min_samples_leaf=6, min_samples_split=4, n_estimators=200 \n",
      "[CV]  max_depth=10, max_features=sqrt, min_samples_leaf=6, min_samples_split=4, n_estimators=200, total=   0.5s\n",
      "[CV] max_depth=10, max_features=sqrt, min_samples_leaf=6, min_samples_split=4, n_estimators=200 \n",
      "[CV]  max_depth=10, max_features=sqrt, min_samples_leaf=6, min_samples_split=4, n_estimators=200, total=   0.5s\n",
      "[CV] max_depth=10, max_features=sqrt, min_samples_leaf=6, min_samples_split=4, n_estimators=200 \n",
      "[CV]  max_depth=10, max_features=sqrt, min_samples_leaf=6, min_samples_split=4, n_estimators=200, total=   0.6s\n",
      "[CV] max_depth=10, max_features=sqrt, min_samples_leaf=6, min_samples_split=4, n_estimators=500 \n",
      "[CV]  max_depth=10, max_features=sqrt, min_samples_leaf=6, min_samples_split=4, n_estimators=500, total=   1.4s\n",
      "[CV] max_depth=10, max_features=sqrt, min_samples_leaf=6, min_samples_split=4, n_estimators=500 \n",
      "[CV]  max_depth=10, max_features=sqrt, min_samples_leaf=6, min_samples_split=4, n_estimators=500, total=   1.3s\n",
      "[CV] max_depth=10, max_features=sqrt, min_samples_leaf=6, min_samples_split=4, n_estimators=500 \n",
      "[CV]  max_depth=10, max_features=sqrt, min_samples_leaf=6, min_samples_split=4, n_estimators=500, total=   1.3s\n",
      "[CV] max_depth=10, max_features=sqrt, min_samples_leaf=6, min_samples_split=4, n_estimators=500 \n",
      "[CV]  max_depth=10, max_features=sqrt, min_samples_leaf=6, min_samples_split=4, n_estimators=500, total=   1.3s\n",
      "[CV] max_depth=10, max_features=sqrt, min_samples_leaf=6, min_samples_split=4, n_estimators=500 \n",
      "[CV]  max_depth=10, max_features=sqrt, min_samples_leaf=6, min_samples_split=4, n_estimators=500, total=   1.3s\n",
      "[CV] max_depth=20, max_features=auto, min_samples_leaf=4, min_samples_split=2, n_estimators=100 \n",
      "[CV]  max_depth=20, max_features=auto, min_samples_leaf=4, min_samples_split=2, n_estimators=100, total=   0.3s\n",
      "[CV] max_depth=20, max_features=auto, min_samples_leaf=4, min_samples_split=2, n_estimators=100 \n"
     ]
    },
    {
     "name": "stdout",
     "output_type": "stream",
     "text": [
      "[CV]  max_depth=20, max_features=auto, min_samples_leaf=4, min_samples_split=2, n_estimators=100, total=   0.3s\n",
      "[CV] max_depth=20, max_features=auto, min_samples_leaf=4, min_samples_split=2, n_estimators=100 \n",
      "[CV]  max_depth=20, max_features=auto, min_samples_leaf=4, min_samples_split=2, n_estimators=100, total=   0.3s\n",
      "[CV] max_depth=20, max_features=auto, min_samples_leaf=4, min_samples_split=2, n_estimators=100 \n",
      "[CV]  max_depth=20, max_features=auto, min_samples_leaf=4, min_samples_split=2, n_estimators=100, total=   0.3s\n",
      "[CV] max_depth=20, max_features=auto, min_samples_leaf=4, min_samples_split=2, n_estimators=100 \n",
      "[CV]  max_depth=20, max_features=auto, min_samples_leaf=4, min_samples_split=2, n_estimators=100, total=   0.3s\n",
      "[CV] max_depth=20, max_features=auto, min_samples_leaf=4, min_samples_split=2, n_estimators=200 \n",
      "[CV]  max_depth=20, max_features=auto, min_samples_leaf=4, min_samples_split=2, n_estimators=200, total=   0.6s\n",
      "[CV] max_depth=20, max_features=auto, min_samples_leaf=4, min_samples_split=2, n_estimators=200 \n",
      "[CV]  max_depth=20, max_features=auto, min_samples_leaf=4, min_samples_split=2, n_estimators=200, total=   0.6s\n",
      "[CV] max_depth=20, max_features=auto, min_samples_leaf=4, min_samples_split=2, n_estimators=200 \n",
      "[CV]  max_depth=20, max_features=auto, min_samples_leaf=4, min_samples_split=2, n_estimators=200, total=   0.8s\n",
      "[CV] max_depth=20, max_features=auto, min_samples_leaf=4, min_samples_split=2, n_estimators=200 \n",
      "[CV]  max_depth=20, max_features=auto, min_samples_leaf=4, min_samples_split=2, n_estimators=200, total=   0.6s\n",
      "[CV] max_depth=20, max_features=auto, min_samples_leaf=4, min_samples_split=2, n_estimators=200 \n",
      "[CV]  max_depth=20, max_features=auto, min_samples_leaf=4, min_samples_split=2, n_estimators=200, total=   0.6s\n",
      "[CV] max_depth=20, max_features=auto, min_samples_leaf=4, min_samples_split=2, n_estimators=500 \n",
      "[CV]  max_depth=20, max_features=auto, min_samples_leaf=4, min_samples_split=2, n_estimators=500, total=   1.6s\n",
      "[CV] max_depth=20, max_features=auto, min_samples_leaf=4, min_samples_split=2, n_estimators=500 \n",
      "[CV]  max_depth=20, max_features=auto, min_samples_leaf=4, min_samples_split=2, n_estimators=500, total=   1.5s\n",
      "[CV] max_depth=20, max_features=auto, min_samples_leaf=4, min_samples_split=2, n_estimators=500 \n",
      "[CV]  max_depth=20, max_features=auto, min_samples_leaf=4, min_samples_split=2, n_estimators=500, total=   1.4s\n",
      "[CV] max_depth=20, max_features=auto, min_samples_leaf=4, min_samples_split=2, n_estimators=500 \n",
      "[CV]  max_depth=20, max_features=auto, min_samples_leaf=4, min_samples_split=2, n_estimators=500, total=   1.6s\n",
      "[CV] max_depth=20, max_features=auto, min_samples_leaf=4, min_samples_split=2, n_estimators=500 \n",
      "[CV]  max_depth=20, max_features=auto, min_samples_leaf=4, min_samples_split=2, n_estimators=500, total=   1.6s\n",
      "[CV] max_depth=20, max_features=auto, min_samples_leaf=4, min_samples_split=4, n_estimators=100 \n",
      "[CV]  max_depth=20, max_features=auto, min_samples_leaf=4, min_samples_split=4, n_estimators=100, total=   0.3s\n",
      "[CV] max_depth=20, max_features=auto, min_samples_leaf=4, min_samples_split=4, n_estimators=100 \n",
      "[CV]  max_depth=20, max_features=auto, min_samples_leaf=4, min_samples_split=4, n_estimators=100, total=   0.3s\n",
      "[CV] max_depth=20, max_features=auto, min_samples_leaf=4, min_samples_split=4, n_estimators=100 \n",
      "[CV]  max_depth=20, max_features=auto, min_samples_leaf=4, min_samples_split=4, n_estimators=100, total=   0.3s\n",
      "[CV] max_depth=20, max_features=auto, min_samples_leaf=4, min_samples_split=4, n_estimators=100 \n",
      "[CV]  max_depth=20, max_features=auto, min_samples_leaf=4, min_samples_split=4, n_estimators=100, total=   0.3s\n",
      "[CV] max_depth=20, max_features=auto, min_samples_leaf=4, min_samples_split=4, n_estimators=100 \n",
      "[CV]  max_depth=20, max_features=auto, min_samples_leaf=4, min_samples_split=4, n_estimators=100, total=   0.4s\n",
      "[CV] max_depth=20, max_features=auto, min_samples_leaf=4, min_samples_split=4, n_estimators=200 \n",
      "[CV]  max_depth=20, max_features=auto, min_samples_leaf=4, min_samples_split=4, n_estimators=200, total=   0.6s\n",
      "[CV] max_depth=20, max_features=auto, min_samples_leaf=4, min_samples_split=4, n_estimators=200 \n",
      "[CV]  max_depth=20, max_features=auto, min_samples_leaf=4, min_samples_split=4, n_estimators=200, total=   0.5s\n",
      "[CV] max_depth=20, max_features=auto, min_samples_leaf=4, min_samples_split=4, n_estimators=200 \n",
      "[CV]  max_depth=20, max_features=auto, min_samples_leaf=4, min_samples_split=4, n_estimators=200, total=   0.5s\n",
      "[CV] max_depth=20, max_features=auto, min_samples_leaf=4, min_samples_split=4, n_estimators=200 \n",
      "[CV]  max_depth=20, max_features=auto, min_samples_leaf=4, min_samples_split=4, n_estimators=200, total=   0.6s\n",
      "[CV] max_depth=20, max_features=auto, min_samples_leaf=4, min_samples_split=4, n_estimators=200 \n",
      "[CV]  max_depth=20, max_features=auto, min_samples_leaf=4, min_samples_split=4, n_estimators=200, total=   0.6s\n",
      "[CV] max_depth=20, max_features=auto, min_samples_leaf=4, min_samples_split=4, n_estimators=500 \n",
      "[CV]  max_depth=20, max_features=auto, min_samples_leaf=4, min_samples_split=4, n_estimators=500, total=   1.4s\n",
      "[CV] max_depth=20, max_features=auto, min_samples_leaf=4, min_samples_split=4, n_estimators=500 \n",
      "[CV]  max_depth=20, max_features=auto, min_samples_leaf=4, min_samples_split=4, n_estimators=500, total=   1.8s\n",
      "[CV] max_depth=20, max_features=auto, min_samples_leaf=4, min_samples_split=4, n_estimators=500 \n",
      "[CV]  max_depth=20, max_features=auto, min_samples_leaf=4, min_samples_split=4, n_estimators=500, total=   1.5s\n",
      "[CV] max_depth=20, max_features=auto, min_samples_leaf=4, min_samples_split=4, n_estimators=500 \n",
      "[CV]  max_depth=20, max_features=auto, min_samples_leaf=4, min_samples_split=4, n_estimators=500, total=   1.3s\n",
      "[CV] max_depth=20, max_features=auto, min_samples_leaf=4, min_samples_split=4, n_estimators=500 \n",
      "[CV]  max_depth=20, max_features=auto, min_samples_leaf=4, min_samples_split=4, n_estimators=500, total=   1.3s\n",
      "[CV] max_depth=20, max_features=auto, min_samples_leaf=6, min_samples_split=2, n_estimators=100 \n",
      "[CV]  max_depth=20, max_features=auto, min_samples_leaf=6, min_samples_split=2, n_estimators=100, total=   0.3s\n",
      "[CV] max_depth=20, max_features=auto, min_samples_leaf=6, min_samples_split=2, n_estimators=100 \n",
      "[CV]  max_depth=20, max_features=auto, min_samples_leaf=6, min_samples_split=2, n_estimators=100, total=   0.3s\n",
      "[CV] max_depth=20, max_features=auto, min_samples_leaf=6, min_samples_split=2, n_estimators=100 \n",
      "[CV]  max_depth=20, max_features=auto, min_samples_leaf=6, min_samples_split=2, n_estimators=100, total=   0.3s\n",
      "[CV] max_depth=20, max_features=auto, min_samples_leaf=6, min_samples_split=2, n_estimators=100 \n",
      "[CV]  max_depth=20, max_features=auto, min_samples_leaf=6, min_samples_split=2, n_estimators=100, total=   0.3s\n",
      "[CV] max_depth=20, max_features=auto, min_samples_leaf=6, min_samples_split=2, n_estimators=100 \n",
      "[CV]  max_depth=20, max_features=auto, min_samples_leaf=6, min_samples_split=2, n_estimators=100, total=   0.3s\n",
      "[CV] max_depth=20, max_features=auto, min_samples_leaf=6, min_samples_split=2, n_estimators=200 \n",
      "[CV]  max_depth=20, max_features=auto, min_samples_leaf=6, min_samples_split=2, n_estimators=200, total=   0.6s\n",
      "[CV] max_depth=20, max_features=auto, min_samples_leaf=6, min_samples_split=2, n_estimators=200 \n",
      "[CV]  max_depth=20, max_features=auto, min_samples_leaf=6, min_samples_split=2, n_estimators=200, total=   0.5s\n",
      "[CV] max_depth=20, max_features=auto, min_samples_leaf=6, min_samples_split=2, n_estimators=200 \n",
      "[CV]  max_depth=20, max_features=auto, min_samples_leaf=6, min_samples_split=2, n_estimators=200, total=   0.5s\n",
      "[CV] max_depth=20, max_features=auto, min_samples_leaf=6, min_samples_split=2, n_estimators=200 \n",
      "[CV]  max_depth=20, max_features=auto, min_samples_leaf=6, min_samples_split=2, n_estimators=200, total=   0.5s\n",
      "[CV] max_depth=20, max_features=auto, min_samples_leaf=6, min_samples_split=2, n_estimators=200 \n",
      "[CV]  max_depth=20, max_features=auto, min_samples_leaf=6, min_samples_split=2, n_estimators=200, total=   0.5s\n",
      "[CV] max_depth=20, max_features=auto, min_samples_leaf=6, min_samples_split=2, n_estimators=500 \n",
      "[CV]  max_depth=20, max_features=auto, min_samples_leaf=6, min_samples_split=2, n_estimators=500, total=   1.4s\n",
      "[CV] max_depth=20, max_features=auto, min_samples_leaf=6, min_samples_split=2, n_estimators=500 \n"
     ]
    },
    {
     "name": "stdout",
     "output_type": "stream",
     "text": [
      "[CV]  max_depth=20, max_features=auto, min_samples_leaf=6, min_samples_split=2, n_estimators=500, total=   1.3s\n",
      "[CV] max_depth=20, max_features=auto, min_samples_leaf=6, min_samples_split=2, n_estimators=500 \n",
      "[CV]  max_depth=20, max_features=auto, min_samples_leaf=6, min_samples_split=2, n_estimators=500, total=   1.3s\n",
      "[CV] max_depth=20, max_features=auto, min_samples_leaf=6, min_samples_split=2, n_estimators=500 \n",
      "[CV]  max_depth=20, max_features=auto, min_samples_leaf=6, min_samples_split=2, n_estimators=500, total=   1.3s\n",
      "[CV] max_depth=20, max_features=auto, min_samples_leaf=6, min_samples_split=2, n_estimators=500 \n",
      "[CV]  max_depth=20, max_features=auto, min_samples_leaf=6, min_samples_split=2, n_estimators=500, total=   1.3s\n",
      "[CV] max_depth=20, max_features=auto, min_samples_leaf=6, min_samples_split=4, n_estimators=100 \n",
      "[CV]  max_depth=20, max_features=auto, min_samples_leaf=6, min_samples_split=4, n_estimators=100, total=   0.3s\n",
      "[CV] max_depth=20, max_features=auto, min_samples_leaf=6, min_samples_split=4, n_estimators=100 \n",
      "[CV]  max_depth=20, max_features=auto, min_samples_leaf=6, min_samples_split=4, n_estimators=100, total=   0.3s\n",
      "[CV] max_depth=20, max_features=auto, min_samples_leaf=6, min_samples_split=4, n_estimators=100 \n",
      "[CV]  max_depth=20, max_features=auto, min_samples_leaf=6, min_samples_split=4, n_estimators=100, total=   0.3s\n",
      "[CV] max_depth=20, max_features=auto, min_samples_leaf=6, min_samples_split=4, n_estimators=100 \n",
      "[CV]  max_depth=20, max_features=auto, min_samples_leaf=6, min_samples_split=4, n_estimators=100, total=   0.3s\n",
      "[CV] max_depth=20, max_features=auto, min_samples_leaf=6, min_samples_split=4, n_estimators=100 \n",
      "[CV]  max_depth=20, max_features=auto, min_samples_leaf=6, min_samples_split=4, n_estimators=100, total=   0.3s\n",
      "[CV] max_depth=20, max_features=auto, min_samples_leaf=6, min_samples_split=4, n_estimators=200 \n",
      "[CV]  max_depth=20, max_features=auto, min_samples_leaf=6, min_samples_split=4, n_estimators=200, total=   0.5s\n",
      "[CV] max_depth=20, max_features=auto, min_samples_leaf=6, min_samples_split=4, n_estimators=200 \n",
      "[CV]  max_depth=20, max_features=auto, min_samples_leaf=6, min_samples_split=4, n_estimators=200, total=   0.7s\n",
      "[CV] max_depth=20, max_features=auto, min_samples_leaf=6, min_samples_split=4, n_estimators=200 \n",
      "[CV]  max_depth=20, max_features=auto, min_samples_leaf=6, min_samples_split=4, n_estimators=200, total=   0.6s\n",
      "[CV] max_depth=20, max_features=auto, min_samples_leaf=6, min_samples_split=4, n_estimators=200 \n",
      "[CV]  max_depth=20, max_features=auto, min_samples_leaf=6, min_samples_split=4, n_estimators=200, total=   0.6s\n",
      "[CV] max_depth=20, max_features=auto, min_samples_leaf=6, min_samples_split=4, n_estimators=200 \n",
      "[CV]  max_depth=20, max_features=auto, min_samples_leaf=6, min_samples_split=4, n_estimators=200, total=   0.6s\n",
      "[CV] max_depth=20, max_features=auto, min_samples_leaf=6, min_samples_split=4, n_estimators=500 \n",
      "[CV]  max_depth=20, max_features=auto, min_samples_leaf=6, min_samples_split=4, n_estimators=500, total=   1.6s\n",
      "[CV] max_depth=20, max_features=auto, min_samples_leaf=6, min_samples_split=4, n_estimators=500 \n",
      "[CV]  max_depth=20, max_features=auto, min_samples_leaf=6, min_samples_split=4, n_estimators=500, total=   1.6s\n",
      "[CV] max_depth=20, max_features=auto, min_samples_leaf=6, min_samples_split=4, n_estimators=500 \n",
      "[CV]  max_depth=20, max_features=auto, min_samples_leaf=6, min_samples_split=4, n_estimators=500, total=   1.4s\n",
      "[CV] max_depth=20, max_features=auto, min_samples_leaf=6, min_samples_split=4, n_estimators=500 \n",
      "[CV]  max_depth=20, max_features=auto, min_samples_leaf=6, min_samples_split=4, n_estimators=500, total=   1.5s\n",
      "[CV] max_depth=20, max_features=auto, min_samples_leaf=6, min_samples_split=4, n_estimators=500 \n",
      "[CV]  max_depth=20, max_features=auto, min_samples_leaf=6, min_samples_split=4, n_estimators=500, total=   1.4s\n",
      "[CV] max_depth=20, max_features=sqrt, min_samples_leaf=4, min_samples_split=2, n_estimators=100 \n",
      "[CV]  max_depth=20, max_features=sqrt, min_samples_leaf=4, min_samples_split=2, n_estimators=100, total=   0.3s\n",
      "[CV] max_depth=20, max_features=sqrt, min_samples_leaf=4, min_samples_split=2, n_estimators=100 \n",
      "[CV]  max_depth=20, max_features=sqrt, min_samples_leaf=4, min_samples_split=2, n_estimators=100, total=   0.3s\n",
      "[CV] max_depth=20, max_features=sqrt, min_samples_leaf=4, min_samples_split=2, n_estimators=100 \n",
      "[CV]  max_depth=20, max_features=sqrt, min_samples_leaf=4, min_samples_split=2, n_estimators=100, total=   0.3s\n",
      "[CV] max_depth=20, max_features=sqrt, min_samples_leaf=4, min_samples_split=2, n_estimators=100 \n",
      "[CV]  max_depth=20, max_features=sqrt, min_samples_leaf=4, min_samples_split=2, n_estimators=100, total=   0.3s\n",
      "[CV] max_depth=20, max_features=sqrt, min_samples_leaf=4, min_samples_split=2, n_estimators=100 \n",
      "[CV]  max_depth=20, max_features=sqrt, min_samples_leaf=4, min_samples_split=2, n_estimators=100, total=   0.3s\n",
      "[CV] max_depth=20, max_features=sqrt, min_samples_leaf=4, min_samples_split=2, n_estimators=200 \n",
      "[CV]  max_depth=20, max_features=sqrt, min_samples_leaf=4, min_samples_split=2, n_estimators=200, total=   0.6s\n",
      "[CV] max_depth=20, max_features=sqrt, min_samples_leaf=4, min_samples_split=2, n_estimators=200 \n",
      "[CV]  max_depth=20, max_features=sqrt, min_samples_leaf=4, min_samples_split=2, n_estimators=200, total=   0.5s\n",
      "[CV] max_depth=20, max_features=sqrt, min_samples_leaf=4, min_samples_split=2, n_estimators=200 \n",
      "[CV]  max_depth=20, max_features=sqrt, min_samples_leaf=4, min_samples_split=2, n_estimators=200, total=   0.5s\n",
      "[CV] max_depth=20, max_features=sqrt, min_samples_leaf=4, min_samples_split=2, n_estimators=200 \n",
      "[CV]  max_depth=20, max_features=sqrt, min_samples_leaf=4, min_samples_split=2, n_estimators=200, total=   0.5s\n",
      "[CV] max_depth=20, max_features=sqrt, min_samples_leaf=4, min_samples_split=2, n_estimators=200 \n",
      "[CV]  max_depth=20, max_features=sqrt, min_samples_leaf=4, min_samples_split=2, n_estimators=200, total=   0.5s\n",
      "[CV] max_depth=20, max_features=sqrt, min_samples_leaf=4, min_samples_split=2, n_estimators=500 \n",
      "[CV]  max_depth=20, max_features=sqrt, min_samples_leaf=4, min_samples_split=2, n_estimators=500, total=   1.5s\n",
      "[CV] max_depth=20, max_features=sqrt, min_samples_leaf=4, min_samples_split=2, n_estimators=500 \n",
      "[CV]  max_depth=20, max_features=sqrt, min_samples_leaf=4, min_samples_split=2, n_estimators=500, total=   1.5s\n",
      "[CV] max_depth=20, max_features=sqrt, min_samples_leaf=4, min_samples_split=2, n_estimators=500 \n",
      "[CV]  max_depth=20, max_features=sqrt, min_samples_leaf=4, min_samples_split=2, n_estimators=500, total=   1.5s\n",
      "[CV] max_depth=20, max_features=sqrt, min_samples_leaf=4, min_samples_split=2, n_estimators=500 \n",
      "[CV]  max_depth=20, max_features=sqrt, min_samples_leaf=4, min_samples_split=2, n_estimators=500, total=   1.3s\n",
      "[CV] max_depth=20, max_features=sqrt, min_samples_leaf=4, min_samples_split=2, n_estimators=500 \n",
      "[CV]  max_depth=20, max_features=sqrt, min_samples_leaf=4, min_samples_split=2, n_estimators=500, total=   1.4s\n",
      "[CV] max_depth=20, max_features=sqrt, min_samples_leaf=4, min_samples_split=4, n_estimators=100 \n",
      "[CV]  max_depth=20, max_features=sqrt, min_samples_leaf=4, min_samples_split=4, n_estimators=100, total=   0.3s\n",
      "[CV] max_depth=20, max_features=sqrt, min_samples_leaf=4, min_samples_split=4, n_estimators=100 \n",
      "[CV]  max_depth=20, max_features=sqrt, min_samples_leaf=4, min_samples_split=4, n_estimators=100, total=   0.3s\n",
      "[CV] max_depth=20, max_features=sqrt, min_samples_leaf=4, min_samples_split=4, n_estimators=100 \n",
      "[CV]  max_depth=20, max_features=sqrt, min_samples_leaf=4, min_samples_split=4, n_estimators=100, total=   0.3s\n",
      "[CV] max_depth=20, max_features=sqrt, min_samples_leaf=4, min_samples_split=4, n_estimators=100 \n",
      "[CV]  max_depth=20, max_features=sqrt, min_samples_leaf=4, min_samples_split=4, n_estimators=100, total=   0.3s\n",
      "[CV] max_depth=20, max_features=sqrt, min_samples_leaf=4, min_samples_split=4, n_estimators=100 \n",
      "[CV]  max_depth=20, max_features=sqrt, min_samples_leaf=4, min_samples_split=4, n_estimators=100, total=   0.3s\n",
      "[CV] max_depth=20, max_features=sqrt, min_samples_leaf=4, min_samples_split=4, n_estimators=200 \n",
      "[CV]  max_depth=20, max_features=sqrt, min_samples_leaf=4, min_samples_split=4, n_estimators=200, total=   0.5s\n",
      "[CV] max_depth=20, max_features=sqrt, min_samples_leaf=4, min_samples_split=4, n_estimators=200 \n"
     ]
    },
    {
     "name": "stdout",
     "output_type": "stream",
     "text": [
      "[CV]  max_depth=20, max_features=sqrt, min_samples_leaf=4, min_samples_split=4, n_estimators=200, total=   0.6s\n",
      "[CV] max_depth=20, max_features=sqrt, min_samples_leaf=4, min_samples_split=4, n_estimators=200 \n",
      "[CV]  max_depth=20, max_features=sqrt, min_samples_leaf=4, min_samples_split=4, n_estimators=200, total=   0.6s\n",
      "[CV] max_depth=20, max_features=sqrt, min_samples_leaf=4, min_samples_split=4, n_estimators=200 \n",
      "[CV]  max_depth=20, max_features=sqrt, min_samples_leaf=4, min_samples_split=4, n_estimators=200, total=   0.6s\n",
      "[CV] max_depth=20, max_features=sqrt, min_samples_leaf=4, min_samples_split=4, n_estimators=200 \n",
      "[CV]  max_depth=20, max_features=sqrt, min_samples_leaf=4, min_samples_split=4, n_estimators=200, total=   0.6s\n",
      "[CV] max_depth=20, max_features=sqrt, min_samples_leaf=4, min_samples_split=4, n_estimators=500 \n",
      "[CV]  max_depth=20, max_features=sqrt, min_samples_leaf=4, min_samples_split=4, n_estimators=500, total=   1.3s\n",
      "[CV] max_depth=20, max_features=sqrt, min_samples_leaf=4, min_samples_split=4, n_estimators=500 \n",
      "[CV]  max_depth=20, max_features=sqrt, min_samples_leaf=4, min_samples_split=4, n_estimators=500, total=   1.3s\n",
      "[CV] max_depth=20, max_features=sqrt, min_samples_leaf=4, min_samples_split=4, n_estimators=500 \n",
      "[CV]  max_depth=20, max_features=sqrt, min_samples_leaf=4, min_samples_split=4, n_estimators=500, total=   1.4s\n",
      "[CV] max_depth=20, max_features=sqrt, min_samples_leaf=4, min_samples_split=4, n_estimators=500 \n",
      "[CV]  max_depth=20, max_features=sqrt, min_samples_leaf=4, min_samples_split=4, n_estimators=500, total=   1.4s\n",
      "[CV] max_depth=20, max_features=sqrt, min_samples_leaf=4, min_samples_split=4, n_estimators=500 \n",
      "[CV]  max_depth=20, max_features=sqrt, min_samples_leaf=4, min_samples_split=4, n_estimators=500, total=   1.4s\n",
      "[CV] max_depth=20, max_features=sqrt, min_samples_leaf=6, min_samples_split=2, n_estimators=100 \n",
      "[CV]  max_depth=20, max_features=sqrt, min_samples_leaf=6, min_samples_split=2, n_estimators=100, total=   0.3s\n",
      "[CV] max_depth=20, max_features=sqrt, min_samples_leaf=6, min_samples_split=2, n_estimators=100 \n",
      "[CV]  max_depth=20, max_features=sqrt, min_samples_leaf=6, min_samples_split=2, n_estimators=100, total=   0.3s\n",
      "[CV] max_depth=20, max_features=sqrt, min_samples_leaf=6, min_samples_split=2, n_estimators=100 \n",
      "[CV]  max_depth=20, max_features=sqrt, min_samples_leaf=6, min_samples_split=2, n_estimators=100, total=   0.3s\n",
      "[CV] max_depth=20, max_features=sqrt, min_samples_leaf=6, min_samples_split=2, n_estimators=100 \n",
      "[CV]  max_depth=20, max_features=sqrt, min_samples_leaf=6, min_samples_split=2, n_estimators=100, total=   0.3s\n",
      "[CV] max_depth=20, max_features=sqrt, min_samples_leaf=6, min_samples_split=2, n_estimators=100 \n",
      "[CV]  max_depth=20, max_features=sqrt, min_samples_leaf=6, min_samples_split=2, n_estimators=100, total=   0.3s\n",
      "[CV] max_depth=20, max_features=sqrt, min_samples_leaf=6, min_samples_split=2, n_estimators=200 \n",
      "[CV]  max_depth=20, max_features=sqrt, min_samples_leaf=6, min_samples_split=2, n_estimators=200, total=   0.6s\n",
      "[CV] max_depth=20, max_features=sqrt, min_samples_leaf=6, min_samples_split=2, n_estimators=200 \n",
      "[CV]  max_depth=20, max_features=sqrt, min_samples_leaf=6, min_samples_split=2, n_estimators=200, total=   0.5s\n",
      "[CV] max_depth=20, max_features=sqrt, min_samples_leaf=6, min_samples_split=2, n_estimators=200 \n",
      "[CV]  max_depth=20, max_features=sqrt, min_samples_leaf=6, min_samples_split=2, n_estimators=200, total=   0.5s\n",
      "[CV] max_depth=20, max_features=sqrt, min_samples_leaf=6, min_samples_split=2, n_estimators=200 \n",
      "[CV]  max_depth=20, max_features=sqrt, min_samples_leaf=6, min_samples_split=2, n_estimators=200, total=   0.5s\n",
      "[CV] max_depth=20, max_features=sqrt, min_samples_leaf=6, min_samples_split=2, n_estimators=200 \n",
      "[CV]  max_depth=20, max_features=sqrt, min_samples_leaf=6, min_samples_split=2, n_estimators=200, total=   0.5s\n",
      "[CV] max_depth=20, max_features=sqrt, min_samples_leaf=6, min_samples_split=2, n_estimators=500 \n",
      "[CV]  max_depth=20, max_features=sqrt, min_samples_leaf=6, min_samples_split=2, n_estimators=500, total=   1.3s\n",
      "[CV] max_depth=20, max_features=sqrt, min_samples_leaf=6, min_samples_split=2, n_estimators=500 \n",
      "[CV]  max_depth=20, max_features=sqrt, min_samples_leaf=6, min_samples_split=2, n_estimators=500, total=   1.3s\n",
      "[CV] max_depth=20, max_features=sqrt, min_samples_leaf=6, min_samples_split=2, n_estimators=500 \n",
      "[CV]  max_depth=20, max_features=sqrt, min_samples_leaf=6, min_samples_split=2, n_estimators=500, total=   1.4s\n",
      "[CV] max_depth=20, max_features=sqrt, min_samples_leaf=6, min_samples_split=2, n_estimators=500 \n",
      "[CV]  max_depth=20, max_features=sqrt, min_samples_leaf=6, min_samples_split=2, n_estimators=500, total=   1.3s\n",
      "[CV] max_depth=20, max_features=sqrt, min_samples_leaf=6, min_samples_split=2, n_estimators=500 \n",
      "[CV]  max_depth=20, max_features=sqrt, min_samples_leaf=6, min_samples_split=2, n_estimators=500, total=   1.6s\n",
      "[CV] max_depth=20, max_features=sqrt, min_samples_leaf=6, min_samples_split=4, n_estimators=100 \n",
      "[CV]  max_depth=20, max_features=sqrt, min_samples_leaf=6, min_samples_split=4, n_estimators=100, total=   0.3s\n",
      "[CV] max_depth=20, max_features=sqrt, min_samples_leaf=6, min_samples_split=4, n_estimators=100 \n",
      "[CV]  max_depth=20, max_features=sqrt, min_samples_leaf=6, min_samples_split=4, n_estimators=100, total=   0.3s\n",
      "[CV] max_depth=20, max_features=sqrt, min_samples_leaf=6, min_samples_split=4, n_estimators=100 \n",
      "[CV]  max_depth=20, max_features=sqrt, min_samples_leaf=6, min_samples_split=4, n_estimators=100, total=   0.3s\n",
      "[CV] max_depth=20, max_features=sqrt, min_samples_leaf=6, min_samples_split=4, n_estimators=100 \n",
      "[CV]  max_depth=20, max_features=sqrt, min_samples_leaf=6, min_samples_split=4, n_estimators=100, total=   0.3s\n",
      "[CV] max_depth=20, max_features=sqrt, min_samples_leaf=6, min_samples_split=4, n_estimators=100 \n",
      "[CV]  max_depth=20, max_features=sqrt, min_samples_leaf=6, min_samples_split=4, n_estimators=100, total=   0.3s\n",
      "[CV] max_depth=20, max_features=sqrt, min_samples_leaf=6, min_samples_split=4, n_estimators=200 \n",
      "[CV]  max_depth=20, max_features=sqrt, min_samples_leaf=6, min_samples_split=4, n_estimators=200, total=   0.6s\n",
      "[CV] max_depth=20, max_features=sqrt, min_samples_leaf=6, min_samples_split=4, n_estimators=200 \n",
      "[CV]  max_depth=20, max_features=sqrt, min_samples_leaf=6, min_samples_split=4, n_estimators=200, total=   0.7s\n",
      "[CV] max_depth=20, max_features=sqrt, min_samples_leaf=6, min_samples_split=4, n_estimators=200 \n",
      "[CV]  max_depth=20, max_features=sqrt, min_samples_leaf=6, min_samples_split=4, n_estimators=200, total=   0.5s\n",
      "[CV] max_depth=20, max_features=sqrt, min_samples_leaf=6, min_samples_split=4, n_estimators=200 \n",
      "[CV]  max_depth=20, max_features=sqrt, min_samples_leaf=6, min_samples_split=4, n_estimators=200, total=   0.7s\n",
      "[CV] max_depth=20, max_features=sqrt, min_samples_leaf=6, min_samples_split=4, n_estimators=200 \n",
      "[CV]  max_depth=20, max_features=sqrt, min_samples_leaf=6, min_samples_split=4, n_estimators=200, total=   0.5s\n",
      "[CV] max_depth=20, max_features=sqrt, min_samples_leaf=6, min_samples_split=4, n_estimators=500 \n",
      "[CV]  max_depth=20, max_features=sqrt, min_samples_leaf=6, min_samples_split=4, n_estimators=500, total=   1.3s\n",
      "[CV] max_depth=20, max_features=sqrt, min_samples_leaf=6, min_samples_split=4, n_estimators=500 \n",
      "[CV]  max_depth=20, max_features=sqrt, min_samples_leaf=6, min_samples_split=4, n_estimators=500, total=   1.3s\n",
      "[CV] max_depth=20, max_features=sqrt, min_samples_leaf=6, min_samples_split=4, n_estimators=500 \n",
      "[CV]  max_depth=20, max_features=sqrt, min_samples_leaf=6, min_samples_split=4, n_estimators=500, total=   1.3s\n",
      "[CV] max_depth=20, max_features=sqrt, min_samples_leaf=6, min_samples_split=4, n_estimators=500 \n",
      "[CV]  max_depth=20, max_features=sqrt, min_samples_leaf=6, min_samples_split=4, n_estimators=500, total=   1.3s\n",
      "[CV] max_depth=20, max_features=sqrt, min_samples_leaf=6, min_samples_split=4, n_estimators=500 \n",
      "[CV]  max_depth=20, max_features=sqrt, min_samples_leaf=6, min_samples_split=4, n_estimators=500, total=   1.3s\n"
     ]
    },
    {
     "name": "stderr",
     "output_type": "stream",
     "text": [
      "[Parallel(n_jobs=1)]: Done 360 out of 360 | elapsed:  4.4min finished\n"
     ]
    },
    {
     "data": {
      "text/plain": [
       "GridSearchCV(cv=5, error_score=nan,\n",
       "             estimator=RandomForestClassifier(bootstrap=True, ccp_alpha=0.0,\n",
       "                                              class_weight=None,\n",
       "                                              criterion='gini', max_depth=None,\n",
       "                                              max_features='auto',\n",
       "                                              max_leaf_nodes=None,\n",
       "                                              max_samples=None,\n",
       "                                              min_impurity_decrease=0.0,\n",
       "                                              min_impurity_split=None,\n",
       "                                              min_samples_leaf=1,\n",
       "                                              min_samples_split=2,\n",
       "                                              min_weight_fraction_leaf=0.0,\n",
       "                                              n_estimators=100, n_jobs=1,\n",
       "                                              oob_score=False,\n",
       "                                              random_state=None, verbose=0,\n",
       "                                              warm_start=False),\n",
       "             iid='deprecated', n_jobs=None,\n",
       "             param_grid={'max_depth': [5, 10, 20],\n",
       "                         'max_features': ['auto', 'sqrt'],\n",
       "                         'min_samples_leaf': [4, 6],\n",
       "                         'min_samples_split': [2, 4],\n",
       "                         'n_estimators': [100, 200, 500]},\n",
       "             pre_dispatch='2*n_jobs', refit=True, return_train_score=False,\n",
       "             scoring=None, verbose=2)"
      ]
     },
     "execution_count": 136,
     "metadata": {},
     "output_type": "execute_result"
    }
   ],
   "source": [
    "from sklearn.model_selection import GridSearchCV\n",
    "\n",
    "np.random.seed(42)\n",
    "X = heart_disease.drop(\"target\",axis= 1)\n",
    "Y = heart_disease[\"target\"]\n",
    "\n",
    "# Reducing Grid to reduce processing power and time\n",
    "Grid_2 = {\"n_estimators\":[100,200,500],\n",
    "        \"min_samples_leaf\":[4,6],\n",
    "        \"max_depth\":[5,10,20],\n",
    "        \"min_samples_split\":[2,4],\n",
    "        \"max_features\":[\"auto\",\"sqrt\"]}\n",
    "\n",
    "X_train,X_test,Y_train,Y_test = train_test_split(X,Y,test_size=0.2)\n",
    "clf = RandomForestClassifier(n_jobs=1) # Defining the processor/cores to use\n",
    "grid_rfclf = GridSearchCV(estimator=clf,\n",
    "                          param_grid=Grid_2,\n",
    "                          verbose = 2,\n",
    "                          cv =5)\n",
    "\n",
    "grid_rfclf.fit(X_train,Y_train)"
   ]
  },
  {
   "cell_type": "code",
   "execution_count": 137,
   "metadata": {},
   "outputs": [
    {
     "data": {
      "text/plain": [
       "{'max_depth': 10,\n",
       " 'max_features': 'auto',\n",
       " 'min_samples_leaf': 4,\n",
       " 'min_samples_split': 4,\n",
       " 'n_estimators': 100}"
      ]
     },
     "execution_count": 137,
     "metadata": {},
     "output_type": "execute_result"
    }
   ],
   "source": [
    "grid_rfclf.best_params_"
   ]
  },
  {
   "cell_type": "code",
   "execution_count": 139,
   "metadata": {},
   "outputs": [
    {
     "name": "stdout",
     "output_type": "stream",
     "text": [
      "Acc:86.885246%\n",
      "Precision:0.8529411764705882\n",
      "Recall:0.90625\n",
      "F1_score:0.8787878787878787\n"
     ]
    }
   ],
   "source": [
    "grid_Y_preds = grid_rfclf.predict(X_test)\n",
    "grid_metrics = classification_evaluator(Y_test,grid_Y_preds)"
   ]
  },
  {
   "cell_type": "code",
   "execution_count": 141,
   "metadata": {},
   "outputs": [
    {
     "data": {
      "text/html": [
       "<div>\n",
       "<style scoped>\n",
       "    .dataframe tbody tr th:only-of-type {\n",
       "        vertical-align: middle;\n",
       "    }\n",
       "\n",
       "    .dataframe tbody tr th {\n",
       "        vertical-align: top;\n",
       "    }\n",
       "\n",
       "    .dataframe thead th {\n",
       "        text-align: right;\n",
       "    }\n",
       "</style>\n",
       "<table border=\"1\" class=\"dataframe\">\n",
       "  <thead>\n",
       "    <tr style=\"text-align: right;\">\n",
       "      <th></th>\n",
       "      <th>Grid_Metrics</th>\n",
       "      <th>RandomSearch</th>\n",
       "      <th>Baseline_metrics1</th>\n",
       "      <th>Baseline_2</th>\n",
       "    </tr>\n",
       "  </thead>\n",
       "  <tbody>\n",
       "    <tr>\n",
       "      <th>Accuracy</th>\n",
       "      <td>0.870000</td>\n",
       "      <td>0.870000</td>\n",
       "      <td>0.800000</td>\n",
       "      <td>0.800000</td>\n",
       "    </tr>\n",
       "    <tr>\n",
       "      <th>Precision</th>\n",
       "      <td>0.850000</td>\n",
       "      <td>0.850000</td>\n",
       "      <td>0.760000</td>\n",
       "      <td>0.740000</td>\n",
       "    </tr>\n",
       "    <tr>\n",
       "      <th>Recall</th>\n",
       "      <td>0.910000</td>\n",
       "      <td>0.910000</td>\n",
       "      <td>0.920000</td>\n",
       "      <td>0.960000</td>\n",
       "    </tr>\n",
       "    <tr>\n",
       "      <th>F1_score</th>\n",
       "      <td>0.878788</td>\n",
       "      <td>0.878788</td>\n",
       "      <td>0.830189</td>\n",
       "      <td>0.836364</td>\n",
       "    </tr>\n",
       "  </tbody>\n",
       "</table>\n",
       "</div>"
      ],
      "text/plain": [
       "           Grid_Metrics  RandomSearch  Baseline_metrics1  Baseline_2\n",
       "Accuracy       0.870000      0.870000           0.800000    0.800000\n",
       "Precision      0.850000      0.850000           0.760000    0.740000\n",
       "Recall         0.910000      0.910000           0.920000    0.960000\n",
       "F1_score       0.878788      0.878788           0.830189    0.836364"
      ]
     },
     "execution_count": 141,
     "metadata": {},
     "output_type": "execute_result"
    }
   ],
   "source": [
    "# Lets compare the models\n",
    "model_compare = pd.DataFrame({\"Grid_Metrics\":grid_metrics,\n",
    "                              \"RandomSearch\":rs_metrics,\n",
    "                               \"Baseline_metrics1\":baseline_metrics,\n",
    "                               \"Baseline_2\":base_metrics_2})\n",
    "model_compare"
   ]
  },
  {
   "cell_type": "code",
   "execution_count": 150,
   "metadata": {},
   "outputs": [
    {
     "data": {
      "image/png": "[encoded data removed]",
      "text/plain": [
       "<Figure size 720x360 with 1 Axes>"
      ]
     },
     "metadata": {},
     "output_type": "display_data"
    }
   ],
   "source": [
    "model_compare.plot.bar(figsize=(10,5));"
   ]
  },
  {
   "cell_type": "markdown",
   "metadata": {},
   "source": [
    "### Lets save and load our models\n",
    "* Using pickle's load and dump method\n",
    "* Using joblib"
   ]
  },
  {
   "cell_type": "code",
   "execution_count": 152,
   "metadata": {},
   "outputs": [],
   "source": [
    "import pickle\n",
    "pickle.dump(grid_rfclf,open(\"GridSearch_Random_Forest.pkl\",\"wb\"))"
   ]
  },
  {
   "cell_type": "code",
   "execution_count": 154,
   "metadata": {},
   "outputs": [],
   "source": [
    "# load the modle \n",
    "loaded_model = pickle.load(open(\"GridSearch_Random_Forest.pkl\",\"rb\"))"
   ]
  },
  {
   "cell_type": "code",
   "execution_count": 155,
   "metadata": {},
   "outputs": [
    {
     "name": "stdout",
     "output_type": "stream",
     "text": [
      "Acc:86.885246%\n",
      "Precision:0.8529411764705882\n",
      "Recall:0.90625\n",
      "F1_score:0.8787878787878787\n"
     ]
    },
    {
     "data": {
      "text/plain": [
       "{'Accuracy': 0.87,\n",
       " 'Precision': 0.85,\n",
       " 'Recall': 0.91,\n",
       " 'F1_score': 0.8787878787878787}"
      ]
     },
     "execution_count": 155,
     "metadata": {},
     "output_type": "execute_result"
    }
   ],
   "source": [
    "pickle_Y_preds = loaded_model.predict(X_test)\n",
    "classification_evaluator(Y_test,pickle_Y_preds)"
   ]
  },
  {
   "cell_type": "markdown",
   "metadata": {},
   "source": [
    "**Joblib**"
   ]
  },
  {
   "cell_type": "code",
   "execution_count": 157,
   "metadata": {},
   "outputs": [
    {
     "data": {
      "text/plain": [
       "['_GridSearch_Random_Forest1.joblib']"
      ]
     },
     "execution_count": 157,
     "metadata": {},
     "output_type": "execute_result"
    }
   ],
   "source": [
    "from joblib import load,dump\n",
    "# To save a model\n",
    "dump(grid_rfclf,filename=\"_GridSearch_Random_Forest1.joblib\")"
   ]
  },
  {
   "cell_type": "code",
   "execution_count": 158,
   "metadata": {},
   "outputs": [
    {
     "name": "stdout",
     "output_type": "stream",
     "text": [
      "Acc:86.885246%\n",
      "Precision:0.8529411764705882\n",
      "Recall:0.90625\n",
      "F1_score:0.8787878787878787\n"
     ]
    },
    {
     "data": {
      "text/plain": [
       "{'Accuracy': 0.87,\n",
       " 'Precision': 0.85,\n",
       " 'Recall': 0.91,\n",
       " 'F1_score': 0.8787878787878787}"
      ]
     },
     "execution_count": 158,
     "metadata": {},
     "output_type": "execute_result"
    }
   ],
   "source": [
    "joblib_model = load(filename=\"_GridSearch_Random_Forest1.joblib\")\n",
    "Y_preds_joblib = joblib_model.predict(X_test)\n",
    "classification_evaluator(Y_test,Y_preds_joblib)"
   ]
  },
  {
   "cell_type": "markdown",
   "metadata": {},
   "source": [
    "### Putting it all together in one cell\n",
    "* We need to fill the missing values\n",
    "* convert them to numbers\n",
    "* fit the model\n",
    "*Hypertune it"
   ]
  },
  {
   "cell_type": "code",
   "execution_count": 159,
   "metadata": {},
   "outputs": [],
   "source": [
    "data = pd.read_csv(\"scikit-learn-data/car-sales-extended-missing-data.csv\")"
   ]
  },
  {
   "cell_type": "code",
   "execution_count": 160,
   "metadata": {},
   "outputs": [
    {
     "data": {
      "text/plain": [
       "Make             49\n",
       "Colour           50\n",
       "Odometer (KM)    50\n",
       "Doors            50\n",
       "Price            50\n",
       "dtype: int64"
      ]
     },
     "execution_count": 160,
     "metadata": {},
     "output_type": "execute_result"
    }
   ],
   "source": [
    "data.isna().sum()"
   ]
  },
  {
   "cell_type": "code",
   "execution_count": 173,
   "metadata": {},
   "outputs": [
    {
     "data": {
      "text/plain": [
       "0.2222166113612053"
      ]
     },
     "execution_count": 173,
     "metadata": {},
     "output_type": "execute_result"
    }
   ],
   "source": [
    "import pandas as pd\n",
    "from sklearn.model_selection import train_test_split,GridSearchCV\n",
    "from sklearn.impute import SimpleImputer\n",
    "from sklearn.ensemble import RandomForestRegressor\n",
    "from sklearn.compose import ColumnTransformer\n",
    "from sklearn.preprocessing import OneHotEncoder\n",
    "from sklearn.pipeline import Pipeline\n",
    "\n",
    "# Lets initiate a random seed\n",
    "import numpy as np\n",
    "np.random.seed(42)\n",
    "\n",
    "# lets fill the missing values\n",
    "data.dropna(subset=[\"Price\"],inplace=True)\n",
    "\n",
    "# Defining the categories and then making an imputer using Pipelines.We are also encoding the Categorical_features.\n",
    "categorical_features = [\"Make\",\"Colour\"]\n",
    "numerical_feature = [\"Odometer (KM)\"]\n",
    "Door_feature = [\"Doors\"]\n",
    "\n",
    "\n",
    "Cat_transformer = Pipeline(steps=[\n",
    "    (\"Imputer\",SimpleImputer(strategy=\"constant\",fill_value=\"Missing\")),\n",
    "    (\"One_Hot\",OneHotEncoder(handle_unknown=\"ignore\"))])\n",
    "Num_transformer = Pipeline(steps=[\n",
    "    (\"Num_Imputer\",SimpleImputer(strategy=\"mean\"))\n",
    "])\n",
    "Door_transformer = Pipeline(steps=[\n",
    "    (\"Door_imputer\",SimpleImputer(strategy=\"constant\",fill_value=4.0))\n",
    "])\n",
    "\n",
    "# Preprocessing (Filling missing values and then converting to numbers)\n",
    "preprocessor = ColumnTransformer(transformers=[(\"Categorical_transformer\",Cat_transformer,categorical_features),\n",
    "                     (\"Numerical_transformer\",Num_transformer,numerical_feature),\n",
    "                     (\"Door_transformer\",Door_transformer,Door_feature\n",
    "                     )])\n",
    "# \n",
    "model = Pipeline(steps=[\n",
    "    (\"preprocessor\",preprocessor),\n",
    "    (\"model\",RandomForestRegressor())\n",
    "])\n",
    "\n",
    "# Splitting the data\n",
    "X = data.drop(\"Price\",axis=1)\n",
    "Y = data[\"Price\"]\n",
    "\n",
    "X_train1,X_test1,Y_train1,Y_test1 = train_test_split(X,Y,test_size=0.2)\n",
    "\n",
    "# Fitting and evaluating the data\n",
    "model.fit(X_train1, Y_train1)\n",
    "model.score(X_test1,Y_test1)\n",
    "\n",
    "# When model.fit is going to run it will call the model which will run the pipeline that initiates the model and does preprocessing.\n",
    "# When preprocessor is going to run it will transform/fill the values by calling imputers.Only categorical features will be \n",
    "# encoded as its transformer has got another instruction of encoding the data."
   ]
  },
  {
   "cell_type": "markdown",
   "metadata": {},
   "source": [
    "it's also possible to use 'GridSearchCV' or 'RandomizedSearchCV' with 'Pipeline'."
   ]
  },
  {
   "cell_type": "code",
   "execution_count": 174,
   "metadata": {},
   "outputs": [
    {
     "name": "stdout",
     "output_type": "stream",
     "text": [
      "Fitting 5 folds for each of 32 candidates, totalling 160 fits\n",
      "[CV] model__max_depth=10, model__max_features=auto, model__min_samples_leaf=4, model__min_samples_split=2, model__n_estimators=100, preprocessor__Numerical_transformer__Num_Imputer__strategy=mean \n"
     ]
    },
    {
     "name": "stderr",
     "output_type": "stream",
     "text": [
      "[Parallel(n_jobs=1)]: Using backend SequentialBackend with 1 concurrent workers.\n"
     ]
    },
    {
     "name": "stdout",
     "output_type": "stream",
     "text": [
      "[CV]  model__max_depth=10, model__max_features=auto, model__min_samples_leaf=4, model__min_samples_split=2, model__n_estimators=100, preprocessor__Numerical_transformer__Num_Imputer__strategy=mean, total=   0.3s\n",
      "[CV] model__max_depth=10, model__max_features=auto, model__min_samples_leaf=4, model__min_samples_split=2, model__n_estimators=100, preprocessor__Numerical_transformer__Num_Imputer__strategy=mean \n"
     ]
    },
    {
     "name": "stderr",
     "output_type": "stream",
     "text": [
      "[Parallel(n_jobs=1)]: Done   1 out of   1 | elapsed:    0.2s remaining:    0.0s\n"
     ]
    },
    {
     "name": "stdout",
     "output_type": "stream",
     "text": [
      "[CV]  model__max_depth=10, model__max_features=auto, model__min_samples_leaf=4, model__min_samples_split=2, model__n_estimators=100, preprocessor__Numerical_transformer__Num_Imputer__strategy=mean, total=   0.3s\n",
      "[CV] model__max_depth=10, model__max_features=auto, model__min_samples_leaf=4, model__min_samples_split=2, model__n_estimators=100, preprocessor__Numerical_transformer__Num_Imputer__strategy=mean \n",
      "[CV]  model__max_depth=10, model__max_features=auto, model__min_samples_leaf=4, model__min_samples_split=2, model__n_estimators=100, preprocessor__Numerical_transformer__Num_Imputer__strategy=mean, total=   0.3s\n",
      "[CV] model__max_depth=10, model__max_features=auto, model__min_samples_leaf=4, model__min_samples_split=2, model__n_estimators=100, preprocessor__Numerical_transformer__Num_Imputer__strategy=mean \n",
      "[CV]  model__max_depth=10, model__max_features=auto, model__min_samples_leaf=4, model__min_samples_split=2, model__n_estimators=100, preprocessor__Numerical_transformer__Num_Imputer__strategy=mean, total=   0.4s\n",
      "[CV] model__max_depth=10, model__max_features=auto, model__min_samples_leaf=4, model__min_samples_split=2, model__n_estimators=100, preprocessor__Numerical_transformer__Num_Imputer__strategy=mean \n",
      "[CV]  model__max_depth=10, model__max_features=auto, model__min_samples_leaf=4, model__min_samples_split=2, model__n_estimators=100, preprocessor__Numerical_transformer__Num_Imputer__strategy=mean, total=   0.4s\n",
      "[CV] model__max_depth=10, model__max_features=auto, model__min_samples_leaf=4, model__min_samples_split=2, model__n_estimators=100, preprocessor__Numerical_transformer__Num_Imputer__strategy=median \n",
      "[CV]  model__max_depth=10, model__max_features=auto, model__min_samples_leaf=4, model__min_samples_split=2, model__n_estimators=100, preprocessor__Numerical_transformer__Num_Imputer__strategy=median, total=   0.4s\n",
      "[CV] model__max_depth=10, model__max_features=auto, model__min_samples_leaf=4, model__min_samples_split=2, model__n_estimators=100, preprocessor__Numerical_transformer__Num_Imputer__strategy=median \n",
      "[CV]  model__max_depth=10, model__max_features=auto, model__min_samples_leaf=4, model__min_samples_split=2, model__n_estimators=100, preprocessor__Numerical_transformer__Num_Imputer__strategy=median, total=   0.4s\n",
      "[CV] model__max_depth=10, model__max_features=auto, model__min_samples_leaf=4, model__min_samples_split=2, model__n_estimators=100, preprocessor__Numerical_transformer__Num_Imputer__strategy=median \n",
      "[CV]  model__max_depth=10, model__max_features=auto, model__min_samples_leaf=4, model__min_samples_split=2, model__n_estimators=100, preprocessor__Numerical_transformer__Num_Imputer__strategy=median, total=   0.4s\n",
      "[CV] model__max_depth=10, model__max_features=auto, model__min_samples_leaf=4, model__min_samples_split=2, model__n_estimators=100, preprocessor__Numerical_transformer__Num_Imputer__strategy=median \n",
      "[CV]  model__max_depth=10, model__max_features=auto, model__min_samples_leaf=4, model__min_samples_split=2, model__n_estimators=100, preprocessor__Numerical_transformer__Num_Imputer__strategy=median, total=   0.4s\n",
      "[CV] model__max_depth=10, model__max_features=auto, model__min_samples_leaf=4, model__min_samples_split=2, model__n_estimators=100, preprocessor__Numerical_transformer__Num_Imputer__strategy=median \n",
      "[CV]  model__max_depth=10, model__max_features=auto, model__min_samples_leaf=4, model__min_samples_split=2, model__n_estimators=100, preprocessor__Numerical_transformer__Num_Imputer__strategy=median, total=   0.4s\n",
      "[CV] model__max_depth=10, model__max_features=auto, model__min_samples_leaf=4, model__min_samples_split=2, model__n_estimators=1000, preprocessor__Numerical_transformer__Num_Imputer__strategy=mean \n",
      "[CV]  model__max_depth=10, model__max_features=auto, model__min_samples_leaf=4, model__min_samples_split=2, model__n_estimators=1000, preprocessor__Numerical_transformer__Num_Imputer__strategy=mean, total=   3.6s\n",
      "[CV] model__max_depth=10, model__max_features=auto, model__min_samples_leaf=4, model__min_samples_split=2, model__n_estimators=1000, preprocessor__Numerical_transformer__Num_Imputer__strategy=mean \n",
      "[CV]  model__max_depth=10, model__max_features=auto, model__min_samples_leaf=4, model__min_samples_split=2, model__n_estimators=1000, preprocessor__Numerical_transformer__Num_Imputer__strategy=mean, total=   3.4s\n",
      "[CV] model__max_depth=10, model__max_features=auto, model__min_samples_leaf=4, model__min_samples_split=2, model__n_estimators=1000, preprocessor__Numerical_transformer__Num_Imputer__strategy=mean \n",
      "[CV]  model__max_depth=10, model__max_features=auto, model__min_samples_leaf=4, model__min_samples_split=2, model__n_estimators=1000, preprocessor__Numerical_transformer__Num_Imputer__strategy=mean, total=   3.3s\n",
      "[CV] model__max_depth=10, model__max_features=auto, model__min_samples_leaf=4, model__min_samples_split=2, model__n_estimators=1000, preprocessor__Numerical_transformer__Num_Imputer__strategy=mean \n",
      "[CV]  model__max_depth=10, model__max_features=auto, model__min_samples_leaf=4, model__min_samples_split=2, model__n_estimators=1000, preprocessor__Numerical_transformer__Num_Imputer__strategy=mean, total=   3.4s\n",
      "[CV] model__max_depth=10, model__max_features=auto, model__min_samples_leaf=4, model__min_samples_split=2, model__n_estimators=1000, preprocessor__Numerical_transformer__Num_Imputer__strategy=mean \n",
      "[CV]  model__max_depth=10, model__max_features=auto, model__min_samples_leaf=4, model__min_samples_split=2, model__n_estimators=1000, preprocessor__Numerical_transformer__Num_Imputer__strategy=mean, total=   3.5s\n",
      "[CV] model__max_depth=10, model__max_features=auto, model__min_samples_leaf=4, model__min_samples_split=2, model__n_estimators=1000, preprocessor__Numerical_transformer__Num_Imputer__strategy=median \n",
      "[CV]  model__max_depth=10, model__max_features=auto, model__min_samples_leaf=4, model__min_samples_split=2, model__n_estimators=1000, preprocessor__Numerical_transformer__Num_Imputer__strategy=median, total=   3.5s\n",
      "[CV] model__max_depth=10, model__max_features=auto, model__min_samples_leaf=4, model__min_samples_split=2, model__n_estimators=1000, preprocessor__Numerical_transformer__Num_Imputer__strategy=median \n",
      "[CV]  model__max_depth=10, model__max_features=auto, model__min_samples_leaf=4, model__min_samples_split=2, model__n_estimators=1000, preprocessor__Numerical_transformer__Num_Imputer__strategy=median, total=   3.4s\n",
      "[CV] model__max_depth=10, model__max_features=auto, model__min_samples_leaf=4, model__min_samples_split=2, model__n_estimators=1000, preprocessor__Numerical_transformer__Num_Imputer__strategy=median \n",
      "[CV]  model__max_depth=10, model__max_features=auto, model__min_samples_leaf=4, model__min_samples_split=2, model__n_estimators=1000, preprocessor__Numerical_transformer__Num_Imputer__strategy=median, total=   3.6s\n",
      "[CV] model__max_depth=10, model__max_features=auto, model__min_samples_leaf=4, model__min_samples_split=2, model__n_estimators=1000, preprocessor__Numerical_transformer__Num_Imputer__strategy=median \n",
      "[CV]  model__max_depth=10, model__max_features=auto, model__min_samples_leaf=4, model__min_samples_split=2, model__n_estimators=1000, preprocessor__Numerical_transformer__Num_Imputer__strategy=median, total=   4.2s\n",
      "[CV] model__max_depth=10, model__max_features=auto, model__min_samples_leaf=4, model__min_samples_split=2, model__n_estimators=1000, preprocessor__Numerical_transformer__Num_Imputer__strategy=median \n",
      "[CV]  model__max_depth=10, model__max_features=auto, model__min_samples_leaf=4, model__min_samples_split=2, model__n_estimators=1000, preprocessor__Numerical_transformer__Num_Imputer__strategy=median, total=   4.9s\n",
      "[CV] model__max_depth=10, model__max_features=auto, model__min_samples_leaf=4, model__min_samples_split=4, model__n_estimators=100, preprocessor__Numerical_transformer__Num_Imputer__strategy=mean \n",
      "[CV]  model__max_depth=10, model__max_features=auto, model__min_samples_leaf=4, model__min_samples_split=4, model__n_estimators=100, preprocessor__Numerical_transformer__Num_Imputer__strategy=mean, total=   0.4s\n",
      "[CV] model__max_depth=10, model__max_features=auto, model__min_samples_leaf=4, model__min_samples_split=4, model__n_estimators=100, preprocessor__Numerical_transformer__Num_Imputer__strategy=mean \n"
     ]
    },
    {
     "name": "stdout",
     "output_type": "stream",
     "text": [
      "[CV]  model__max_depth=10, model__max_features=auto, model__min_samples_leaf=4, model__min_samples_split=4, model__n_estimators=100, preprocessor__Numerical_transformer__Num_Imputer__strategy=mean, total=   0.7s\n",
      "[CV] model__max_depth=10, model__max_features=auto, model__min_samples_leaf=4, model__min_samples_split=4, model__n_estimators=100, preprocessor__Numerical_transformer__Num_Imputer__strategy=mean \n",
      "[CV]  model__max_depth=10, model__max_features=auto, model__min_samples_leaf=4, model__min_samples_split=4, model__n_estimators=100, preprocessor__Numerical_transformer__Num_Imputer__strategy=mean, total=   0.5s\n",
      "[CV] model__max_depth=10, model__max_features=auto, model__min_samples_leaf=4, model__min_samples_split=4, model__n_estimators=100, preprocessor__Numerical_transformer__Num_Imputer__strategy=mean \n",
      "[CV]  model__max_depth=10, model__max_features=auto, model__min_samples_leaf=4, model__min_samples_split=4, model__n_estimators=100, preprocessor__Numerical_transformer__Num_Imputer__strategy=mean, total=   0.5s\n",
      "[CV] model__max_depth=10, model__max_features=auto, model__min_samples_leaf=4, model__min_samples_split=4, model__n_estimators=100, preprocessor__Numerical_transformer__Num_Imputer__strategy=mean \n",
      "[CV]  model__max_depth=10, model__max_features=auto, model__min_samples_leaf=4, model__min_samples_split=4, model__n_estimators=100, preprocessor__Numerical_transformer__Num_Imputer__strategy=mean, total=   0.6s\n",
      "[CV] model__max_depth=10, model__max_features=auto, model__min_samples_leaf=4, model__min_samples_split=4, model__n_estimators=100, preprocessor__Numerical_transformer__Num_Imputer__strategy=median \n",
      "[CV]  model__max_depth=10, model__max_features=auto, model__min_samples_leaf=4, model__min_samples_split=4, model__n_estimators=100, preprocessor__Numerical_transformer__Num_Imputer__strategy=median, total=   0.6s\n",
      "[CV] model__max_depth=10, model__max_features=auto, model__min_samples_leaf=4, model__min_samples_split=4, model__n_estimators=100, preprocessor__Numerical_transformer__Num_Imputer__strategy=median \n",
      "[CV]  model__max_depth=10, model__max_features=auto, model__min_samples_leaf=4, model__min_samples_split=4, model__n_estimators=100, preprocessor__Numerical_transformer__Num_Imputer__strategy=median, total=   0.4s\n",
      "[CV] model__max_depth=10, model__max_features=auto, model__min_samples_leaf=4, model__min_samples_split=4, model__n_estimators=100, preprocessor__Numerical_transformer__Num_Imputer__strategy=median \n",
      "[CV]  model__max_depth=10, model__max_features=auto, model__min_samples_leaf=4, model__min_samples_split=4, model__n_estimators=100, preprocessor__Numerical_transformer__Num_Imputer__strategy=median, total=   0.7s\n",
      "[CV] model__max_depth=10, model__max_features=auto, model__min_samples_leaf=4, model__min_samples_split=4, model__n_estimators=100, preprocessor__Numerical_transformer__Num_Imputer__strategy=median \n",
      "[CV]  model__max_depth=10, model__max_features=auto, model__min_samples_leaf=4, model__min_samples_split=4, model__n_estimators=100, preprocessor__Numerical_transformer__Num_Imputer__strategy=median, total=   0.4s\n",
      "[CV] model__max_depth=10, model__max_features=auto, model__min_samples_leaf=4, model__min_samples_split=4, model__n_estimators=100, preprocessor__Numerical_transformer__Num_Imputer__strategy=median \n",
      "[CV]  model__max_depth=10, model__max_features=auto, model__min_samples_leaf=4, model__min_samples_split=4, model__n_estimators=100, preprocessor__Numerical_transformer__Num_Imputer__strategy=median, total=   0.5s\n",
      "[CV] model__max_depth=10, model__max_features=auto, model__min_samples_leaf=4, model__min_samples_split=4, model__n_estimators=1000, preprocessor__Numerical_transformer__Num_Imputer__strategy=mean \n",
      "[CV]  model__max_depth=10, model__max_features=auto, model__min_samples_leaf=4, model__min_samples_split=4, model__n_estimators=1000, preprocessor__Numerical_transformer__Num_Imputer__strategy=mean, total=   4.1s\n",
      "[CV] model__max_depth=10, model__max_features=auto, model__min_samples_leaf=4, model__min_samples_split=4, model__n_estimators=1000, preprocessor__Numerical_transformer__Num_Imputer__strategy=mean \n",
      "[CV]  model__max_depth=10, model__max_features=auto, model__min_samples_leaf=4, model__min_samples_split=4, model__n_estimators=1000, preprocessor__Numerical_transformer__Num_Imputer__strategy=mean, total=   3.6s\n",
      "[CV] model__max_depth=10, model__max_features=auto, model__min_samples_leaf=4, model__min_samples_split=4, model__n_estimators=1000, preprocessor__Numerical_transformer__Num_Imputer__strategy=mean \n",
      "[CV]  model__max_depth=10, model__max_features=auto, model__min_samples_leaf=4, model__min_samples_split=4, model__n_estimators=1000, preprocessor__Numerical_transformer__Num_Imputer__strategy=mean, total=   3.6s\n",
      "[CV] model__max_depth=10, model__max_features=auto, model__min_samples_leaf=4, model__min_samples_split=4, model__n_estimators=1000, preprocessor__Numerical_transformer__Num_Imputer__strategy=mean \n",
      "[CV]  model__max_depth=10, model__max_features=auto, model__min_samples_leaf=4, model__min_samples_split=4, model__n_estimators=1000, preprocessor__Numerical_transformer__Num_Imputer__strategy=mean, total=   3.2s\n",
      "[CV] model__max_depth=10, model__max_features=auto, model__min_samples_leaf=4, model__min_samples_split=4, model__n_estimators=1000, preprocessor__Numerical_transformer__Num_Imputer__strategy=mean \n",
      "[CV]  model__max_depth=10, model__max_features=auto, model__min_samples_leaf=4, model__min_samples_split=4, model__n_estimators=1000, preprocessor__Numerical_transformer__Num_Imputer__strategy=mean, total=   3.5s\n",
      "[CV] model__max_depth=10, model__max_features=auto, model__min_samples_leaf=4, model__min_samples_split=4, model__n_estimators=1000, preprocessor__Numerical_transformer__Num_Imputer__strategy=median \n",
      "[CV]  model__max_depth=10, model__max_features=auto, model__min_samples_leaf=4, model__min_samples_split=4, model__n_estimators=1000, preprocessor__Numerical_transformer__Num_Imputer__strategy=median, total=   3.5s\n",
      "[CV] model__max_depth=10, model__max_features=auto, model__min_samples_leaf=4, model__min_samples_split=4, model__n_estimators=1000, preprocessor__Numerical_transformer__Num_Imputer__strategy=median \n",
      "[CV]  model__max_depth=10, model__max_features=auto, model__min_samples_leaf=4, model__min_samples_split=4, model__n_estimators=1000, preprocessor__Numerical_transformer__Num_Imputer__strategy=median, total=   3.2s\n",
      "[CV] model__max_depth=10, model__max_features=auto, model__min_samples_leaf=4, model__min_samples_split=4, model__n_estimators=1000, preprocessor__Numerical_transformer__Num_Imputer__strategy=median \n",
      "[CV]  model__max_depth=10, model__max_features=auto, model__min_samples_leaf=4, model__min_samples_split=4, model__n_estimators=1000, preprocessor__Numerical_transformer__Num_Imputer__strategy=median, total=   3.9s\n",
      "[CV] model__max_depth=10, model__max_features=auto, model__min_samples_leaf=4, model__min_samples_split=4, model__n_estimators=1000, preprocessor__Numerical_transformer__Num_Imputer__strategy=median \n",
      "[CV]  model__max_depth=10, model__max_features=auto, model__min_samples_leaf=4, model__min_samples_split=4, model__n_estimators=1000, preprocessor__Numerical_transformer__Num_Imputer__strategy=median, total=   3.6s\n",
      "[CV] model__max_depth=10, model__max_features=auto, model__min_samples_leaf=4, model__min_samples_split=4, model__n_estimators=1000, preprocessor__Numerical_transformer__Num_Imputer__strategy=median \n",
      "[CV]  model__max_depth=10, model__max_features=auto, model__min_samples_leaf=4, model__min_samples_split=4, model__n_estimators=1000, preprocessor__Numerical_transformer__Num_Imputer__strategy=median, total=   3.8s\n",
      "[CV] model__max_depth=10, model__max_features=auto, model__min_samples_leaf=6, model__min_samples_split=2, model__n_estimators=100, preprocessor__Numerical_transformer__Num_Imputer__strategy=mean \n",
      "[CV]  model__max_depth=10, model__max_features=auto, model__min_samples_leaf=6, model__min_samples_split=2, model__n_estimators=100, preprocessor__Numerical_transformer__Num_Imputer__strategy=mean, total=   0.5s\n",
      "[CV] model__max_depth=10, model__max_features=auto, model__min_samples_leaf=6, model__min_samples_split=2, model__n_estimators=100, preprocessor__Numerical_transformer__Num_Imputer__strategy=mean \n"
     ]
    },
    {
     "name": "stdout",
     "output_type": "stream",
     "text": [
      "[CV]  model__max_depth=10, model__max_features=auto, model__min_samples_leaf=6, model__min_samples_split=2, model__n_estimators=100, preprocessor__Numerical_transformer__Num_Imputer__strategy=mean, total=   0.7s\n",
      "[CV] model__max_depth=10, model__max_features=auto, model__min_samples_leaf=6, model__min_samples_split=2, model__n_estimators=100, preprocessor__Numerical_transformer__Num_Imputer__strategy=mean \n",
      "[CV]  model__max_depth=10, model__max_features=auto, model__min_samples_leaf=6, model__min_samples_split=2, model__n_estimators=100, preprocessor__Numerical_transformer__Num_Imputer__strategy=mean, total=   0.4s\n",
      "[CV] model__max_depth=10, model__max_features=auto, model__min_samples_leaf=6, model__min_samples_split=2, model__n_estimators=100, preprocessor__Numerical_transformer__Num_Imputer__strategy=mean \n",
      "[CV]  model__max_depth=10, model__max_features=auto, model__min_samples_leaf=6, model__min_samples_split=2, model__n_estimators=100, preprocessor__Numerical_transformer__Num_Imputer__strategy=mean, total=   0.3s\n",
      "[CV] model__max_depth=10, model__max_features=auto, model__min_samples_leaf=6, model__min_samples_split=2, model__n_estimators=100, preprocessor__Numerical_transformer__Num_Imputer__strategy=mean \n",
      "[CV]  model__max_depth=10, model__max_features=auto, model__min_samples_leaf=6, model__min_samples_split=2, model__n_estimators=100, preprocessor__Numerical_transformer__Num_Imputer__strategy=mean, total=   0.4s\n",
      "[CV] model__max_depth=10, model__max_features=auto, model__min_samples_leaf=6, model__min_samples_split=2, model__n_estimators=100, preprocessor__Numerical_transformer__Num_Imputer__strategy=median \n",
      "[CV]  model__max_depth=10, model__max_features=auto, model__min_samples_leaf=6, model__min_samples_split=2, model__n_estimators=100, preprocessor__Numerical_transformer__Num_Imputer__strategy=median, total=   0.4s\n",
      "[CV] model__max_depth=10, model__max_features=auto, model__min_samples_leaf=6, model__min_samples_split=2, model__n_estimators=100, preprocessor__Numerical_transformer__Num_Imputer__strategy=median \n",
      "[CV]  model__max_depth=10, model__max_features=auto, model__min_samples_leaf=6, model__min_samples_split=2, model__n_estimators=100, preprocessor__Numerical_transformer__Num_Imputer__strategy=median, total=   0.4s\n",
      "[CV] model__max_depth=10, model__max_features=auto, model__min_samples_leaf=6, model__min_samples_split=2, model__n_estimators=100, preprocessor__Numerical_transformer__Num_Imputer__strategy=median \n",
      "[CV]  model__max_depth=10, model__max_features=auto, model__min_samples_leaf=6, model__min_samples_split=2, model__n_estimators=100, preprocessor__Numerical_transformer__Num_Imputer__strategy=median, total=   0.3s\n",
      "[CV] model__max_depth=10, model__max_features=auto, model__min_samples_leaf=6, model__min_samples_split=2, model__n_estimators=100, preprocessor__Numerical_transformer__Num_Imputer__strategy=median \n",
      "[CV]  model__max_depth=10, model__max_features=auto, model__min_samples_leaf=6, model__min_samples_split=2, model__n_estimators=100, preprocessor__Numerical_transformer__Num_Imputer__strategy=median, total=   0.4s\n",
      "[CV] model__max_depth=10, model__max_features=auto, model__min_samples_leaf=6, model__min_samples_split=2, model__n_estimators=100, preprocessor__Numerical_transformer__Num_Imputer__strategy=median \n",
      "[CV]  model__max_depth=10, model__max_features=auto, model__min_samples_leaf=6, model__min_samples_split=2, model__n_estimators=100, preprocessor__Numerical_transformer__Num_Imputer__strategy=median, total=   0.3s\n",
      "[CV] model__max_depth=10, model__max_features=auto, model__min_samples_leaf=6, model__min_samples_split=2, model__n_estimators=1000, preprocessor__Numerical_transformer__Num_Imputer__strategy=mean \n",
      "[CV]  model__max_depth=10, model__max_features=auto, model__min_samples_leaf=6, model__min_samples_split=2, model__n_estimators=1000, preprocessor__Numerical_transformer__Num_Imputer__strategy=mean, total=   3.6s\n",
      "[CV] model__max_depth=10, model__max_features=auto, model__min_samples_leaf=6, model__min_samples_split=2, model__n_estimators=1000, preprocessor__Numerical_transformer__Num_Imputer__strategy=mean \n",
      "[CV]  model__max_depth=10, model__max_features=auto, model__min_samples_leaf=6, model__min_samples_split=2, model__n_estimators=1000, preprocessor__Numerical_transformer__Num_Imputer__strategy=mean, total=   4.0s\n",
      "[CV] model__max_depth=10, model__max_features=auto, model__min_samples_leaf=6, model__min_samples_split=2, model__n_estimators=1000, preprocessor__Numerical_transformer__Num_Imputer__strategy=mean \n",
      "[CV]  model__max_depth=10, model__max_features=auto, model__min_samples_leaf=6, model__min_samples_split=2, model__n_estimators=1000, preprocessor__Numerical_transformer__Num_Imputer__strategy=mean, total=   3.4s\n",
      "[CV] model__max_depth=10, model__max_features=auto, model__min_samples_leaf=6, model__min_samples_split=2, model__n_estimators=1000, preprocessor__Numerical_transformer__Num_Imputer__strategy=mean \n",
      "[CV]  model__max_depth=10, model__max_features=auto, model__min_samples_leaf=6, model__min_samples_split=2, model__n_estimators=1000, preprocessor__Numerical_transformer__Num_Imputer__strategy=mean, total=   3.3s\n",
      "[CV] model__max_depth=10, model__max_features=auto, model__min_samples_leaf=6, model__min_samples_split=2, model__n_estimators=1000, preprocessor__Numerical_transformer__Num_Imputer__strategy=mean \n",
      "[CV]  model__max_depth=10, model__max_features=auto, model__min_samples_leaf=6, model__min_samples_split=2, model__n_estimators=1000, preprocessor__Numerical_transformer__Num_Imputer__strategy=mean, total=   3.2s\n",
      "[CV] model__max_depth=10, model__max_features=auto, model__min_samples_leaf=6, model__min_samples_split=2, model__n_estimators=1000, preprocessor__Numerical_transformer__Num_Imputer__strategy=median \n",
      "[CV]  model__max_depth=10, model__max_features=auto, model__min_samples_leaf=6, model__min_samples_split=2, model__n_estimators=1000, preprocessor__Numerical_transformer__Num_Imputer__strategy=median, total=   3.4s\n",
      "[CV] model__max_depth=10, model__max_features=auto, model__min_samples_leaf=6, model__min_samples_split=2, model__n_estimators=1000, preprocessor__Numerical_transformer__Num_Imputer__strategy=median \n",
      "[CV]  model__max_depth=10, model__max_features=auto, model__min_samples_leaf=6, model__min_samples_split=2, model__n_estimators=1000, preprocessor__Numerical_transformer__Num_Imputer__strategy=median, total=   3.2s\n",
      "[CV] model__max_depth=10, model__max_features=auto, model__min_samples_leaf=6, model__min_samples_split=2, model__n_estimators=1000, preprocessor__Numerical_transformer__Num_Imputer__strategy=median \n",
      "[CV]  model__max_depth=10, model__max_features=auto, model__min_samples_leaf=6, model__min_samples_split=2, model__n_estimators=1000, preprocessor__Numerical_transformer__Num_Imputer__strategy=median, total=   3.8s\n",
      "[CV] model__max_depth=10, model__max_features=auto, model__min_samples_leaf=6, model__min_samples_split=2, model__n_estimators=1000, preprocessor__Numerical_transformer__Num_Imputer__strategy=median \n",
      "[CV]  model__max_depth=10, model__max_features=auto, model__min_samples_leaf=6, model__min_samples_split=2, model__n_estimators=1000, preprocessor__Numerical_transformer__Num_Imputer__strategy=median, total=   3.2s\n",
      "[CV] model__max_depth=10, model__max_features=auto, model__min_samples_leaf=6, model__min_samples_split=2, model__n_estimators=1000, preprocessor__Numerical_transformer__Num_Imputer__strategy=median \n",
      "[CV]  model__max_depth=10, model__max_features=auto, model__min_samples_leaf=6, model__min_samples_split=2, model__n_estimators=1000, preprocessor__Numerical_transformer__Num_Imputer__strategy=median, total=   3.4s\n",
      "[CV] model__max_depth=10, model__max_features=auto, model__min_samples_leaf=6, model__min_samples_split=4, model__n_estimators=100, preprocessor__Numerical_transformer__Num_Imputer__strategy=mean \n",
      "[CV]  model__max_depth=10, model__max_features=auto, model__min_samples_leaf=6, model__min_samples_split=4, model__n_estimators=100, preprocessor__Numerical_transformer__Num_Imputer__strategy=mean, total=   0.3s\n",
      "[CV] model__max_depth=10, model__max_features=auto, model__min_samples_leaf=6, model__min_samples_split=4, model__n_estimators=100, preprocessor__Numerical_transformer__Num_Imputer__strategy=mean \n"
     ]
    },
    {
     "name": "stdout",
     "output_type": "stream",
     "text": [
      "[CV]  model__max_depth=10, model__max_features=auto, model__min_samples_leaf=6, model__min_samples_split=4, model__n_estimators=100, preprocessor__Numerical_transformer__Num_Imputer__strategy=mean, total=   0.4s\n",
      "[CV] model__max_depth=10, model__max_features=auto, model__min_samples_leaf=6, model__min_samples_split=4, model__n_estimators=100, preprocessor__Numerical_transformer__Num_Imputer__strategy=mean \n",
      "[CV]  model__max_depth=10, model__max_features=auto, model__min_samples_leaf=6, model__min_samples_split=4, model__n_estimators=100, preprocessor__Numerical_transformer__Num_Imputer__strategy=mean, total=   0.4s\n",
      "[CV] model__max_depth=10, model__max_features=auto, model__min_samples_leaf=6, model__min_samples_split=4, model__n_estimators=100, preprocessor__Numerical_transformer__Num_Imputer__strategy=mean \n",
      "[CV]  model__max_depth=10, model__max_features=auto, model__min_samples_leaf=6, model__min_samples_split=4, model__n_estimators=100, preprocessor__Numerical_transformer__Num_Imputer__strategy=mean, total=   0.5s\n",
      "[CV] model__max_depth=10, model__max_features=auto, model__min_samples_leaf=6, model__min_samples_split=4, model__n_estimators=100, preprocessor__Numerical_transformer__Num_Imputer__strategy=mean \n",
      "[CV]  model__max_depth=10, model__max_features=auto, model__min_samples_leaf=6, model__min_samples_split=4, model__n_estimators=100, preprocessor__Numerical_transformer__Num_Imputer__strategy=mean, total=   0.3s\n",
      "[CV] model__max_depth=10, model__max_features=auto, model__min_samples_leaf=6, model__min_samples_split=4, model__n_estimators=100, preprocessor__Numerical_transformer__Num_Imputer__strategy=median \n",
      "[CV]  model__max_depth=10, model__max_features=auto, model__min_samples_leaf=6, model__min_samples_split=4, model__n_estimators=100, preprocessor__Numerical_transformer__Num_Imputer__strategy=median, total=   0.5s\n",
      "[CV] model__max_depth=10, model__max_features=auto, model__min_samples_leaf=6, model__min_samples_split=4, model__n_estimators=100, preprocessor__Numerical_transformer__Num_Imputer__strategy=median \n",
      "[CV]  model__max_depth=10, model__max_features=auto, model__min_samples_leaf=6, model__min_samples_split=4, model__n_estimators=100, preprocessor__Numerical_transformer__Num_Imputer__strategy=median, total=   0.3s\n",
      "[CV] model__max_depth=10, model__max_features=auto, model__min_samples_leaf=6, model__min_samples_split=4, model__n_estimators=100, preprocessor__Numerical_transformer__Num_Imputer__strategy=median \n",
      "[CV]  model__max_depth=10, model__max_features=auto, model__min_samples_leaf=6, model__min_samples_split=4, model__n_estimators=100, preprocessor__Numerical_transformer__Num_Imputer__strategy=median, total=   0.3s\n",
      "[CV] model__max_depth=10, model__max_features=auto, model__min_samples_leaf=6, model__min_samples_split=4, model__n_estimators=100, preprocessor__Numerical_transformer__Num_Imputer__strategy=median \n",
      "[CV]  model__max_depth=10, model__max_features=auto, model__min_samples_leaf=6, model__min_samples_split=4, model__n_estimators=100, preprocessor__Numerical_transformer__Num_Imputer__strategy=median, total=   0.3s\n",
      "[CV] model__max_depth=10, model__max_features=auto, model__min_samples_leaf=6, model__min_samples_split=4, model__n_estimators=100, preprocessor__Numerical_transformer__Num_Imputer__strategy=median \n",
      "[CV]  model__max_depth=10, model__max_features=auto, model__min_samples_leaf=6, model__min_samples_split=4, model__n_estimators=100, preprocessor__Numerical_transformer__Num_Imputer__strategy=median, total=   0.3s\n",
      "[CV] model__max_depth=10, model__max_features=auto, model__min_samples_leaf=6, model__min_samples_split=4, model__n_estimators=1000, preprocessor__Numerical_transformer__Num_Imputer__strategy=mean \n",
      "[CV]  model__max_depth=10, model__max_features=auto, model__min_samples_leaf=6, model__min_samples_split=4, model__n_estimators=1000, preprocessor__Numerical_transformer__Num_Imputer__strategy=mean, total=   3.4s\n",
      "[CV] model__max_depth=10, model__max_features=auto, model__min_samples_leaf=6, model__min_samples_split=4, model__n_estimators=1000, preprocessor__Numerical_transformer__Num_Imputer__strategy=mean \n",
      "[CV]  model__max_depth=10, model__max_features=auto, model__min_samples_leaf=6, model__min_samples_split=4, model__n_estimators=1000, preprocessor__Numerical_transformer__Num_Imputer__strategy=mean, total=   4.7s\n",
      "[CV] model__max_depth=10, model__max_features=auto, model__min_samples_leaf=6, model__min_samples_split=4, model__n_estimators=1000, preprocessor__Numerical_transformer__Num_Imputer__strategy=mean \n",
      "[CV]  model__max_depth=10, model__max_features=auto, model__min_samples_leaf=6, model__min_samples_split=4, model__n_estimators=1000, preprocessor__Numerical_transformer__Num_Imputer__strategy=mean, total=   3.9s\n",
      "[CV] model__max_depth=10, model__max_features=auto, model__min_samples_leaf=6, model__min_samples_split=4, model__n_estimators=1000, preprocessor__Numerical_transformer__Num_Imputer__strategy=mean \n",
      "[CV]  model__max_depth=10, model__max_features=auto, model__min_samples_leaf=6, model__min_samples_split=4, model__n_estimators=1000, preprocessor__Numerical_transformer__Num_Imputer__strategy=mean, total=   3.3s\n",
      "[CV] model__max_depth=10, model__max_features=auto, model__min_samples_leaf=6, model__min_samples_split=4, model__n_estimators=1000, preprocessor__Numerical_transformer__Num_Imputer__strategy=mean \n",
      "[CV]  model__max_depth=10, model__max_features=auto, model__min_samples_leaf=6, model__min_samples_split=4, model__n_estimators=1000, preprocessor__Numerical_transformer__Num_Imputer__strategy=mean, total=   3.9s\n",
      "[CV] model__max_depth=10, model__max_features=auto, model__min_samples_leaf=6, model__min_samples_split=4, model__n_estimators=1000, preprocessor__Numerical_transformer__Num_Imputer__strategy=median \n",
      "[CV]  model__max_depth=10, model__max_features=auto, model__min_samples_leaf=6, model__min_samples_split=4, model__n_estimators=1000, preprocessor__Numerical_transformer__Num_Imputer__strategy=median, total=   4.4s\n",
      "[CV] model__max_depth=10, model__max_features=auto, model__min_samples_leaf=6, model__min_samples_split=4, model__n_estimators=1000, preprocessor__Numerical_transformer__Num_Imputer__strategy=median \n",
      "[CV]  model__max_depth=10, model__max_features=auto, model__min_samples_leaf=6, model__min_samples_split=4, model__n_estimators=1000, preprocessor__Numerical_transformer__Num_Imputer__strategy=median, total=   3.5s\n",
      "[CV] model__max_depth=10, model__max_features=auto, model__min_samples_leaf=6, model__min_samples_split=4, model__n_estimators=1000, preprocessor__Numerical_transformer__Num_Imputer__strategy=median \n",
      "[CV]  model__max_depth=10, model__max_features=auto, model__min_samples_leaf=6, model__min_samples_split=4, model__n_estimators=1000, preprocessor__Numerical_transformer__Num_Imputer__strategy=median, total=   3.9s\n",
      "[CV] model__max_depth=10, model__max_features=auto, model__min_samples_leaf=6, model__min_samples_split=4, model__n_estimators=1000, preprocessor__Numerical_transformer__Num_Imputer__strategy=median \n",
      "[CV]  model__max_depth=10, model__max_features=auto, model__min_samples_leaf=6, model__min_samples_split=4, model__n_estimators=1000, preprocessor__Numerical_transformer__Num_Imputer__strategy=median, total=   3.2s\n",
      "[CV] model__max_depth=10, model__max_features=auto, model__min_samples_leaf=6, model__min_samples_split=4, model__n_estimators=1000, preprocessor__Numerical_transformer__Num_Imputer__strategy=median \n",
      "[CV]  model__max_depth=10, model__max_features=auto, model__min_samples_leaf=6, model__min_samples_split=4, model__n_estimators=1000, preprocessor__Numerical_transformer__Num_Imputer__strategy=median, total=   3.0s\n",
      "[CV] model__max_depth=20, model__max_features=auto, model__min_samples_leaf=4, model__min_samples_split=2, model__n_estimators=100, preprocessor__Numerical_transformer__Num_Imputer__strategy=mean \n",
      "[CV]  model__max_depth=20, model__max_features=auto, model__min_samples_leaf=4, model__min_samples_split=2, model__n_estimators=100, preprocessor__Numerical_transformer__Num_Imputer__strategy=mean, total=   0.4s\n",
      "[CV] model__max_depth=20, model__max_features=auto, model__min_samples_leaf=4, model__min_samples_split=2, model__n_estimators=100, preprocessor__Numerical_transformer__Num_Imputer__strategy=mean \n"
     ]
    },
    {
     "name": "stdout",
     "output_type": "stream",
     "text": [
      "[CV]  model__max_depth=20, model__max_features=auto, model__min_samples_leaf=4, model__min_samples_split=2, model__n_estimators=100, preprocessor__Numerical_transformer__Num_Imputer__strategy=mean, total=   0.3s\n",
      "[CV] model__max_depth=20, model__max_features=auto, model__min_samples_leaf=4, model__min_samples_split=2, model__n_estimators=100, preprocessor__Numerical_transformer__Num_Imputer__strategy=mean \n",
      "[CV]  model__max_depth=20, model__max_features=auto, model__min_samples_leaf=4, model__min_samples_split=2, model__n_estimators=100, preprocessor__Numerical_transformer__Num_Imputer__strategy=mean, total=   0.4s\n",
      "[CV] model__max_depth=20, model__max_features=auto, model__min_samples_leaf=4, model__min_samples_split=2, model__n_estimators=100, preprocessor__Numerical_transformer__Num_Imputer__strategy=mean \n",
      "[CV]  model__max_depth=20, model__max_features=auto, model__min_samples_leaf=4, model__min_samples_split=2, model__n_estimators=100, preprocessor__Numerical_transformer__Num_Imputer__strategy=mean, total=   0.3s\n",
      "[CV] model__max_depth=20, model__max_features=auto, model__min_samples_leaf=4, model__min_samples_split=2, model__n_estimators=100, preprocessor__Numerical_transformer__Num_Imputer__strategy=mean \n",
      "[CV]  model__max_depth=20, model__max_features=auto, model__min_samples_leaf=4, model__min_samples_split=2, model__n_estimators=100, preprocessor__Numerical_transformer__Num_Imputer__strategy=mean, total=   0.4s\n",
      "[CV] model__max_depth=20, model__max_features=auto, model__min_samples_leaf=4, model__min_samples_split=2, model__n_estimators=100, preprocessor__Numerical_transformer__Num_Imputer__strategy=median \n",
      "[CV]  model__max_depth=20, model__max_features=auto, model__min_samples_leaf=4, model__min_samples_split=2, model__n_estimators=100, preprocessor__Numerical_transformer__Num_Imputer__strategy=median, total=   0.3s\n",
      "[CV] model__max_depth=20, model__max_features=auto, model__min_samples_leaf=4, model__min_samples_split=2, model__n_estimators=100, preprocessor__Numerical_transformer__Num_Imputer__strategy=median \n",
      "[CV]  model__max_depth=20, model__max_features=auto, model__min_samples_leaf=4, model__min_samples_split=2, model__n_estimators=100, preprocessor__Numerical_transformer__Num_Imputer__strategy=median, total=   0.3s\n",
      "[CV] model__max_depth=20, model__max_features=auto, model__min_samples_leaf=4, model__min_samples_split=2, model__n_estimators=100, preprocessor__Numerical_transformer__Num_Imputer__strategy=median \n",
      "[CV]  model__max_depth=20, model__max_features=auto, model__min_samples_leaf=4, model__min_samples_split=2, model__n_estimators=100, preprocessor__Numerical_transformer__Num_Imputer__strategy=median, total=   0.4s\n",
      "[CV] model__max_depth=20, model__max_features=auto, model__min_samples_leaf=4, model__min_samples_split=2, model__n_estimators=100, preprocessor__Numerical_transformer__Num_Imputer__strategy=median \n",
      "[CV]  model__max_depth=20, model__max_features=auto, model__min_samples_leaf=4, model__min_samples_split=2, model__n_estimators=100, preprocessor__Numerical_transformer__Num_Imputer__strategy=median, total=   0.3s\n",
      "[CV] model__max_depth=20, model__max_features=auto, model__min_samples_leaf=4, model__min_samples_split=2, model__n_estimators=100, preprocessor__Numerical_transformer__Num_Imputer__strategy=median \n",
      "[CV]  model__max_depth=20, model__max_features=auto, model__min_samples_leaf=4, model__min_samples_split=2, model__n_estimators=100, preprocessor__Numerical_transformer__Num_Imputer__strategy=median, total=   0.4s\n",
      "[CV] model__max_depth=20, model__max_features=auto, model__min_samples_leaf=4, model__min_samples_split=2, model__n_estimators=1000, preprocessor__Numerical_transformer__Num_Imputer__strategy=mean \n",
      "[CV]  model__max_depth=20, model__max_features=auto, model__min_samples_leaf=4, model__min_samples_split=2, model__n_estimators=1000, preprocessor__Numerical_transformer__Num_Imputer__strategy=mean, total=   3.3s\n",
      "[CV] model__max_depth=20, model__max_features=auto, model__min_samples_leaf=4, model__min_samples_split=2, model__n_estimators=1000, preprocessor__Numerical_transformer__Num_Imputer__strategy=mean \n",
      "[CV]  model__max_depth=20, model__max_features=auto, model__min_samples_leaf=4, model__min_samples_split=2, model__n_estimators=1000, preprocessor__Numerical_transformer__Num_Imputer__strategy=mean, total=   3.6s\n",
      "[CV] model__max_depth=20, model__max_features=auto, model__min_samples_leaf=4, model__min_samples_split=2, model__n_estimators=1000, preprocessor__Numerical_transformer__Num_Imputer__strategy=mean \n",
      "[CV]  model__max_depth=20, model__max_features=auto, model__min_samples_leaf=4, model__min_samples_split=2, model__n_estimators=1000, preprocessor__Numerical_transformer__Num_Imputer__strategy=mean, total=   3.2s\n",
      "[CV] model__max_depth=20, model__max_features=auto, model__min_samples_leaf=4, model__min_samples_split=2, model__n_estimators=1000, preprocessor__Numerical_transformer__Num_Imputer__strategy=mean \n",
      "[CV]  model__max_depth=20, model__max_features=auto, model__min_samples_leaf=4, model__min_samples_split=2, model__n_estimators=1000, preprocessor__Numerical_transformer__Num_Imputer__strategy=mean, total=   3.3s\n",
      "[CV] model__max_depth=20, model__max_features=auto, model__min_samples_leaf=4, model__min_samples_split=2, model__n_estimators=1000, preprocessor__Numerical_transformer__Num_Imputer__strategy=mean \n",
      "[CV]  model__max_depth=20, model__max_features=auto, model__min_samples_leaf=4, model__min_samples_split=2, model__n_estimators=1000, preprocessor__Numerical_transformer__Num_Imputer__strategy=mean, total=   3.5s\n",
      "[CV] model__max_depth=20, model__max_features=auto, model__min_samples_leaf=4, model__min_samples_split=2, model__n_estimators=1000, preprocessor__Numerical_transformer__Num_Imputer__strategy=median \n",
      "[CV]  model__max_depth=20, model__max_features=auto, model__min_samples_leaf=4, model__min_samples_split=2, model__n_estimators=1000, preprocessor__Numerical_transformer__Num_Imputer__strategy=median, total=   3.3s\n",
      "[CV] model__max_depth=20, model__max_features=auto, model__min_samples_leaf=4, model__min_samples_split=2, model__n_estimators=1000, preprocessor__Numerical_transformer__Num_Imputer__strategy=median \n",
      "[CV]  model__max_depth=20, model__max_features=auto, model__min_samples_leaf=4, model__min_samples_split=2, model__n_estimators=1000, preprocessor__Numerical_transformer__Num_Imputer__strategy=median, total=   3.3s\n",
      "[CV] model__max_depth=20, model__max_features=auto, model__min_samples_leaf=4, model__min_samples_split=2, model__n_estimators=1000, preprocessor__Numerical_transformer__Num_Imputer__strategy=median \n",
      "[CV]  model__max_depth=20, model__max_features=auto, model__min_samples_leaf=4, model__min_samples_split=2, model__n_estimators=1000, preprocessor__Numerical_transformer__Num_Imputer__strategy=median, total=   3.8s\n",
      "[CV] model__max_depth=20, model__max_features=auto, model__min_samples_leaf=4, model__min_samples_split=2, model__n_estimators=1000, preprocessor__Numerical_transformer__Num_Imputer__strategy=median \n",
      "[CV]  model__max_depth=20, model__max_features=auto, model__min_samples_leaf=4, model__min_samples_split=2, model__n_estimators=1000, preprocessor__Numerical_transformer__Num_Imputer__strategy=median, total=   4.3s\n",
      "[CV] model__max_depth=20, model__max_features=auto, model__min_samples_leaf=4, model__min_samples_split=2, model__n_estimators=1000, preprocessor__Numerical_transformer__Num_Imputer__strategy=median \n",
      "[CV]  model__max_depth=20, model__max_features=auto, model__min_samples_leaf=4, model__min_samples_split=2, model__n_estimators=1000, preprocessor__Numerical_transformer__Num_Imputer__strategy=median, total=   3.4s\n",
      "[CV] model__max_depth=20, model__max_features=auto, model__min_samples_leaf=4, model__min_samples_split=4, model__n_estimators=100, preprocessor__Numerical_transformer__Num_Imputer__strategy=mean \n",
      "[CV]  model__max_depth=20, model__max_features=auto, model__min_samples_leaf=4, model__min_samples_split=4, model__n_estimators=100, preprocessor__Numerical_transformer__Num_Imputer__strategy=mean, total=   0.4s\n",
      "[CV] model__max_depth=20, model__max_features=auto, model__min_samples_leaf=4, model__min_samples_split=4, model__n_estimators=100, preprocessor__Numerical_transformer__Num_Imputer__strategy=mean \n"
     ]
    },
    {
     "name": "stdout",
     "output_type": "stream",
     "text": [
      "[CV]  model__max_depth=20, model__max_features=auto, model__min_samples_leaf=4, model__min_samples_split=4, model__n_estimators=100, preprocessor__Numerical_transformer__Num_Imputer__strategy=mean, total=   0.4s\n",
      "[CV] model__max_depth=20, model__max_features=auto, model__min_samples_leaf=4, model__min_samples_split=4, model__n_estimators=100, preprocessor__Numerical_transformer__Num_Imputer__strategy=mean \n",
      "[CV]  model__max_depth=20, model__max_features=auto, model__min_samples_leaf=4, model__min_samples_split=4, model__n_estimators=100, preprocessor__Numerical_transformer__Num_Imputer__strategy=mean, total=   0.4s\n",
      "[CV] model__max_depth=20, model__max_features=auto, model__min_samples_leaf=4, model__min_samples_split=4, model__n_estimators=100, preprocessor__Numerical_transformer__Num_Imputer__strategy=mean \n",
      "[CV]  model__max_depth=20, model__max_features=auto, model__min_samples_leaf=4, model__min_samples_split=4, model__n_estimators=100, preprocessor__Numerical_transformer__Num_Imputer__strategy=mean, total=   0.6s\n",
      "[CV] model__max_depth=20, model__max_features=auto, model__min_samples_leaf=4, model__min_samples_split=4, model__n_estimators=100, preprocessor__Numerical_transformer__Num_Imputer__strategy=mean \n",
      "[CV]  model__max_depth=20, model__max_features=auto, model__min_samples_leaf=4, model__min_samples_split=4, model__n_estimators=100, preprocessor__Numerical_transformer__Num_Imputer__strategy=mean, total=   0.5s\n",
      "[CV] model__max_depth=20, model__max_features=auto, model__min_samples_leaf=4, model__min_samples_split=4, model__n_estimators=100, preprocessor__Numerical_transformer__Num_Imputer__strategy=median \n",
      "[CV]  model__max_depth=20, model__max_features=auto, model__min_samples_leaf=4, model__min_samples_split=4, model__n_estimators=100, preprocessor__Numerical_transformer__Num_Imputer__strategy=median, total=   0.3s\n",
      "[CV] model__max_depth=20, model__max_features=auto, model__min_samples_leaf=4, model__min_samples_split=4, model__n_estimators=100, preprocessor__Numerical_transformer__Num_Imputer__strategy=median \n",
      "[CV]  model__max_depth=20, model__max_features=auto, model__min_samples_leaf=4, model__min_samples_split=4, model__n_estimators=100, preprocessor__Numerical_transformer__Num_Imputer__strategy=median, total=   0.4s\n",
      "[CV] model__max_depth=20, model__max_features=auto, model__min_samples_leaf=4, model__min_samples_split=4, model__n_estimators=100, preprocessor__Numerical_transformer__Num_Imputer__strategy=median \n",
      "[CV]  model__max_depth=20, model__max_features=auto, model__min_samples_leaf=4, model__min_samples_split=4, model__n_estimators=100, preprocessor__Numerical_transformer__Num_Imputer__strategy=median, total=   0.3s\n",
      "[CV] model__max_depth=20, model__max_features=auto, model__min_samples_leaf=4, model__min_samples_split=4, model__n_estimators=100, preprocessor__Numerical_transformer__Num_Imputer__strategy=median \n",
      "[CV]  model__max_depth=20, model__max_features=auto, model__min_samples_leaf=4, model__min_samples_split=4, model__n_estimators=100, preprocessor__Numerical_transformer__Num_Imputer__strategy=median, total=   0.4s\n",
      "[CV] model__max_depth=20, model__max_features=auto, model__min_samples_leaf=4, model__min_samples_split=4, model__n_estimators=100, preprocessor__Numerical_transformer__Num_Imputer__strategy=median \n",
      "[CV]  model__max_depth=20, model__max_features=auto, model__min_samples_leaf=4, model__min_samples_split=4, model__n_estimators=100, preprocessor__Numerical_transformer__Num_Imputer__strategy=median, total=   0.3s\n",
      "[CV] model__max_depth=20, model__max_features=auto, model__min_samples_leaf=4, model__min_samples_split=4, model__n_estimators=1000, preprocessor__Numerical_transformer__Num_Imputer__strategy=mean \n",
      "[CV]  model__max_depth=20, model__max_features=auto, model__min_samples_leaf=4, model__min_samples_split=4, model__n_estimators=1000, preprocessor__Numerical_transformer__Num_Imputer__strategy=mean, total=   3.8s\n",
      "[CV] model__max_depth=20, model__max_features=auto, model__min_samples_leaf=4, model__min_samples_split=4, model__n_estimators=1000, preprocessor__Numerical_transformer__Num_Imputer__strategy=mean \n",
      "[CV]  model__max_depth=20, model__max_features=auto, model__min_samples_leaf=4, model__min_samples_split=4, model__n_estimators=1000, preprocessor__Numerical_transformer__Num_Imputer__strategy=mean, total=   3.5s\n",
      "[CV] model__max_depth=20, model__max_features=auto, model__min_samples_leaf=4, model__min_samples_split=4, model__n_estimators=1000, preprocessor__Numerical_transformer__Num_Imputer__strategy=mean \n",
      "[CV]  model__max_depth=20, model__max_features=auto, model__min_samples_leaf=4, model__min_samples_split=4, model__n_estimators=1000, preprocessor__Numerical_transformer__Num_Imputer__strategy=mean, total=   4.1s\n",
      "[CV] model__max_depth=20, model__max_features=auto, model__min_samples_leaf=4, model__min_samples_split=4, model__n_estimators=1000, preprocessor__Numerical_transformer__Num_Imputer__strategy=mean \n",
      "[CV]  model__max_depth=20, model__max_features=auto, model__min_samples_leaf=4, model__min_samples_split=4, model__n_estimators=1000, preprocessor__Numerical_transformer__Num_Imputer__strategy=mean, total=   3.7s\n",
      "[CV] model__max_depth=20, model__max_features=auto, model__min_samples_leaf=4, model__min_samples_split=4, model__n_estimators=1000, preprocessor__Numerical_transformer__Num_Imputer__strategy=mean \n",
      "[CV]  model__max_depth=20, model__max_features=auto, model__min_samples_leaf=4, model__min_samples_split=4, model__n_estimators=1000, preprocessor__Numerical_transformer__Num_Imputer__strategy=mean, total=   4.0s\n",
      "[CV] model__max_depth=20, model__max_features=auto, model__min_samples_leaf=4, model__min_samples_split=4, model__n_estimators=1000, preprocessor__Numerical_transformer__Num_Imputer__strategy=median \n",
      "[CV]  model__max_depth=20, model__max_features=auto, model__min_samples_leaf=4, model__min_samples_split=4, model__n_estimators=1000, preprocessor__Numerical_transformer__Num_Imputer__strategy=median, total=   3.5s\n",
      "[CV] model__max_depth=20, model__max_features=auto, model__min_samples_leaf=4, model__min_samples_split=4, model__n_estimators=1000, preprocessor__Numerical_transformer__Num_Imputer__strategy=median \n",
      "[CV]  model__max_depth=20, model__max_features=auto, model__min_samples_leaf=4, model__min_samples_split=4, model__n_estimators=1000, preprocessor__Numerical_transformer__Num_Imputer__strategy=median, total=   3.7s\n",
      "[CV] model__max_depth=20, model__max_features=auto, model__min_samples_leaf=4, model__min_samples_split=4, model__n_estimators=1000, preprocessor__Numerical_transformer__Num_Imputer__strategy=median \n",
      "[CV]  model__max_depth=20, model__max_features=auto, model__min_samples_leaf=4, model__min_samples_split=4, model__n_estimators=1000, preprocessor__Numerical_transformer__Num_Imputer__strategy=median, total=   4.0s\n",
      "[CV] model__max_depth=20, model__max_features=auto, model__min_samples_leaf=4, model__min_samples_split=4, model__n_estimators=1000, preprocessor__Numerical_transformer__Num_Imputer__strategy=median \n",
      "[CV]  model__max_depth=20, model__max_features=auto, model__min_samples_leaf=4, model__min_samples_split=4, model__n_estimators=1000, preprocessor__Numerical_transformer__Num_Imputer__strategy=median, total=   3.9s\n",
      "[CV] model__max_depth=20, model__max_features=auto, model__min_samples_leaf=4, model__min_samples_split=4, model__n_estimators=1000, preprocessor__Numerical_transformer__Num_Imputer__strategy=median \n",
      "[CV]  model__max_depth=20, model__max_features=auto, model__min_samples_leaf=4, model__min_samples_split=4, model__n_estimators=1000, preprocessor__Numerical_transformer__Num_Imputer__strategy=median, total=   3.7s\n",
      "[CV] model__max_depth=20, model__max_features=auto, model__min_samples_leaf=6, model__min_samples_split=2, model__n_estimators=100, preprocessor__Numerical_transformer__Num_Imputer__strategy=mean \n",
      "[CV]  model__max_depth=20, model__max_features=auto, model__min_samples_leaf=6, model__min_samples_split=2, model__n_estimators=100, preprocessor__Numerical_transformer__Num_Imputer__strategy=mean, total=   0.3s\n",
      "[CV] model__max_depth=20, model__max_features=auto, model__min_samples_leaf=6, model__min_samples_split=2, model__n_estimators=100, preprocessor__Numerical_transformer__Num_Imputer__strategy=mean \n"
     ]
    },
    {
     "name": "stdout",
     "output_type": "stream",
     "text": [
      "[CV]  model__max_depth=20, model__max_features=auto, model__min_samples_leaf=6, model__min_samples_split=2, model__n_estimators=100, preprocessor__Numerical_transformer__Num_Imputer__strategy=mean, total=   0.3s\n",
      "[CV] model__max_depth=20, model__max_features=auto, model__min_samples_leaf=6, model__min_samples_split=2, model__n_estimators=100, preprocessor__Numerical_transformer__Num_Imputer__strategy=mean \n",
      "[CV]  model__max_depth=20, model__max_features=auto, model__min_samples_leaf=6, model__min_samples_split=2, model__n_estimators=100, preprocessor__Numerical_transformer__Num_Imputer__strategy=mean, total=   0.4s\n",
      "[CV] model__max_depth=20, model__max_features=auto, model__min_samples_leaf=6, model__min_samples_split=2, model__n_estimators=100, preprocessor__Numerical_transformer__Num_Imputer__strategy=mean \n",
      "[CV]  model__max_depth=20, model__max_features=auto, model__min_samples_leaf=6, model__min_samples_split=2, model__n_estimators=100, preprocessor__Numerical_transformer__Num_Imputer__strategy=mean, total=   0.5s\n",
      "[CV] model__max_depth=20, model__max_features=auto, model__min_samples_leaf=6, model__min_samples_split=2, model__n_estimators=100, preprocessor__Numerical_transformer__Num_Imputer__strategy=mean \n",
      "[CV]  model__max_depth=20, model__max_features=auto, model__min_samples_leaf=6, model__min_samples_split=2, model__n_estimators=100, preprocessor__Numerical_transformer__Num_Imputer__strategy=mean, total=   0.4s\n",
      "[CV] model__max_depth=20, model__max_features=auto, model__min_samples_leaf=6, model__min_samples_split=2, model__n_estimators=100, preprocessor__Numerical_transformer__Num_Imputer__strategy=median \n",
      "[CV]  model__max_depth=20, model__max_features=auto, model__min_samples_leaf=6, model__min_samples_split=2, model__n_estimators=100, preprocessor__Numerical_transformer__Num_Imputer__strategy=median, total=   0.4s\n",
      "[CV] model__max_depth=20, model__max_features=auto, model__min_samples_leaf=6, model__min_samples_split=2, model__n_estimators=100, preprocessor__Numerical_transformer__Num_Imputer__strategy=median \n",
      "[CV]  model__max_depth=20, model__max_features=auto, model__min_samples_leaf=6, model__min_samples_split=2, model__n_estimators=100, preprocessor__Numerical_transformer__Num_Imputer__strategy=median, total=   0.3s\n",
      "[CV] model__max_depth=20, model__max_features=auto, model__min_samples_leaf=6, model__min_samples_split=2, model__n_estimators=100, preprocessor__Numerical_transformer__Num_Imputer__strategy=median \n",
      "[CV]  model__max_depth=20, model__max_features=auto, model__min_samples_leaf=6, model__min_samples_split=2, model__n_estimators=100, preprocessor__Numerical_transformer__Num_Imputer__strategy=median, total=   0.3s\n",
      "[CV] model__max_depth=20, model__max_features=auto, model__min_samples_leaf=6, model__min_samples_split=2, model__n_estimators=100, preprocessor__Numerical_transformer__Num_Imputer__strategy=median \n",
      "[CV]  model__max_depth=20, model__max_features=auto, model__min_samples_leaf=6, model__min_samples_split=2, model__n_estimators=100, preprocessor__Numerical_transformer__Num_Imputer__strategy=median, total=   0.3s\n",
      "[CV] model__max_depth=20, model__max_features=auto, model__min_samples_leaf=6, model__min_samples_split=2, model__n_estimators=100, preprocessor__Numerical_transformer__Num_Imputer__strategy=median \n",
      "[CV]  model__max_depth=20, model__max_features=auto, model__min_samples_leaf=6, model__min_samples_split=2, model__n_estimators=100, preprocessor__Numerical_transformer__Num_Imputer__strategy=median, total=   0.3s\n",
      "[CV] model__max_depth=20, model__max_features=auto, model__min_samples_leaf=6, model__min_samples_split=2, model__n_estimators=1000, preprocessor__Numerical_transformer__Num_Imputer__strategy=mean \n",
      "[CV]  model__max_depth=20, model__max_features=auto, model__min_samples_leaf=6, model__min_samples_split=2, model__n_estimators=1000, preprocessor__Numerical_transformer__Num_Imputer__strategy=mean, total=   3.4s\n",
      "[CV] model__max_depth=20, model__max_features=auto, model__min_samples_leaf=6, model__min_samples_split=2, model__n_estimators=1000, preprocessor__Numerical_transformer__Num_Imputer__strategy=mean \n",
      "[CV]  model__max_depth=20, model__max_features=auto, model__min_samples_leaf=6, model__min_samples_split=2, model__n_estimators=1000, preprocessor__Numerical_transformer__Num_Imputer__strategy=mean, total=   3.3s\n",
      "[CV] model__max_depth=20, model__max_features=auto, model__min_samples_leaf=6, model__min_samples_split=2, model__n_estimators=1000, preprocessor__Numerical_transformer__Num_Imputer__strategy=mean \n",
      "[CV]  model__max_depth=20, model__max_features=auto, model__min_samples_leaf=6, model__min_samples_split=2, model__n_estimators=1000, preprocessor__Numerical_transformer__Num_Imputer__strategy=mean, total=   3.5s\n",
      "[CV] model__max_depth=20, model__max_features=auto, model__min_samples_leaf=6, model__min_samples_split=2, model__n_estimators=1000, preprocessor__Numerical_transformer__Num_Imputer__strategy=mean \n",
      "[CV]  model__max_depth=20, model__max_features=auto, model__min_samples_leaf=6, model__min_samples_split=2, model__n_estimators=1000, preprocessor__Numerical_transformer__Num_Imputer__strategy=mean, total=   3.6s\n",
      "[CV] model__max_depth=20, model__max_features=auto, model__min_samples_leaf=6, model__min_samples_split=2, model__n_estimators=1000, preprocessor__Numerical_transformer__Num_Imputer__strategy=mean \n",
      "[CV]  model__max_depth=20, model__max_features=auto, model__min_samples_leaf=6, model__min_samples_split=2, model__n_estimators=1000, preprocessor__Numerical_transformer__Num_Imputer__strategy=mean, total=   3.8s\n",
      "[CV] model__max_depth=20, model__max_features=auto, model__min_samples_leaf=6, model__min_samples_split=2, model__n_estimators=1000, preprocessor__Numerical_transformer__Num_Imputer__strategy=median \n",
      "[CV]  model__max_depth=20, model__max_features=auto, model__min_samples_leaf=6, model__min_samples_split=2, model__n_estimators=1000, preprocessor__Numerical_transformer__Num_Imputer__strategy=median, total=   4.7s\n",
      "[CV] model__max_depth=20, model__max_features=auto, model__min_samples_leaf=6, model__min_samples_split=2, model__n_estimators=1000, preprocessor__Numerical_transformer__Num_Imputer__strategy=median \n",
      "[CV]  model__max_depth=20, model__max_features=auto, model__min_samples_leaf=6, model__min_samples_split=2, model__n_estimators=1000, preprocessor__Numerical_transformer__Num_Imputer__strategy=median, total=   4.3s\n",
      "[CV] model__max_depth=20, model__max_features=auto, model__min_samples_leaf=6, model__min_samples_split=2, model__n_estimators=1000, preprocessor__Numerical_transformer__Num_Imputer__strategy=median \n",
      "[CV]  model__max_depth=20, model__max_features=auto, model__min_samples_leaf=6, model__min_samples_split=2, model__n_estimators=1000, preprocessor__Numerical_transformer__Num_Imputer__strategy=median, total=   4.8s\n",
      "[CV] model__max_depth=20, model__max_features=auto, model__min_samples_leaf=6, model__min_samples_split=2, model__n_estimators=1000, preprocessor__Numerical_transformer__Num_Imputer__strategy=median \n",
      "[CV]  model__max_depth=20, model__max_features=auto, model__min_samples_leaf=6, model__min_samples_split=2, model__n_estimators=1000, preprocessor__Numerical_transformer__Num_Imputer__strategy=median, total=   3.9s\n",
      "[CV] model__max_depth=20, model__max_features=auto, model__min_samples_leaf=6, model__min_samples_split=2, model__n_estimators=1000, preprocessor__Numerical_transformer__Num_Imputer__strategy=median \n",
      "[CV]  model__max_depth=20, model__max_features=auto, model__min_samples_leaf=6, model__min_samples_split=2, model__n_estimators=1000, preprocessor__Numerical_transformer__Num_Imputer__strategy=median, total=   4.0s\n",
      "[CV] model__max_depth=20, model__max_features=auto, model__min_samples_leaf=6, model__min_samples_split=4, model__n_estimators=100, preprocessor__Numerical_transformer__Num_Imputer__strategy=mean \n",
      "[CV]  model__max_depth=20, model__max_features=auto, model__min_samples_leaf=6, model__min_samples_split=4, model__n_estimators=100, preprocessor__Numerical_transformer__Num_Imputer__strategy=mean, total=   0.4s\n",
      "[CV] model__max_depth=20, model__max_features=auto, model__min_samples_leaf=6, model__min_samples_split=4, model__n_estimators=100, preprocessor__Numerical_transformer__Num_Imputer__strategy=mean \n"
     ]
    },
    {
     "name": "stdout",
     "output_type": "stream",
     "text": [
      "[CV]  model__max_depth=20, model__max_features=auto, model__min_samples_leaf=6, model__min_samples_split=4, model__n_estimators=100, preprocessor__Numerical_transformer__Num_Imputer__strategy=mean, total=   0.3s\n",
      "[CV] model__max_depth=20, model__max_features=auto, model__min_samples_leaf=6, model__min_samples_split=4, model__n_estimators=100, preprocessor__Numerical_transformer__Num_Imputer__strategy=mean \n",
      "[CV]  model__max_depth=20, model__max_features=auto, model__min_samples_leaf=6, model__min_samples_split=4, model__n_estimators=100, preprocessor__Numerical_transformer__Num_Imputer__strategy=mean, total=   0.3s\n",
      "[CV] model__max_depth=20, model__max_features=auto, model__min_samples_leaf=6, model__min_samples_split=4, model__n_estimators=100, preprocessor__Numerical_transformer__Num_Imputer__strategy=mean \n",
      "[CV]  model__max_depth=20, model__max_features=auto, model__min_samples_leaf=6, model__min_samples_split=4, model__n_estimators=100, preprocessor__Numerical_transformer__Num_Imputer__strategy=mean, total=   0.3s\n",
      "[CV] model__max_depth=20, model__max_features=auto, model__min_samples_leaf=6, model__min_samples_split=4, model__n_estimators=100, preprocessor__Numerical_transformer__Num_Imputer__strategy=mean \n",
      "[CV]  model__max_depth=20, model__max_features=auto, model__min_samples_leaf=6, model__min_samples_split=4, model__n_estimators=100, preprocessor__Numerical_transformer__Num_Imputer__strategy=mean, total=   0.4s\n",
      "[CV] model__max_depth=20, model__max_features=auto, model__min_samples_leaf=6, model__min_samples_split=4, model__n_estimators=100, preprocessor__Numerical_transformer__Num_Imputer__strategy=median \n",
      "[CV]  model__max_depth=20, model__max_features=auto, model__min_samples_leaf=6, model__min_samples_split=4, model__n_estimators=100, preprocessor__Numerical_transformer__Num_Imputer__strategy=median, total=   0.3s\n",
      "[CV] model__max_depth=20, model__max_features=auto, model__min_samples_leaf=6, model__min_samples_split=4, model__n_estimators=100, preprocessor__Numerical_transformer__Num_Imputer__strategy=median \n",
      "[CV]  model__max_depth=20, model__max_features=auto, model__min_samples_leaf=6, model__min_samples_split=4, model__n_estimators=100, preprocessor__Numerical_transformer__Num_Imputer__strategy=median, total=   0.3s\n",
      "[CV] model__max_depth=20, model__max_features=auto, model__min_samples_leaf=6, model__min_samples_split=4, model__n_estimators=100, preprocessor__Numerical_transformer__Num_Imputer__strategy=median \n",
      "[CV]  model__max_depth=20, model__max_features=auto, model__min_samples_leaf=6, model__min_samples_split=4, model__n_estimators=100, preprocessor__Numerical_transformer__Num_Imputer__strategy=median, total=   0.4s\n",
      "[CV] model__max_depth=20, model__max_features=auto, model__min_samples_leaf=6, model__min_samples_split=4, model__n_estimators=100, preprocessor__Numerical_transformer__Num_Imputer__strategy=median \n",
      "[CV]  model__max_depth=20, model__max_features=auto, model__min_samples_leaf=6, model__min_samples_split=4, model__n_estimators=100, preprocessor__Numerical_transformer__Num_Imputer__strategy=median, total=   0.4s\n",
      "[CV] model__max_depth=20, model__max_features=auto, model__min_samples_leaf=6, model__min_samples_split=4, model__n_estimators=100, preprocessor__Numerical_transformer__Num_Imputer__strategy=median \n",
      "[CV]  model__max_depth=20, model__max_features=auto, model__min_samples_leaf=6, model__min_samples_split=4, model__n_estimators=100, preprocessor__Numerical_transformer__Num_Imputer__strategy=median, total=   0.4s\n",
      "[CV] model__max_depth=20, model__max_features=auto, model__min_samples_leaf=6, model__min_samples_split=4, model__n_estimators=1000, preprocessor__Numerical_transformer__Num_Imputer__strategy=mean \n",
      "[CV]  model__max_depth=20, model__max_features=auto, model__min_samples_leaf=6, model__min_samples_split=4, model__n_estimators=1000, preprocessor__Numerical_transformer__Num_Imputer__strategy=mean, total=   3.3s\n",
      "[CV] model__max_depth=20, model__max_features=auto, model__min_samples_leaf=6, model__min_samples_split=4, model__n_estimators=1000, preprocessor__Numerical_transformer__Num_Imputer__strategy=mean \n",
      "[CV]  model__max_depth=20, model__max_features=auto, model__min_samples_leaf=6, model__min_samples_split=4, model__n_estimators=1000, preprocessor__Numerical_transformer__Num_Imputer__strategy=mean, total=   3.4s\n",
      "[CV] model__max_depth=20, model__max_features=auto, model__min_samples_leaf=6, model__min_samples_split=4, model__n_estimators=1000, preprocessor__Numerical_transformer__Num_Imputer__strategy=mean \n",
      "[CV]  model__max_depth=20, model__max_features=auto, model__min_samples_leaf=6, model__min_samples_split=4, model__n_estimators=1000, preprocessor__Numerical_transformer__Num_Imputer__strategy=mean, total=   3.1s\n",
      "[CV] model__max_depth=20, model__max_features=auto, model__min_samples_leaf=6, model__min_samples_split=4, model__n_estimators=1000, preprocessor__Numerical_transformer__Num_Imputer__strategy=mean \n",
      "[CV]  model__max_depth=20, model__max_features=auto, model__min_samples_leaf=6, model__min_samples_split=4, model__n_estimators=1000, preprocessor__Numerical_transformer__Num_Imputer__strategy=mean, total=   3.1s\n",
      "[CV] model__max_depth=20, model__max_features=auto, model__min_samples_leaf=6, model__min_samples_split=4, model__n_estimators=1000, preprocessor__Numerical_transformer__Num_Imputer__strategy=mean \n",
      "[CV]  model__max_depth=20, model__max_features=auto, model__min_samples_leaf=6, model__min_samples_split=4, model__n_estimators=1000, preprocessor__Numerical_transformer__Num_Imputer__strategy=mean, total=   3.2s\n",
      "[CV] model__max_depth=20, model__max_features=auto, model__min_samples_leaf=6, model__min_samples_split=4, model__n_estimators=1000, preprocessor__Numerical_transformer__Num_Imputer__strategy=median \n",
      "[CV]  model__max_depth=20, model__max_features=auto, model__min_samples_leaf=6, model__min_samples_split=4, model__n_estimators=1000, preprocessor__Numerical_transformer__Num_Imputer__strategy=median, total=   3.2s\n",
      "[CV] model__max_depth=20, model__max_features=auto, model__min_samples_leaf=6, model__min_samples_split=4, model__n_estimators=1000, preprocessor__Numerical_transformer__Num_Imputer__strategy=median \n",
      "[CV]  model__max_depth=20, model__max_features=auto, model__min_samples_leaf=6, model__min_samples_split=4, model__n_estimators=1000, preprocessor__Numerical_transformer__Num_Imputer__strategy=median, total=   3.3s\n",
      "[CV] model__max_depth=20, model__max_features=auto, model__min_samples_leaf=6, model__min_samples_split=4, model__n_estimators=1000, preprocessor__Numerical_transformer__Num_Imputer__strategy=median \n",
      "[CV]  model__max_depth=20, model__max_features=auto, model__min_samples_leaf=6, model__min_samples_split=4, model__n_estimators=1000, preprocessor__Numerical_transformer__Num_Imputer__strategy=median, total=   3.2s\n",
      "[CV] model__max_depth=20, model__max_features=auto, model__min_samples_leaf=6, model__min_samples_split=4, model__n_estimators=1000, preprocessor__Numerical_transformer__Num_Imputer__strategy=median \n",
      "[CV]  model__max_depth=20, model__max_features=auto, model__min_samples_leaf=6, model__min_samples_split=4, model__n_estimators=1000, preprocessor__Numerical_transformer__Num_Imputer__strategy=median, total=   3.2s\n",
      "[CV] model__max_depth=20, model__max_features=auto, model__min_samples_leaf=6, model__min_samples_split=4, model__n_estimators=1000, preprocessor__Numerical_transformer__Num_Imputer__strategy=median \n",
      "[CV]  model__max_depth=20, model__max_features=auto, model__min_samples_leaf=6, model__min_samples_split=4, model__n_estimators=1000, preprocessor__Numerical_transformer__Num_Imputer__strategy=median, total=   3.2s\n"
     ]
    },
    {
     "name": "stderr",
     "output_type": "stream",
     "text": [
      "[Parallel(n_jobs=1)]: Done 160 out of 160 | elapsed:  5.4min finished\n"
     ]
    },
    {
     "data": {
      "text/plain": [
       "GridSearchCV(cv=5, error_score=nan,\n",
       "             estimator=Pipeline(memory=None,\n",
       "                                steps=[('preprocessor',\n",
       "                                        ColumnTransformer(n_jobs=None,\n",
       "                                                          remainder='drop',\n",
       "                                                          sparse_threshold=0.3,\n",
       "                                                          transformer_weights=None,\n",
       "                                                          transformers=[('Categorical_transformer',\n",
       "                                                                         Pipeline(memory=None,\n",
       "                                                                                  steps=[('Imputer',\n",
       "                                                                                          SimpleImputer(add_indicator=False,\n",
       "                                                                                                        copy=True,\n",
       "                                                                                                        fill_value='Missing',\n",
       "                                                                                                        missing_values=nan,\n",
       "                                                                                                        strat...\n",
       "             iid='deprecated', n_jobs=None,\n",
       "             param_grid={'model__max_depth': [10, 20],\n",
       "                         'model__max_features': ['auto'],\n",
       "                         'model__min_samples_leaf': [4, 6],\n",
       "                         'model__min_samples_split': [2, 4],\n",
       "                         'model__n_estimators': [100, 1000],\n",
       "                         'preprocessor__Numerical_transformer__Num_Imputer__strategy': ['mean',\n",
       "                                                                                        'median']},\n",
       "             pre_dispatch='2*n_jobs', refit=True, return_train_score=False,\n",
       "             scoring=None, verbose=2)"
      ]
     },
     "execution_count": 174,
     "metadata": {},
     "output_type": "execute_result"
    }
   ],
   "source": [
    "Pipe_grid = {\"preprocessor__Numerical_transformer__Num_Imputer__strategy\":[\"mean\",\"median\"],\n",
    "             \"model__n_estimators\":[100,1000],\n",
    "             \"model__max_depth\":[10,20],\n",
    "             \"model__max_features\":[\"auto\"],\n",
    "             \"model__min_samples_leaf\":[4,6],\n",
    "             \"model__min_samples_split\":[2,4]}\n",
    "gd_model = GridSearchCV(model,Pipe_grid,\n",
    "                       verbose =2,\n",
    "                       cv =5)\n",
    "\n",
    "gd_model.fit(X_train1,Y_train1)"
   ]
  },
  {
   "cell_type": "code",
   "execution_count": 175,
   "metadata": {},
   "outputs": [
    {
     "data": {
      "text/plain": [
       "0.33472995003074846"
      ]
     },
     "execution_count": 175,
     "metadata": {},
     "output_type": "execute_result"
    }
   ],
   "source": [
    "gd_model.score(X_test1,Y_test1)"
   ]
  },
  {
   "cell_type": "code",
   "execution_count": null,
   "metadata": {},
   "outputs": [],
   "source": []
  }
 ],
 "metadata": {
  "kernelspec": {
   "display_name": "Python 3",
   "language": "python",
   "name": "python3"
  },
  "language_info": {
   "codemirror_mode": {
    "name": "ipython",
    "version": 3
   },
   "file_extension": ".py",
   "mimetype": "text/x-python",
   "name": "python",
   "nbconvert_exporter": "python",
   "pygments_lexer": "ipython3",
   "version": "3.8.3"
  }
 },
 "nbformat": 4,
 "nbformat_minor": 4
}
