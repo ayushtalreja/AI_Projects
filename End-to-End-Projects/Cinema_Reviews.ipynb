{
 "cells": [
  {
   "cell_type": "markdown",
   "metadata": {
    "id": "QrIJy_NXWskx"
   },
   "source": [
    "## Preparing the tools"
   ]
  },
  {
   "cell_type": "code",
   "execution_count": 74,
   "metadata": {
    "executionInfo": {
     "elapsed": 502,
     "status": "ok",
     "timestamp": 1669455368436,
     "user": {
      "displayName": "Ayush Kumar",
      "userId": "17649156005383043406"
     },
     "user_tz": -60
    },
    "id": "RSVSY65GW1aa"
   },
   "outputs": [],
   "source": [
    "import pandas as pd\n",
    "import numpy as np\n",
    "import matplotlib.pyplot as plt\n",
    "import seaborn as sns\n",
    "import os\n",
    "import random\n",
    "from sklearn.linear_model import LinearRegression\n",
    "from sklearn.linear_model import LogisticRegression"
   ]
  },
  {
   "cell_type": "code",
   "execution_count": 43,
   "metadata": {
    "executionInfo": {
     "elapsed": 11,
     "status": "ok",
     "timestamp": 1669455199329,
     "user": {
      "displayName": "Ayush Kumar",
      "userId": "17649156005383043406"
     },
     "user_tz": -60
    },
    "id": "yd4StypPwGEH"
   },
   "outputs": [],
   "source": [
    "def set_seed(seed=4242):\n",
    "    random.seed(seed)\n",
    "    os.environ['PYTHONHASHSEED'] = str(seed)\n",
    "    np.random.seed(seed)\n",
    "set_seed()"
   ]
  },
  {
   "cell_type": "code",
   "execution_count": 44,
   "metadata": {
    "colab": {
     "base_uri": "https://localhost:8080/"
    },
    "executionInfo": {
     "elapsed": 2651,
     "status": "ok",
     "timestamp": 1669455201971,
     "user": {
      "displayName": "Ayush Kumar",
      "userId": "17649156005383043406"
     },
     "user_tz": -60
    },
    "id": "zDoXCBmXV_0z",
    "outputId": "d0b051a6-9da8-4ff1-a681-b8e291dc587f"
   },
   "outputs": [
    {
     "name": "stdout",
     "output_type": "stream",
     "text": [
      "Drive already mounted at /content/drive; to attempt to forcibly remount, call drive.mount(\"/content/drive\", force_remount=True).\n"
     ]
    }
   ],
   "source": [
    "from google.colab import drive\n",
    "drive.mount('/content/drive')"
   ]
  },
  {
   "cell_type": "code",
   "execution_count": 45,
   "metadata": {
    "executionInfo": {
     "elapsed": 30,
     "status": "ok",
     "timestamp": 1669455201972,
     "user": {
      "displayName": "Ayush Kumar",
      "userId": "17649156005383043406"
     },
     "user_tz": -60
    },
    "id": "Vm33gcl4WsHx"
   },
   "outputs": [],
   "source": [
    "# import data as panda's datafram\n",
    "cinema_tickets_train_df = pd.read_csv(\"drive/My Drive/Cinema_tickets_dataset/cinemaTicket_Ref.csv\")"
   ]
  },
  {
   "cell_type": "code",
   "execution_count": 46,
   "metadata": {
    "colab": {
     "base_uri": "https://localhost:8080/",
     "height": 337
    },
    "executionInfo": {
     "elapsed": 69,
     "status": "ok",
     "timestamp": 1669455202964,
     "user": {
      "displayName": "Ayush Kumar",
      "userId": "17649156005383043406"
     },
     "user_tz": -60
    },
    "id": "HMs_7AnLBKUZ",
    "outputId": "31811290-c320-4ac3-ed72-a83d75b46bde"
   },
   "outputs": [
    {
     "data": {
      "text/html": [
       "\n",
       "  <div id=\"df-4871e127-4e8d-4d0d-9bb3-cf76d89c74b8\">\n",
       "    <div class=\"colab-df-container\">\n",
       "      <div>\n",
       "<style scoped>\n",
       "    .dataframe tbody tr th:only-of-type {\n",
       "        vertical-align: middle;\n",
       "    }\n",
       "\n",
       "    .dataframe tbody tr th {\n",
       "        vertical-align: top;\n",
       "    }\n",
       "\n",
       "    .dataframe thead th {\n",
       "        text-align: right;\n",
       "    }\n",
       "</style>\n",
       "<table border=\"1\" class=\"dataframe\">\n",
       "  <thead>\n",
       "    <tr style=\"text-align: right;\">\n",
       "      <th></th>\n",
       "      <th>film_code</th>\n",
       "      <th>cinema_code</th>\n",
       "      <th>total_sales</th>\n",
       "      <th>tickets_sold</th>\n",
       "      <th>tickets_out</th>\n",
       "      <th>show_time</th>\n",
       "      <th>occu_perc</th>\n",
       "      <th>ticket_price</th>\n",
       "      <th>ticket_use</th>\n",
       "      <th>capacity</th>\n",
       "      <th>date</th>\n",
       "      <th>month</th>\n",
       "      <th>quarter</th>\n",
       "      <th>day</th>\n",
       "    </tr>\n",
       "  </thead>\n",
       "  <tbody>\n",
       "    <tr>\n",
       "      <th>0</th>\n",
       "      <td>1492</td>\n",
       "      <td>304</td>\n",
       "      <td>3900000</td>\n",
       "      <td>26</td>\n",
       "      <td>0</td>\n",
       "      <td>4</td>\n",
       "      <td>4.26</td>\n",
       "      <td>150000.0</td>\n",
       "      <td>26</td>\n",
       "      <td>610.328638</td>\n",
       "      <td>2018-05-05</td>\n",
       "      <td>5</td>\n",
       "      <td>2</td>\n",
       "      <td>5</td>\n",
       "    </tr>\n",
       "    <tr>\n",
       "      <th>1</th>\n",
       "      <td>1492</td>\n",
       "      <td>352</td>\n",
       "      <td>3360000</td>\n",
       "      <td>42</td>\n",
       "      <td>0</td>\n",
       "      <td>5</td>\n",
       "      <td>8.08</td>\n",
       "      <td>80000.0</td>\n",
       "      <td>42</td>\n",
       "      <td>519.801980</td>\n",
       "      <td>2018-05-05</td>\n",
       "      <td>5</td>\n",
       "      <td>2</td>\n",
       "      <td>5</td>\n",
       "    </tr>\n",
       "    <tr>\n",
       "      <th>2</th>\n",
       "      <td>1492</td>\n",
       "      <td>489</td>\n",
       "      <td>2560000</td>\n",
       "      <td>32</td>\n",
       "      <td>0</td>\n",
       "      <td>4</td>\n",
       "      <td>20.00</td>\n",
       "      <td>80000.0</td>\n",
       "      <td>32</td>\n",
       "      <td>160.000000</td>\n",
       "      <td>2018-05-05</td>\n",
       "      <td>5</td>\n",
       "      <td>2</td>\n",
       "      <td>5</td>\n",
       "    </tr>\n",
       "    <tr>\n",
       "      <th>3</th>\n",
       "      <td>1492</td>\n",
       "      <td>429</td>\n",
       "      <td>1200000</td>\n",
       "      <td>12</td>\n",
       "      <td>0</td>\n",
       "      <td>1</td>\n",
       "      <td>11.01</td>\n",
       "      <td>100000.0</td>\n",
       "      <td>12</td>\n",
       "      <td>108.991826</td>\n",
       "      <td>2018-05-05</td>\n",
       "      <td>5</td>\n",
       "      <td>2</td>\n",
       "      <td>5</td>\n",
       "    </tr>\n",
       "    <tr>\n",
       "      <th>4</th>\n",
       "      <td>1492</td>\n",
       "      <td>524</td>\n",
       "      <td>1200000</td>\n",
       "      <td>15</td>\n",
       "      <td>0</td>\n",
       "      <td>3</td>\n",
       "      <td>16.67</td>\n",
       "      <td>80000.0</td>\n",
       "      <td>15</td>\n",
       "      <td>89.982004</td>\n",
       "      <td>2018-05-05</td>\n",
       "      <td>5</td>\n",
       "      <td>2</td>\n",
       "      <td>5</td>\n",
       "    </tr>\n",
       "  </tbody>\n",
       "</table>\n",
       "</div>\n",
       "      <button class=\"colab-df-convert\" onclick=\"convertToInteractive('df-4871e127-4e8d-4d0d-9bb3-cf76d89c74b8')\"\n",
       "              title=\"Convert this dataframe to an interactive table.\"\n",
       "              style=\"display:none;\">\n",
       "        \n",
       "  <svg xmlns=\"http://www.w3.org/2000/svg\" height=\"24px\"viewBox=\"0 0 24 24\"\n",
       "       width=\"24px\">\n",
       "    <path d=\"M0 0h24v24H0V0z\" fill=\"none\"/>\n",
       "    <path d=\"M18.56 5.44l.94 2.06.94-2.06 2.06-.94-2.06-.94-.94-2.06-.94 2.06-2.06.94zm-11 1L8.5 8.5l.94-2.06 2.06-.94-2.06-.94L8.5 2.5l-.94 2.06-2.06.94zm10 10l.94 2.06.94-2.06 2.06-.94-2.06-.94-.94-2.06-.94 2.06-2.06.94z\"/><path d=\"M17.41 7.96l-1.37-1.37c-.4-.4-.92-.59-1.43-.59-.52 0-1.04.2-1.43.59L10.3 9.45l-7.72 7.72c-.78.78-.78 2.05 0 2.83L4 21.41c.39.39.9.59 1.41.59.51 0 1.02-.2 1.41-.59l7.78-7.78 2.81-2.81c.8-.78.8-2.07 0-2.86zM5.41 20L4 18.59l7.72-7.72 1.47 1.35L5.41 20z\"/>\n",
       "  </svg>\n",
       "      </button>\n",
       "      \n",
       "  <style>\n",
       "    .colab-df-container {\n",
       "      display:flex;\n",
       "      flex-wrap:wrap;\n",
       "      gap: 12px;\n",
       "    }\n",
       "\n",
       "    .colab-df-convert {\n",
       "      background-color: #E8F0FE;\n",
       "      border: none;\n",
       "      border-radius: 50%;\n",
       "      cursor: pointer;\n",
       "      display: none;\n",
       "      fill: #1967D2;\n",
       "      height: 32px;\n",
       "      padding: 0 0 0 0;\n",
       "      width: 32px;\n",
       "    }\n",
       "\n",
       "    .colab-df-convert:hover {\n",
       "      background-color: #E2EBFA;\n",
       "      box-shadow: 0px 1px 2px rgba(60, 64, 67, 0.3), 0px 1px 3px 1px rgba(60, 64, 67, 0.15);\n",
       "      fill: #174EA6;\n",
       "    }\n",
       "\n",
       "    [theme=dark] .colab-df-convert {\n",
       "      background-color: #3B4455;\n",
       "      fill: #D2E3FC;\n",
       "    }\n",
       "\n",
       "    [theme=dark] .colab-df-convert:hover {\n",
       "      background-color: #434B5C;\n",
       "      box-shadow: 0px 1px 3px 1px rgba(0, 0, 0, 0.15);\n",
       "      filter: drop-shadow(0px 1px 2px rgba(0, 0, 0, 0.3));\n",
       "      fill: #FFFFFF;\n",
       "    }\n",
       "  </style>\n",
       "\n",
       "      <script>\n",
       "        const buttonEl =\n",
       "          document.querySelector('#df-4871e127-4e8d-4d0d-9bb3-cf76d89c74b8 button.colab-df-convert');\n",
       "        buttonEl.style.display =\n",
       "          google.colab.kernel.accessAllowed ? 'block' : 'none';\n",
       "\n",
       "        async function convertToInteractive(key) {\n",
       "          const element = document.querySelector('#df-4871e127-4e8d-4d0d-9bb3-cf76d89c74b8');\n",
       "          const dataTable =\n",
       "            await google.colab.kernel.invokeFunction('convertToInteractive',\n",
       "                                                     [key], {});\n",
       "          if (!dataTable) return;\n",
       "\n",
       "          const docLinkHtml = 'Like what you see? Visit the ' +\n",
       "            '<a target=\"_blank\" href=https://colab.research.google.com/notebooks/data_table.ipynb>data table notebook</a>'\n",
       "            + ' to learn more about interactive tables.';\n",
       "          element.innerHTML = '';\n",
       "          dataTable['output_type'] = 'display_data';\n",
       "          await google.colab.output.renderOutput(dataTable, element);\n",
       "          const docLink = document.createElement('div');\n",
       "          docLink.innerHTML = docLinkHtml;\n",
       "          element.appendChild(docLink);\n",
       "        }\n",
       "      </script>\n",
       "    </div>\n",
       "  </div>\n",
       "  "
      ],
      "text/plain": [
       "   film_code  cinema_code  total_sales  tickets_sold  tickets_out  show_time  \\\n",
       "0       1492          304      3900000            26            0          4   \n",
       "1       1492          352      3360000            42            0          5   \n",
       "2       1492          489      2560000            32            0          4   \n",
       "3       1492          429      1200000            12            0          1   \n",
       "4       1492          524      1200000            15            0          3   \n",
       "\n",
       "   occu_perc  ticket_price  ticket_use    capacity        date  month  \\\n",
       "0       4.26      150000.0          26  610.328638  2018-05-05      5   \n",
       "1       8.08       80000.0          42  519.801980  2018-05-05      5   \n",
       "2      20.00       80000.0          32  160.000000  2018-05-05      5   \n",
       "3      11.01      100000.0          12  108.991826  2018-05-05      5   \n",
       "4      16.67       80000.0          15   89.982004  2018-05-05      5   \n",
       "\n",
       "   quarter  day  \n",
       "0        2    5  \n",
       "1        2    5  \n",
       "2        2    5  \n",
       "3        2    5  \n",
       "4        2    5  "
      ]
     },
     "execution_count": 46,
     "metadata": {},
     "output_type": "execute_result"
    }
   ],
   "source": [
    "cinema_tickets_train_df.head()"
   ]
  },
  {
   "cell_type": "code",
   "execution_count": 47,
   "metadata": {
    "colab": {
     "base_uri": "https://localhost:8080/"
    },
    "executionInfo": {
     "elapsed": 69,
     "status": "ok",
     "timestamp": 1669455202973,
     "user": {
      "displayName": "Ayush Kumar",
      "userId": "17649156005383043406"
     },
     "user_tz": -60
    },
    "id": "FbQaMyelAk2q",
    "outputId": "9e6a6b42-ec80-48a1-bb8e-1729a2c48ea5"
   },
   "outputs": [
    {
     "name": "stdout",
     "output_type": "stream",
     "text": [
      "<class 'pandas.core.frame.DataFrame'>\n",
      "RangeIndex: 142524 entries, 0 to 142523\n",
      "Data columns (total 14 columns):\n",
      " #   Column        Non-Null Count   Dtype  \n",
      "---  ------        --------------   -----  \n",
      " 0   film_code     142524 non-null  int64  \n",
      " 1   cinema_code   142524 non-null  int64  \n",
      " 2   total_sales   142524 non-null  int64  \n",
      " 3   tickets_sold  142524 non-null  int64  \n",
      " 4   tickets_out   142524 non-null  int64  \n",
      " 5   show_time     142524 non-null  int64  \n",
      " 6   occu_perc     142399 non-null  float64\n",
      " 7   ticket_price  142524 non-null  float64\n",
      " 8   ticket_use    142524 non-null  int64  \n",
      " 9   capacity      142399 non-null  float64\n",
      " 10  date          142524 non-null  object \n",
      " 11  month         142524 non-null  int64  \n",
      " 12  quarter       142524 non-null  int64  \n",
      " 13  day           142524 non-null  int64  \n",
      "dtypes: float64(3), int64(10), object(1)\n",
      "memory usage: 15.2+ MB\n"
     ]
    }
   ],
   "source": [
    "cinema_tickets_train_df.info()"
   ]
  },
  {
   "cell_type": "markdown",
   "metadata": {
    "id": "Y7fBFsopCuDZ"
   },
   "source": [
    "+ Convert all date data into appropriate date time format"
   ]
  },
  {
   "cell_type": "code",
   "execution_count": 48,
   "metadata": {
    "colab": {
     "base_uri": "https://localhost:8080/"
    },
    "executionInfo": {
     "elapsed": 54,
     "status": "ok",
     "timestamp": 1669455202976,
     "user": {
      "displayName": "Ayush Kumar",
      "userId": "17649156005383043406"
     },
     "user_tz": -60
    },
    "id": "F2VIXE19CaTK",
    "outputId": "27e34343-309b-4224-d055-7208138f9f10"
   },
   "outputs": [
    {
     "name": "stderr",
     "output_type": "stream",
     "text": [
      "/usr/local/lib/python3.7/dist-packages/ipykernel_launcher.py:3: FutureWarning: Series.dt.weekofyear and Series.dt.week have been deprecated.  Please use Series.dt.isocalendar().week instead.\n",
      "  This is separate from the ipykernel package so we can avoid doing imports until\n"
     ]
    }
   ],
   "source": [
    "cinema_tickets_train_df['date'] = pd.to_datetime(cinema_tickets_train_df.date)\n",
    "cinema_tickets_train_df['month']= cinema_tickets_train_df.date.dt.month\n",
    "cinema_tickets_train_df['week']=cinema_tickets_train_df.date.dt.week\n",
    "cinema_tickets_train_df['day']=cinema_tickets_train_df.date.dt.day\n",
    "cinema_tickets_train_df['quarter']=cinema_tickets_train_df.date.dt.quarter\n",
    "cinema_tickets_train_df['weekDay'] =cinema_tickets_train_df.date.dt.weekday"
   ]
  },
  {
   "cell_type": "code",
   "execution_count": 49,
   "metadata": {
    "executionInfo": {
     "elapsed": 43,
     "status": "ok",
     "timestamp": 1669455202980,
     "user": {
      "displayName": "Ayush Kumar",
      "userId": "17649156005383043406"
     },
     "user_tz": -60
    },
    "id": "QbmbiRw3PLn_"
   },
   "outputs": [],
   "source": [
    "# Make a copy of the original DataFrame to perform edits on the copy\n",
    "df_tmp = cinema_tickets_train_df.copy()"
   ]
  },
  {
   "cell_type": "code",
   "execution_count": 50,
   "metadata": {
    "colab": {
     "base_uri": "https://localhost:8080/",
     "height": 376
    },
    "executionInfo": {
     "elapsed": 778,
     "status": "ok",
     "timestamp": 1669455203716,
     "user": {
      "displayName": "Ayush Kumar",
      "userId": "17649156005383043406"
     },
     "user_tz": -60
    },
    "id": "SUlXEDuxC7ww",
    "outputId": "8289184c-9fbf-4dc3-9c85-3ab1908075de"
   },
   "outputs": [
    {
     "data": {
      "image/png": "[encoded data removed]",
      "text/plain": [
       "<Figure size 1296x360 with 1 Axes>"
      ]
     },
     "metadata": {},
     "output_type": "display_data"
    }
   ],
   "source": [
    "cinema_tickets_train_df.groupby('date')['total_sales'].sum().plot(figsize=(18, 5), color='grey');"
   ]
  },
  {
   "cell_type": "markdown",
   "metadata": {
    "id": "_r1H3p8vGp7O"
   },
   "source": [
    "###### Total sales per day by cinema"
   ]
  },
  {
   "cell_type": "code",
   "execution_count": 51,
   "metadata": {
    "colab": {
     "base_uri": "https://localhost:8080/",
     "height": 294
    },
    "executionInfo": {
     "elapsed": 35,
     "status": "ok",
     "timestamp": 1669455203719,
     "user": {
      "displayName": "Ayush Kumar",
      "userId": "17649156005383043406"
     },
     "user_tz": -60
    },
    "id": "sQdLGPdyDFJb",
    "outputId": "dc6ae8c3-664e-43fa-9c21-18d57348a569"
   },
   "outputs": [
    {
     "data": {
      "image/png": "[encoded data removed]",
      "text/plain": [
       "<Figure size 1584x288 with 1 Axes>"
      ]
     },
     "metadata": {},
     "output_type": "display_data"
    }
   ],
   "source": [
    "cinema_tickets_train_df.groupby('cinema_code')['total_sales'].sum().plot(figsize=(22, 4), color='grey');"
   ]
  },
  {
   "cell_type": "code",
   "execution_count": 52,
   "metadata": {
    "colab": {
     "base_uri": "https://localhost:8080/",
     "height": 330
    },
    "executionInfo": {
     "elapsed": 584,
     "status": "ok",
     "timestamp": 1669455204272,
     "user": {
      "displayName": "Ayush Kumar",
      "userId": "17649156005383043406"
     },
     "user_tz": -60
    },
    "id": "tyPn1WEOEnx4",
    "outputId": "e8836f3c-d1fa-40a3-f7a7-31ef827cb4a8"
   },
   "outputs": [
    {
     "data": {
      "text/plain": [
       "<matplotlib.axes._subplots.AxesSubplot at 0x7f51fe59e410>"
      ]
     },
     "execution_count": 52,
     "metadata": {},
     "output_type": "execute_result"
    },
    {
     "data": {
      "image/png": "[encoded data removed]",
      "text/plain": [
       "<Figure size 1728x360 with 1 Axes>"
      ]
     },
     "metadata": {},
     "output_type": "display_data"
    }
   ],
   "source": [
    "cg = df_tmp.groupby('cinema_code', as_index=False)['total_sales'].sum()\n",
    "cg = cg[cg.total_sales > 9.000000e+09]\n",
    "plt.figure(figsize=(24, 5))\n",
    "sns.barplot(data=cg, x='cinema_code', y='total_sales', palette='gray')"
   ]
  },
  {
   "cell_type": "code",
   "execution_count": 53,
   "metadata": {
    "colab": {
     "base_uri": "https://localhost:8080/",
     "height": 335
    },
    "executionInfo": {
     "elapsed": 448,
     "status": "ok",
     "timestamp": 1669455204702,
     "user": {
      "displayName": "Ayush Kumar",
      "userId": "17649156005383043406"
     },
     "user_tz": -60
    },
    "id": "8V1ZLgiMG6ld",
    "outputId": "51ed9ab0-d901-4fa0-f19d-13a7797ee5e5"
   },
   "outputs": [
    {
     "data": {
      "text/plain": [
       "<matplotlib.axes._subplots.AxesSubplot at 0x7f51fe1f0d90>"
      ]
     },
     "execution_count": 53,
     "metadata": {},
     "output_type": "execute_result"
    },
    {
     "data": {
      "image/png": "[encoded data removed]",
      "text/plain": [
       "<Figure size 1296x288 with 1 Axes>"
      ]
     },
     "metadata": {},
     "output_type": "display_data"
    }
   ],
   "source": [
    "df_tmp.groupby('film_code')['total_sales'].sum().plot(figsize=(18, 4), color='grey')"
   ]
  },
  {
   "cell_type": "code",
   "execution_count": 54,
   "metadata": {
    "colab": {
     "base_uri": "https://localhost:8080/",
     "height": 405
    },
    "executionInfo": {
     "elapsed": 683,
     "status": "ok",
     "timestamp": 1669455205372,
     "user": {
      "displayName": "Ayush Kumar",
      "userId": "17649156005383043406"
     },
     "user_tz": -60
    },
    "id": "-RMKZ2oCG7Ad",
    "outputId": "8008e2d7-2e80-4ae8-8e41-43f873d902e5"
   },
   "outputs": [
    {
     "data": {
      "text/plain": [
       "<matplotlib.axes._subplots.AxesSubplot at 0x7f51fe1b7610>"
      ]
     },
     "execution_count": 54,
     "metadata": {},
     "output_type": "execute_result"
    },
    {
     "data": {
      "image/png": "[encoded data removed]",
      "text/plain": [
       "<Figure size 1584x432 with 1 Axes>"
      ]
     },
     "metadata": {},
     "output_type": "display_data"
    }
   ],
   "source": [
    "fg = df_tmp.groupby('film_code', as_index=False)['total_sales'].sum()\n",
    "fg = fg[fg.total_sales > 9.000000e+09]\n",
    "plt.figure(figsize=(22, 6))\n",
    "sns.barplot(data=fg, x='film_code', y='total_sales', palette='gray')"
   ]
  },
  {
   "cell_type": "code",
   "execution_count": 55,
   "metadata": {
    "colab": {
     "base_uri": "https://localhost:8080/",
     "height": 551
    },
    "executionInfo": {
     "elapsed": 27,
     "status": "ok",
     "timestamp": 1669455205374,
     "user": {
      "displayName": "Ayush Kumar",
      "userId": "17649156005383043406"
     },
     "user_tz": -60
    },
    "id": "y5a95VxuPelH",
    "outputId": "728e81e7-226c-4e5e-f783-4a1b3eb191eb"
   },
   "outputs": [
    {
     "data": {
      "text/html": [
       "\n",
       "  <div id=\"df-e9e37ee0-59ce-4459-ab77-8c19115ecb66\">\n",
       "    <div class=\"colab-df-container\">\n",
       "      <div>\n",
       "<style scoped>\n",
       "    .dataframe tbody tr th:only-of-type {\n",
       "        vertical-align: middle;\n",
       "    }\n",
       "\n",
       "    .dataframe tbody tr th {\n",
       "        vertical-align: top;\n",
       "    }\n",
       "\n",
       "    .dataframe thead th {\n",
       "        text-align: right;\n",
       "    }\n",
       "</style>\n",
       "<table border=\"1\" class=\"dataframe\">\n",
       "  <thead>\n",
       "    <tr style=\"text-align: right;\">\n",
       "      <th></th>\n",
       "      <th>0</th>\n",
       "      <th>1</th>\n",
       "      <th>2</th>\n",
       "      <th>3</th>\n",
       "      <th>4</th>\n",
       "      <th>5</th>\n",
       "      <th>6</th>\n",
       "    </tr>\n",
       "  </thead>\n",
       "  <tbody>\n",
       "    <tr>\n",
       "      <th>film_code</th>\n",
       "      <td>1492</td>\n",
       "      <td>1492</td>\n",
       "      <td>1492</td>\n",
       "      <td>1492</td>\n",
       "      <td>1492</td>\n",
       "      <td>1492</td>\n",
       "      <td>1492</td>\n",
       "    </tr>\n",
       "    <tr>\n",
       "      <th>cinema_code</th>\n",
       "      <td>304</td>\n",
       "      <td>352</td>\n",
       "      <td>489</td>\n",
       "      <td>429</td>\n",
       "      <td>524</td>\n",
       "      <td>71</td>\n",
       "      <td>163</td>\n",
       "    </tr>\n",
       "    <tr>\n",
       "      <th>total_sales</th>\n",
       "      <td>3900000</td>\n",
       "      <td>3360000</td>\n",
       "      <td>2560000</td>\n",
       "      <td>1200000</td>\n",
       "      <td>1200000</td>\n",
       "      <td>1050000</td>\n",
       "      <td>1020000</td>\n",
       "    </tr>\n",
       "    <tr>\n",
       "      <th>tickets_sold</th>\n",
       "      <td>26</td>\n",
       "      <td>42</td>\n",
       "      <td>32</td>\n",
       "      <td>12</td>\n",
       "      <td>15</td>\n",
       "      <td>7</td>\n",
       "      <td>10</td>\n",
       "    </tr>\n",
       "    <tr>\n",
       "      <th>tickets_out</th>\n",
       "      <td>0</td>\n",
       "      <td>0</td>\n",
       "      <td>0</td>\n",
       "      <td>0</td>\n",
       "      <td>0</td>\n",
       "      <td>0</td>\n",
       "      <td>0</td>\n",
       "    </tr>\n",
       "    <tr>\n",
       "      <th>show_time</th>\n",
       "      <td>4</td>\n",
       "      <td>5</td>\n",
       "      <td>4</td>\n",
       "      <td>1</td>\n",
       "      <td>3</td>\n",
       "      <td>3</td>\n",
       "      <td>3</td>\n",
       "    </tr>\n",
       "    <tr>\n",
       "      <th>occu_perc</th>\n",
       "      <td>4.26</td>\n",
       "      <td>8.08</td>\n",
       "      <td>20.0</td>\n",
       "      <td>11.01</td>\n",
       "      <td>16.67</td>\n",
       "      <td>0.98</td>\n",
       "      <td>7.69</td>\n",
       "    </tr>\n",
       "    <tr>\n",
       "      <th>ticket_price</th>\n",
       "      <td>150000.0</td>\n",
       "      <td>80000.0</td>\n",
       "      <td>80000.0</td>\n",
       "      <td>100000.0</td>\n",
       "      <td>80000.0</td>\n",
       "      <td>150000.0</td>\n",
       "      <td>102000.0</td>\n",
       "    </tr>\n",
       "    <tr>\n",
       "      <th>ticket_use</th>\n",
       "      <td>26</td>\n",
       "      <td>42</td>\n",
       "      <td>32</td>\n",
       "      <td>12</td>\n",
       "      <td>15</td>\n",
       "      <td>7</td>\n",
       "      <td>10</td>\n",
       "    </tr>\n",
       "    <tr>\n",
       "      <th>capacity</th>\n",
       "      <td>610.328638</td>\n",
       "      <td>519.80198</td>\n",
       "      <td>160.0</td>\n",
       "      <td>108.991826</td>\n",
       "      <td>89.982004</td>\n",
       "      <td>714.285714</td>\n",
       "      <td>130.039012</td>\n",
       "    </tr>\n",
       "    <tr>\n",
       "      <th>date</th>\n",
       "      <td>2018-05-05 00:00:00</td>\n",
       "      <td>2018-05-05 00:00:00</td>\n",
       "      <td>2018-05-05 00:00:00</td>\n",
       "      <td>2018-05-05 00:00:00</td>\n",
       "      <td>2018-05-05 00:00:00</td>\n",
       "      <td>2018-05-05 00:00:00</td>\n",
       "      <td>2018-05-05 00:00:00</td>\n",
       "    </tr>\n",
       "    <tr>\n",
       "      <th>month</th>\n",
       "      <td>5</td>\n",
       "      <td>5</td>\n",
       "      <td>5</td>\n",
       "      <td>5</td>\n",
       "      <td>5</td>\n",
       "      <td>5</td>\n",
       "      <td>5</td>\n",
       "    </tr>\n",
       "    <tr>\n",
       "      <th>quarter</th>\n",
       "      <td>2</td>\n",
       "      <td>2</td>\n",
       "      <td>2</td>\n",
       "      <td>2</td>\n",
       "      <td>2</td>\n",
       "      <td>2</td>\n",
       "      <td>2</td>\n",
       "    </tr>\n",
       "    <tr>\n",
       "      <th>day</th>\n",
       "      <td>5</td>\n",
       "      <td>5</td>\n",
       "      <td>5</td>\n",
       "      <td>5</td>\n",
       "      <td>5</td>\n",
       "      <td>5</td>\n",
       "      <td>5</td>\n",
       "    </tr>\n",
       "    <tr>\n",
       "      <th>week</th>\n",
       "      <td>18</td>\n",
       "      <td>18</td>\n",
       "      <td>18</td>\n",
       "      <td>18</td>\n",
       "      <td>18</td>\n",
       "      <td>18</td>\n",
       "      <td>18</td>\n",
       "    </tr>\n",
       "    <tr>\n",
       "      <th>weekDay</th>\n",
       "      <td>5</td>\n",
       "      <td>5</td>\n",
       "      <td>5</td>\n",
       "      <td>5</td>\n",
       "      <td>5</td>\n",
       "      <td>5</td>\n",
       "      <td>5</td>\n",
       "    </tr>\n",
       "  </tbody>\n",
       "</table>\n",
       "</div>\n",
       "      <button class=\"colab-df-convert\" onclick=\"convertToInteractive('df-e9e37ee0-59ce-4459-ab77-8c19115ecb66')\"\n",
       "              title=\"Convert this dataframe to an interactive table.\"\n",
       "              style=\"display:none;\">\n",
       "        \n",
       "  <svg xmlns=\"http://www.w3.org/2000/svg\" height=\"24px\"viewBox=\"0 0 24 24\"\n",
       "       width=\"24px\">\n",
       "    <path d=\"M0 0h24v24H0V0z\" fill=\"none\"/>\n",
       "    <path d=\"M18.56 5.44l.94 2.06.94-2.06 2.06-.94-2.06-.94-.94-2.06-.94 2.06-2.06.94zm-11 1L8.5 8.5l.94-2.06 2.06-.94-2.06-.94L8.5 2.5l-.94 2.06-2.06.94zm10 10l.94 2.06.94-2.06 2.06-.94-2.06-.94-.94-2.06-.94 2.06-2.06.94z\"/><path d=\"M17.41 7.96l-1.37-1.37c-.4-.4-.92-.59-1.43-.59-.52 0-1.04.2-1.43.59L10.3 9.45l-7.72 7.72c-.78.78-.78 2.05 0 2.83L4 21.41c.39.39.9.59 1.41.59.51 0 1.02-.2 1.41-.59l7.78-7.78 2.81-2.81c.8-.78.8-2.07 0-2.86zM5.41 20L4 18.59l7.72-7.72 1.47 1.35L5.41 20z\"/>\n",
       "  </svg>\n",
       "      </button>\n",
       "      \n",
       "  <style>\n",
       "    .colab-df-container {\n",
       "      display:flex;\n",
       "      flex-wrap:wrap;\n",
       "      gap: 12px;\n",
       "    }\n",
       "\n",
       "    .colab-df-convert {\n",
       "      background-color: #E8F0FE;\n",
       "      border: none;\n",
       "      border-radius: 50%;\n",
       "      cursor: pointer;\n",
       "      display: none;\n",
       "      fill: #1967D2;\n",
       "      height: 32px;\n",
       "      padding: 0 0 0 0;\n",
       "      width: 32px;\n",
       "    }\n",
       "\n",
       "    .colab-df-convert:hover {\n",
       "      background-color: #E2EBFA;\n",
       "      box-shadow: 0px 1px 2px rgba(60, 64, 67, 0.3), 0px 1px 3px 1px rgba(60, 64, 67, 0.15);\n",
       "      fill: #174EA6;\n",
       "    }\n",
       "\n",
       "    [theme=dark] .colab-df-convert {\n",
       "      background-color: #3B4455;\n",
       "      fill: #D2E3FC;\n",
       "    }\n",
       "\n",
       "    [theme=dark] .colab-df-convert:hover {\n",
       "      background-color: #434B5C;\n",
       "      box-shadow: 0px 1px 3px 1px rgba(0, 0, 0, 0.15);\n",
       "      filter: drop-shadow(0px 1px 2px rgba(0, 0, 0, 0.3));\n",
       "      fill: #FFFFFF;\n",
       "    }\n",
       "  </style>\n",
       "\n",
       "      <script>\n",
       "        const buttonEl =\n",
       "          document.querySelector('#df-e9e37ee0-59ce-4459-ab77-8c19115ecb66 button.colab-df-convert');\n",
       "        buttonEl.style.display =\n",
       "          google.colab.kernel.accessAllowed ? 'block' : 'none';\n",
       "\n",
       "        async function convertToInteractive(key) {\n",
       "          const element = document.querySelector('#df-e9e37ee0-59ce-4459-ab77-8c19115ecb66');\n",
       "          const dataTable =\n",
       "            await google.colab.kernel.invokeFunction('convertToInteractive',\n",
       "                                                     [key], {});\n",
       "          if (!dataTable) return;\n",
       "\n",
       "          const docLinkHtml = 'Like what you see? Visit the ' +\n",
       "            '<a target=\"_blank\" href=https://colab.research.google.com/notebooks/data_table.ipynb>data table notebook</a>'\n",
       "            + ' to learn more about interactive tables.';\n",
       "          element.innerHTML = '';\n",
       "          dataTable['output_type'] = 'display_data';\n",
       "          await google.colab.output.renderOutput(dataTable, element);\n",
       "          const docLink = document.createElement('div');\n",
       "          docLink.innerHTML = docLinkHtml;\n",
       "          element.appendChild(docLink);\n",
       "        }\n",
       "      </script>\n",
       "    </div>\n",
       "  </div>\n",
       "  "
      ],
      "text/plain": [
       "                                0                    1                    2  \\\n",
       "film_code                    1492                 1492                 1492   \n",
       "cinema_code                   304                  352                  489   \n",
       "total_sales               3900000              3360000              2560000   \n",
       "tickets_sold                   26                   42                   32   \n",
       "tickets_out                     0                    0                    0   \n",
       "show_time                       4                    5                    4   \n",
       "occu_perc                    4.26                 8.08                 20.0   \n",
       "ticket_price             150000.0              80000.0              80000.0   \n",
       "ticket_use                     26                   42                   32   \n",
       "capacity               610.328638            519.80198                160.0   \n",
       "date          2018-05-05 00:00:00  2018-05-05 00:00:00  2018-05-05 00:00:00   \n",
       "month                           5                    5                    5   \n",
       "quarter                         2                    2                    2   \n",
       "day                             5                    5                    5   \n",
       "week                           18                   18                   18   \n",
       "weekDay                         5                    5                    5   \n",
       "\n",
       "                                3                    4                    5  \\\n",
       "film_code                    1492                 1492                 1492   \n",
       "cinema_code                   429                  524                   71   \n",
       "total_sales               1200000              1200000              1050000   \n",
       "tickets_sold                   12                   15                    7   \n",
       "tickets_out                     0                    0                    0   \n",
       "show_time                       1                    3                    3   \n",
       "occu_perc                   11.01                16.67                 0.98   \n",
       "ticket_price             100000.0              80000.0             150000.0   \n",
       "ticket_use                     12                   15                    7   \n",
       "capacity               108.991826            89.982004           714.285714   \n",
       "date          2018-05-05 00:00:00  2018-05-05 00:00:00  2018-05-05 00:00:00   \n",
       "month                           5                    5                    5   \n",
       "quarter                         2                    2                    2   \n",
       "day                             5                    5                    5   \n",
       "week                           18                   18                   18   \n",
       "weekDay                         5                    5                    5   \n",
       "\n",
       "                                6  \n",
       "film_code                    1492  \n",
       "cinema_code                   163  \n",
       "total_sales               1020000  \n",
       "tickets_sold                   10  \n",
       "tickets_out                     0  \n",
       "show_time                       3  \n",
       "occu_perc                    7.69  \n",
       "ticket_price             102000.0  \n",
       "ticket_use                     10  \n",
       "capacity               130.039012  \n",
       "date          2018-05-05 00:00:00  \n",
       "month                           5  \n",
       "quarter                         2  \n",
       "day                             5  \n",
       "week                           18  \n",
       "weekDay                         5  "
      ]
     },
     "execution_count": 55,
     "metadata": {},
     "output_type": "execute_result"
    }
   ],
   "source": [
    "df_tmp.head(7).T"
   ]
  },
  {
   "cell_type": "code",
   "execution_count": 56,
   "metadata": {
    "colab": {
     "base_uri": "https://localhost:8080/"
    },
    "executionInfo": {
     "elapsed": 26,
     "status": "ok",
     "timestamp": 1669455205375,
     "user": {
      "displayName": "Ayush Kumar",
      "userId": "17649156005383043406"
     },
     "user_tz": -60
    },
    "id": "nnui7qysG7iA",
    "outputId": "dc428645-0dd8-4c75-9474-2d252677f87b"
   },
   "outputs": [
    {
     "data": {
      "text/plain": [
       "count    1.425240e+05\n",
       "mean     1.234728e+07\n",
       "std      3.065486e+07\n",
       "min      2.000000e+04\n",
       "25%      1.260000e+06\n",
       "50%      3.720000e+06\n",
       "75%      1.110000e+07\n",
       "max      1.262820e+09\n",
       "Name: total_sales, dtype: float64"
      ]
     },
     "execution_count": 56,
     "metadata": {},
     "output_type": "execute_result"
    }
   ],
   "source": [
    "df_tmp.total_sales.describe()"
   ]
  },
  {
   "cell_type": "code",
   "execution_count": 126,
   "metadata": {
    "colab": {
     "base_uri": "https://localhost:8080/",
     "height": 292
    },
    "executionInfo": {
     "elapsed": 1060,
     "status": "ok",
     "timestamp": 1669456762984,
     "user": {
      "displayName": "Ayush Kumar",
      "userId": "17649156005383043406"
     },
     "user_tz": -60
    },
    "id": "o--Y-cbRX1eN",
    "outputId": "7af6f49a-b149-480b-f16d-9386194c8dcc"
   },
   "outputs": [
    {
     "data": {
      "image/png": "[encoded data removed]",
      "text/plain": [
       "<Figure size 504x288 with 1 Axes>"
      ]
     },
     "metadata": {},
     "output_type": "display_data"
    }
   ],
   "source": [
    "plt.style.use('ggplot')\n",
    "plt.figure(figsize=(7, 4))\n",
    "pd.plotting.lag_plot(df_tmp['total_sales'], lag=1)\n",
    "plt.show()"
   ]
  },
  {
   "cell_type": "code",
   "execution_count": 125,
   "metadata": {
    "colab": {
     "base_uri": "https://localhost:8080/",
     "height": 290
    },
    "executionInfo": {
     "elapsed": 547,
     "status": "ok",
     "timestamp": 1669456754426,
     "user": {
      "displayName": "Ayush Kumar",
      "userId": "17649156005383043406"
     },
     "user_tz": -60
    },
    "id": "CZaER2a0X5fL",
    "outputId": "fd1c61d4-2053-4140-8626-830814deae88"
   },
   "outputs": [
    {
     "data": {
      "image/png": "[encoded data removed]",
      "text/plain": [
       "<Figure size 576x288 with 1 Axes>"
      ]
     },
     "metadata": {},
     "output_type": "display_data"
    }
   ],
   "source": [
    "sns.set()\n",
    "plt.style.use('seaborn')\n",
    "plt.figure(figsize=(8, 4))\n",
    "pd.plotting.lag_plot(df_tmp['total_sales'], lag=2)\n",
    "plt.show()"
   ]
  },
  {
   "cell_type": "code",
   "execution_count": 57,
   "metadata": {
    "colab": {
     "base_uri": "https://localhost:8080/",
     "height": 514
    },
    "executionInfo": {
     "elapsed": 57522,
     "status": "ok",
     "timestamp": 1669455262879,
     "user": {
      "displayName": "Ayush Kumar",
      "userId": "17649156005383043406"
     },
     "user_tz": -60
    },
    "id": "uBrJk4xdG7nq",
    "outputId": "66ce33d1-e027-46c5-da3a-e03ea4793e93"
   },
   "outputs": [
    {
     "data": {
      "image/png": "[encoded data removed]",
      "text/plain": [
       "<Figure size 720x576 with 1 Axes>"
      ]
     },
     "metadata": {},
     "output_type": "display_data"
    }
   ],
   "source": [
    "sns.set()\n",
    "plt.style.use('ggplot')\n",
    "plt.figure(figsize=(10, 8))\n",
    "pd.plotting.autocorrelation_plot(df_tmp['total_sales']); "
   ]
  },
  {
   "cell_type": "code",
   "execution_count": 58,
   "metadata": {
    "colab": {
     "base_uri": "https://localhost:8080/",
     "height": 669
    },
    "executionInfo": {
     "elapsed": 1737,
     "status": "ok",
     "timestamp": 1669455264607,
     "user": {
      "displayName": "Ayush Kumar",
      "userId": "17649156005383043406"
     },
     "user_tz": -60
    },
    "id": "23sG50GfG7rv",
    "outputId": "105117aa-6871-4925-94cd-ba73bc49d4c3"
   },
   "outputs": [
    {
     "data": {
      "image/png": "[encoded data removed]",
      "text/plain": [
       "<Figure size 1080x720 with 2 Axes>"
      ]
     },
     "metadata": {},
     "output_type": "display_data"
    }
   ],
   "source": [
    "plt.figure(figsize=(15, 10))\n",
    "sns.heatmap(df_tmp.corr(), annot=True, cmap='hot');"
   ]
  },
  {
   "cell_type": "code",
   "execution_count": 59,
   "metadata": {
    "executionInfo": {
     "elapsed": 56,
     "status": "ok",
     "timestamp": 1669455264610,
     "user": {
      "displayName": "Ayush Kumar",
      "userId": "17649156005383043406"
     },
     "user_tz": -60
    },
    "id": "cmaKGQ2dG7wi"
   },
   "outputs": [],
   "source": [
    "del df_tmp['week']"
   ]
  },
  {
   "cell_type": "code",
   "execution_count": 60,
   "metadata": {
    "executionInfo": {
     "elapsed": 60,
     "status": "ok",
     "timestamp": 1669455264615,
     "user": {
      "displayName": "Ayush Kumar",
      "userId": "17649156005383043406"
     },
     "user_tz": -60
    },
    "id": "SGaEuH_PG73R"
   },
   "outputs": [],
   "source": [
    "df_tmp.sort_values(by=[\"date\"], inplace=True, ascending=True)"
   ]
  },
  {
   "cell_type": "markdown",
   "metadata": {
    "id": "TxA1YyT7WT_T"
   },
   "source": [
    "###### Data imputing"
   ]
  },
  {
   "cell_type": "markdown",
   "metadata": {
    "id": "eGGWNfPHSQAQ"
   },
   "source": [
    "+ Check missing values"
   ]
  },
  {
   "cell_type": "code",
   "execution_count": 61,
   "metadata": {
    "colab": {
     "base_uri": "https://localhost:8080/"
    },
    "executionInfo": {
     "elapsed": 60,
     "status": "ok",
     "timestamp": 1669455264617,
     "user": {
      "displayName": "Ayush Kumar",
      "userId": "17649156005383043406"
     },
     "user_tz": -60
    },
    "id": "8gOex2rkSRf9",
    "outputId": "d7562bc8-89f2-47cf-d17b-bb0714aeb8bc"
   },
   "outputs": [
    {
     "data": {
      "text/plain": [
       "film_code         0\n",
       "cinema_code       0\n",
       "total_sales       0\n",
       "tickets_sold      0\n",
       "tickets_out       0\n",
       "show_time         0\n",
       "occu_perc       125\n",
       "ticket_price      0\n",
       "ticket_use        0\n",
       "capacity        125\n",
       "date              0\n",
       "month             0\n",
       "quarter           0\n",
       "day               0\n",
       "weekDay           0\n",
       "dtype: int64"
      ]
     },
     "execution_count": 61,
     "metadata": {},
     "output_type": "execute_result"
    }
   ],
   "source": [
    "df_tmp.isna().sum()"
   ]
  },
  {
   "cell_type": "code",
   "execution_count": 62,
   "metadata": {
    "executionInfo": {
     "elapsed": 46,
     "status": "ok",
     "timestamp": 1669455264619,
     "user": {
      "displayName": "Ayush Kumar",
      "userId": "17649156005383043406"
     },
     "user_tz": -60
    },
    "id": "Wmb_hq3NPcnQ"
   },
   "outputs": [],
   "source": [
    "df_tmp.dropna(inplace = True)"
   ]
  },
  {
   "cell_type": "code",
   "execution_count": 63,
   "metadata": {
    "executionInfo": {
     "elapsed": 45,
     "status": "ok",
     "timestamp": 1669455264620,
     "user": {
      "displayName": "Ayush Kumar",
      "userId": "17649156005383043406"
     },
     "user_tz": -60
    },
    "id": "5L0KlS22G7zx"
   },
   "outputs": [],
   "source": [
    "x = df_tmp.groupby(['month','cinema_code'])['total_sales'].sum().rename('total_sales').reset_index()\n",
    "x.sort_values(['month','cinema_code'], inplace = True)"
   ]
  },
  {
   "cell_type": "markdown",
   "metadata": {
    "id": "JAHrYf85VrQ2"
   },
   "source": [
    "+ Sort DataFrame in date order since we are working with a time series problem"
   ]
  },
  {
   "cell_type": "markdown",
   "metadata": {
    "id": "xUuia5AlQJnB"
   },
   "source": [
    "###### Building rolling window and lag features"
   ]
  },
  {
   "cell_type": "code",
   "execution_count": 64,
   "metadata": {
    "executionInfo": {
     "elapsed": 45,
     "status": "ok",
     "timestamp": 1669455264622,
     "user": {
      "displayName": "Ayush Kumar",
      "userId": "17649156005383043406"
     },
     "user_tz": -60
    },
    "id": "SI-HoyeKQJTW"
   },
   "outputs": [],
   "source": [
    "def build_lagandroll(df,target,  width = [2, 3]):\n",
    "    for c in width:\n",
    "        shifted = target.shift(c)\n",
    "        df['lag_'+str(c)] = shifted\n",
    "        window = target.rolling(window=c)\n",
    "        dataframe = pd.concat([window.min(), window.mean(), window.max()], axis=1)\n",
    "        dataframe.columns = ['roll'+str(c)+'_min', 'roll'+str(c)+'_mean', 'roll'+str(c)+'_max']\n",
    "        df = pd.concat([df, dataframe], axis=1)\n",
    "    return df"
   ]
  },
  {
   "cell_type": "code",
   "execution_count": 65,
   "metadata": {
    "colab": {
     "base_uri": "https://localhost:8080/",
     "height": 444
    },
    "executionInfo": {
     "elapsed": 48,
     "status": "ok",
     "timestamp": 1669455264625,
     "user": {
      "displayName": "Ayush Kumar",
      "userId": "17649156005383043406"
     },
     "user_tz": -60
    },
    "id": "3VdiMpM2QTHJ",
    "outputId": "1ad0b623-7078-4c8b-8eee-3eec27ba901c"
   },
   "outputs": [
    {
     "data": {
      "text/html": [
       "\n",
       "  <div id=\"df-2a179969-ad0c-4d2b-9eb6-9469569d24d1\">\n",
       "    <div class=\"colab-df-container\">\n",
       "      <div>\n",
       "<style scoped>\n",
       "    .dataframe tbody tr th:only-of-type {\n",
       "        vertical-align: middle;\n",
       "    }\n",
       "\n",
       "    .dataframe tbody tr th {\n",
       "        vertical-align: top;\n",
       "    }\n",
       "\n",
       "    .dataframe thead th {\n",
       "        text-align: right;\n",
       "    }\n",
       "</style>\n",
       "<table border=\"1\" class=\"dataframe\">\n",
       "  <thead>\n",
       "    <tr style=\"text-align: right;\">\n",
       "      <th></th>\n",
       "      <th>month</th>\n",
       "      <th>cinema_code</th>\n",
       "      <th>lag_1</th>\n",
       "      <th>roll1_min</th>\n",
       "      <th>roll1_mean</th>\n",
       "      <th>roll1_max</th>\n",
       "      <th>lag_2</th>\n",
       "      <th>roll2_min</th>\n",
       "      <th>roll2_mean</th>\n",
       "      <th>roll2_max</th>\n",
       "      <th>lag_3</th>\n",
       "      <th>roll3_min</th>\n",
       "      <th>roll3_mean</th>\n",
       "      <th>roll3_max</th>\n",
       "    </tr>\n",
       "  </thead>\n",
       "  <tbody>\n",
       "    <tr>\n",
       "      <th>0</th>\n",
       "      <td>2</td>\n",
       "      <td>448</td>\n",
       "      <td>NaN</td>\n",
       "      <td>3.203000e+07</td>\n",
       "      <td>3.203000e+07</td>\n",
       "      <td>3.203000e+07</td>\n",
       "      <td>NaN</td>\n",
       "      <td>NaN</td>\n",
       "      <td>NaN</td>\n",
       "      <td>NaN</td>\n",
       "      <td>NaN</td>\n",
       "      <td>NaN</td>\n",
       "      <td>NaN</td>\n",
       "      <td>NaN</td>\n",
       "    </tr>\n",
       "    <tr>\n",
       "      <th>1</th>\n",
       "      <td>2</td>\n",
       "      <td>518</td>\n",
       "      <td>3.203000e+07</td>\n",
       "      <td>1.800000e+05</td>\n",
       "      <td>1.800000e+05</td>\n",
       "      <td>1.800000e+05</td>\n",
       "      <td>NaN</td>\n",
       "      <td>1.800000e+05</td>\n",
       "      <td>1.610500e+07</td>\n",
       "      <td>3.203000e+07</td>\n",
       "      <td>NaN</td>\n",
       "      <td>NaN</td>\n",
       "      <td>NaN</td>\n",
       "      <td>NaN</td>\n",
       "    </tr>\n",
       "    <tr>\n",
       "      <th>2</th>\n",
       "      <td>3</td>\n",
       "      <td>32</td>\n",
       "      <td>1.800000e+05</td>\n",
       "      <td>7.682000e+08</td>\n",
       "      <td>7.682000e+08</td>\n",
       "      <td>7.682000e+08</td>\n",
       "      <td>3.203000e+07</td>\n",
       "      <td>1.800000e+05</td>\n",
       "      <td>3.841900e+08</td>\n",
       "      <td>7.682000e+08</td>\n",
       "      <td>NaN</td>\n",
       "      <td>1.800000e+05</td>\n",
       "      <td>2.668033e+08</td>\n",
       "      <td>7.682000e+08</td>\n",
       "    </tr>\n",
       "    <tr>\n",
       "      <th>3</th>\n",
       "      <td>3</td>\n",
       "      <td>33</td>\n",
       "      <td>7.682000e+08</td>\n",
       "      <td>2.010000e+08</td>\n",
       "      <td>2.010000e+08</td>\n",
       "      <td>2.010000e+08</td>\n",
       "      <td>1.800000e+05</td>\n",
       "      <td>2.010000e+08</td>\n",
       "      <td>4.846000e+08</td>\n",
       "      <td>7.682000e+08</td>\n",
       "      <td>3.203000e+07</td>\n",
       "      <td>1.800000e+05</td>\n",
       "      <td>3.231267e+08</td>\n",
       "      <td>7.682000e+08</td>\n",
       "    </tr>\n",
       "    <tr>\n",
       "      <th>4</th>\n",
       "      <td>3</td>\n",
       "      <td>34</td>\n",
       "      <td>2.010000e+08</td>\n",
       "      <td>3.672860e+09</td>\n",
       "      <td>3.672860e+09</td>\n",
       "      <td>3.672860e+09</td>\n",
       "      <td>7.682000e+08</td>\n",
       "      <td>2.010000e+08</td>\n",
       "      <td>1.936930e+09</td>\n",
       "      <td>3.672860e+09</td>\n",
       "      <td>1.800000e+05</td>\n",
       "      <td>2.010000e+08</td>\n",
       "      <td>1.547353e+09</td>\n",
       "      <td>3.672860e+09</td>\n",
       "    </tr>\n",
       "    <tr>\n",
       "      <th>5</th>\n",
       "      <td>3</td>\n",
       "      <td>35</td>\n",
       "      <td>3.672860e+09</td>\n",
       "      <td>1.866700e+09</td>\n",
       "      <td>1.866700e+09</td>\n",
       "      <td>1.866700e+09</td>\n",
       "      <td>2.010000e+08</td>\n",
       "      <td>1.866700e+09</td>\n",
       "      <td>2.769780e+09</td>\n",
       "      <td>3.672860e+09</td>\n",
       "      <td>7.682000e+08</td>\n",
       "      <td>2.010000e+08</td>\n",
       "      <td>1.913520e+09</td>\n",
       "      <td>3.672860e+09</td>\n",
       "    </tr>\n",
       "    <tr>\n",
       "      <th>6</th>\n",
       "      <td>3</td>\n",
       "      <td>39</td>\n",
       "      <td>1.866700e+09</td>\n",
       "      <td>1.554800e+09</td>\n",
       "      <td>1.554800e+09</td>\n",
       "      <td>1.554800e+09</td>\n",
       "      <td>3.672860e+09</td>\n",
       "      <td>1.554800e+09</td>\n",
       "      <td>1.710750e+09</td>\n",
       "      <td>1.866700e+09</td>\n",
       "      <td>2.010000e+08</td>\n",
       "      <td>1.554800e+09</td>\n",
       "      <td>2.364787e+09</td>\n",
       "      <td>3.672860e+09</td>\n",
       "    </tr>\n",
       "    <tr>\n",
       "      <th>7</th>\n",
       "      <td>3</td>\n",
       "      <td>43</td>\n",
       "      <td>1.554800e+09</td>\n",
       "      <td>5.412800e+08</td>\n",
       "      <td>5.412800e+08</td>\n",
       "      <td>5.412800e+08</td>\n",
       "      <td>1.866700e+09</td>\n",
       "      <td>5.412800e+08</td>\n",
       "      <td>1.048040e+09</td>\n",
       "      <td>1.554800e+09</td>\n",
       "      <td>3.672860e+09</td>\n",
       "      <td>5.412800e+08</td>\n",
       "      <td>1.320927e+09</td>\n",
       "      <td>1.866700e+09</td>\n",
       "    </tr>\n",
       "    <tr>\n",
       "      <th>8</th>\n",
       "      <td>3</td>\n",
       "      <td>48</td>\n",
       "      <td>5.412800e+08</td>\n",
       "      <td>8.739000e+08</td>\n",
       "      <td>8.739000e+08</td>\n",
       "      <td>8.739000e+08</td>\n",
       "      <td>1.554800e+09</td>\n",
       "      <td>5.412800e+08</td>\n",
       "      <td>7.075900e+08</td>\n",
       "      <td>8.739000e+08</td>\n",
       "      <td>1.866700e+09</td>\n",
       "      <td>5.412800e+08</td>\n",
       "      <td>9.899933e+08</td>\n",
       "      <td>1.554800e+09</td>\n",
       "    </tr>\n",
       "    <tr>\n",
       "      <th>9</th>\n",
       "      <td>3</td>\n",
       "      <td>50</td>\n",
       "      <td>8.739000e+08</td>\n",
       "      <td>6.224800e+08</td>\n",
       "      <td>6.224800e+08</td>\n",
       "      <td>6.224800e+08</td>\n",
       "      <td>5.412800e+08</td>\n",
       "      <td>6.224800e+08</td>\n",
       "      <td>7.481900e+08</td>\n",
       "      <td>8.739000e+08</td>\n",
       "      <td>1.554800e+09</td>\n",
       "      <td>5.412800e+08</td>\n",
       "      <td>6.792200e+08</td>\n",
       "      <td>8.739000e+08</td>\n",
       "    </tr>\n",
       "  </tbody>\n",
       "</table>\n",
       "</div>\n",
       "      <button class=\"colab-df-convert\" onclick=\"convertToInteractive('df-2a179969-ad0c-4d2b-9eb6-9469569d24d1')\"\n",
       "              title=\"Convert this dataframe to an interactive table.\"\n",
       "              style=\"display:none;\">\n",
       "        \n",
       "  <svg xmlns=\"http://www.w3.org/2000/svg\" height=\"24px\"viewBox=\"0 0 24 24\"\n",
       "       width=\"24px\">\n",
       "    <path d=\"M0 0h24v24H0V0z\" fill=\"none\"/>\n",
       "    <path d=\"M18.56 5.44l.94 2.06.94-2.06 2.06-.94-2.06-.94-.94-2.06-.94 2.06-2.06.94zm-11 1L8.5 8.5l.94-2.06 2.06-.94-2.06-.94L8.5 2.5l-.94 2.06-2.06.94zm10 10l.94 2.06.94-2.06 2.06-.94-2.06-.94-.94-2.06-.94 2.06-2.06.94z\"/><path d=\"M17.41 7.96l-1.37-1.37c-.4-.4-.92-.59-1.43-.59-.52 0-1.04.2-1.43.59L10.3 9.45l-7.72 7.72c-.78.78-.78 2.05 0 2.83L4 21.41c.39.39.9.59 1.41.59.51 0 1.02-.2 1.41-.59l7.78-7.78 2.81-2.81c.8-.78.8-2.07 0-2.86zM5.41 20L4 18.59l7.72-7.72 1.47 1.35L5.41 20z\"/>\n",
       "  </svg>\n",
       "      </button>\n",
       "      \n",
       "  <style>\n",
       "    .colab-df-container {\n",
       "      display:flex;\n",
       "      flex-wrap:wrap;\n",
       "      gap: 12px;\n",
       "    }\n",
       "\n",
       "    .colab-df-convert {\n",
       "      background-color: #E8F0FE;\n",
       "      border: none;\n",
       "      border-radius: 50%;\n",
       "      cursor: pointer;\n",
       "      display: none;\n",
       "      fill: #1967D2;\n",
       "      height: 32px;\n",
       "      padding: 0 0 0 0;\n",
       "      width: 32px;\n",
       "    }\n",
       "\n",
       "    .colab-df-convert:hover {\n",
       "      background-color: #E2EBFA;\n",
       "      box-shadow: 0px 1px 2px rgba(60, 64, 67, 0.3), 0px 1px 3px 1px rgba(60, 64, 67, 0.15);\n",
       "      fill: #174EA6;\n",
       "    }\n",
       "\n",
       "    [theme=dark] .colab-df-convert {\n",
       "      background-color: #3B4455;\n",
       "      fill: #D2E3FC;\n",
       "    }\n",
       "\n",
       "    [theme=dark] .colab-df-convert:hover {\n",
       "      background-color: #434B5C;\n",
       "      box-shadow: 0px 1px 3px 1px rgba(0, 0, 0, 0.15);\n",
       "      filter: drop-shadow(0px 1px 2px rgba(0, 0, 0, 0.3));\n",
       "      fill: #FFFFFF;\n",
       "    }\n",
       "  </style>\n",
       "\n",
       "      <script>\n",
       "        const buttonEl =\n",
       "          document.querySelector('#df-2a179969-ad0c-4d2b-9eb6-9469569d24d1 button.colab-df-convert');\n",
       "        buttonEl.style.display =\n",
       "          google.colab.kernel.accessAllowed ? 'block' : 'none';\n",
       "\n",
       "        async function convertToInteractive(key) {\n",
       "          const element = document.querySelector('#df-2a179969-ad0c-4d2b-9eb6-9469569d24d1');\n",
       "          const dataTable =\n",
       "            await google.colab.kernel.invokeFunction('convertToInteractive',\n",
       "                                                     [key], {});\n",
       "          if (!dataTable) return;\n",
       "\n",
       "          const docLinkHtml = 'Like what you see? Visit the ' +\n",
       "            '<a target=\"_blank\" href=https://colab.research.google.com/notebooks/data_table.ipynb>data table notebook</a>'\n",
       "            + ' to learn more about interactive tables.';\n",
       "          element.innerHTML = '';\n",
       "          dataTable['output_type'] = 'display_data';\n",
       "          await google.colab.output.renderOutput(dataTable, element);\n",
       "          const docLink = document.createElement('div');\n",
       "          docLink.innerHTML = docLinkHtml;\n",
       "          element.appendChild(docLink);\n",
       "        }\n",
       "      </script>\n",
       "    </div>\n",
       "  </div>\n",
       "  "
      ],
      "text/plain": [
       "   month  cinema_code         lag_1     roll1_min    roll1_mean     roll1_max  \\\n",
       "0      2          448           NaN  3.203000e+07  3.203000e+07  3.203000e+07   \n",
       "1      2          518  3.203000e+07  1.800000e+05  1.800000e+05  1.800000e+05   \n",
       "2      3           32  1.800000e+05  7.682000e+08  7.682000e+08  7.682000e+08   \n",
       "3      3           33  7.682000e+08  2.010000e+08  2.010000e+08  2.010000e+08   \n",
       "4      3           34  2.010000e+08  3.672860e+09  3.672860e+09  3.672860e+09   \n",
       "5      3           35  3.672860e+09  1.866700e+09  1.866700e+09  1.866700e+09   \n",
       "6      3           39  1.866700e+09  1.554800e+09  1.554800e+09  1.554800e+09   \n",
       "7      3           43  1.554800e+09  5.412800e+08  5.412800e+08  5.412800e+08   \n",
       "8      3           48  5.412800e+08  8.739000e+08  8.739000e+08  8.739000e+08   \n",
       "9      3           50  8.739000e+08  6.224800e+08  6.224800e+08  6.224800e+08   \n",
       "\n",
       "          lag_2     roll2_min    roll2_mean     roll2_max         lag_3  \\\n",
       "0           NaN           NaN           NaN           NaN           NaN   \n",
       "1           NaN  1.800000e+05  1.610500e+07  3.203000e+07           NaN   \n",
       "2  3.203000e+07  1.800000e+05  3.841900e+08  7.682000e+08           NaN   \n",
       "3  1.800000e+05  2.010000e+08  4.846000e+08  7.682000e+08  3.203000e+07   \n",
       "4  7.682000e+08  2.010000e+08  1.936930e+09  3.672860e+09  1.800000e+05   \n",
       "5  2.010000e+08  1.866700e+09  2.769780e+09  3.672860e+09  7.682000e+08   \n",
       "6  3.672860e+09  1.554800e+09  1.710750e+09  1.866700e+09  2.010000e+08   \n",
       "7  1.866700e+09  5.412800e+08  1.048040e+09  1.554800e+09  3.672860e+09   \n",
       "8  1.554800e+09  5.412800e+08  7.075900e+08  8.739000e+08  1.866700e+09   \n",
       "9  5.412800e+08  6.224800e+08  7.481900e+08  8.739000e+08  1.554800e+09   \n",
       "\n",
       "      roll3_min    roll3_mean     roll3_max  \n",
       "0           NaN           NaN           NaN  \n",
       "1           NaN           NaN           NaN  \n",
       "2  1.800000e+05  2.668033e+08  7.682000e+08  \n",
       "3  1.800000e+05  3.231267e+08  7.682000e+08  \n",
       "4  2.010000e+08  1.547353e+09  3.672860e+09  \n",
       "5  2.010000e+08  1.913520e+09  3.672860e+09  \n",
       "6  1.554800e+09  2.364787e+09  3.672860e+09  \n",
       "7  5.412800e+08  1.320927e+09  1.866700e+09  \n",
       "8  5.412800e+08  9.899933e+08  1.554800e+09  \n",
       "9  5.412800e+08  6.792200e+08  8.739000e+08  "
      ]
     },
     "metadata": {},
     "output_type": "display_data"
    },
    {
     "data": {
      "text/plain": [
       "((1983, 14), 10)"
      ]
     },
     "execution_count": 65,
     "metadata": {},
     "output_type": "execute_result"
    }
   ],
   "source": [
    "target = x.pop('total_sales')\n",
    "\n",
    "df = build_lagandroll(x, target, width=[1, 2,3])\n",
    "display(df.head(10))\n",
    "df.shape, df.month.unique().size,"
   ]
  },
  {
   "cell_type": "code",
   "execution_count": 66,
   "metadata": {
    "colab": {
     "base_uri": "https://localhost:8080/",
     "height": 299
    },
    "executionInfo": {
     "elapsed": 557,
     "status": "ok",
     "timestamp": 1669455265137,
     "user": {
      "displayName": "Ayush Kumar",
      "userId": "17649156005383043406"
     },
     "user_tz": -60
    },
    "id": "QtDl7GeSQTr7",
    "outputId": "62cfa27c-e25a-4a9f-8272-2206d3255cfe"
   },
   "outputs": [
    {
     "data": {
      "image/png": "[encoded data removed]",
      "text/plain": [
       "<Figure size 576x288 with 1 Axes>"
      ]
     },
     "metadata": {},
     "output_type": "display_data"
    }
   ],
   "source": [
    "plt.style.use('seaborn-poster')\n",
    "target.hist(figsize=(8, 4), bins=50, color='teal');"
   ]
  },
  {
   "cell_type": "markdown",
   "metadata": {
    "id": "rmKVafLsPNLI"
   },
   "source": [
    "Saving and loading intermediate results"
   ]
  },
  {
   "cell_type": "code",
   "execution_count": 67,
   "metadata": {
    "executionInfo": {
     "elapsed": 1628,
     "status": "ok",
     "timestamp": 1669455266752,
     "user": {
      "displayName": "Ayush Kumar",
      "userId": "17649156005383043406"
     },
     "user_tz": -60
    },
    "id": "Xl_uugbPTNA4"
   },
   "outputs": [],
   "source": [
    "# Save preprocessed data\n",
    "df_tmp.to_csv(\"drive/My Drive/Cinema_tickets_dataset/train_tmp.csv\",\n",
    "              index=False)"
   ]
  },
  {
   "cell_type": "code",
   "execution_count": 68,
   "metadata": {
    "executionInfo": {
     "elapsed": 23,
     "status": "ok",
     "timestamp": 1669455266756,
     "user": {
      "displayName": "Ayush Kumar",
      "userId": "17649156005383043406"
     },
     "user_tz": -60
    },
    "id": "4UZ8NHTYTNyV"
   },
   "outputs": [],
   "source": [
    "df_tmp = pd.read_csv(\"drive/My Drive/Cinema_tickets_dataset/train_tmp.csv\",\n",
    "                     low_memory=False)"
   ]
  },
  {
   "cell_type": "markdown",
   "metadata": {
    "id": "YlmvtUY0QmWj"
   },
   "source": [
    "Creating training and validation tests"
   ]
  },
  {
   "cell_type": "code",
   "execution_count": 102,
   "metadata": {
    "executionInfo": {
     "elapsed": 513,
     "status": "ok",
     "timestamp": 1669456173067,
     "user": {
      "displayName": "Ayush Kumar",
      "userId": "17649156005383043406"
     },
     "user_tz": -60
    },
    "id": "dWsygi5EQTyI"
   },
   "outputs": [],
   "source": [
    "df = pd.concat([df, target], axis=1)\n",
    "train = df.copy()\n",
    "x_train = train[train.month <= 10]\n",
    "y_train = train[train.month <= 10].pop('total_sales')\n",
    "\n",
    "val = df.copy()\n",
    "x_val =  val[val.month >10 ]\n",
    "y_val = val[val.month >10 ].pop('total_sales')"
   ]
  },
  {
   "cell_type": "code",
   "execution_count": 103,
   "metadata": {
    "colab": {
     "base_uri": "https://localhost:8080/",
     "height": 543
    },
    "executionInfo": {
     "elapsed": 905,
     "status": "ok",
     "timestamp": 1669456175497,
     "user": {
      "displayName": "Ayush Kumar",
      "userId": "17649156005383043406"
     },
     "user_tz": -60
    },
    "id": "U27smPDtQzeI",
    "outputId": "59c33e8b-aec8-4e5e-98f1-da949d13d8f8"
   },
   "outputs": [
    {
     "data": {
      "text/plain": [
       "<matplotlib.axes._subplots.AxesSubplot at 0x7f51fcef0610>"
      ]
     },
     "execution_count": 103,
     "metadata": {},
     "output_type": "execute_result"
    },
    {
     "data": {
      "image/png": "[encoded data removed]",
      "text/plain": [
       "<Figure size 720x576 with 1 Axes>"
      ]
     },
     "metadata": {},
     "output_type": "display_data"
    }
   ],
   "source": [
    "plt.figure(figsize=(10, 8))\n",
    "pd.plotting.autocorrelation_plot(y_train) "
   ]
  },
  {
   "cell_type": "code",
   "execution_count": 104,
   "metadata": {
    "colab": {
     "base_uri": "https://localhost:8080/"
    },
    "executionInfo": {
     "elapsed": 367,
     "status": "ok",
     "timestamp": 1669456179359,
     "user": {
      "displayName": "Ayush Kumar",
      "userId": "17649156005383043406"
     },
     "user_tz": -60
    },
    "id": "fYxEZgJ4Q3ep",
    "outputId": "38b85c7e-def7-47e7-c1ad-b53850574a47"
   },
   "outputs": [
    {
     "name": "stderr",
     "output_type": "stream",
     "text": [
      "/usr/local/lib/python3.7/dist-packages/pandas/core/frame.py:4913: SettingWithCopyWarning: \n",
      "A value is trying to be set on a copy of a slice from a DataFrame\n",
      "\n",
      "See the caveats in the documentation: https://pandas.pydata.org/pandas-docs/stable/user_guide/indexing.html#returning-a-view-versus-a-copy\n",
      "  errors=errors,\n"
     ]
    }
   ],
   "source": [
    "x_train.drop('month', axis=1, inplace=True)\n",
    "x_val.drop('month', axis=1, inplace=True)"
   ]
  },
  {
   "cell_type": "code",
   "execution_count": 105,
   "metadata": {
    "colab": {
     "base_uri": "https://localhost:8080/",
     "height": 270
    },
    "executionInfo": {
     "elapsed": 14,
     "status": "ok",
     "timestamp": 1669456181575,
     "user": {
      "displayName": "Ayush Kumar",
      "userId": "17649156005383043406"
     },
     "user_tz": -60
    },
    "id": "8_tYwV3vVCmV",
    "outputId": "32433eae-1cf9-404e-c797-bf4524a979da"
   },
   "outputs": [
    {
     "data": {
      "text/html": [
       "\n",
       "  <div id=\"df-2468ddf9-e8fb-4169-a79c-fbf6cbfd726d\">\n",
       "    <div class=\"colab-df-container\">\n",
       "      <div>\n",
       "<style scoped>\n",
       "    .dataframe tbody tr th:only-of-type {\n",
       "        vertical-align: middle;\n",
       "    }\n",
       "\n",
       "    .dataframe tbody tr th {\n",
       "        vertical-align: top;\n",
       "    }\n",
       "\n",
       "    .dataframe thead th {\n",
       "        text-align: right;\n",
       "    }\n",
       "</style>\n",
       "<table border=\"1\" class=\"dataframe\">\n",
       "  <thead>\n",
       "    <tr style=\"text-align: right;\">\n",
       "      <th></th>\n",
       "      <th>cinema_code</th>\n",
       "      <th>lag_1</th>\n",
       "      <th>roll1_min</th>\n",
       "      <th>roll1_mean</th>\n",
       "      <th>roll1_max</th>\n",
       "      <th>lag_2</th>\n",
       "      <th>roll2_min</th>\n",
       "      <th>roll2_mean</th>\n",
       "      <th>roll2_max</th>\n",
       "      <th>lag_3</th>\n",
       "      <th>roll3_min</th>\n",
       "      <th>roll3_mean</th>\n",
       "      <th>roll3_max</th>\n",
       "      <th>total_sales</th>\n",
       "      <th>total_sales</th>\n",
       "      <th>total_sales</th>\n",
       "      <th>total_sales</th>\n",
       "      <th>total_sales</th>\n",
       "    </tr>\n",
       "  </thead>\n",
       "  <tbody>\n",
       "    <tr>\n",
       "      <th>0</th>\n",
       "      <td>448</td>\n",
       "      <td>NaN</td>\n",
       "      <td>3.203000e+07</td>\n",
       "      <td>3.203000e+07</td>\n",
       "      <td>3.203000e+07</td>\n",
       "      <td>NaN</td>\n",
       "      <td>NaN</td>\n",
       "      <td>NaN</td>\n",
       "      <td>NaN</td>\n",
       "      <td>NaN</td>\n",
       "      <td>NaN</td>\n",
       "      <td>NaN</td>\n",
       "      <td>NaN</td>\n",
       "      <td>32030000</td>\n",
       "      <td>32030000</td>\n",
       "      <td>32030000</td>\n",
       "      <td>32030000</td>\n",
       "      <td>32030000</td>\n",
       "    </tr>\n",
       "    <tr>\n",
       "      <th>1</th>\n",
       "      <td>518</td>\n",
       "      <td>32030000.0</td>\n",
       "      <td>1.800000e+05</td>\n",
       "      <td>1.800000e+05</td>\n",
       "      <td>1.800000e+05</td>\n",
       "      <td>NaN</td>\n",
       "      <td>180000.0</td>\n",
       "      <td>1.610500e+07</td>\n",
       "      <td>3.203000e+07</td>\n",
       "      <td>NaN</td>\n",
       "      <td>NaN</td>\n",
       "      <td>NaN</td>\n",
       "      <td>NaN</td>\n",
       "      <td>180000</td>\n",
       "      <td>180000</td>\n",
       "      <td>180000</td>\n",
       "      <td>180000</td>\n",
       "      <td>180000</td>\n",
       "    </tr>\n",
       "    <tr>\n",
       "      <th>2</th>\n",
       "      <td>32</td>\n",
       "      <td>180000.0</td>\n",
       "      <td>7.682000e+08</td>\n",
       "      <td>7.682000e+08</td>\n",
       "      <td>7.682000e+08</td>\n",
       "      <td>32030000.0</td>\n",
       "      <td>180000.0</td>\n",
       "      <td>3.841900e+08</td>\n",
       "      <td>7.682000e+08</td>\n",
       "      <td>NaN</td>\n",
       "      <td>180000.0</td>\n",
       "      <td>2.668033e+08</td>\n",
       "      <td>7.682000e+08</td>\n",
       "      <td>768200000</td>\n",
       "      <td>768200000</td>\n",
       "      <td>768200000</td>\n",
       "      <td>768200000</td>\n",
       "      <td>768200000</td>\n",
       "    </tr>\n",
       "    <tr>\n",
       "      <th>3</th>\n",
       "      <td>33</td>\n",
       "      <td>768200000.0</td>\n",
       "      <td>2.010000e+08</td>\n",
       "      <td>2.010000e+08</td>\n",
       "      <td>2.010000e+08</td>\n",
       "      <td>180000.0</td>\n",
       "      <td>201000000.0</td>\n",
       "      <td>4.846000e+08</td>\n",
       "      <td>7.682000e+08</td>\n",
       "      <td>32030000.0</td>\n",
       "      <td>180000.0</td>\n",
       "      <td>3.231267e+08</td>\n",
       "      <td>7.682000e+08</td>\n",
       "      <td>201000000</td>\n",
       "      <td>201000000</td>\n",
       "      <td>201000000</td>\n",
       "      <td>201000000</td>\n",
       "      <td>201000000</td>\n",
       "    </tr>\n",
       "    <tr>\n",
       "      <th>4</th>\n",
       "      <td>34</td>\n",
       "      <td>201000000.0</td>\n",
       "      <td>3.672860e+09</td>\n",
       "      <td>3.672860e+09</td>\n",
       "      <td>3.672860e+09</td>\n",
       "      <td>768200000.0</td>\n",
       "      <td>201000000.0</td>\n",
       "      <td>1.936930e+09</td>\n",
       "      <td>3.672860e+09</td>\n",
       "      <td>180000.0</td>\n",
       "      <td>201000000.0</td>\n",
       "      <td>1.547353e+09</td>\n",
       "      <td>3.672860e+09</td>\n",
       "      <td>3672860000</td>\n",
       "      <td>3672860000</td>\n",
       "      <td>3672860000</td>\n",
       "      <td>3672860000</td>\n",
       "      <td>3672860000</td>\n",
       "    </tr>\n",
       "  </tbody>\n",
       "</table>\n",
       "</div>\n",
       "      <button class=\"colab-df-convert\" onclick=\"convertToInteractive('df-2468ddf9-e8fb-4169-a79c-fbf6cbfd726d')\"\n",
       "              title=\"Convert this dataframe to an interactive table.\"\n",
       "              style=\"display:none;\">\n",
       "        \n",
       "  <svg xmlns=\"http://www.w3.org/2000/svg\" height=\"24px\"viewBox=\"0 0 24 24\"\n",
       "       width=\"24px\">\n",
       "    <path d=\"M0 0h24v24H0V0z\" fill=\"none\"/>\n",
       "    <path d=\"M18.56 5.44l.94 2.06.94-2.06 2.06-.94-2.06-.94-.94-2.06-.94 2.06-2.06.94zm-11 1L8.5 8.5l.94-2.06 2.06-.94-2.06-.94L8.5 2.5l-.94 2.06-2.06.94zm10 10l.94 2.06.94-2.06 2.06-.94-2.06-.94-.94-2.06-.94 2.06-2.06.94z\"/><path d=\"M17.41 7.96l-1.37-1.37c-.4-.4-.92-.59-1.43-.59-.52 0-1.04.2-1.43.59L10.3 9.45l-7.72 7.72c-.78.78-.78 2.05 0 2.83L4 21.41c.39.39.9.59 1.41.59.51 0 1.02-.2 1.41-.59l7.78-7.78 2.81-2.81c.8-.78.8-2.07 0-2.86zM5.41 20L4 18.59l7.72-7.72 1.47 1.35L5.41 20z\"/>\n",
       "  </svg>\n",
       "      </button>\n",
       "      \n",
       "  <style>\n",
       "    .colab-df-container {\n",
       "      display:flex;\n",
       "      flex-wrap:wrap;\n",
       "      gap: 12px;\n",
       "    }\n",
       "\n",
       "    .colab-df-convert {\n",
       "      background-color: #E8F0FE;\n",
       "      border: none;\n",
       "      border-radius: 50%;\n",
       "      cursor: pointer;\n",
       "      display: none;\n",
       "      fill: #1967D2;\n",
       "      height: 32px;\n",
       "      padding: 0 0 0 0;\n",
       "      width: 32px;\n",
       "    }\n",
       "\n",
       "    .colab-df-convert:hover {\n",
       "      background-color: #E2EBFA;\n",
       "      box-shadow: 0px 1px 2px rgba(60, 64, 67, 0.3), 0px 1px 3px 1px rgba(60, 64, 67, 0.15);\n",
       "      fill: #174EA6;\n",
       "    }\n",
       "\n",
       "    [theme=dark] .colab-df-convert {\n",
       "      background-color: #3B4455;\n",
       "      fill: #D2E3FC;\n",
       "    }\n",
       "\n",
       "    [theme=dark] .colab-df-convert:hover {\n",
       "      background-color: #434B5C;\n",
       "      box-shadow: 0px 1px 3px 1px rgba(0, 0, 0, 0.15);\n",
       "      filter: drop-shadow(0px 1px 2px rgba(0, 0, 0, 0.3));\n",
       "      fill: #FFFFFF;\n",
       "    }\n",
       "  </style>\n",
       "\n",
       "      <script>\n",
       "        const buttonEl =\n",
       "          document.querySelector('#df-2468ddf9-e8fb-4169-a79c-fbf6cbfd726d button.colab-df-convert');\n",
       "        buttonEl.style.display =\n",
       "          google.colab.kernel.accessAllowed ? 'block' : 'none';\n",
       "\n",
       "        async function convertToInteractive(key) {\n",
       "          const element = document.querySelector('#df-2468ddf9-e8fb-4169-a79c-fbf6cbfd726d');\n",
       "          const dataTable =\n",
       "            await google.colab.kernel.invokeFunction('convertToInteractive',\n",
       "                                                     [key], {});\n",
       "          if (!dataTable) return;\n",
       "\n",
       "          const docLinkHtml = 'Like what you see? Visit the ' +\n",
       "            '<a target=\"_blank\" href=https://colab.research.google.com/notebooks/data_table.ipynb>data table notebook</a>'\n",
       "            + ' to learn more about interactive tables.';\n",
       "          element.innerHTML = '';\n",
       "          dataTable['output_type'] = 'display_data';\n",
       "          await google.colab.output.renderOutput(dataTable, element);\n",
       "          const docLink = document.createElement('div');\n",
       "          docLink.innerHTML = docLinkHtml;\n",
       "          element.appendChild(docLink);\n",
       "        }\n",
       "      </script>\n",
       "    </div>\n",
       "  </div>\n",
       "  "
      ],
      "text/plain": [
       "   cinema_code        lag_1     roll1_min    roll1_mean     roll1_max  \\\n",
       "0          448          NaN  3.203000e+07  3.203000e+07  3.203000e+07   \n",
       "1          518   32030000.0  1.800000e+05  1.800000e+05  1.800000e+05   \n",
       "2           32     180000.0  7.682000e+08  7.682000e+08  7.682000e+08   \n",
       "3           33  768200000.0  2.010000e+08  2.010000e+08  2.010000e+08   \n",
       "4           34  201000000.0  3.672860e+09  3.672860e+09  3.672860e+09   \n",
       "\n",
       "         lag_2    roll2_min    roll2_mean     roll2_max       lag_3  \\\n",
       "0          NaN          NaN           NaN           NaN         NaN   \n",
       "1          NaN     180000.0  1.610500e+07  3.203000e+07         NaN   \n",
       "2   32030000.0     180000.0  3.841900e+08  7.682000e+08         NaN   \n",
       "3     180000.0  201000000.0  4.846000e+08  7.682000e+08  32030000.0   \n",
       "4  768200000.0  201000000.0  1.936930e+09  3.672860e+09    180000.0   \n",
       "\n",
       "     roll3_min    roll3_mean     roll3_max  total_sales  total_sales  \\\n",
       "0          NaN           NaN           NaN     32030000     32030000   \n",
       "1          NaN           NaN           NaN       180000       180000   \n",
       "2     180000.0  2.668033e+08  7.682000e+08    768200000    768200000   \n",
       "3     180000.0  3.231267e+08  7.682000e+08    201000000    201000000   \n",
       "4  201000000.0  1.547353e+09  3.672860e+09   3672860000   3672860000   \n",
       "\n",
       "   total_sales  total_sales  total_sales  \n",
       "0     32030000     32030000     32030000  \n",
       "1       180000       180000       180000  \n",
       "2    768200000    768200000    768200000  \n",
       "3    201000000    201000000    201000000  \n",
       "4   3672860000   3672860000   3672860000  "
      ]
     },
     "execution_count": 105,
     "metadata": {},
     "output_type": "execute_result"
    }
   ],
   "source": [
    "x_train.head()"
   ]
  },
  {
   "cell_type": "code",
   "execution_count": 106,
   "metadata": {
    "colab": {
     "base_uri": "https://localhost:8080/"
    },
    "executionInfo": {
     "elapsed": 599,
     "status": "ok",
     "timestamp": 1669456188314,
     "user": {
      "displayName": "Ayush Kumar",
      "userId": "17649156005383043406"
     },
     "user_tz": -60
    },
    "id": "4kjvEoT_PrkA",
    "outputId": "8ba18fd4-c0cb-4633-b60a-e551f99ab036"
   },
   "outputs": [
    {
     "data": {
      "text/plain": [
       "cinema_code    0\n",
       "lag_1          1\n",
       "roll1_min      0\n",
       "roll1_mean     0\n",
       "roll1_max      0\n",
       "lag_2          2\n",
       "roll2_min      1\n",
       "roll2_mean     1\n",
       "roll2_max      1\n",
       "lag_3          3\n",
       "roll3_min      2\n",
       "roll3_mean     2\n",
       "roll3_max      2\n",
       "total_sales    0\n",
       "total_sales    0\n",
       "total_sales    0\n",
       "total_sales    0\n",
       "total_sales    0\n",
       "dtype: int64"
      ]
     },
     "execution_count": 106,
     "metadata": {},
     "output_type": "execute_result"
    }
   ],
   "source": [
    "x_train.isna().sum()"
   ]
  },
  {
   "cell_type": "code",
   "execution_count": 107,
   "metadata": {
    "colab": {
     "base_uri": "https://localhost:8080/"
    },
    "executionInfo": {
     "elapsed": 427,
     "status": "ok",
     "timestamp": 1669456191507,
     "user": {
      "displayName": "Ayush Kumar",
      "userId": "17649156005383043406"
     },
     "user_tz": -60
    },
    "id": "R4PMwlSeVgAH",
    "outputId": "de7bf4ee-bf9a-490f-a47c-da97911444f9"
   },
   "outputs": [
    {
     "name": "stderr",
     "output_type": "stream",
     "text": [
      "/usr/local/lib/python3.7/dist-packages/ipykernel_launcher.py:6: SettingWithCopyWarning: \n",
      "A value is trying to be set on a copy of a slice from a DataFrame.\n",
      "Try using .loc[row_indexer,col_indexer] = value instead\n",
      "\n",
      "See the caveats in the documentation: https://pandas.pydata.org/pandas-docs/stable/user_guide/indexing.html#returning-a-view-versus-a-copy\n",
      "  \n"
     ]
    }
   ],
   "source": [
    "# Fill numeric rows with the mean\n",
    "for label, content in x_train.items():\n",
    "    if pd.api.types.is_numeric_dtype(content):\n",
    "        if pd.isnull(content).sum():\n",
    "            # Fill missing numeric values with the mean\n",
    "            x_train[label] = content.fillna(content.mean())"
   ]
  },
  {
   "cell_type": "code",
   "execution_count": 109,
   "metadata": {
    "colab": {
     "base_uri": "https://localhost:8080/"
    },
    "executionInfo": {
     "elapsed": 27,
     "status": "ok",
     "timestamp": 1669456220200,
     "user": {
      "displayName": "Ayush Kumar",
      "userId": "17649156005383043406"
     },
     "user_tz": -60
    },
    "id": "KV_9AvdjWBaB",
    "outputId": "5f833fde-b834-4c2e-87fc-85a57bd07529"
   },
   "outputs": [
    {
     "data": {
      "text/plain": [
       "cinema_code    0\n",
       "lag_1          0\n",
       "roll1_min      0\n",
       "roll1_mean     0\n",
       "roll1_max      0\n",
       "lag_2          0\n",
       "roll2_min      0\n",
       "roll2_mean     0\n",
       "roll2_max      0\n",
       "lag_3          0\n",
       "roll3_min      0\n",
       "roll3_mean     0\n",
       "roll3_max      0\n",
       "total_sales    0\n",
       "total_sales    0\n",
       "total_sales    0\n",
       "total_sales    0\n",
       "total_sales    0\n",
       "dtype: int64"
      ]
     },
     "execution_count": 109,
     "metadata": {},
     "output_type": "execute_result"
    }
   ],
   "source": [
    "x_val.isna().sum()"
   ]
  },
  {
   "cell_type": "markdown",
   "metadata": {
    "id": "9FV6G2FTXA5-"
   },
   "source": [
    "## Models training"
   ]
  },
  {
   "cell_type": "markdown",
   "metadata": {
    "id": "dGcRwZNfG76x"
   },
   "source": [
    "Linear Regression"
   ]
  },
  {
   "cell_type": "code",
   "execution_count": 110,
   "metadata": {
    "colab": {
     "base_uri": "https://localhost:8080/"
    },
    "executionInfo": {
     "elapsed": 361,
     "status": "ok",
     "timestamp": 1669456225449,
     "user": {
      "displayName": "Ayush Kumar",
      "userId": "17649156005383043406"
     },
     "user_tz": -60
    },
    "id": "6G6WqvUpUQxl",
    "outputId": "ce41d3c9-eddd-417a-d4e3-dcf4e8a5679f"
   },
   "outputs": [
    {
     "data": {
      "text/plain": [
       "(1771, 18)"
      ]
     },
     "execution_count": 110,
     "metadata": {},
     "output_type": "execute_result"
    }
   ],
   "source": [
    "x_train.shape"
   ]
  },
  {
   "cell_type": "code",
   "execution_count": 113,
   "metadata": {
    "executionInfo": {
     "elapsed": 484,
     "status": "ok",
     "timestamp": 1669456458318,
     "user": {
      "displayName": "Ayush Kumar",
      "userId": "17649156005383043406"
     },
     "user_tz": -60
    },
    "id": "FBj-HAV6WvXY"
   },
   "outputs": [],
   "source": [
    "# To remove duplicate columns\n",
    "y_train = y_train.loc[:,~y_train.columns.duplicated()].copy()\n",
    "y_val = y_val.loc[:,~y_val.columns.duplicated()].copy()"
   ]
  },
  {
   "cell_type": "code",
   "execution_count": 115,
   "metadata": {
    "colab": {
     "base_uri": "https://localhost:8080/",
     "height": 206
    },
    "executionInfo": {
     "elapsed": 22,
     "status": "ok",
     "timestamp": 1669456468886,
     "user": {
      "displayName": "Ayush Kumar",
      "userId": "17649156005383043406"
     },
     "user_tz": -60
    },
    "id": "gJVJ3-q5UTUA",
    "outputId": "76725d1d-a41d-44be-8f84-66f0ede542af"
   },
   "outputs": [
    {
     "data": {
      "text/html": [
       "\n",
       "  <div id=\"df-b6b0ef20-bef0-4efd-9fd0-5114cb092d54\">\n",
       "    <div class=\"colab-df-container\">\n",
       "      <div>\n",
       "<style scoped>\n",
       "    .dataframe tbody tr th:only-of-type {\n",
       "        vertical-align: middle;\n",
       "    }\n",
       "\n",
       "    .dataframe tbody tr th {\n",
       "        vertical-align: top;\n",
       "    }\n",
       "\n",
       "    .dataframe thead th {\n",
       "        text-align: right;\n",
       "    }\n",
       "</style>\n",
       "<table border=\"1\" class=\"dataframe\">\n",
       "  <thead>\n",
       "    <tr style=\"text-align: right;\">\n",
       "      <th></th>\n",
       "      <th>total_sales</th>\n",
       "    </tr>\n",
       "  </thead>\n",
       "  <tbody>\n",
       "    <tr>\n",
       "      <th>0</th>\n",
       "      <td>32030000</td>\n",
       "    </tr>\n",
       "    <tr>\n",
       "      <th>1</th>\n",
       "      <td>180000</td>\n",
       "    </tr>\n",
       "    <tr>\n",
       "      <th>2</th>\n",
       "      <td>768200000</td>\n",
       "    </tr>\n",
       "    <tr>\n",
       "      <th>3</th>\n",
       "      <td>201000000</td>\n",
       "    </tr>\n",
       "    <tr>\n",
       "      <th>4</th>\n",
       "      <td>3672860000</td>\n",
       "    </tr>\n",
       "  </tbody>\n",
       "</table>\n",
       "</div>\n",
       "      <button class=\"colab-df-convert\" onclick=\"convertToInteractive('df-b6b0ef20-bef0-4efd-9fd0-5114cb092d54')\"\n",
       "              title=\"Convert this dataframe to an interactive table.\"\n",
       "              style=\"display:none;\">\n",
       "        \n",
       "  <svg xmlns=\"http://www.w3.org/2000/svg\" height=\"24px\"viewBox=\"0 0 24 24\"\n",
       "       width=\"24px\">\n",
       "    <path d=\"M0 0h24v24H0V0z\" fill=\"none\"/>\n",
       "    <path d=\"M18.56 5.44l.94 2.06.94-2.06 2.06-.94-2.06-.94-.94-2.06-.94 2.06-2.06.94zm-11 1L8.5 8.5l.94-2.06 2.06-.94-2.06-.94L8.5 2.5l-.94 2.06-2.06.94zm10 10l.94 2.06.94-2.06 2.06-.94-2.06-.94-.94-2.06-.94 2.06-2.06.94z\"/><path d=\"M17.41 7.96l-1.37-1.37c-.4-.4-.92-.59-1.43-.59-.52 0-1.04.2-1.43.59L10.3 9.45l-7.72 7.72c-.78.78-.78 2.05 0 2.83L4 21.41c.39.39.9.59 1.41.59.51 0 1.02-.2 1.41-.59l7.78-7.78 2.81-2.81c.8-.78.8-2.07 0-2.86zM5.41 20L4 18.59l7.72-7.72 1.47 1.35L5.41 20z\"/>\n",
       "  </svg>\n",
       "      </button>\n",
       "      \n",
       "  <style>\n",
       "    .colab-df-container {\n",
       "      display:flex;\n",
       "      flex-wrap:wrap;\n",
       "      gap: 12px;\n",
       "    }\n",
       "\n",
       "    .colab-df-convert {\n",
       "      background-color: #E8F0FE;\n",
       "      border: none;\n",
       "      border-radius: 50%;\n",
       "      cursor: pointer;\n",
       "      display: none;\n",
       "      fill: #1967D2;\n",
       "      height: 32px;\n",
       "      padding: 0 0 0 0;\n",
       "      width: 32px;\n",
       "    }\n",
       "\n",
       "    .colab-df-convert:hover {\n",
       "      background-color: #E2EBFA;\n",
       "      box-shadow: 0px 1px 2px rgba(60, 64, 67, 0.3), 0px 1px 3px 1px rgba(60, 64, 67, 0.15);\n",
       "      fill: #174EA6;\n",
       "    }\n",
       "\n",
       "    [theme=dark] .colab-df-convert {\n",
       "      background-color: #3B4455;\n",
       "      fill: #D2E3FC;\n",
       "    }\n",
       "\n",
       "    [theme=dark] .colab-df-convert:hover {\n",
       "      background-color: #434B5C;\n",
       "      box-shadow: 0px 1px 3px 1px rgba(0, 0, 0, 0.15);\n",
       "      filter: drop-shadow(0px 1px 2px rgba(0, 0, 0, 0.3));\n",
       "      fill: #FFFFFF;\n",
       "    }\n",
       "  </style>\n",
       "\n",
       "      <script>\n",
       "        const buttonEl =\n",
       "          document.querySelector('#df-b6b0ef20-bef0-4efd-9fd0-5114cb092d54 button.colab-df-convert');\n",
       "        buttonEl.style.display =\n",
       "          google.colab.kernel.accessAllowed ? 'block' : 'none';\n",
       "\n",
       "        async function convertToInteractive(key) {\n",
       "          const element = document.querySelector('#df-b6b0ef20-bef0-4efd-9fd0-5114cb092d54');\n",
       "          const dataTable =\n",
       "            await google.colab.kernel.invokeFunction('convertToInteractive',\n",
       "                                                     [key], {});\n",
       "          if (!dataTable) return;\n",
       "\n",
       "          const docLinkHtml = 'Like what you see? Visit the ' +\n",
       "            '<a target=\"_blank\" href=https://colab.research.google.com/notebooks/data_table.ipynb>data table notebook</a>'\n",
       "            + ' to learn more about interactive tables.';\n",
       "          element.innerHTML = '';\n",
       "          dataTable['output_type'] = 'display_data';\n",
       "          await google.colab.output.renderOutput(dataTable, element);\n",
       "          const docLink = document.createElement('div');\n",
       "          docLink.innerHTML = docLinkHtml;\n",
       "          element.appendChild(docLink);\n",
       "        }\n",
       "      </script>\n",
       "    </div>\n",
       "  </div>\n",
       "  "
      ],
      "text/plain": [
       "   total_sales\n",
       "0     32030000\n",
       "1       180000\n",
       "2    768200000\n",
       "3    201000000\n",
       "4   3672860000"
      ]
     },
     "execution_count": 115,
     "metadata": {},
     "output_type": "execute_result"
    }
   ],
   "source": [
    "y_train.head()"
   ]
  },
  {
   "cell_type": "code",
   "execution_count": 116,
   "metadata": {
    "colab": {
     "base_uri": "https://localhost:8080/",
     "height": 206
    },
    "executionInfo": {
     "elapsed": 442,
     "status": "ok",
     "timestamp": 1669456474458,
     "user": {
      "displayName": "Ayush Kumar",
      "userId": "17649156005383043406"
     },
     "user_tz": -60
    },
    "id": "TN4BHcQoWkzp",
    "outputId": "370ab45c-0a65-454a-e127-bb1b9a87018c"
   },
   "outputs": [
    {
     "data": {
      "text/html": [
       "\n",
       "  <div id=\"df-5dc3bf68-3f57-4765-a6e1-5e8a4bba94a0\">\n",
       "    <div class=\"colab-df-container\">\n",
       "      <div>\n",
       "<style scoped>\n",
       "    .dataframe tbody tr th:only-of-type {\n",
       "        vertical-align: middle;\n",
       "    }\n",
       "\n",
       "    .dataframe tbody tr th {\n",
       "        vertical-align: top;\n",
       "    }\n",
       "\n",
       "    .dataframe thead th {\n",
       "        text-align: right;\n",
       "    }\n",
       "</style>\n",
       "<table border=\"1\" class=\"dataframe\">\n",
       "  <thead>\n",
       "    <tr style=\"text-align: right;\">\n",
       "      <th></th>\n",
       "      <th>total_sales</th>\n",
       "    </tr>\n",
       "  </thead>\n",
       "  <tbody>\n",
       "    <tr>\n",
       "      <th>1771</th>\n",
       "      <td>84540000</td>\n",
       "    </tr>\n",
       "    <tr>\n",
       "      <th>1772</th>\n",
       "      <td>56280000</td>\n",
       "    </tr>\n",
       "    <tr>\n",
       "      <th>1773</th>\n",
       "      <td>271620000</td>\n",
       "    </tr>\n",
       "    <tr>\n",
       "      <th>1774</th>\n",
       "      <td>207600000</td>\n",
       "    </tr>\n",
       "    <tr>\n",
       "      <th>1775</th>\n",
       "      <td>109920000</td>\n",
       "    </tr>\n",
       "  </tbody>\n",
       "</table>\n",
       "</div>\n",
       "      <button class=\"colab-df-convert\" onclick=\"convertToInteractive('df-5dc3bf68-3f57-4765-a6e1-5e8a4bba94a0')\"\n",
       "              title=\"Convert this dataframe to an interactive table.\"\n",
       "              style=\"display:none;\">\n",
       "        \n",
       "  <svg xmlns=\"http://www.w3.org/2000/svg\" height=\"24px\"viewBox=\"0 0 24 24\"\n",
       "       width=\"24px\">\n",
       "    <path d=\"M0 0h24v24H0V0z\" fill=\"none\"/>\n",
       "    <path d=\"M18.56 5.44l.94 2.06.94-2.06 2.06-.94-2.06-.94-.94-2.06-.94 2.06-2.06.94zm-11 1L8.5 8.5l.94-2.06 2.06-.94-2.06-.94L8.5 2.5l-.94 2.06-2.06.94zm10 10l.94 2.06.94-2.06 2.06-.94-2.06-.94-.94-2.06-.94 2.06-2.06.94z\"/><path d=\"M17.41 7.96l-1.37-1.37c-.4-.4-.92-.59-1.43-.59-.52 0-1.04.2-1.43.59L10.3 9.45l-7.72 7.72c-.78.78-.78 2.05 0 2.83L4 21.41c.39.39.9.59 1.41.59.51 0 1.02-.2 1.41-.59l7.78-7.78 2.81-2.81c.8-.78.8-2.07 0-2.86zM5.41 20L4 18.59l7.72-7.72 1.47 1.35L5.41 20z\"/>\n",
       "  </svg>\n",
       "      </button>\n",
       "      \n",
       "  <style>\n",
       "    .colab-df-container {\n",
       "      display:flex;\n",
       "      flex-wrap:wrap;\n",
       "      gap: 12px;\n",
       "    }\n",
       "\n",
       "    .colab-df-convert {\n",
       "      background-color: #E8F0FE;\n",
       "      border: none;\n",
       "      border-radius: 50%;\n",
       "      cursor: pointer;\n",
       "      display: none;\n",
       "      fill: #1967D2;\n",
       "      height: 32px;\n",
       "      padding: 0 0 0 0;\n",
       "      width: 32px;\n",
       "    }\n",
       "\n",
       "    .colab-df-convert:hover {\n",
       "      background-color: #E2EBFA;\n",
       "      box-shadow: 0px 1px 2px rgba(60, 64, 67, 0.3), 0px 1px 3px 1px rgba(60, 64, 67, 0.15);\n",
       "      fill: #174EA6;\n",
       "    }\n",
       "\n",
       "    [theme=dark] .colab-df-convert {\n",
       "      background-color: #3B4455;\n",
       "      fill: #D2E3FC;\n",
       "    }\n",
       "\n",
       "    [theme=dark] .colab-df-convert:hover {\n",
       "      background-color: #434B5C;\n",
       "      box-shadow: 0px 1px 3px 1px rgba(0, 0, 0, 0.15);\n",
       "      filter: drop-shadow(0px 1px 2px rgba(0, 0, 0, 0.3));\n",
       "      fill: #FFFFFF;\n",
       "    }\n",
       "  </style>\n",
       "\n",
       "      <script>\n",
       "        const buttonEl =\n",
       "          document.querySelector('#df-5dc3bf68-3f57-4765-a6e1-5e8a4bba94a0 button.colab-df-convert');\n",
       "        buttonEl.style.display =\n",
       "          google.colab.kernel.accessAllowed ? 'block' : 'none';\n",
       "\n",
       "        async function convertToInteractive(key) {\n",
       "          const element = document.querySelector('#df-5dc3bf68-3f57-4765-a6e1-5e8a4bba94a0');\n",
       "          const dataTable =\n",
       "            await google.colab.kernel.invokeFunction('convertToInteractive',\n",
       "                                                     [key], {});\n",
       "          if (!dataTable) return;\n",
       "\n",
       "          const docLinkHtml = 'Like what you see? Visit the ' +\n",
       "            '<a target=\"_blank\" href=https://colab.research.google.com/notebooks/data_table.ipynb>data table notebook</a>'\n",
       "            + ' to learn more about interactive tables.';\n",
       "          element.innerHTML = '';\n",
       "          dataTable['output_type'] = 'display_data';\n",
       "          await google.colab.output.renderOutput(dataTable, element);\n",
       "          const docLink = document.createElement('div');\n",
       "          docLink.innerHTML = docLinkHtml;\n",
       "          element.appendChild(docLink);\n",
       "        }\n",
       "      </script>\n",
       "    </div>\n",
       "  </div>\n",
       "  "
      ],
      "text/plain": [
       "      total_sales\n",
       "1771     84540000\n",
       "1772     56280000\n",
       "1773    271620000\n",
       "1774    207600000\n",
       "1775    109920000"
      ]
     },
     "execution_count": 116,
     "metadata": {},
     "output_type": "execute_result"
    }
   ],
   "source": [
    "y_val.head()"
   ]
  },
  {
   "cell_type": "markdown",
   "metadata": {
    "id": "MU_ypajNXklB"
   },
   "source": [
    "Models"
   ]
  },
  {
   "cell_type": "code",
   "execution_count": 79,
   "metadata": {
    "executionInfo": {
     "elapsed": 413,
     "status": "ok",
     "timestamp": 1669455471722,
     "user": {
      "displayName": "Ayush Kumar",
      "userId": "17649156005383043406"
     },
     "user_tz": -60
    },
    "id": "3Mm53m06JLcm"
   },
   "outputs": [],
   "source": [
    "# Put models in a dictionary\n",
    "models = {\"Linear Regression\": LinearRegression(),\n",
    "          \"Logistic Regression\": LogisticRegression() \n",
    "          }\n",
    "\n",
    "# Create function to fit and score models\n",
    "def fit_and_score(models, X_train, X_test, y_train, y_test):\n",
    "    \"\"\"\n",
    "    Fits and evaluates given machine learning models.\n",
    "    models : a dict of different Scikit-Learn machine learning models\n",
    "    X_train : training data\n",
    "    X_val : validation data\n",
    "    y_train : labels assosciated with training data\n",
    "    y_test : labels assosciated with validation data\n",
    "    \"\"\"\n",
    "    # Random seed for reproducible results\n",
    "    np.random.seed(42)\n",
    "    # Make a list to keep model scores\n",
    "    model_scores = {}\n",
    "    # Loop through models\n",
    "    for name, model in models.items():\n",
    "        # Fit the model to the data\n",
    "        model.fit(X_train, y_train)\n",
    "        # Evaluate the model and append its score to model_scores\n",
    "        model_scores[name] = model.score(X_test, y_test)\n",
    "    return model_scores"
   ]
  },
  {
   "cell_type": "code",
   "execution_count": 119,
   "metadata": {
    "colab": {
     "base_uri": "https://localhost:8080/"
    },
    "executionInfo": {
     "elapsed": 33646,
     "status": "ok",
     "timestamp": 1669456557469,
     "user": {
      "displayName": "Ayush Kumar",
      "userId": "17649156005383043406"
     },
     "user_tz": -60
    },
    "id": "TF3znEU8G7-F",
    "outputId": "ec75796e-433f-4f04-9da8-37b91cbea2ba"
   },
   "outputs": [
    {
     "name": "stderr",
     "output_type": "stream",
     "text": [
      "/usr/local/lib/python3.7/dist-packages/sklearn/utils/validation.py:993: DataConversionWarning: A column-vector y was passed when a 1d array was expected. Please change the shape of y to (n_samples, ), for example using ravel().\n",
      "  y = column_or_1d(y, warn=True)\n",
      "/usr/local/lib/python3.7/dist-packages/sklearn/linear_model/_logistic.py:818: ConvergenceWarning: lbfgs failed to converge (status=1):\n",
      "STOP: TOTAL NO. of ITERATIONS REACHED LIMIT.\n",
      "\n",
      "Increase the number of iterations (max_iter) or scale the data as shown in:\n",
      "    https://scikit-learn.org/stable/modules/preprocessing.html\n",
      "Please also refer to the documentation for alternative solver options:\n",
      "    https://scikit-learn.org/stable/modules/linear_model.html#logistic-regression\n",
      "  extra_warning_msg=_LOGISTIC_SOLVER_CONVERGENCE_MSG,\n"
     ]
    }
   ],
   "source": [
    "model_scores = fit_and_score(models,x_train,x_val,y_train,y_val)"
   ]
  },
  {
   "cell_type": "code",
   "execution_count": 120,
   "metadata": {
    "colab": {
     "base_uri": "https://localhost:8080/"
    },
    "executionInfo": {
     "elapsed": 51,
     "status": "ok",
     "timestamp": 1669456558521,
     "user": {
      "displayName": "Ayush Kumar",
      "userId": "17649156005383043406"
     },
     "user_tz": -60
    },
    "id": "jiHnfcTZG8BJ",
    "outputId": "9fa669c2-7a56-42ac-e5b5-ddbc7b42f0a8"
   },
   "outputs": [
    {
     "data": {
      "text/plain": [
       "{'Linear Regression': 1.0, 'Logistic Regression': 0.0}"
      ]
     },
     "execution_count": 120,
     "metadata": {},
     "output_type": "execute_result"
    }
   ],
   "source": [
    "model_scores"
   ]
  },
  {
   "cell_type": "code",
   "execution_count": null,
   "metadata": {
    "executionInfo": {
     "elapsed": 69207,
     "status": "aborted",
     "timestamp": 1669455267364,
     "user": {
      "displayName": "Ayush Kumar",
      "userId": "17649156005383043406"
     },
     "user_tz": -60
    },
    "id": "qCj8dKdLG8ms"
   },
   "outputs": [],
   "source": []
  },
  {
   "cell_type": "code",
   "execution_count": null,
   "metadata": {
    "executionInfo": {
     "elapsed": 69203,
     "status": "aborted",
     "timestamp": 1669455267368,
     "user": {
      "displayName": "Ayush Kumar",
      "userId": "17649156005383043406"
     },
     "user_tz": -60
    },
    "id": "Ut4Z37OGG8pq"
   },
   "outputs": [],
   "source": []
  },
  {
   "cell_type": "code",
   "execution_count": null,
   "metadata": {
    "executionInfo": {
     "elapsed": 69197,
     "status": "aborted",
     "timestamp": 1669455267371,
     "user": {
      "displayName": "Ayush Kumar",
      "userId": "17649156005383043406"
     },
     "user_tz": -60
    },
    "id": "BTCDq6m9G8sw"
   },
   "outputs": [],
   "source": []
  },
  {
   "cell_type": "code",
   "execution_count": null,
   "metadata": {
    "executionInfo": {
     "elapsed": 69192,
     "status": "aborted",
     "timestamp": 1669455267375,
     "user": {
      "displayName": "Ayush Kumar",
      "userId": "17649156005383043406"
     },
     "user_tz": -60
    },
    "id": "MxocVWFrG8v3"
   },
   "outputs": [],
   "source": []
  },
  {
   "cell_type": "code",
   "execution_count": null,
   "metadata": {
    "executionInfo": {
     "elapsed": 69184,
     "status": "aborted",
     "timestamp": 1669455267377,
     "user": {
      "displayName": "Ayush Kumar",
      "userId": "17649156005383043406"
     },
     "user_tz": -60
    },
    "id": "Iy-5JYSdG8y3"
   },
   "outputs": [],
   "source": []
  },
  {
   "cell_type": "code",
   "execution_count": null,
   "metadata": {
    "executionInfo": {
     "elapsed": 69177,
     "status": "aborted",
     "timestamp": 1669455267378,
     "user": {
      "displayName": "Ayush Kumar",
      "userId": "17649156005383043406"
     },
     "user_tz": -60
    },
    "id": "qMY7752pG81q"
   },
   "outputs": [],
   "source": []
  }
 ],
 "metadata": {
  "colab": {
   "authorship_tag": "ABX9TyPRy68gPNFOnlt91Fl24wpG",
   "provenance": []
  },
  "kernelspec": {
   "display_name": "Python 3",
   "language": "python",
   "name": "python3"
  },
  "language_info": {
   "codemirror_mode": {
    "name": "ipython",
    "version": 3
   },
   "file_extension": ".py",
   "mimetype": "text/x-python",
   "name": "python",
   "nbconvert_exporter": "python",
   "pygments_lexer": "ipython3",
   "version": "3.8.3"
  }
 },
 "nbformat": 4,
 "nbformat_minor": 1
}
